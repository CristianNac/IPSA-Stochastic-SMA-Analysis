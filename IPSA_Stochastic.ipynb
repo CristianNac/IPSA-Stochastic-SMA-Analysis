{
  "nbformat": 4,
  "nbformat_minor": 0,
  "metadata": {
    "colab": {
      "provenance": []
    },
    "kernelspec": {
      "name": "python3",
      "display_name": "Python 3"
    },
    "language_info": {
      "name": "python"
    }
  },
  "cells": [
    {
      "cell_type": "code",
      "execution_count": 1,
      "metadata": {
        "colab": {
          "base_uri": "https://localhost:8080/"
        },
        "id": "ElS5EDcxXl5g",
        "outputId": "62dec92c-e4f3-4d78-ffe4-52af6ed6889e"
      },
      "outputs": [
        {
          "output_type": "stream",
          "name": "stdout",
          "text": [
            "Collecting ta\n",
            "  Downloading ta-0.11.0.tar.gz (25 kB)\n",
            "  Preparing metadata (setup.py) ... \u001b[?25l\u001b[?25hdone\n",
            "Requirement already satisfied: numpy in /usr/local/lib/python3.10/dist-packages (from ta) (1.25.2)\n",
            "Requirement already satisfied: pandas in /usr/local/lib/python3.10/dist-packages (from ta) (2.0.3)\n",
            "Requirement already satisfied: python-dateutil>=2.8.2 in /usr/local/lib/python3.10/dist-packages (from pandas->ta) (2.8.2)\n",
            "Requirement already satisfied: pytz>=2020.1 in /usr/local/lib/python3.10/dist-packages (from pandas->ta) (2023.4)\n",
            "Requirement already satisfied: tzdata>=2022.1 in /usr/local/lib/python3.10/dist-packages (from pandas->ta) (2024.1)\n",
            "Requirement already satisfied: six>=1.5 in /usr/local/lib/python3.10/dist-packages (from python-dateutil>=2.8.2->pandas->ta) (1.16.0)\n",
            "Building wheels for collected packages: ta\n",
            "  Building wheel for ta (setup.py) ... \u001b[?25l\u001b[?25hdone\n",
            "  Created wheel for ta: filename=ta-0.11.0-py3-none-any.whl size=29411 sha256=8f794ec6b6b4775af1bd44972650021f5716995048ed5d9965b4de041e7cbb85\n",
            "  Stored in directory: /root/.cache/pip/wheels/5f/67/4f/8a9f252836e053e532c6587a3230bc72a4deb16b03a829610b\n",
            "Successfully built ta\n",
            "Installing collected packages: ta\n",
            "Successfully installed ta-0.11.0\n"
          ]
        }
      ],
      "source": [
        "!pip install ta"
      ]
    },
    {
      "cell_type": "code",
      "source": [
        "import pandas as pd\n",
        "import ta\n",
        "import numpy as np\n",
        "!pip install mplfinance\n",
        "import matplotlib.pyplot as plt\n",
        "import mplfinance as mpf\n",
        "import warnings\n",
        "warnings.filterwarnings(\"ignore\")\n"
      ],
      "metadata": {
        "colab": {
          "base_uri": "https://localhost:8080/"
        },
        "id": "chOfi7TUYgzF",
        "outputId": "278c39ec-39a6-4e0d-cba5-d87239f91644"
      },
      "execution_count": 2,
      "outputs": [
        {
          "output_type": "stream",
          "name": "stdout",
          "text": [
            "Collecting mplfinance\n",
            "  Downloading mplfinance-0.12.10b0-py3-none-any.whl (75 kB)\n",
            "\u001b[?25l     \u001b[90m━━━━━━━━━━━━━━━━━━━━━━━━━━━━━━━━━━━━━━━━\u001b[0m \u001b[32m0.0/75.0 kB\u001b[0m \u001b[31m?\u001b[0m eta \u001b[36m-:--:--\u001b[0m\r\u001b[2K     \u001b[90m━━━━━━━━━━━━━━━━━━━━━━━━━━━━━━━━━━━━━━━━\u001b[0m \u001b[32m75.0/75.0 kB\u001b[0m \u001b[31m2.1 MB/s\u001b[0m eta \u001b[36m0:00:00\u001b[0m\n",
            "\u001b[?25hRequirement already satisfied: matplotlib in /usr/local/lib/python3.10/dist-packages (from mplfinance) (3.7.1)\n",
            "Requirement already satisfied: pandas in /usr/local/lib/python3.10/dist-packages (from mplfinance) (2.0.3)\n",
            "Requirement already satisfied: contourpy>=1.0.1 in /usr/local/lib/python3.10/dist-packages (from matplotlib->mplfinance) (1.2.1)\n",
            "Requirement already satisfied: cycler>=0.10 in /usr/local/lib/python3.10/dist-packages (from matplotlib->mplfinance) (0.12.1)\n",
            "Requirement already satisfied: fonttools>=4.22.0 in /usr/local/lib/python3.10/dist-packages (from matplotlib->mplfinance) (4.51.0)\n",
            "Requirement already satisfied: kiwisolver>=1.0.1 in /usr/local/lib/python3.10/dist-packages (from matplotlib->mplfinance) (1.4.5)\n",
            "Requirement already satisfied: numpy>=1.20 in /usr/local/lib/python3.10/dist-packages (from matplotlib->mplfinance) (1.25.2)\n",
            "Requirement already satisfied: packaging>=20.0 in /usr/local/lib/python3.10/dist-packages (from matplotlib->mplfinance) (24.0)\n",
            "Requirement already satisfied: pillow>=6.2.0 in /usr/local/lib/python3.10/dist-packages (from matplotlib->mplfinance) (9.4.0)\n",
            "Requirement already satisfied: pyparsing>=2.3.1 in /usr/local/lib/python3.10/dist-packages (from matplotlib->mplfinance) (3.1.2)\n",
            "Requirement already satisfied: python-dateutil>=2.7 in /usr/local/lib/python3.10/dist-packages (from matplotlib->mplfinance) (2.8.2)\n",
            "Requirement already satisfied: pytz>=2020.1 in /usr/local/lib/python3.10/dist-packages (from pandas->mplfinance) (2023.4)\n",
            "Requirement already satisfied: tzdata>=2022.1 in /usr/local/lib/python3.10/dist-packages (from pandas->mplfinance) (2024.1)\n",
            "Requirement already satisfied: six>=1.5 in /usr/local/lib/python3.10/dist-packages (from python-dateutil>=2.7->matplotlib->mplfinance) (1.16.0)\n",
            "Installing collected packages: mplfinance\n",
            "Successfully installed mplfinance-0.12.10b0\n"
          ]
        }
      ]
    },
    {
      "cell_type": "markdown",
      "source": [
        "#Data Aguas Andina"
      ],
      "metadata": {
        "id": "YajCbcWgWUnz"
      }
    },
    {
      "cell_type": "code",
      "source": [
        "df_aguas_a = pd.read_csv('AGUAS_A.csv', index_col = 'Date')\n",
        "print(df_aguas_a)"
      ],
      "metadata": {
        "colab": {
          "base_uri": "https://localhost:8080/"
        },
        "id": "EGL9k9Y-WW32",
        "outputId": "926d8c44-2c15-4242-b838-2f4f347fca00"
      },
      "execution_count": 3,
      "outputs": [
        {
          "output_type": "stream",
          "name": "stdout",
          "text": [
            "              Open    High     Low   Close   Volume\n",
            "Date                                               \n",
            "2014-04-21  342.35  343.50  342.00  343.20  1332972\n",
            "2014-04-22  342.00  343.00  340.00  340.86  1284030\n",
            "2014-04-23  340.86  343.01  341.51  342.00  1048269\n",
            "2014-04-24  342.00  342.00  340.50  340.70  1282877\n",
            "2014-04-25  340.70  341.00  339.50  339.65   704015\n",
            "...            ...     ...     ...     ...      ...\n",
            "2024-04-15  280.00  280.78  275.01  278.00  3463336\n",
            "2024-04-16  278.00  278.73  272.00  276.99  6160229\n",
            "2024-04-17  276.99  276.00  273.00  273.54  2018624\n",
            "2024-04-18  273.50  275.00  270.50  273.53  2194508\n",
            "2024-04-19  273.53  273.87  265.02  265.02  4176063\n",
            "\n",
            "[2491 rows x 5 columns]\n"
          ]
        }
      ]
    },
    {
      "cell_type": "markdown",
      "source": [
        "#Cálculo del indicador estocástico con una ventana de 14 periodos"
      ],
      "metadata": {
        "id": "MRCcBPnNWa2n"
      }
    },
    {
      "cell_type": "code",
      "source": [
        "df_aguas_a['aguas_a_stoch_k'] = ta.momentum.stoch(\n",
        "    df_aguas_a['High'], df_aguas_a['Low'], df_aguas_a['Close'],\n",
        "    window = 14, smooth_window = 1)\n",
        "df_aguas_a['aguas_a_stoch_k'].iloc[13] #Primer valor del indicador estocástico"
      ],
      "metadata": {
        "colab": {
          "base_uri": "https://localhost:8080/"
        },
        "id": "nc_txJlsWzpO",
        "outputId": "82b72bb7-2b10-4bf3-a229-e93b7c771024"
      },
      "execution_count": 4,
      "outputs": [
        {
          "output_type": "execute_result",
          "data": {
            "text/plain": [
              "93.65781710914472"
            ]
          },
          "metadata": {},
          "execution_count": 4
        }
      ]
    },
    {
      "cell_type": "markdown",
      "source": [
        "#Columna booleana que indica cuándo el valor del estocástico es menor a 20"
      ],
      "metadata": {
        "id": "exApsoDjW5T8"
      }
    },
    {
      "cell_type": "code",
      "source": [
        "df_aguas_a['stochastic_menor_20'] = np.nan\n",
        "i = 13\n",
        "while i <= (df_aguas_a.shape[0]-1):\n",
        "  if df_aguas_a['aguas_a_stoch_k'].iloc[i] < 20:\n",
        "    df_aguas_a['stochastic_menor_20'].iloc[i] = 1\n",
        "  else:\n",
        "    df_aguas_a['stochastic_menor_20'].iloc[i] = 0\n",
        "  i+= 1\n"
      ],
      "metadata": {
        "id": "H9kld43tXtr4"
      },
      "execution_count": 5,
      "outputs": []
    },
    {
      "cell_type": "code",
      "source": [
        "df_aguas_a.tail(20)"
      ],
      "metadata": {
        "colab": {
          "base_uri": "https://localhost:8080/",
          "height": 708
        },
        "id": "80TOhCRwZZoJ",
        "outputId": "c5877c5a-a4e3-4fb2-faa5-b55c0cf4286d"
      },
      "execution_count": 6,
      "outputs": [
        {
          "output_type": "execute_result",
          "data": {
            "text/plain": [
              "              Open    High     Low   Close    Volume  aguas_a_stoch_k  \\\n",
              "Date                                                                    \n",
              "2024-03-22  283.10  286.00  277.51  279.65   1808020        56.731335   \n",
              "2024-03-25  277.11  278.05  274.23  275.85   8196892        34.391534   \n",
              "2024-03-26  275.85  279.49  276.00  278.99   2919214        52.851264   \n",
              "2024-03-27  278.99  284.00  279.01  284.00   1964409        82.304527   \n",
              "2024-03-28  284.00  286.00  279.53  286.00   2389571        93.691443   \n",
              "2024-04-01  285.00  285.00  281.49  283.50   1923727        78.076202   \n",
              "2024-04-02  283.50  286.60  281.00  283.50   2231826        78.076202   \n",
              "2024-04-03  283.50  284.00  282.53  283.98   1043630        81.074329   \n",
              "2024-04-04  283.98  283.90  276.56  279.30   3097743        44.130435   \n",
              "2024-04-05  279.30  281.00  276.00  278.50   3354665        38.333333   \n",
              "2024-04-08  278.50  279.00  275.10  275.10   6185009        13.695652   \n",
              "2024-04-09  275.10  278.71  276.01  277.00  15350992        21.674491   \n",
              "2024-04-10  277.00  280.50  277.99  280.50   4799702        50.687146   \n",
              "2024-04-11  280.50  282.50  279.00  282.00   6383196        62.813258   \n",
              "2024-04-12  282.00  283.48  278.50  281.99   1624153        62.732417   \n",
              "2024-04-15  280.00  280.78  275.01  278.00   3463336        25.798102   \n",
              "2024-04-16  278.00  278.73  272.00  276.99   6160229        34.178082   \n",
              "2024-04-17  276.99  276.00  273.00  273.54   2018624        10.547945   \n",
              "2024-04-18  273.50  275.00  270.50  273.53   2194508        18.819876   \n",
              "2024-04-19  273.53  273.87  265.02  265.02   4176063         0.000000   \n",
              "\n",
              "            stochastic_menor_20  \n",
              "Date                             \n",
              "2024-03-22                  0.0  \n",
              "2024-03-25                  0.0  \n",
              "2024-03-26                  0.0  \n",
              "2024-03-27                  0.0  \n",
              "2024-03-28                  0.0  \n",
              "2024-04-01                  0.0  \n",
              "2024-04-02                  0.0  \n",
              "2024-04-03                  0.0  \n",
              "2024-04-04                  0.0  \n",
              "2024-04-05                  0.0  \n",
              "2024-04-08                  1.0  \n",
              "2024-04-09                  0.0  \n",
              "2024-04-10                  0.0  \n",
              "2024-04-11                  0.0  \n",
              "2024-04-12                  0.0  \n",
              "2024-04-15                  0.0  \n",
              "2024-04-16                  0.0  \n",
              "2024-04-17                  1.0  \n",
              "2024-04-18                  1.0  \n",
              "2024-04-19                  1.0  "
            ],
            "text/html": [
              "\n",
              "  <div id=\"df-2355a89d-3566-4958-aef9-e4552ff9f7d4\" class=\"colab-df-container\">\n",
              "    <div>\n",
              "<style scoped>\n",
              "    .dataframe tbody tr th:only-of-type {\n",
              "        vertical-align: middle;\n",
              "    }\n",
              "\n",
              "    .dataframe tbody tr th {\n",
              "        vertical-align: top;\n",
              "    }\n",
              "\n",
              "    .dataframe thead th {\n",
              "        text-align: right;\n",
              "    }\n",
              "</style>\n",
              "<table border=\"1\" class=\"dataframe\">\n",
              "  <thead>\n",
              "    <tr style=\"text-align: right;\">\n",
              "      <th></th>\n",
              "      <th>Open</th>\n",
              "      <th>High</th>\n",
              "      <th>Low</th>\n",
              "      <th>Close</th>\n",
              "      <th>Volume</th>\n",
              "      <th>aguas_a_stoch_k</th>\n",
              "      <th>stochastic_menor_20</th>\n",
              "    </tr>\n",
              "    <tr>\n",
              "      <th>Date</th>\n",
              "      <th></th>\n",
              "      <th></th>\n",
              "      <th></th>\n",
              "      <th></th>\n",
              "      <th></th>\n",
              "      <th></th>\n",
              "      <th></th>\n",
              "    </tr>\n",
              "  </thead>\n",
              "  <tbody>\n",
              "    <tr>\n",
              "      <th>2024-03-22</th>\n",
              "      <td>283.10</td>\n",
              "      <td>286.00</td>\n",
              "      <td>277.51</td>\n",
              "      <td>279.65</td>\n",
              "      <td>1808020</td>\n",
              "      <td>56.731335</td>\n",
              "      <td>0.0</td>\n",
              "    </tr>\n",
              "    <tr>\n",
              "      <th>2024-03-25</th>\n",
              "      <td>277.11</td>\n",
              "      <td>278.05</td>\n",
              "      <td>274.23</td>\n",
              "      <td>275.85</td>\n",
              "      <td>8196892</td>\n",
              "      <td>34.391534</td>\n",
              "      <td>0.0</td>\n",
              "    </tr>\n",
              "    <tr>\n",
              "      <th>2024-03-26</th>\n",
              "      <td>275.85</td>\n",
              "      <td>279.49</td>\n",
              "      <td>276.00</td>\n",
              "      <td>278.99</td>\n",
              "      <td>2919214</td>\n",
              "      <td>52.851264</td>\n",
              "      <td>0.0</td>\n",
              "    </tr>\n",
              "    <tr>\n",
              "      <th>2024-03-27</th>\n",
              "      <td>278.99</td>\n",
              "      <td>284.00</td>\n",
              "      <td>279.01</td>\n",
              "      <td>284.00</td>\n",
              "      <td>1964409</td>\n",
              "      <td>82.304527</td>\n",
              "      <td>0.0</td>\n",
              "    </tr>\n",
              "    <tr>\n",
              "      <th>2024-03-28</th>\n",
              "      <td>284.00</td>\n",
              "      <td>286.00</td>\n",
              "      <td>279.53</td>\n",
              "      <td>286.00</td>\n",
              "      <td>2389571</td>\n",
              "      <td>93.691443</td>\n",
              "      <td>0.0</td>\n",
              "    </tr>\n",
              "    <tr>\n",
              "      <th>2024-04-01</th>\n",
              "      <td>285.00</td>\n",
              "      <td>285.00</td>\n",
              "      <td>281.49</td>\n",
              "      <td>283.50</td>\n",
              "      <td>1923727</td>\n",
              "      <td>78.076202</td>\n",
              "      <td>0.0</td>\n",
              "    </tr>\n",
              "    <tr>\n",
              "      <th>2024-04-02</th>\n",
              "      <td>283.50</td>\n",
              "      <td>286.60</td>\n",
              "      <td>281.00</td>\n",
              "      <td>283.50</td>\n",
              "      <td>2231826</td>\n",
              "      <td>78.076202</td>\n",
              "      <td>0.0</td>\n",
              "    </tr>\n",
              "    <tr>\n",
              "      <th>2024-04-03</th>\n",
              "      <td>283.50</td>\n",
              "      <td>284.00</td>\n",
              "      <td>282.53</td>\n",
              "      <td>283.98</td>\n",
              "      <td>1043630</td>\n",
              "      <td>81.074329</td>\n",
              "      <td>0.0</td>\n",
              "    </tr>\n",
              "    <tr>\n",
              "      <th>2024-04-04</th>\n",
              "      <td>283.98</td>\n",
              "      <td>283.90</td>\n",
              "      <td>276.56</td>\n",
              "      <td>279.30</td>\n",
              "      <td>3097743</td>\n",
              "      <td>44.130435</td>\n",
              "      <td>0.0</td>\n",
              "    </tr>\n",
              "    <tr>\n",
              "      <th>2024-04-05</th>\n",
              "      <td>279.30</td>\n",
              "      <td>281.00</td>\n",
              "      <td>276.00</td>\n",
              "      <td>278.50</td>\n",
              "      <td>3354665</td>\n",
              "      <td>38.333333</td>\n",
              "      <td>0.0</td>\n",
              "    </tr>\n",
              "    <tr>\n",
              "      <th>2024-04-08</th>\n",
              "      <td>278.50</td>\n",
              "      <td>279.00</td>\n",
              "      <td>275.10</td>\n",
              "      <td>275.10</td>\n",
              "      <td>6185009</td>\n",
              "      <td>13.695652</td>\n",
              "      <td>1.0</td>\n",
              "    </tr>\n",
              "    <tr>\n",
              "      <th>2024-04-09</th>\n",
              "      <td>275.10</td>\n",
              "      <td>278.71</td>\n",
              "      <td>276.01</td>\n",
              "      <td>277.00</td>\n",
              "      <td>15350992</td>\n",
              "      <td>21.674491</td>\n",
              "      <td>0.0</td>\n",
              "    </tr>\n",
              "    <tr>\n",
              "      <th>2024-04-10</th>\n",
              "      <td>277.00</td>\n",
              "      <td>280.50</td>\n",
              "      <td>277.99</td>\n",
              "      <td>280.50</td>\n",
              "      <td>4799702</td>\n",
              "      <td>50.687146</td>\n",
              "      <td>0.0</td>\n",
              "    </tr>\n",
              "    <tr>\n",
              "      <th>2024-04-11</th>\n",
              "      <td>280.50</td>\n",
              "      <td>282.50</td>\n",
              "      <td>279.00</td>\n",
              "      <td>282.00</td>\n",
              "      <td>6383196</td>\n",
              "      <td>62.813258</td>\n",
              "      <td>0.0</td>\n",
              "    </tr>\n",
              "    <tr>\n",
              "      <th>2024-04-12</th>\n",
              "      <td>282.00</td>\n",
              "      <td>283.48</td>\n",
              "      <td>278.50</td>\n",
              "      <td>281.99</td>\n",
              "      <td>1624153</td>\n",
              "      <td>62.732417</td>\n",
              "      <td>0.0</td>\n",
              "    </tr>\n",
              "    <tr>\n",
              "      <th>2024-04-15</th>\n",
              "      <td>280.00</td>\n",
              "      <td>280.78</td>\n",
              "      <td>275.01</td>\n",
              "      <td>278.00</td>\n",
              "      <td>3463336</td>\n",
              "      <td>25.798102</td>\n",
              "      <td>0.0</td>\n",
              "    </tr>\n",
              "    <tr>\n",
              "      <th>2024-04-16</th>\n",
              "      <td>278.00</td>\n",
              "      <td>278.73</td>\n",
              "      <td>272.00</td>\n",
              "      <td>276.99</td>\n",
              "      <td>6160229</td>\n",
              "      <td>34.178082</td>\n",
              "      <td>0.0</td>\n",
              "    </tr>\n",
              "    <tr>\n",
              "      <th>2024-04-17</th>\n",
              "      <td>276.99</td>\n",
              "      <td>276.00</td>\n",
              "      <td>273.00</td>\n",
              "      <td>273.54</td>\n",
              "      <td>2018624</td>\n",
              "      <td>10.547945</td>\n",
              "      <td>1.0</td>\n",
              "    </tr>\n",
              "    <tr>\n",
              "      <th>2024-04-18</th>\n",
              "      <td>273.50</td>\n",
              "      <td>275.00</td>\n",
              "      <td>270.50</td>\n",
              "      <td>273.53</td>\n",
              "      <td>2194508</td>\n",
              "      <td>18.819876</td>\n",
              "      <td>1.0</td>\n",
              "    </tr>\n",
              "    <tr>\n",
              "      <th>2024-04-19</th>\n",
              "      <td>273.53</td>\n",
              "      <td>273.87</td>\n",
              "      <td>265.02</td>\n",
              "      <td>265.02</td>\n",
              "      <td>4176063</td>\n",
              "      <td>0.000000</td>\n",
              "      <td>1.0</td>\n",
              "    </tr>\n",
              "  </tbody>\n",
              "</table>\n",
              "</div>\n",
              "    <div class=\"colab-df-buttons\">\n",
              "\n",
              "  <div class=\"colab-df-container\">\n",
              "    <button class=\"colab-df-convert\" onclick=\"convertToInteractive('df-2355a89d-3566-4958-aef9-e4552ff9f7d4')\"\n",
              "            title=\"Convert this dataframe to an interactive table.\"\n",
              "            style=\"display:none;\">\n",
              "\n",
              "  <svg xmlns=\"http://www.w3.org/2000/svg\" height=\"24px\" viewBox=\"0 -960 960 960\">\n",
              "    <path d=\"M120-120v-720h720v720H120Zm60-500h600v-160H180v160Zm220 220h160v-160H400v160Zm0 220h160v-160H400v160ZM180-400h160v-160H180v160Zm440 0h160v-160H620v160ZM180-180h160v-160H180v160Zm440 0h160v-160H620v160Z\"/>\n",
              "  </svg>\n",
              "    </button>\n",
              "\n",
              "  <style>\n",
              "    .colab-df-container {\n",
              "      display:flex;\n",
              "      gap: 12px;\n",
              "    }\n",
              "\n",
              "    .colab-df-convert {\n",
              "      background-color: #E8F0FE;\n",
              "      border: none;\n",
              "      border-radius: 50%;\n",
              "      cursor: pointer;\n",
              "      display: none;\n",
              "      fill: #1967D2;\n",
              "      height: 32px;\n",
              "      padding: 0 0 0 0;\n",
              "      width: 32px;\n",
              "    }\n",
              "\n",
              "    .colab-df-convert:hover {\n",
              "      background-color: #E2EBFA;\n",
              "      box-shadow: 0px 1px 2px rgba(60, 64, 67, 0.3), 0px 1px 3px 1px rgba(60, 64, 67, 0.15);\n",
              "      fill: #174EA6;\n",
              "    }\n",
              "\n",
              "    .colab-df-buttons div {\n",
              "      margin-bottom: 4px;\n",
              "    }\n",
              "\n",
              "    [theme=dark] .colab-df-convert {\n",
              "      background-color: #3B4455;\n",
              "      fill: #D2E3FC;\n",
              "    }\n",
              "\n",
              "    [theme=dark] .colab-df-convert:hover {\n",
              "      background-color: #434B5C;\n",
              "      box-shadow: 0px 1px 3px 1px rgba(0, 0, 0, 0.15);\n",
              "      filter: drop-shadow(0px 1px 2px rgba(0, 0, 0, 0.3));\n",
              "      fill: #FFFFFF;\n",
              "    }\n",
              "  </style>\n",
              "\n",
              "    <script>\n",
              "      const buttonEl =\n",
              "        document.querySelector('#df-2355a89d-3566-4958-aef9-e4552ff9f7d4 button.colab-df-convert');\n",
              "      buttonEl.style.display =\n",
              "        google.colab.kernel.accessAllowed ? 'block' : 'none';\n",
              "\n",
              "      async function convertToInteractive(key) {\n",
              "        const element = document.querySelector('#df-2355a89d-3566-4958-aef9-e4552ff9f7d4');\n",
              "        const dataTable =\n",
              "          await google.colab.kernel.invokeFunction('convertToInteractive',\n",
              "                                                    [key], {});\n",
              "        if (!dataTable) return;\n",
              "\n",
              "        const docLinkHtml = 'Like what you see? Visit the ' +\n",
              "          '<a target=\"_blank\" href=https://colab.research.google.com/notebooks/data_table.ipynb>data table notebook</a>'\n",
              "          + ' to learn more about interactive tables.';\n",
              "        element.innerHTML = '';\n",
              "        dataTable['output_type'] = 'display_data';\n",
              "        await google.colab.output.renderOutput(dataTable, element);\n",
              "        const docLink = document.createElement('div');\n",
              "        docLink.innerHTML = docLinkHtml;\n",
              "        element.appendChild(docLink);\n",
              "      }\n",
              "    </script>\n",
              "  </div>\n",
              "\n",
              "\n",
              "<div id=\"df-ad314bcb-5f06-4504-ab13-21f99fc2ad5e\">\n",
              "  <button class=\"colab-df-quickchart\" onclick=\"quickchart('df-ad314bcb-5f06-4504-ab13-21f99fc2ad5e')\"\n",
              "            title=\"Suggest charts\"\n",
              "            style=\"display:none;\">\n",
              "\n",
              "<svg xmlns=\"http://www.w3.org/2000/svg\" height=\"24px\"viewBox=\"0 0 24 24\"\n",
              "     width=\"24px\">\n",
              "    <g>\n",
              "        <path d=\"M19 3H5c-1.1 0-2 .9-2 2v14c0 1.1.9 2 2 2h14c1.1 0 2-.9 2-2V5c0-1.1-.9-2-2-2zM9 17H7v-7h2v7zm4 0h-2V7h2v10zm4 0h-2v-4h2v4z\"/>\n",
              "    </g>\n",
              "</svg>\n",
              "  </button>\n",
              "\n",
              "<style>\n",
              "  .colab-df-quickchart {\n",
              "      --bg-color: #E8F0FE;\n",
              "      --fill-color: #1967D2;\n",
              "      --hover-bg-color: #E2EBFA;\n",
              "      --hover-fill-color: #174EA6;\n",
              "      --disabled-fill-color: #AAA;\n",
              "      --disabled-bg-color: #DDD;\n",
              "  }\n",
              "\n",
              "  [theme=dark] .colab-df-quickchart {\n",
              "      --bg-color: #3B4455;\n",
              "      --fill-color: #D2E3FC;\n",
              "      --hover-bg-color: #434B5C;\n",
              "      --hover-fill-color: #FFFFFF;\n",
              "      --disabled-bg-color: #3B4455;\n",
              "      --disabled-fill-color: #666;\n",
              "  }\n",
              "\n",
              "  .colab-df-quickchart {\n",
              "    background-color: var(--bg-color);\n",
              "    border: none;\n",
              "    border-radius: 50%;\n",
              "    cursor: pointer;\n",
              "    display: none;\n",
              "    fill: var(--fill-color);\n",
              "    height: 32px;\n",
              "    padding: 0;\n",
              "    width: 32px;\n",
              "  }\n",
              "\n",
              "  .colab-df-quickchart:hover {\n",
              "    background-color: var(--hover-bg-color);\n",
              "    box-shadow: 0 1px 2px rgba(60, 64, 67, 0.3), 0 1px 3px 1px rgba(60, 64, 67, 0.15);\n",
              "    fill: var(--button-hover-fill-color);\n",
              "  }\n",
              "\n",
              "  .colab-df-quickchart-complete:disabled,\n",
              "  .colab-df-quickchart-complete:disabled:hover {\n",
              "    background-color: var(--disabled-bg-color);\n",
              "    fill: var(--disabled-fill-color);\n",
              "    box-shadow: none;\n",
              "  }\n",
              "\n",
              "  .colab-df-spinner {\n",
              "    border: 2px solid var(--fill-color);\n",
              "    border-color: transparent;\n",
              "    border-bottom-color: var(--fill-color);\n",
              "    animation:\n",
              "      spin 1s steps(1) infinite;\n",
              "  }\n",
              "\n",
              "  @keyframes spin {\n",
              "    0% {\n",
              "      border-color: transparent;\n",
              "      border-bottom-color: var(--fill-color);\n",
              "      border-left-color: var(--fill-color);\n",
              "    }\n",
              "    20% {\n",
              "      border-color: transparent;\n",
              "      border-left-color: var(--fill-color);\n",
              "      border-top-color: var(--fill-color);\n",
              "    }\n",
              "    30% {\n",
              "      border-color: transparent;\n",
              "      border-left-color: var(--fill-color);\n",
              "      border-top-color: var(--fill-color);\n",
              "      border-right-color: var(--fill-color);\n",
              "    }\n",
              "    40% {\n",
              "      border-color: transparent;\n",
              "      border-right-color: var(--fill-color);\n",
              "      border-top-color: var(--fill-color);\n",
              "    }\n",
              "    60% {\n",
              "      border-color: transparent;\n",
              "      border-right-color: var(--fill-color);\n",
              "    }\n",
              "    80% {\n",
              "      border-color: transparent;\n",
              "      border-right-color: var(--fill-color);\n",
              "      border-bottom-color: var(--fill-color);\n",
              "    }\n",
              "    90% {\n",
              "      border-color: transparent;\n",
              "      border-bottom-color: var(--fill-color);\n",
              "    }\n",
              "  }\n",
              "</style>\n",
              "\n",
              "  <script>\n",
              "    async function quickchart(key) {\n",
              "      const quickchartButtonEl =\n",
              "        document.querySelector('#' + key + ' button');\n",
              "      quickchartButtonEl.disabled = true;  // To prevent multiple clicks.\n",
              "      quickchartButtonEl.classList.add('colab-df-spinner');\n",
              "      try {\n",
              "        const charts = await google.colab.kernel.invokeFunction(\n",
              "            'suggestCharts', [key], {});\n",
              "      } catch (error) {\n",
              "        console.error('Error during call to suggestCharts:', error);\n",
              "      }\n",
              "      quickchartButtonEl.classList.remove('colab-df-spinner');\n",
              "      quickchartButtonEl.classList.add('colab-df-quickchart-complete');\n",
              "    }\n",
              "    (() => {\n",
              "      let quickchartButtonEl =\n",
              "        document.querySelector('#df-ad314bcb-5f06-4504-ab13-21f99fc2ad5e button');\n",
              "      quickchartButtonEl.style.display =\n",
              "        google.colab.kernel.accessAllowed ? 'block' : 'none';\n",
              "    })();\n",
              "  </script>\n",
              "</div>\n",
              "\n",
              "    </div>\n",
              "  </div>\n"
            ],
            "application/vnd.google.colaboratory.intrinsic+json": {
              "type": "dataframe",
              "summary": "{\n  \"name\": \"df_aguas_a\",\n  \"rows\": 20,\n  \"fields\": [\n    {\n      \"column\": \"Date\",\n      \"properties\": {\n        \"dtype\": \"object\",\n        \"num_unique_values\": 20,\n        \"samples\": [\n          \"2024-03-22\",\n          \"2024-04-17\",\n          \"2024-04-15\"\n        ],\n        \"semantic_type\": \"\",\n        \"description\": \"\"\n      }\n    },\n    {\n      \"column\": \"Open\",\n      \"properties\": {\n        \"dtype\": \"number\",\n        \"std\": 3.621216537370601,\n        \"min\": 273.5,\n        \"max\": 285.0,\n        \"num_unique_values\": 19,\n        \"samples\": [\n          283.1,\n          285.0,\n          277.0\n        ],\n        \"semantic_type\": \"\",\n        \"description\": \"\"\n      }\n    },\n    {\n      \"column\": \"High\",\n      \"properties\": {\n        \"dtype\": \"number\",\n        \"std\": 3.7651077778660436,\n        \"min\": 273.87,\n        \"max\": 286.6,\n        \"num_unique_values\": 18,\n        \"samples\": [\n          286.0,\n          278.05,\n          279.0\n        ],\n        \"semantic_type\": \"\",\n        \"description\": \"\"\n      }\n    },\n    {\n      \"column\": \"Low\",\n      \"properties\": {\n        \"dtype\": \"number\",\n        \"std\": 4.1042038461224495,\n        \"min\": 265.02,\n        \"max\": 282.53,\n        \"num_unique_values\": 19,\n        \"samples\": [\n          277.51,\n          281.49,\n          277.99\n        ],\n        \"semantic_type\": \"\",\n        \"description\": \"\"\n      }\n    },\n    {\n      \"column\": \"Close\",\n      \"properties\": {\n        \"dtype\": \"number\",\n        \"std\": 4.86193821000378,\n        \"min\": 265.02,\n        \"max\": 286.0,\n        \"num_unique_values\": 19,\n        \"samples\": [\n          279.65,\n          283.5,\n          280.5\n        ],\n        \"semantic_type\": \"\",\n        \"description\": \"\"\n      }\n    },\n    {\n      \"column\": \"Volume\",\n      \"properties\": {\n        \"dtype\": \"number\",\n        \"std\": 3287965,\n        \"min\": 1043630,\n        \"max\": 15350992,\n        \"num_unique_values\": 20,\n        \"samples\": [\n          1808020,\n          2018624,\n          3463336\n        ],\n        \"semantic_type\": \"\",\n        \"description\": \"\"\n      }\n    },\n    {\n      \"column\": \"aguas_a_stoch_k\",\n      \"properties\": {\n        \"dtype\": \"number\",\n        \"std\": 27.239460055115934,\n        \"min\": 0.0,\n        \"max\": 93.69144284821992,\n        \"num_unique_values\": 19,\n        \"samples\": [\n          56.73133450911218,\n          78.0762023735166,\n          50.68714632174599\n        ],\n        \"semantic_type\": \"\",\n        \"description\": \"\"\n      }\n    },\n    {\n      \"column\": \"stochastic_menor_20\",\n      \"properties\": {\n        \"dtype\": \"number\",\n        \"std\": 0.41039134083406165,\n        \"min\": 0.0,\n        \"max\": 1.0,\n        \"num_unique_values\": 2,\n        \"samples\": [\n          1.0,\n          0.0\n        ],\n        \"semantic_type\": \"\",\n        \"description\": \"\"\n      }\n    }\n  ]\n}"
            }
          },
          "metadata": {},
          "execution_count": 6
        }
      ]
    },
    {
      "cell_type": "markdown",
      "source": [
        "#Data Andina B"
      ],
      "metadata": {
        "id": "TbYJcqpsibDO"
      }
    },
    {
      "cell_type": "code",
      "source": [
        "df_andina = pd.read_csv('ANDINA_B.csv', index_col = 'Date')\n",
        "print(df_andina)"
      ],
      "metadata": {
        "colab": {
          "base_uri": "https://localhost:8080/"
        },
        "id": "RVlczh_NiciV",
        "outputId": "abc86d2a-dcde-4afe-9837-42a3a55b984e"
      },
      "execution_count": 7,
      "outputs": [
        {
          "output_type": "stream",
          "name": "stdout",
          "text": [
            "              Open    High     Low   Close   Volume\n",
            "Date                                               \n",
            "2014-04-21  2338.0  2338.0  2230.0  2284.7   148845\n",
            "2014-04-22  2284.7  2270.0  2237.8  2250.0   940452\n",
            "2014-04-23  2250.0  2255.0  2221.0  2229.1   713034\n",
            "2014-04-24  2229.1  2263.0  2186.0  2214.7   568845\n",
            "2014-04-25  2214.7  2192.6  2155.0  2173.9    76409\n",
            "...            ...     ...     ...     ...      ...\n",
            "2024-04-15  2578.0  2604.0  2500.0  2553.0  1016598\n",
            "2024-04-16  2553.0  2565.5  2521.1  2551.1   245819\n",
            "2024-04-17  2551.1  2608.5  2551.0  2570.0   938613\n",
            "2024-04-18  2570.0  2629.6  2551.0  2615.0  1069148\n",
            "2024-04-19  2615.0  2625.0  2569.1  2615.0   426572\n",
            "\n",
            "[2491 rows x 5 columns]\n"
          ]
        }
      ]
    },
    {
      "cell_type": "markdown",
      "source": [
        "#Cálculo del indicador estocástico con una ventana de 14 periodos"
      ],
      "metadata": {
        "id": "CkEyFP5xjZ6l"
      }
    },
    {
      "cell_type": "code",
      "source": [
        "df_andina['andina_b_stoch_k'] = ta.momentum.stoch(\n",
        "    df_andina['High'], df_andina['Low'], df_andina['Close'],\n",
        "    window = 14, smooth_window = 1)\n",
        "df_andina['andina_b_stoch_k'].iloc[13] #Primer valor del indicador estocástico"
      ],
      "metadata": {
        "colab": {
          "base_uri": "https://localhost:8080/"
        },
        "id": "9CW3k7-Ljbxh",
        "outputId": "a0c5b6a0-0045-489d-f175-abc7eb0d21ae"
      },
      "execution_count": 8,
      "outputs": [
        {
          "output_type": "execute_result",
          "data": {
            "text/plain": [
              "51.91256830601093"
            ]
          },
          "metadata": {},
          "execution_count": 8
        }
      ]
    },
    {
      "cell_type": "markdown",
      "source": [
        "#Columna booleana que indica cuándo el valor del estocástico es menor a 20"
      ],
      "metadata": {
        "id": "MYEl2B1_juMS"
      }
    },
    {
      "cell_type": "code",
      "source": [
        "df_andina['stochastic_menor_20'] = np.nan\n",
        "i = 13\n",
        "while i <= (df_andina.shape[0]-1):\n",
        "  if df_andina['andina_b_stoch_k'].iloc[i] < 20:\n",
        "    df_andina['stochastic_menor_20'].iloc[i] = 1\n",
        "  else:\n",
        "    df_andina['stochastic_menor_20'].iloc[i] = 0\n",
        "  i+= 1\n"
      ],
      "metadata": {
        "id": "Wu1xguYNjvxz"
      },
      "execution_count": 9,
      "outputs": []
    },
    {
      "cell_type": "markdown",
      "source": [
        "#Data BCI"
      ],
      "metadata": {
        "id": "jBT75kyUj7HF"
      }
    },
    {
      "cell_type": "code",
      "source": [
        "df_bci = pd.read_csv('BCI.csv', index_col = 'Date')\n",
        "print(df_bci)"
      ],
      "metadata": {
        "colab": {
          "base_uri": "https://localhost:8080/"
        },
        "id": "TtYhjHinj8Gd",
        "outputId": "fc5cdf12-5a7a-4c8f-810f-d7d7e30300c0"
      },
      "execution_count": 10,
      "outputs": [
        {
          "output_type": "stream",
          "name": "stdout",
          "text": [
            "                 Open       High        Low      Close  Volume\n",
            "Date                                                          \n",
            "2014-04-21  21619.012  21625.574  21231.785  21355.828   15639\n",
            "2014-04-22  21355.828  21592.758  20870.812  21011.920   13876\n",
            "2014-04-23  21011.920  20936.443  20411.390  20473.086   43420\n",
            "2014-04-24  20473.086  20629.287  20346.416  20457.334   49212\n",
            "2014-04-25  20457.334  20581.377  20378.576  20480.960   52162\n",
            "...               ...        ...        ...        ...     ...\n",
            "2024-04-15  27851.000  28200.000  27301.000  27420.000  100674\n",
            "2024-04-16  27400.000  27553.000  26601.000  26812.000  108449\n",
            "2024-04-17  26812.000  27360.000  26400.000  26609.000  152702\n",
            "2024-04-18  26609.000  27500.000  26600.000  27359.000  151961\n",
            "2024-04-19  27300.000  27445.000  26800.000  26800.000   34516\n",
            "\n",
            "[2491 rows x 5 columns]\n"
          ]
        }
      ]
    },
    {
      "cell_type": "markdown",
      "source": [
        "#Cálculo del indicador estocástico con una ventana de 14 periodos"
      ],
      "metadata": {
        "id": "rRGu147DkDUe"
      }
    },
    {
      "cell_type": "code",
      "source": [
        "df_bci['bci_stoch_k'] = ta.momentum.stoch(\n",
        "    df_bci['High'], df_bci['Low'], df_bci['Close'],\n",
        "    window = 14, smooth_window = 1)\n",
        "df_bci['bci_stoch_k'].iloc[13] #Primer valor del indicador estocástico"
      ],
      "metadata": {
        "colab": {
          "base_uri": "https://localhost:8080/"
        },
        "id": "BiFmHYmGkFaG",
        "outputId": "34baa8e6-31bd-457a-afeb-9adc8ee8920d"
      },
      "execution_count": 11,
      "outputs": [
        {
          "output_type": "execute_result",
          "data": {
            "text/plain": [
              "88.11590842593968"
            ]
          },
          "metadata": {},
          "execution_count": 11
        }
      ]
    },
    {
      "cell_type": "markdown",
      "source": [
        "#Columna booleana que indica cuándo el valor del estocástico es menor a 20"
      ],
      "metadata": {
        "id": "JFbECT6ZkOxI"
      }
    },
    {
      "cell_type": "code",
      "source": [
        "df_bci['stochastic_menor_20'] = np.nan\n",
        "i = 13\n",
        "while i <= (df_bci.shape[0]-1):\n",
        "  if df_bci['bci_stoch_k'].iloc[i] < 20:\n",
        "    df_bci['stochastic_menor_20'].iloc[i] = 1\n",
        "  else:\n",
        "    df_bci['stochastic_menor_20'].iloc[i] = 0\n",
        "  i+= 1\n"
      ],
      "metadata": {
        "id": "lqHzhnFpkOJR"
      },
      "execution_count": 12,
      "outputs": []
    },
    {
      "cell_type": "markdown",
      "source": [
        "#Data Banco Santander"
      ],
      "metadata": {
        "id": "seUYnY3ikZe_"
      }
    },
    {
      "cell_type": "code",
      "source": [
        "df_bsantander = pd.read_csv('BSANTANDER.csv', index_col = 'Date')\n",
        "print(df_bsantander)"
      ],
      "metadata": {
        "colab": {
          "base_uri": "https://localhost:8080/"
        },
        "id": "tyvigjNmkY-C",
        "outputId": "3b67b6fd-14ee-4c06-8a32-25d186fcb36e"
      },
      "execution_count": 13,
      "outputs": [
        {
          "output_type": "stream",
          "name": "stdout",
          "text": [
            "             Open   High    Low  Close     Volume\n",
            "Date                                             \n",
            "2014-04-21  32.84  33.00  32.40  32.59   25520470\n",
            "2014-04-22  32.59  32.70  32.01  32.35   68148360\n",
            "2014-04-23  32.35  33.00  32.10  32.23   43694880\n",
            "2014-04-24  32.23  32.32  31.89  32.24   64038920\n",
            "2014-04-25  32.24  32.50  32.15  32.25   59901136\n",
            "...           ...    ...    ...    ...        ...\n",
            "2024-04-15  46.33  46.55  45.85  46.08  132448952\n",
            "2024-04-16  46.08  47.03  45.06  45.79  202465600\n",
            "2024-04-17  45.80  46.10  45.00  45.85  146006480\n",
            "2024-04-18  45.85  46.15  45.32  45.50  220339840\n",
            "2024-04-19  43.99  43.99  43.10  43.10  362452512\n",
            "\n",
            "[2491 rows x 5 columns]\n"
          ]
        }
      ]
    },
    {
      "cell_type": "markdown",
      "source": [
        "#Cálculo del indicador estocástico con una ventana de 14 periodos"
      ],
      "metadata": {
        "id": "BZgDrssqkjKO"
      }
    },
    {
      "cell_type": "code",
      "source": [
        "df_bsantander['bsantander_stoch_k'] = ta.momentum.stoch(\n",
        "    df_bsantander['High'], df_bsantander['Low'], df_bsantander['Close'],\n",
        "    window = 14, smooth_window = 1)\n",
        "df_bsantander['bsantander_stoch_k'].iloc[13] #Primer valor del indicador estocástico"
      ],
      "metadata": {
        "colab": {
          "base_uri": "https://localhost:8080/"
        },
        "id": "hORZezKTklJt",
        "outputId": "c1c043ed-d979-427d-f7cb-c2a8038023a7"
      },
      "execution_count": 14,
      "outputs": [
        {
          "output_type": "execute_result",
          "data": {
            "text/plain": [
              "96.63608562691132"
            ]
          },
          "metadata": {},
          "execution_count": 14
        }
      ]
    },
    {
      "cell_type": "markdown",
      "source": [
        "#Columna booleana que indica cuándo el valor del estocástico es menor a 20"
      ],
      "metadata": {
        "id": "raqJNpwdkxtc"
      }
    },
    {
      "cell_type": "code",
      "source": [
        "df_bsantander['stochastic_menor_20'] = np.nan\n",
        "i = 13\n",
        "while i <= (df_bsantander.shape[0]-1):\n",
        "  if df_bsantander['bsantander_stoch_k'].iloc[i] < 20:\n",
        "    df_bsantander['stochastic_menor_20'].iloc[i] = 1\n",
        "  else:\n",
        "    df_bsantander['stochastic_menor_20'].iloc[i] = 0\n",
        "  i+= 1\n"
      ],
      "metadata": {
        "id": "AYgE48Y8kzGN"
      },
      "execution_count": 15,
      "outputs": []
    },
    {
      "cell_type": "markdown",
      "source": [
        "#Data CAP"
      ],
      "metadata": {
        "id": "xc50jZ_Hk879"
      }
    },
    {
      "cell_type": "code",
      "source": [
        "df_cap = pd.read_csv('CAP.csv', index_col = 'Date')\n",
        "print(df_cap)"
      ],
      "metadata": {
        "colab": {
          "base_uri": "https://localhost:8080/"
        },
        "id": "kDrTtJNFk-pn",
        "outputId": "71429e1f-a77a-4083-b077-6b45b517e894"
      },
      "execution_count": 16,
      "outputs": [
        {
          "output_type": "stream",
          "name": "stdout",
          "text": [
            "              Open    High     Low   Close  Volume\n",
            "Date                                              \n",
            "2014-04-21  8818.0  8818.0  8600.0  8606.4   43534\n",
            "2014-04-22  8606.4  8700.0  8550.0  8576.7  139348\n",
            "2014-04-23  8576.7  8700.0  8500.0  8624.8   71445\n",
            "2014-04-24  8624.8  8815.0  8600.0  8799.6   96937\n",
            "2014-04-25  8820.0  8880.0  8650.0  8748.2   96317\n",
            "...            ...     ...     ...     ...     ...\n",
            "2024-04-15  7101.0  7220.0  7018.3  7041.0  236724\n",
            "2024-04-16  7041.0  7050.1  6950.0  7020.0  248185\n",
            "2024-04-17  7113.0  7170.0  7015.0  7050.0  301493\n",
            "2024-04-18  7050.0  7060.1  6910.0  6920.5  213323\n",
            "2024-04-19  6925.0  6980.0  6810.0  6874.0  236456\n",
            "\n",
            "[2491 rows x 5 columns]\n"
          ]
        }
      ]
    },
    {
      "cell_type": "markdown",
      "source": [
        "#Cálculo del indicador estocástico con una ventana de 14 periodos"
      ],
      "metadata": {
        "id": "PqyX8VPflFoq"
      }
    },
    {
      "cell_type": "code",
      "source": [
        "df_cap['cap_stoch_k'] = ta.momentum.stoch(\n",
        "    df_cap['High'], df_cap['Low'], df_cap['Close'],\n",
        "    window = 14, smooth_window = 1)\n",
        "df_cap['cap_stoch_k'].iloc[13] #Primer valor del indicador estocástico"
      ],
      "metadata": {
        "colab": {
          "base_uri": "https://localhost:8080/"
        },
        "id": "znw6p6nRlGzl",
        "outputId": "1b48920f-56a6-4deb-a4b3-9b13a81757e9"
      },
      "execution_count": 17,
      "outputs": [
        {
          "output_type": "execute_result",
          "data": {
            "text/plain": [
              "43.32758620689643"
            ]
          },
          "metadata": {},
          "execution_count": 17
        }
      ]
    },
    {
      "cell_type": "markdown",
      "source": [
        "#Columna booleana que indica cuándo el valor del estocástico es menor a 20"
      ],
      "metadata": {
        "id": "c7WG6QH7lTuT"
      }
    },
    {
      "cell_type": "code",
      "source": [
        "df_cap['stochastic_menor_20'] = np.nan\n",
        "i = 13\n",
        "while i <= (df_cap.shape[0]-1):\n",
        "  if df_cap['cap_stoch_k'].iloc[i] < 20:\n",
        "    df_cap['stochastic_menor_20'].iloc[i] = 1\n",
        "  else:\n",
        "    df_cap['stochastic_menor_20'].iloc[i] = 0\n",
        "  i+= 1\n"
      ],
      "metadata": {
        "id": "nOpPIvtklU93"
      },
      "execution_count": 18,
      "outputs": []
    },
    {
      "cell_type": "markdown",
      "source": [
        "#Data CCU"
      ],
      "metadata": {
        "id": "RhLcQl8-lhWB"
      }
    },
    {
      "cell_type": "code",
      "source": [
        "df_ccu = pd.read_csv('CCU.csv', index_col = 'Date')\n",
        "print(df_ccu)"
      ],
      "metadata": {
        "colab": {
          "base_uri": "https://localhost:8080/"
        },
        "id": "aLK6eEPslilR",
        "outputId": "144b13ac-4a54-462c-a1e0-934a0f88d2a0"
      },
      "execution_count": 19,
      "outputs": [
        {
          "output_type": "stream",
          "name": "stdout",
          "text": [
            "              Open    High     Low   Close  Volume\n",
            "Date                                              \n",
            "2014-04-21  6361.8  6364.6  6280.0  6302.1  123973\n",
            "2014-04-22  6302.1  6480.6  6300.0  6469.5  488753\n",
            "2014-04-23  6469.5  6597.0  6475.0  6565.1  300279\n",
            "2014-04-24  6565.1  6560.0  6490.0  6521.5  431311\n",
            "2014-04-25  6521.5  6560.0  6372.0  6376.5  453329\n",
            "...            ...     ...     ...     ...     ...\n",
            "2024-04-15  5995.1  6084.0  5860.0  5864.0  324314\n",
            "2024-04-16  5864.0  5864.0  5762.7  5810.0  226994\n",
            "2024-04-17  5810.0  5813.7  5705.0  5753.0  495117\n",
            "2024-04-18  5753.0  5810.0  5702.0  5770.0  461723\n",
            "2024-04-19  5770.0  5767.9  5720.0  5720.0  260608\n",
            "\n",
            "[2491 rows x 5 columns]\n"
          ]
        }
      ]
    },
    {
      "cell_type": "markdown",
      "source": [
        "#Cálculo del indicador estocástico con una ventana de 14 periodos"
      ],
      "metadata": {
        "id": "XfgRlwNklo8_"
      }
    },
    {
      "cell_type": "code",
      "source": [
        "df_ccu['ccu_stoch_k'] = ta.momentum.stoch(\n",
        "    df_ccu['High'], df_ccu['Low'], df_ccu['Close'],\n",
        "    window = 14, smooth_window = 1)\n",
        "df_ccu['ccu_stoch_k'].iloc[13] #Primer valor del indicador estocástico"
      ],
      "metadata": {
        "colab": {
          "base_uri": "https://localhost:8080/"
        },
        "id": "hFpwswbtlq6U",
        "outputId": "e864a0a0-f50f-4df5-d7b1-b38e52723664"
      },
      "execution_count": 20,
      "outputs": [
        {
          "output_type": "execute_result",
          "data": {
            "text/plain": [
              "36.55263157894727"
            ]
          },
          "metadata": {},
          "execution_count": 20
        }
      ]
    },
    {
      "cell_type": "markdown",
      "source": [
        "#Columna booleana que indica cuándo el valor del estocástico es menor a 20"
      ],
      "metadata": {
        "id": "0Ae2Uw91l1E1"
      }
    },
    {
      "cell_type": "code",
      "source": [
        "df_ccu['stochastic_menor_20'] = np.nan\n",
        "i = 13\n",
        "while i <= (df_ccu.shape[0]-1):\n",
        "  if df_ccu['ccu_stoch_k'].iloc[i] < 20:\n",
        "    df_ccu['stochastic_menor_20'].iloc[i] = 1\n",
        "  else:\n",
        "    df_ccu['stochastic_menor_20'].iloc[i] = 0\n",
        "  i+= 1\n"
      ],
      "metadata": {
        "id": "3jblqAycl2je"
      },
      "execution_count": 21,
      "outputs": []
    },
    {
      "cell_type": "markdown",
      "source": [
        "#Data Cencoshopp"
      ],
      "metadata": {
        "id": "sPPCNDH1mB-I"
      }
    },
    {
      "cell_type": "code",
      "source": [
        "df_cencoshopp = pd.read_csv('CENCOSHOPP.csv', index_col = 'Date')\n",
        "print(df_cencoshopp)"
      ],
      "metadata": {
        "colab": {
          "base_uri": "https://localhost:8080/"
        },
        "id": "VpenYsmemDtF",
        "outputId": "db73ffe8-47a3-4dfd-b9b8-558a0034d695"
      },
      "execution_count": 22,
      "outputs": [
        {
          "output_type": "stream",
          "name": "stdout",
          "text": [
            "              Open    High     Low   Close     Volume\n",
            "Date                                                 \n",
            "2019-06-28  1539.9  1549.5  1517.0  1546.0  499704128\n",
            "2019-07-01  1548.0  1586.0  1548.0  1585.2   11033430\n",
            "2019-07-02  1590.0  1595.0  1580.0  1589.9    9794373\n",
            "2019-07-03  1589.9  1643.9  1589.9  1607.0    5455779\n",
            "2019-07-04  1609.0  1630.1  1607.0  1630.1    4139441\n",
            "...            ...     ...     ...     ...        ...\n",
            "2024-04-15  1559.6  1559.6  1490.0  1509.8    1118082\n",
            "2024-04-16  1509.8  1543.0  1491.0  1496.7     173157\n",
            "2024-04-17  1496.7  1512.9  1447.1  1465.9     866453\n",
            "2024-04-18  1465.9  1498.0  1421.9  1435.5    1622962\n",
            "2024-04-19  1435.0  1455.0  1425.9  1436.7    1591530\n",
            "\n",
            "[1200 rows x 5 columns]\n"
          ]
        }
      ]
    },
    {
      "cell_type": "markdown",
      "source": [
        "#Cálculo del indicador estocástico con una ventana de 14 periodos"
      ],
      "metadata": {
        "id": "vKcnlE-RmNRd"
      }
    },
    {
      "cell_type": "code",
      "source": [
        "df_cencoshopp['cencoshopp_stoch_k'] = ta.momentum.stoch(\n",
        "    df_cencoshopp['High'], df_cencoshopp['Low'], df_cencoshopp['Close'],\n",
        "    window = 14, smooth_window = 1)\n",
        "df_cencoshopp['cencoshopp_stoch_k'].iloc[13] #Primer valor del indicador estocástico"
      ],
      "metadata": {
        "colab": {
          "base_uri": "https://localhost:8080/"
        },
        "id": "tAUXupM9mO_i",
        "outputId": "521af8b1-c81b-4f24-ae7c-5847d7bd91ab"
      },
      "execution_count": 23,
      "outputs": [
        {
          "output_type": "execute_result",
          "data": {
            "text/plain": [
              "56.185973207249724"
            ]
          },
          "metadata": {},
          "execution_count": 23
        }
      ]
    },
    {
      "cell_type": "markdown",
      "source": [
        "#Columna booleana que indica cuándo el valor del estocástico es menor a 20"
      ],
      "metadata": {
        "id": "PsAzf7Pyma4S"
      }
    },
    {
      "cell_type": "code",
      "source": [
        "df_cencoshopp['stochastic_menor_20'] = np.nan\n",
        "i = 13\n",
        "while i <= (df_cencoshopp.shape[0]-1):\n",
        "  if df_cencoshopp['cencoshopp_stoch_k'].iloc[i] < 20:\n",
        "    df_cencoshopp['stochastic_menor_20'].iloc[i] = 1\n",
        "  else:\n",
        "    df_cencoshopp['stochastic_menor_20'].iloc[i] = 0\n",
        "  i+= 1\n"
      ],
      "metadata": {
        "id": "SXU1M_2wmabd"
      },
      "execution_count": 24,
      "outputs": []
    },
    {
      "cell_type": "markdown",
      "source": [
        "#Data Cencosud"
      ],
      "metadata": {
        "id": "aaBjLLE_mnCb"
      }
    },
    {
      "cell_type": "code",
      "source": [
        "df_cencosud = pd.read_csv('CENCOSUD.csv', index_col = 'Date')\n",
        "print(df_cencosud)"
      ],
      "metadata": {
        "colab": {
          "base_uri": "https://localhost:8080/"
        },
        "id": "l8m7CkjVmon9",
        "outputId": "1b1e8c76-b43a-4532-e94c-05c10fa92846"
      },
      "execution_count": 25,
      "outputs": [
        {
          "output_type": "stream",
          "name": "stdout",
          "text": [
            "              Open    High     Low   Close   Volume\n",
            "Date                                               \n",
            "2014-04-07  1756.6  1810.0  1740.0  1801.8  1928945\n",
            "2014-04-08  1765.6  1858.9  1765.0  1855.1  3540465\n",
            "2014-04-09  1861.0  1899.0  1855.0  1898.0  2815980\n",
            "2014-04-10  1898.1  1900.2  1850.0  1872.2  1164023\n",
            "2014-04-11  1872.2  1880.0  1825.0  1873.9   952602\n",
            "...            ...     ...     ...     ...      ...\n",
            "2024-04-02  1715.0  1725.0  1691.2  1710.0  2030624\n",
            "2024-04-03  1710.0  1722.9  1690.0  1690.0  2968370\n",
            "2024-04-04  1690.0  1700.0  1671.6  1676.0  3238089\n",
            "2024-04-05  1676.0  1688.7  1645.0  1645.0  2376042\n",
            "2024-04-06     0.0     0.0     0.0  1645.0        0\n",
            "\n",
            "[2491 rows x 5 columns]\n"
          ]
        }
      ]
    },
    {
      "cell_type": "markdown",
      "source": [
        "#Cálculo del indicador estocástico con una ventana de 14 periodos"
      ],
      "metadata": {
        "id": "qAieBViJmvZZ"
      }
    },
    {
      "cell_type": "code",
      "source": [
        "df_cencosud['cencosud_stoch_k'] = ta.momentum.stoch(\n",
        "    df_cencosud['High'], df_cencosud['Low'], df_cencosud['Close'],\n",
        "    window = 14, smooth_window = 1)\n",
        "df_cencosud['cencosud_stoch_k'].iloc[13] #Primer valor del indicador estocástico"
      ],
      "metadata": {
        "colab": {
          "base_uri": "https://localhost:8080/"
        },
        "id": "pjSTusp6mvBm",
        "outputId": "dd69a1c6-de18-468f-8247-d5ab98f2a9ac"
      },
      "execution_count": 26,
      "outputs": [
        {
          "output_type": "execute_result",
          "data": {
            "text/plain": [
              "60.78947368421053"
            ]
          },
          "metadata": {},
          "execution_count": 26
        }
      ]
    },
    {
      "cell_type": "markdown",
      "source": [
        "#Columna booleana que indica cuándo el valor del estocástico es menor a 20"
      ],
      "metadata": {
        "id": "Sb8N3Q2cm7Ke"
      }
    },
    {
      "cell_type": "code",
      "source": [
        "df_cencosud['stochastic_menor_20'] = np.nan\n",
        "i = 13\n",
        "while i <= (df_cencosud.shape[0]-1):\n",
        "  if df_cencosud['cencosud_stoch_k'].iloc[i] < 20:\n",
        "    df_cencosud['stochastic_menor_20'].iloc[i] = 1\n",
        "  else:\n",
        "    df_cencosud['stochastic_menor_20'].iloc[i] = 0\n",
        "  i+= 1\n"
      ],
      "metadata": {
        "id": "NkLlKt_7m8Xc"
      },
      "execution_count": 27,
      "outputs": []
    },
    {
      "cell_type": "markdown",
      "source": [
        "#Data Banco Chile"
      ],
      "metadata": {
        "id": "G6bF56EjnJof"
      }
    },
    {
      "cell_type": "code",
      "source": [
        "df_bchile = pd.read_csv('CHILE.csv', index_col = 'Date')\n",
        "print(df_bchile)"
      ],
      "metadata": {
        "colab": {
          "base_uri": "https://localhost:8080/"
        },
        "id": "riF7Mj1ynIwo",
        "outputId": "9794443d-cc69-4959-b1cc-2e04756206be"
      },
      "execution_count": 28,
      "outputs": [
        {
          "output_type": "stream",
          "name": "stdout",
          "text": [
            "                  Open      High       Low     Close     Volume\n",
            "Date                                                           \n",
            "2014-04-21   62.250130   62.0061   61.7796   61.9103   21175700\n",
            "2014-04-22   61.910385   62.6335   61.9103   62.4942   44124676\n",
            "2014-04-23   62.494140   62.6073   61.8667   62.0846   31819556\n",
            "2014-04-24   62.084553   62.2152   61.7796   61.8580   32810178\n",
            "2014-04-25   61.858044   62.0147   61.1696   61.7012   27569114\n",
            "...                ...       ...       ...       ...        ...\n",
            "2024-04-15  107.500000  109.0000  105.9300  106.0000   51145824\n",
            "2024-04-16  106.010000  108.0000  104.8800  106.4900  284295488\n",
            "2024-04-17  106.490000  111.0000  104.5700  107.2000   57746776\n",
            "2024-04-18  107.000000  109.0000  106.0100  106.3100   52783096\n",
            "2024-04-19  106.290000  107.2000  104.5400  104.6500   25993880\n",
            "\n",
            "[2491 rows x 5 columns]\n"
          ]
        }
      ]
    },
    {
      "cell_type": "markdown",
      "source": [
        "#Cálculo del indicador estocástico con una ventana de 14 periodos"
      ],
      "metadata": {
        "id": "mvawfnIGnU_b"
      }
    },
    {
      "cell_type": "code",
      "source": [
        "df_bchile['bchile_stoch_k'] = ta.momentum.stoch(\n",
        "    df_bchile['High'], df_bchile['Low'], df_bchile['Close'],\n",
        "    window = 14, smooth_window = 1)\n",
        "df_bchile['bchile_stoch_k'].iloc[13] #Primer valor del indicador estocástico"
      ],
      "metadata": {
        "colab": {
          "base_uri": "https://localhost:8080/"
        },
        "id": "bEVk9cUWnUki",
        "outputId": "4b96a8fd-37ad-4e98-931f-f968cfb33f11"
      },
      "execution_count": 29,
      "outputs": [
        {
          "output_type": "execute_result",
          "data": {
            "text/plain": [
              "99.29851909586907"
            ]
          },
          "metadata": {},
          "execution_count": 29
        }
      ]
    },
    {
      "cell_type": "markdown",
      "source": [
        "#Columna booleana que indica cuándo el valor del estocástico es menor a 20"
      ],
      "metadata": {
        "id": "ePWUqO1AngU8"
      }
    },
    {
      "cell_type": "code",
      "source": [
        "df_bchile['stochastic_menor_20'] = np.nan\n",
        "i = 13\n",
        "while i <= (df_bchile.shape[0]-1):\n",
        "  if df_bchile['bchile_stoch_k'].iloc[i] < 20:\n",
        "    df_bchile['stochastic_menor_20'].iloc[i] = 1\n",
        "  else:\n",
        "    df_bchile['stochastic_menor_20'].iloc[i] = 0\n",
        "  i+= 1"
      ],
      "metadata": {
        "id": "yxfoCo8Knf6b"
      },
      "execution_count": 30,
      "outputs": []
    },
    {
      "cell_type": "markdown",
      "source": [
        "#Data CMPC"
      ],
      "metadata": {
        "id": "DOm2w-xxnrRe"
      }
    },
    {
      "cell_type": "code",
      "source": [
        "df_cmpc = pd.read_csv('CMPC.csv', index_col = 'Date')\n",
        "print(df_cmpc)"
      ],
      "metadata": {
        "colab": {
          "base_uri": "https://localhost:8080/"
        },
        "id": "-j2fPHzMnsSR",
        "outputId": "6d3dc924-4b55-49e6-c1ae-ab86d06f68a2"
      },
      "execution_count": 31,
      "outputs": [
        {
          "output_type": "stream",
          "name": "stdout",
          "text": [
            "                 Open       High        Low      Close   Volume\n",
            "Date                                                           \n",
            "2014-04-21  1284.8430  1288.8270  1269.9030  1283.7474   588096\n",
            "2014-04-22  1283.7474  1294.8030  1269.9030  1288.2294  2760128\n",
            "2014-04-23  1288.2294  1324.6831  1275.0822  1293.0103   393657\n",
            "2014-04-24  1293.0103  1304.7631  1274.8830  1290.5201   941376\n",
            "2014-04-25  1290.5203  1279.8630  1260.9390  1263.4290  1000193\n",
            "...               ...        ...        ...        ...      ...\n",
            "2024-04-15  1950.0000  1950.0000  1860.1000  1900.0000  1224474\n",
            "2024-04-16  1900.0000  1919.0000  1865.0000  1882.0000  2498710\n",
            "2024-04-17  1882.0000  1904.6000  1844.4000  1900.0000  2466111\n",
            "2024-04-18  1900.0000  1920.0000  1862.0000  1865.1000  3165216\n",
            "2024-04-19  1865.1000  1882.9000  1825.0000  1875.0000  1595876\n",
            "\n",
            "[2491 rows x 5 columns]\n"
          ]
        }
      ]
    },
    {
      "cell_type": "markdown",
      "source": [
        "#Cálculo del indicador estocástico con una ventana de 14 periodos"
      ],
      "metadata": {
        "id": "Odz7MARPnxgK"
      }
    },
    {
      "cell_type": "code",
      "source": [
        "df_cmpc['cmpc_stoch_k'] = ta.momentum.stoch(\n",
        "    df_cmpc['High'], df_cmpc['Low'], df_cmpc['Close'],\n",
        "    window = 14, smooth_window = 1)\n",
        "df_cmpc['cmpc_stoch_k'].iloc[13] #Primer valor del indicador estocástico"
      ],
      "metadata": {
        "colab": {
          "base_uri": "https://localhost:8080/"
        },
        "id": "d3G_M9JBnxKY",
        "outputId": "306174ee-5409-4cba-c94b-7d2156f4337d"
      },
      "execution_count": 32,
      "outputs": [
        {
          "output_type": "execute_result",
          "data": {
            "text/plain": [
              "18.181882718991776"
            ]
          },
          "metadata": {},
          "execution_count": 32
        }
      ]
    },
    {
      "cell_type": "markdown",
      "source": [
        "#Columna booleana que indica cuándo el valor del estocástico es menor a 20"
      ],
      "metadata": {
        "id": "wqdmg4Wwn8OL"
      }
    },
    {
      "cell_type": "code",
      "source": [
        "df_cmpc['stochastic_menor_20'] = np.nan\n",
        "i = 13\n",
        "while i <= (df_cmpc.shape[0]-1):\n",
        "  if df_cmpc['cmpc_stoch_k'].iloc[i] < 20:\n",
        "    df_cmpc['stochastic_menor_20'].iloc[i] = 1\n",
        "  else:\n",
        "    df_cmpc['stochastic_menor_20'].iloc[i] = 0\n",
        "  i+= 1\n"
      ],
      "metadata": {
        "id": "bBJ_uDaZn7kS"
      },
      "execution_count": 33,
      "outputs": []
    },
    {
      "cell_type": "markdown",
      "source": [
        "#Data COLBUN"
      ],
      "metadata": {
        "id": "yTIAgC-OoOVI"
      }
    },
    {
      "cell_type": "code",
      "source": [
        "df_colbun = pd.read_csv('COLBUN.csv', index_col = 'Date')\n",
        "print(df_colbun)"
      ],
      "metadata": {
        "colab": {
          "base_uri": "https://localhost:8080/"
        },
        "id": "NOiyMcfQoQil",
        "outputId": "dec271c6-076a-4003-8917-efaa3ca57851"
      },
      "execution_count": 34,
      "outputs": [
        {
          "output_type": "stream",
          "name": "stdout",
          "text": [
            "              Open    High     Low   Close    Volume\n",
            "Date                                                \n",
            "2014-04-21  141.57  142.99  140.00  141.40   9544958\n",
            "2014-04-22  141.40  141.40  138.01  139.53   4857281\n",
            "2014-04-23  139.53  140.00  139.00  139.00   7313176\n",
            "2014-04-24  139.00  139.50  137.00  137.16   4472286\n",
            "2014-04-25  137.16  138.50  135.01  137.12   4845911\n",
            "...            ...     ...     ...     ...       ...\n",
            "2024-04-15  126.50  126.50  122.90  123.80  12516102\n",
            "2024-04-16  123.80  125.08  123.00  123.01   5348738\n",
            "2024-04-17  123.12  124.48  121.00  122.04  21246078\n",
            "2024-04-18  122.04  123.38  121.50  121.50   6733204\n",
            "2024-04-19  121.50  123.99  119.00  120.90  18549240\n",
            "\n",
            "[2491 rows x 5 columns]\n"
          ]
        }
      ]
    },
    {
      "cell_type": "markdown",
      "source": [
        "#Cálculo del indicador estocástico con una ventana de 14 periodos"
      ],
      "metadata": {
        "id": "fRoMpJgloXj6"
      }
    },
    {
      "cell_type": "code",
      "source": [
        "df_colbun['colbun_stoch_k'] = ta.momentum.stoch(\n",
        "    df_colbun['High'], df_colbun['Low'], df_colbun['Close'],\n",
        "    window = 14, smooth_window = 1)\n",
        "df_colbun['colbun_stoch_k'].iloc[13] #Primer valor del indicador estocástico"
      ],
      "metadata": {
        "colab": {
          "base_uri": "https://localhost:8080/"
        },
        "id": "DBJWrxtdoIP-",
        "outputId": "7f522a5d-e771-41ee-e43e-ac4c576bbc74"
      },
      "execution_count": 35,
      "outputs": [
        {
          "output_type": "execute_result",
          "data": {
            "text/plain": [
              "34.29286608260333"
            ]
          },
          "metadata": {},
          "execution_count": 35
        }
      ]
    },
    {
      "cell_type": "markdown",
      "source": [
        "#Columna booleana que indica cuándo el valor del estocástico es menor a 20"
      ],
      "metadata": {
        "id": "P5oDbQH4oiW7"
      }
    },
    {
      "cell_type": "code",
      "source": [
        "df_colbun['stochastic_menor_20'] = np.nan\n",
        "i = 13\n",
        "while i <= (df_colbun.shape[0]-1):\n",
        "  if df_colbun['colbun_stoch_k'].iloc[i] < 20:\n",
        "    df_colbun['stochastic_menor_20'].iloc[i] = 1\n",
        "  else:\n",
        "    df_colbun['stochastic_menor_20'].iloc[i] = 0\n",
        "  i+= 1"
      ],
      "metadata": {
        "id": "MKJYrKAyoh7B"
      },
      "execution_count": 36,
      "outputs": []
    },
    {
      "cell_type": "markdown",
      "source": [
        "#Data Viña Concha y Toro"
      ],
      "metadata": {
        "id": "0L-I0iVeotW1"
      }
    },
    {
      "cell_type": "code",
      "source": [
        "df_concha_y_toro = pd.read_csv('CONCHATORO.csv', index_col = 'Date')\n",
        "print(df_concha_y_toro)"
      ],
      "metadata": {
        "colab": {
          "base_uri": "https://localhost:8080/"
        },
        "id": "wyVodBLdovO9",
        "outputId": "b6468e11-eeb7-4960-d4e0-2c8c09326c1b"
      },
      "execution_count": 37,
      "outputs": [
        {
          "output_type": "stream",
          "name": "stdout",
          "text": [
            "              Open    High     Low   Close   Volume\n",
            "Date                                               \n",
            "2014-04-21  1150.5  1160.0  1150.0  1152.3   158340\n",
            "2014-04-22  1152.3  1164.0  1150.0  1158.9   243458\n",
            "2014-04-23  1158.9  1174.8  1150.0  1171.3   960749\n",
            "2014-04-24  1171.3  1170.0  1160.0  1165.6   167241\n",
            "2014-04-25  1165.6  1170.0  1150.0  1150.1   568823\n",
            "...            ...     ...     ...     ...      ...\n",
            "2024-04-15  1150.0  1199.9  1130.4  1142.1   976853\n",
            "2024-04-16  1142.1  1190.0  1130.0  1140.0  2441330\n",
            "2024-04-17  1140.0  1160.0  1145.1  1145.1  1438026\n",
            "2024-04-18  1145.1  1150.0  1145.2  1146.0   427568\n",
            "2024-04-19  1160.0  1190.0  1150.0  1180.0  1049888\n",
            "\n",
            "[2491 rows x 5 columns]\n"
          ]
        }
      ]
    },
    {
      "cell_type": "markdown",
      "source": [
        "#Cálculo del indicador estocástico con una ventana de 14 periodos"
      ],
      "metadata": {
        "id": "kcgSv2Ruo5D4"
      }
    },
    {
      "cell_type": "code",
      "source": [
        "df_concha_y_toro['concha_y_toro_stoch_k'] = ta.momentum.stoch(\n",
        "    df_concha_y_toro['High'], df_concha_y_toro['Low'], df_concha_y_toro['Close'],\n",
        "    window = 14, smooth_window = 1)\n",
        "df_concha_y_toro['concha_y_toro_stoch_k'].iloc[13] #Primer valor del indicador estocástico"
      ],
      "metadata": {
        "colab": {
          "base_uri": "https://localhost:8080/"
        },
        "id": "bXzhydbjo70J",
        "outputId": "210ba4b6-cd15-49b4-c326-d9ba749b3ded"
      },
      "execution_count": 38,
      "outputs": [
        {
          "output_type": "execute_result",
          "data": {
            "text/plain": [
              "20.443740095087335"
            ]
          },
          "metadata": {},
          "execution_count": 38
        }
      ]
    },
    {
      "cell_type": "markdown",
      "source": [
        "#Columna booleana que indica cuándo el valor del estocástico es menor a 20"
      ],
      "metadata": {
        "id": "qml8DhUBpuna"
      }
    },
    {
      "cell_type": "code",
      "source": [
        "df_concha_y_toro['stochastic_menor_20'] = np.nan\n",
        "i = 13\n",
        "while i <= (df_concha_y_toro.shape[0]-1):\n",
        "  if df_concha_y_toro['concha_y_toro_stoch_k'].iloc[i] < 20:\n",
        "    df_concha_y_toro['stochastic_menor_20'].iloc[i] = 1\n",
        "  else:\n",
        "    df_concha_y_toro['stochastic_menor_20'].iloc[i] = 0\n",
        "  i+= 1"
      ],
      "metadata": {
        "id": "7D3sgalQpxWq"
      },
      "execution_count": 39,
      "outputs": []
    },
    {
      "cell_type": "markdown",
      "source": [
        "#Data Copec"
      ],
      "metadata": {
        "id": "piXyy2P5p9qr"
      }
    },
    {
      "cell_type": "code",
      "source": [
        "df_copec = pd.read_csv('COPEC.csv', index_col = 'Date')\n",
        "print(df_copec)"
      ],
      "metadata": {
        "colab": {
          "base_uri": "https://localhost:8080/"
        },
        "id": "K-fCxseUqBAG",
        "outputId": "e198442d-dbe3-4e4f-e9dd-65d740d4cef8"
      },
      "execution_count": 40,
      "outputs": [
        {
          "output_type": "stream",
          "name": "stdout",
          "text": [
            "              Open    High     Low   Close  Volume\n",
            "Date                                              \n",
            "2014-04-21  7330.4  7412.0  7290.0  7383.7  261864\n",
            "2014-04-22  7350.0  7400.0  7335.0  7365.9  213651\n",
            "2014-04-23  7365.9  7380.0  7300.0  7342.2  281599\n",
            "2014-04-24  7345.0  7400.0  7320.0  7388.5  575102\n",
            "2014-04-25  7388.5  7388.5  7260.0  7271.8  147305\n",
            "...            ...     ...     ...     ...     ...\n",
            "2024-04-15  7000.0  7062.4  6885.0  7004.0  340507\n",
            "2024-04-16  7004.0  7004.0  6871.0  6916.7  510863\n",
            "2024-04-17  6916.7  7000.0  6845.0  7000.0  406074\n",
            "2024-04-18  7000.0  7090.0  6948.5  7010.0  382671\n",
            "2024-04-19  7010.0  7090.2  6900.8  6984.9  321911\n",
            "\n",
            "[2491 rows x 5 columns]\n"
          ]
        }
      ]
    },
    {
      "cell_type": "markdown",
      "source": [
        "#Cálculo del indicador estocástico con una ventana de 14 periodos"
      ],
      "metadata": {
        "id": "Y0KJwjZ2qGKT"
      }
    },
    {
      "cell_type": "code",
      "source": [
        "df_copec['copec_stoch_k'] = ta.momentum.stoch(\n",
        "    df_copec['High'], df_copec['Low'], df_copec['Close'],\n",
        "    window = 14, smooth_window = 1)\n",
        "df_copec['copec_stoch_k'].iloc[13] #Primer valor del indicador estocástico"
      ],
      "metadata": {
        "colab": {
          "base_uri": "https://localhost:8080/"
        },
        "id": "4DNevhHbqID7",
        "outputId": "c7b32efa-8baf-49f8-f96f-f796a05b9127"
      },
      "execution_count": 41,
      "outputs": [
        {
          "output_type": "execute_result",
          "data": {
            "text/plain": [
              "76.49305555555561"
            ]
          },
          "metadata": {},
          "execution_count": 41
        }
      ]
    },
    {
      "cell_type": "markdown",
      "source": [
        "#Columna booleana que indica cuándo el valor del estocástico es menor a 20"
      ],
      "metadata": {
        "id": "4lYW_DP1qRgR"
      }
    },
    {
      "cell_type": "code",
      "source": [
        "df_copec['stochastic_menor_20'] = np.nan\n",
        "i = 13\n",
        "while i <= (df_copec.shape[0]-1):\n",
        "  if df_copec['copec_stoch_k'].iloc[i] < 20:\n",
        "    df_copec['stochastic_menor_20'].iloc[i] = 1\n",
        "  else:\n",
        "    df_copec['stochastic_menor_20'].iloc[i] = 0\n",
        "  i+= 1"
      ],
      "metadata": {
        "id": "u4x08VnBqFy-"
      },
      "execution_count": 42,
      "outputs": []
    },
    {
      "cell_type": "markdown",
      "source": [
        "#Data ECL"
      ],
      "metadata": {
        "id": "FKeHekWmqbqS"
      }
    },
    {
      "cell_type": "code",
      "source": [
        "df_ecl = pd.read_csv('ECL.csv', index_col = 'Date')\n",
        "print(df_ecl)"
      ],
      "metadata": {
        "colab": {
          "base_uri": "https://localhost:8080/"
        },
        "id": "pwoUWtGAqdzj",
        "outputId": "e3e190ea-2c5c-4dac-ef11-bf77d78a6872"
      },
      "execution_count": 43,
      "outputs": [
        {
          "output_type": "stream",
          "name": "stdout",
          "text": [
            "              Open    High     Low   Close   Volume\n",
            "Date                                               \n",
            "2014-04-21  721.53  720.00  714.40  719.63   261638\n",
            "2014-04-22  719.63  719.50  712.00  718.11  1691996\n",
            "2014-04-23  718.11  718.20  711.00  713.00   433505\n",
            "2014-04-24  713.00  714.00  705.00  710.00   282547\n",
            "2014-04-25  710.00  706.00  700.00  702.82   565553\n",
            "...            ...     ...     ...     ...      ...\n",
            "2024-04-15  815.00  823.29  814.00  814.50   713729\n",
            "2024-04-16  814.50  825.01  795.01  810.00  1019711\n",
            "2024-04-17  810.00  814.45  784.99  799.90   528710\n",
            "2024-04-18  799.90  804.00  795.79  800.00   911643\n",
            "2024-04-19  799.99  799.99  776.00  794.83   618581\n",
            "\n",
            "[2490 rows x 5 columns]\n"
          ]
        }
      ]
    },
    {
      "cell_type": "markdown",
      "source": [
        "#Cálculo del indicador estocástico con una ventana de 14 periodos"
      ],
      "metadata": {
        "id": "wwO25mm9qjJ7"
      }
    },
    {
      "cell_type": "code",
      "source": [
        "df_ecl['ecl_stoch_k'] = ta.momentum.stoch(\n",
        "    df_ecl['High'], df_ecl['Low'], df_ecl['Close'],\n",
        "    window = 14, smooth_window = 1)\n",
        "df_ecl['ecl_stoch_k'].iloc[13] #Primer valor del indicador estocástico"
      ],
      "metadata": {
        "colab": {
          "base_uri": "https://localhost:8080/"
        },
        "id": "dqFCOuqoqiiR",
        "outputId": "eb50cd4c-9150-4cc0-8544-9d12ef634d1e"
      },
      "execution_count": 44,
      "outputs": [
        {
          "output_type": "execute_result",
          "data": {
            "text/plain": [
              "65.0574712643677"
            ]
          },
          "metadata": {},
          "execution_count": 44
        }
      ]
    },
    {
      "cell_type": "markdown",
      "source": [
        "#Columna booleana que indica cuándo el valor del estocástico es menor a 20"
      ],
      "metadata": {
        "id": "KIOHkVEjqxNg"
      }
    },
    {
      "cell_type": "code",
      "source": [
        "df_ecl['stochastic_menor_20'] = np.nan\n",
        "i = 13\n",
        "while i <= (df_ecl.shape[0]-1):\n",
        "  if df_ecl['ecl_stoch_k'].iloc[i] < 20:\n",
        "    df_ecl['stochastic_menor_20'].iloc[i] = 1\n",
        "  else:\n",
        "    df_ecl['stochastic_menor_20'].iloc[i] = 0\n",
        "  i+= 1"
      ],
      "metadata": {
        "id": "o72yVMBVqaoa"
      },
      "execution_count": 45,
      "outputs": []
    },
    {
      "cell_type": "markdown",
      "source": [
        "#Data Enelam"
      ],
      "metadata": {
        "id": "hqI4-ahfq80l"
      }
    },
    {
      "cell_type": "code",
      "source": [
        "df_enelam = pd.read_csv('ENELAM.csv', index_col = 'Date')\n",
        "print(df_enelam)"
      ],
      "metadata": {
        "colab": {
          "base_uri": "https://localhost:8080/"
        },
        "id": "lzB_eK92rN3h",
        "outputId": "eac9ba65-4cab-432b-d3fe-022b50f6da48"
      },
      "execution_count": 46,
      "outputs": [
        {
          "output_type": "stream",
          "name": "stdout",
          "text": [
            "                  Open      High       Low     Close    Volume\n",
            "Date                                                          \n",
            "2014-04-21  110.264725  110.3880  109.0328  109.3284  17849186\n",
            "2014-04-22  108.453750  109.7473  108.4168  109.4948  26432332\n",
            "2014-04-23  109.494780  110.1416  109.0328  109.2915  22340308\n",
            "2014-04-24  109.291480  109.6488  109.0143  109.3038  13335958\n",
            "2014-04-25  109.303856  109.6488  107.1909  107.4004  25150136\n",
            "...                ...       ...       ...       ...       ...\n",
            "2024-04-15   92.000000   92.0000   90.1500   90.1500  22802730\n",
            "2024-04-16   90.180000   90.9900   90.0400   90.1500  63388216\n",
            "2024-04-17   90.150000   91.8000   88.0000   90.7900  60723744\n",
            "2024-04-18   90.790000   91.4900   90.6000   91.2000  33539552\n",
            "2024-04-19   91.200000   91.8100   89.9800   89.9800  29856412\n",
            "\n",
            "[2491 rows x 5 columns]\n"
          ]
        }
      ]
    },
    {
      "cell_type": "markdown",
      "source": [
        "#Cálculo del indicador estocástico con una ventana de 14 periodos"
      ],
      "metadata": {
        "id": "iJYheAsFrT7I"
      }
    },
    {
      "cell_type": "code",
      "source": [
        "df_enelam['enelam_stoch_k'] = ta.momentum.stoch(\n",
        "    df_enelam['High'], df_enelam['Low'], df_enelam['Close'],\n",
        "    window = 14, smooth_window = 1)\n",
        "df_enelam['enelam_stoch_k'].iloc[13] #Primer valor del indicador estocástico"
      ],
      "metadata": {
        "colab": {
          "base_uri": "https://localhost:8080/"
        },
        "id": "WzjHjxoLrVgo",
        "outputId": "8b27c1cc-8936-44e0-af4a-b6eb1d9df511"
      },
      "execution_count": 47,
      "outputs": [
        {
          "output_type": "execute_result",
          "data": {
            "text/plain": [
              "69.52093753950034"
            ]
          },
          "metadata": {},
          "execution_count": 47
        }
      ]
    },
    {
      "cell_type": "markdown",
      "source": [
        "#Columna booleana que indica cuándo el valor del estocástico es menor a 20"
      ],
      "metadata": {
        "id": "R7yY_sW6rhJl"
      }
    },
    {
      "cell_type": "code",
      "source": [
        "df_enelam['stochastic_menor_20'] = np.nan\n",
        "i = 13\n",
        "while i <= (df_enelam.shape[0]-1):\n",
        "  if df_enelam['enelam_stoch_k'].iloc[i] < 20:\n",
        "    df_enelam['stochastic_menor_20'].iloc[i] = 1\n",
        "  else:\n",
        "    df_enelam['stochastic_menor_20'].iloc[i] = 0\n",
        "  i+= 1"
      ],
      "metadata": {
        "id": "Ef43d90urgvL"
      },
      "execution_count": 48,
      "outputs": []
    },
    {
      "cell_type": "markdown",
      "source": [
        "#Data ENEL"
      ],
      "metadata": {
        "id": "7_nCzmC32j0p"
      }
    },
    {
      "cell_type": "code",
      "source": [
        "df_enel_chile = pd.read_csv('ENELCHILE.csv', index_col = 'Date')\n",
        "print(df_enel_chile)"
      ],
      "metadata": {
        "colab": {
          "base_uri": "https://localhost:8080/"
        },
        "id": "8j0jlP3x2lib",
        "outputId": "27beff4c-4781-42f8-f886-8ba26f1bf4f2"
      },
      "execution_count": 91,
      "outputs": [
        {
          "output_type": "stream",
          "name": "stdout",
          "text": [
            "             Open   High    Low  Close     Volume\n",
            "Date                                             \n",
            "2016-04-21  71.02  90.00  80.00  88.11    7839077\n",
            "2016-04-22  88.11  89.90  87.37  88.99    9707145\n",
            "2016-04-25  88.99  88.35  83.50  86.04   13779476\n",
            "2016-04-26  86.04  87.00  82.51  84.57   33214992\n",
            "2016-04-27  84.57  84.20  81.01  82.74   19140544\n",
            "...           ...    ...    ...    ...        ...\n",
            "2024-04-15  58.50  59.02  57.32  57.74   34941464\n",
            "2024-04-16  57.74  58.09  56.51  57.98   41671448\n",
            "2024-04-17  57.98  57.79  56.28  56.50  101795528\n",
            "2024-04-18  56.50  57.00  55.80  56.88   54423816\n",
            "2024-04-19  56.11  57.00  55.12  55.65  126172944\n",
            "\n",
            "[1991 rows x 5 columns]\n"
          ]
        }
      ]
    },
    {
      "cell_type": "markdown",
      "source": [
        "#Cálculo del indicador estocástico con una ventana de 14 periodos"
      ],
      "metadata": {
        "id": "4dL6bJN-2tfH"
      }
    },
    {
      "cell_type": "code",
      "source": [
        "df_enel_chile['enel_stoch_k'] = ta.momentum.stoch(\n",
        "    df_enel_chile['High'], df_enel_chile['Low'], df_enel_chile['Close'],\n",
        "    window = 14, smooth_window = 1)\n",
        "df_enel_chile['enel_stoch_k'].iloc[13] #Primer valor del indicador estocástico"
      ],
      "metadata": {
        "colab": {
          "base_uri": "https://localhost:8080/"
        },
        "id": "CU1UbQ3x2tH0",
        "outputId": "562715f2-f47b-462d-eda2-7f8d05201b3b"
      },
      "execution_count": 92,
      "outputs": [
        {
          "output_type": "execute_result",
          "data": {
            "text/plain": [
              "19.428571428571487"
            ]
          },
          "metadata": {},
          "execution_count": 92
        }
      ]
    },
    {
      "cell_type": "markdown",
      "source": [
        "#Columna booleana que indica cuándo el valor del estocástico es menor a 20"
      ],
      "metadata": {
        "id": "Z2eJP_uu29Fb"
      }
    },
    {
      "cell_type": "code",
      "source": [
        "df_enel_chile['stochastic_menor_20'] = np.nan\n",
        "i = 13\n",
        "while i <= (df_enel_chile.shape[0]-1):\n",
        "  if df_enel_chile['enel_stoch_k'].iloc[i] < 20:\n",
        "    df_enel_chile['stochastic_menor_20'].iloc[i] = 1\n",
        "  else:\n",
        "    df_enel_chile['stochastic_menor_20'].iloc[i] = 0\n",
        "  i+= 1"
      ],
      "metadata": {
        "id": "x1tZJdf62-oo"
      },
      "execution_count": 93,
      "outputs": []
    },
    {
      "cell_type": "markdown",
      "source": [
        "#Data Entel"
      ],
      "metadata": {
        "id": "0DIpRuUvrtTD"
      }
    },
    {
      "cell_type": "code",
      "source": [
        "df_entel = pd.read_csv('ENTEL.csv', index_col = 'Date')\n",
        "print(df_entel)"
      ],
      "metadata": {
        "colab": {
          "base_uri": "https://localhost:8080/"
        },
        "id": "GXEDosc0rvGz",
        "outputId": "354a7e4a-ae78-4f77-d20d-de83be5dc2f0"
      },
      "execution_count": 49,
      "outputs": [
        {
          "output_type": "stream",
          "name": "stdout",
          "text": [
            "                 Open       High        Low      Close  Volume\n",
            "Date                                                          \n",
            "2014-04-21  6777.9840  6770.7540  6702.3630  6719.5580   44336\n",
            "2014-04-22  6719.5580  6741.5410  6653.5117  6674.3223  240182\n",
            "2014-04-23  6674.3223  6731.6733  6654.4890  6693.8623  105851\n",
            "2014-04-24  6707.2476  6887.9966  6624.5920  6766.3574  223551\n",
            "2014-04-25  6766.3574  6741.4434  6644.7183  6721.5120  204809\n",
            "...               ...        ...        ...        ...     ...\n",
            "2024-04-15  3600.0000  3625.1000  3553.0000  3595.0000  245134\n",
            "2024-04-16  3595.0000  3636.0000  3450.0000  3500.0000  162179\n",
            "2024-04-17  3500.0000  3545.0000  3355.0000  3449.0000  236966\n",
            "2024-04-18  3449.0000  3549.9000  3451.0000  3455.4000  100422\n",
            "2024-04-19  3455.4000  3524.0000  3455.0000  3503.0000  329583\n",
            "\n",
            "[2491 rows x 5 columns]\n"
          ]
        }
      ]
    },
    {
      "cell_type": "markdown",
      "source": [
        "#Cálculo del indicador estocástico con una ventana de 14 periodos"
      ],
      "metadata": {
        "id": "oZYw_FBer4Ia"
      }
    },
    {
      "cell_type": "code",
      "source": [
        "df_entel['entel_stoch_k'] = ta.momentum.stoch(\n",
        "    df_entel['High'], df_entel['Low'], df_entel['Close'],\n",
        "    window = 14, smooth_window = 1)\n",
        "df_entel['entel_stoch_k'].iloc[13] #Primer valor del indicador estocástico"
      ],
      "metadata": {
        "colab": {
          "base_uri": "https://localhost:8080/"
        },
        "id": "2e09GRYor3ge",
        "outputId": "c4b0a4eb-3801-4acd-fa5d-68663cfb077a"
      },
      "execution_count": 50,
      "outputs": [
        {
          "output_type": "execute_result",
          "data": {
            "text/plain": [
              "80.08174496572941"
            ]
          },
          "metadata": {},
          "execution_count": 50
        }
      ]
    },
    {
      "cell_type": "markdown",
      "source": [
        "#Columna booleana que indica cuándo el valor del estocástico es menor a 20"
      ],
      "metadata": {
        "id": "dgpsm95WsF5C"
      }
    },
    {
      "cell_type": "code",
      "source": [
        "df_entel['stochastic_menor_20'] = np.nan\n",
        "i = 13\n",
        "while i <= (df_entel.shape[0]-1):\n",
        "  if df_entel['entel_stoch_k'].iloc[i] < 20:\n",
        "    df_entel['stochastic_menor_20'].iloc[i] = 1\n",
        "  else:\n",
        "    df_entel['stochastic_menor_20'].iloc[i] = 0\n",
        "  i+= 1"
      ],
      "metadata": {
        "id": "66EoKe05rs4-"
      },
      "execution_count": 51,
      "outputs": []
    },
    {
      "cell_type": "markdown",
      "source": [
        "#Data Falabella"
      ],
      "metadata": {
        "id": "tfgn3A18sRMA"
      }
    },
    {
      "cell_type": "code",
      "source": [
        "df_falabella = pd.read_csv('FALABELLA.csv', index_col = 'Date')\n",
        "print(df_falabella)"
      ],
      "metadata": {
        "colab": {
          "base_uri": "https://localhost:8080/"
        },
        "id": "HaFsp3s9sS4n",
        "outputId": "da3dbb2f-d34c-49d9-ef03-a875a2afce1f"
      },
      "execution_count": 52,
      "outputs": [
        {
          "output_type": "stream",
          "name": "stdout",
          "text": [
            "              Open    High     Low   Close   Volume\n",
            "Date                                               \n",
            "2014-04-21  4925.2  4940.0  4820.0  4853.3   765477\n",
            "2014-04-22  4855.0  4880.0  4802.0  4846.4  1381659\n",
            "2014-04-23  4846.4  4880.0  4820.0  4857.1   304591\n",
            "2014-04-24  4870.0  4890.0  4820.0  4872.2   915448\n",
            "2014-04-25  4872.2  4880.0  4780.0  4805.9   589500\n",
            "...            ...     ...     ...     ...      ...\n",
            "2024-04-15  2467.0  2515.0  2407.0  2425.0  2231141\n",
            "2024-04-16  2425.1  2450.0  2380.0  2419.0  2965024\n",
            "2024-04-17  2419.0  2470.0  2391.4  2460.0  1607434\n",
            "2024-04-18  2460.0  2540.2  2420.1  2534.0  1771556\n",
            "2024-04-19  2534.0  2550.0  2460.5  2481.0  1231926\n",
            "\n",
            "[2491 rows x 5 columns]\n"
          ]
        }
      ]
    },
    {
      "cell_type": "markdown",
      "source": [
        "#Cálculo del indicador estocástico con una ventana de 14 periodos"
      ],
      "metadata": {
        "id": "s72ZWvyesYyp"
      }
    },
    {
      "cell_type": "code",
      "source": [
        "df_falabella['falabella_stoch_k'] = ta.momentum.stoch(\n",
        "    df_falabella['High'], df_falabella['Low'], df_falabella['Close'],\n",
        "    window = 14, smooth_window = 1)\n",
        "df_falabella['falabella_stoch_k'].iloc[13] #Primer valor del indicador estocástico"
      ],
      "metadata": {
        "colab": {
          "base_uri": "https://localhost:8080/"
        },
        "id": "WZ0f74F5sYGA",
        "outputId": "b6940223-9f52-4911-ac50-1ff3c66ec6d1"
      },
      "execution_count": 53,
      "outputs": [
        {
          "output_type": "execute_result",
          "data": {
            "text/plain": [
              "27.73684210526306"
            ]
          },
          "metadata": {},
          "execution_count": 53
        }
      ]
    },
    {
      "cell_type": "markdown",
      "source": [
        "#Columna booleana que indica cuándo el valor del estocástico es menor a 20"
      ],
      "metadata": {
        "id": "z-vlMDj3smW9"
      }
    },
    {
      "cell_type": "code",
      "source": [
        "df_falabella['stochastic_menor_20'] = np.nan\n",
        "i = 13\n",
        "while i <= (df_falabella.shape[0]-1):\n",
        "  if df_falabella['falabella_stoch_k'].iloc[i] < 20:\n",
        "    df_falabella['stochastic_menor_20'].iloc[i] = 1\n",
        "  else:\n",
        "    df_falabella['stochastic_menor_20'].iloc[i] = 0\n",
        "  i+= 1\n"
      ],
      "metadata": {
        "id": "pzx5neSlsn3a"
      },
      "execution_count": 54,
      "outputs": []
    },
    {
      "cell_type": "markdown",
      "source": [
        "#Data IAM"
      ],
      "metadata": {
        "id": "D_uzl3onsxRT"
      }
    },
    {
      "cell_type": "code",
      "source": [
        "df_iam = pd.read_csv('IAM.csv', index_col = 'Date')\n",
        "print(df_iam)"
      ],
      "metadata": {
        "colab": {
          "base_uri": "https://localhost:8080/"
        },
        "id": "N7qyjLrVszXz",
        "outputId": "b53a70fb-636b-4e46-ffc3-03ca81b31e89"
      },
      "execution_count": 55,
      "outputs": [
        {
          "output_type": "stream",
          "name": "stdout",
          "text": [
            "              Open    High     Low   Close   Volume\n",
            "Date                                               \n",
            "2014-04-21  907.38  919.00  907.40  919.00   614737\n",
            "2014-04-22  919.00  924.99  907.00  908.00  1086298\n",
            "2014-04-23  908.00  925.00  910.00  917.20   737402\n",
            "2014-04-24  917.20  920.00  915.00  917.89   266837\n",
            "2014-04-25  917.89  919.99  915.00  916.15   609773\n",
            "...            ...     ...     ...     ...      ...\n",
            "2024-04-15  755.00  750.00  735.00  747.99   398664\n",
            "2024-04-16  758.00  758.00  711.00  732.00  1312432\n",
            "2024-04-17  732.00  738.37  716.00  733.00   484151\n",
            "2024-04-18  733.00  735.00  721.32  730.00   232171\n",
            "2024-04-19  730.00  721.23  718.01  719.23   412680\n",
            "\n",
            "[2490 rows x 5 columns]\n"
          ]
        }
      ]
    },
    {
      "cell_type": "markdown",
      "source": [
        "#Cálculo del indicador estocástico con una ventana de 14 periodos"
      ],
      "metadata": {
        "id": "JsxgMkG1tI19"
      }
    },
    {
      "cell_type": "code",
      "source": [
        "df_iam['iam_stoch_k'] = ta.momentum.stoch(\n",
        "    df_iam['High'], df_iam['Low'], df_iam['Close'],\n",
        "    window = 14, smooth_window = 1)\n",
        "df_iam['iam_stoch_k'].iloc[13] #Primer valor del indicador estocástico"
      ],
      "metadata": {
        "colab": {
          "base_uri": "https://localhost:8080/"
        },
        "id": "rkdzllemtKUL",
        "outputId": "b349bb63-2cca-4522-b18a-a9271a0ab443"
      },
      "execution_count": 56,
      "outputs": [
        {
          "output_type": "execute_result",
          "data": {
            "text/plain": [
              "60.29439516889987"
            ]
          },
          "metadata": {},
          "execution_count": 56
        }
      ]
    },
    {
      "cell_type": "markdown",
      "source": [
        "#Columna booleana que indica cuándo el valor del estocástico es menor a 20"
      ],
      "metadata": {
        "id": "wIN3n7-btUP8"
      }
    },
    {
      "cell_type": "code",
      "source": [
        "df_iam['stochastic_menor_20'] = np.nan\n",
        "i = 13\n",
        "while i <= (df_iam.shape[0]-1):\n",
        "  if df_iam['iam_stoch_k'].iloc[i] < 20:\n",
        "    df_iam['stochastic_menor_20'].iloc[i] = 1\n",
        "  else:\n",
        "    df_iam['stochastic_menor_20'].iloc[i] = 0\n",
        "  i+= 1\n"
      ],
      "metadata": {
        "id": "q8c4wqF4tIdy"
      },
      "execution_count": 57,
      "outputs": []
    },
    {
      "cell_type": "markdown",
      "source": [
        "#Data ITAU"
      ],
      "metadata": {
        "id": "laL0-6Gutd-e"
      }
    },
    {
      "cell_type": "code",
      "source": [
        "df_itau = pd.read_csv('ITAUCL.csv', index_col = 'Date')\n",
        "print(df_itau)"
      ],
      "metadata": {
        "colab": {
          "base_uri": "https://localhost:8080/"
        },
        "id": "oBITwevvtgK2",
        "outputId": "3f85bf14-5e13-4e75-895f-da9499249082"
      },
      "execution_count": 58,
      "outputs": [
        {
          "output_type": "stream",
          "name": "stdout",
          "text": [
            "                 Open       High        Low      Close  Volume\n",
            "Date                                                          \n",
            "2014-04-21  27646.310  27913.062  27642.342  27850.451   24160\n",
            "2014-04-22  27850.785  27996.396  27700.451  27821.621    9661\n",
            "2014-04-23  27821.690  27913.062  27325.676  27450.900    8562\n",
            "2014-04-24  27450.870  27454.955  27121.621  27184.234   20737\n",
            "2014-04-25  27184.242  27288.290  27079.730  27250.900    7796\n",
            "...               ...        ...        ...        ...     ...\n",
            "2024-04-15  10500.000  10500.000  10235.000  10240.000  153290\n",
            "2024-04-16  10240.000  10346.000  10112.000  10130.000  171022\n",
            "2024-04-17  10150.000  10350.000  10150.000  10200.000  221078\n",
            "2024-04-18  10300.000  10400.000  10190.000  10249.000  265798\n",
            "2024-04-19  10300.000  10300.000  10150.000  10170.000  209604\n",
            "\n",
            "[2491 rows x 5 columns]\n"
          ]
        }
      ]
    },
    {
      "cell_type": "markdown",
      "source": [
        "#Cálculo del indicador estocástico con una ventana de 14 periodos"
      ],
      "metadata": {
        "id": "hGAf_XIDtolk"
      }
    },
    {
      "cell_type": "code",
      "source": [
        "df_itau['itau_stoch_k'] = ta.momentum.stoch(\n",
        "    df_itau['High'], df_itau['Low'], df_itau['Close'],\n",
        "    window = 14, smooth_window = 1)\n",
        "df_itau['itau_stoch_k'].iloc[13] #Primer valor del indicador estocástico"
      ],
      "metadata": {
        "colab": {
          "base_uri": "https://localhost:8080/"
        },
        "id": "KJ4x1TSutq8y",
        "outputId": "5e65529d-ad40-4a80-9151-7f3e7936bdfa"
      },
      "execution_count": 59,
      "outputs": [
        {
          "output_type": "execute_result",
          "data": {
            "text/plain": [
              "87.08510413822702"
            ]
          },
          "metadata": {},
          "execution_count": 59
        }
      ]
    },
    {
      "cell_type": "markdown",
      "source": [
        "#Columna booleana que indica cuándo el valor del estocástico es menor a 20"
      ],
      "metadata": {
        "id": "Rgd3EjQutyt9"
      }
    },
    {
      "cell_type": "code",
      "source": [
        "df_itau['stochastic_menor_20'] = np.nan\n",
        "i = 13\n",
        "while i <= (df_itau.shape[0]-1):\n",
        "  if df_itau['itau_stoch_k'].iloc[i] < 20:\n",
        "    df_itau['stochastic_menor_20'].iloc[i] = 1\n",
        "  else:\n",
        "    df_itau['stochastic_menor_20'].iloc[i] = 0\n",
        "  i+= 1\n"
      ],
      "metadata": {
        "id": "8pLcKJl-tybT"
      },
      "execution_count": 60,
      "outputs": []
    },
    {
      "cell_type": "markdown",
      "source": [
        "#Data LTM"
      ],
      "metadata": {
        "id": "09uTQKkYvoIE"
      }
    },
    {
      "cell_type": "code",
      "source": [
        "df_ltm = pd.read_csv('LTM.csv', index_col = 'Date')\n",
        "print(df_ltm)"
      ],
      "metadata": {
        "colab": {
          "base_uri": "https://localhost:8080/"
        },
        "id": "1l380j3ovp1q",
        "outputId": "7036e558-9805-4fca-b740-1a5f2132feed"
      },
      "execution_count": 61,
      "outputs": [
        {
          "output_type": "stream",
          "name": "stdout",
          "text": [
            "                 Open      High       Low     Close      Volume\n",
            "Date                                                           \n",
            "2014-04-21  468.62866  473.3427  468.6287  472.1836     5350420\n",
            "2014-04-22  472.18360  473.6200  468.6342  471.8342     5460970\n",
            "2014-04-23  471.83417  472.5274  460.3098  471.9728     4483996\n",
            "2014-04-24  471.97287  474.1746  468.9670  472.8103     5649812\n",
            "2014-04-25  472.81024  472.8103  463.1937  464.2640     5112100\n",
            "...               ...       ...       ...       ...         ...\n",
            "2024-04-15   12.52000   12.7500   12.0100   12.0400  1173742210\n",
            "2024-04-16   12.00000   12.2000   11.6100   12.2000  1439499260\n",
            "2024-04-17   12.30000   12.8000   12.2500   12.3200   897878780\n",
            "2024-04-18   12.35000   12.7000   12.3200   12.5100  2058487680\n",
            "2024-04-19   12.30000   12.6000   12.3000   12.4000  2026921470\n",
            "\n",
            "[2491 rows x 5 columns]\n"
          ]
        }
      ]
    },
    {
      "cell_type": "markdown",
      "source": [
        "#Cálculo del indicador estocástico con una ventana de 14 periodos"
      ],
      "metadata": {
        "id": "W8H5bFdyvw48"
      }
    },
    {
      "cell_type": "code",
      "source": [
        "df_ltm['ltm_stoch_k'] = ta.momentum.stoch(\n",
        "    df_ltm['High'], df_ltm['Low'], df_ltm['Close'],\n",
        "    window = 14, smooth_window = 1)\n",
        "df_ltm['ltm_stoch_k'].iloc[13] #Primer valor del indicador estocástico"
      ],
      "metadata": {
        "colab": {
          "base_uri": "https://localhost:8080/"
        },
        "id": "A4lslJnjvwRO",
        "outputId": "4fc6065a-0f8f-4153-afbc-adb0df4f0ff5"
      },
      "execution_count": 62,
      "outputs": [
        {
          "output_type": "execute_result",
          "data": {
            "text/plain": [
              "42.005945606986145"
            ]
          },
          "metadata": {},
          "execution_count": 62
        }
      ]
    },
    {
      "cell_type": "markdown",
      "source": [
        "#Columna booleana que indica cuándo el valor del estocástico es menor a 20"
      ],
      "metadata": {
        "id": "K4dOnQb-wOxR"
      }
    },
    {
      "cell_type": "code",
      "source": [
        "df_ltm['stochastic_menor_20'] = np.nan\n",
        "i = 13\n",
        "while i <= (df_ltm.shape[0]-1):\n",
        "  if df_ltm['ltm_stoch_k'].iloc[i] < 20:\n",
        "    df_ltm['stochastic_menor_20'].iloc[i] = 1\n",
        "  else:\n",
        "    df_ltm['stochastic_menor_20'].iloc[i] = 0\n",
        "  i+= 1"
      ],
      "metadata": {
        "id": "B38yebQVwOZC"
      },
      "execution_count": 63,
      "outputs": []
    },
    {
      "cell_type": "markdown",
      "source": [
        "#Data Mallplaza"
      ],
      "metadata": {
        "id": "D-sMwqN4wY2B"
      }
    },
    {
      "cell_type": "code",
      "source": [
        "df_mallplaza = pd.read_csv('MALLPLAZA.csv', index_col = 'Date')\n",
        "print(df_mallplaza)"
      ],
      "metadata": {
        "colab": {
          "base_uri": "https://localhost:8080/"
        },
        "id": "SnDTJb7ZwbMe",
        "outputId": "d862adbc-e85e-4f73-bcca-ef0a048bb021"
      },
      "execution_count": 64,
      "outputs": [
        {
          "output_type": "stream",
          "name": "stdout",
          "text": [
            "              Open    High     Low   Close     Volume\n",
            "Date                                                 \n",
            "2018-07-27  1435.0  1435.0  1400.1  1402.7  281806176\n",
            "2018-07-30  1410.0  1415.0  1400.0  1410.1   12949530\n",
            "2018-07-31  1414.7  1432.0  1411.8  1420.1    8801941\n",
            "2018-08-01  1420.1  1445.3  1423.1  1425.0    8624787\n",
            "2018-08-02  1425.0  1431.0  1416.2  1430.0    3627880\n",
            "...            ...     ...     ...     ...        ...\n",
            "2024-04-15  1380.0  1396.0  1370.0  1372.1     183273\n",
            "2024-04-16  1372.1  1373.0  1360.0  1370.0      94029\n",
            "2024-04-17  1370.0  1405.9  1370.0  1383.6      19023\n",
            "2024-04-18  1383.6  1380.0  1370.0  1380.0     584447\n",
            "2024-04-19  1380.0  1390.0  1335.0  1373.7    1901876\n",
            "\n",
            "[1427 rows x 5 columns]\n"
          ]
        }
      ]
    },
    {
      "cell_type": "markdown",
      "source": [
        "#Cálculo del indicador estocástico con una ventana de 14 periodos"
      ],
      "metadata": {
        "id": "76Vr4LgLwt-G"
      }
    },
    {
      "cell_type": "code",
      "source": [
        "df_mallplaza['mallplaza_stoch_k'] = ta.momentum.stoch(\n",
        "    df_mallplaza['High'], df_mallplaza['Low'], df_mallplaza['Close'],\n",
        "    window = 14, smooth_window = 1)\n",
        "df_mallplaza['mallplaza_stoch_k'].iloc[13] #Primer valor del indicador estocástico"
      ],
      "metadata": {
        "colab": {
          "base_uri": "https://localhost:8080/"
        },
        "id": "lWMszPDpwtfM",
        "outputId": "da10736a-79b6-42a0-cb46-7fcf2a8df47b"
      },
      "execution_count": 65,
      "outputs": [
        {
          "output_type": "execute_result",
          "data": {
            "text/plain": [
              "95.74468085106383"
            ]
          },
          "metadata": {},
          "execution_count": 65
        }
      ]
    },
    {
      "cell_type": "markdown",
      "source": [
        "#Columna booleana que indica cuándo el valor del estocástico es menor a 20"
      ],
      "metadata": {
        "id": "zFK3DumJw8Dc"
      }
    },
    {
      "cell_type": "code",
      "source": [
        "df_mallplaza['stochastic_menor_20'] = np.nan\n",
        "i = 13\n",
        "while i <= (df_mallplaza.shape[0]-1):\n",
        "  if df_mallplaza['mallplaza_stoch_k'].iloc[i] < 20:\n",
        "    df_mallplaza['stochastic_menor_20'].iloc[i] = 1\n",
        "  else:\n",
        "    df_mallplaza['stochastic_menor_20'].iloc[i] = 0\n",
        "  i+= 1\n"
      ],
      "metadata": {
        "id": "9j4KiHOUw_-m"
      },
      "execution_count": 66,
      "outputs": []
    },
    {
      "cell_type": "markdown",
      "source": [
        "#Data Oro Blanco"
      ],
      "metadata": {
        "id": "BqI2-l7qxJTz"
      }
    },
    {
      "cell_type": "code",
      "source": [
        "df_oro_blanco = pd.read_csv('ORO_BLANCO.csv', index_col = 'Date')\n",
        "print(df_oro_blanco)"
      ],
      "metadata": {
        "colab": {
          "base_uri": "https://localhost:8080/"
        },
        "id": "RukpEXWbxLkU",
        "outputId": "810178cd-71ff-4799-efab-2ba687148c6f"
      },
      "execution_count": 67,
      "outputs": [
        {
          "output_type": "stream",
          "name": "stdout",
          "text": [
            "                Open    High     Low   Close    Volume\n",
            "Date                                                  \n",
            "2014-04-21  2.035000  2.0350  2.0350  2.0350     19458\n",
            "2014-04-23  2.034963  2.0220  1.9558  1.9558   3893908\n",
            "2014-04-24  1.955768  2.0489  2.0489  2.0489  30022836\n",
            "2014-04-25  2.048927  2.0583  2.0303  2.0303  20400564\n",
            "2014-04-28  2.030364  2.0489  1.9651  1.9661  13199226\n",
            "...              ...     ...     ...     ...       ...\n",
            "2024-04-15  6.933000  6.9400  6.8710  6.8690   2553098\n",
            "2024-04-16  6.869000  6.8700  6.7200  6.7630   3537118\n",
            "2024-04-17  6.763000  6.9000  6.7490  6.8440   7925320\n",
            "2024-04-18  6.844000  6.9000  6.8500  6.9000   2233322\n",
            "2024-04-19  6.900000  6.8800  6.7500  6.8740   3046958\n",
            "\n",
            "[2321 rows x 5 columns]\n"
          ]
        }
      ]
    },
    {
      "cell_type": "markdown",
      "source": [
        "#Cálculo del indicador estocástico con una ventana de 14 periodos"
      ],
      "metadata": {
        "id": "wEilOH-qxUaX"
      }
    },
    {
      "cell_type": "code",
      "source": [
        "df_oro_blanco['oro_blanco_stoch_k'] = ta.momentum.stoch(\n",
        "    df_oro_blanco['High'], df_oro_blanco['Low'], df_oro_blanco['Close'],\n",
        "    window = 14, smooth_window = 1)\n",
        "df_oro_blanco['oro_blanco_stoch_k'].iloc[13] #Primer valor del indicador estocástico"
      ],
      "metadata": {
        "colab": {
          "base_uri": "https://localhost:8080/"
        },
        "id": "cwX5XWT-xTnO",
        "outputId": "cbf219a2-ae1f-4649-e8e3-ef3d30567f93"
      },
      "execution_count": 68,
      "outputs": [
        {
          "output_type": "execute_result",
          "data": {
            "text/plain": [
              "68.73532371687354"
            ]
          },
          "metadata": {},
          "execution_count": 68
        }
      ]
    },
    {
      "cell_type": "markdown",
      "source": [
        "#Columna booleana que indica cuándo el valor del estocástico es menor a 20"
      ],
      "metadata": {
        "id": "XQEQwZ98xhH9"
      }
    },
    {
      "cell_type": "code",
      "source": [
        "df_oro_blanco['stochastic_menor_20'] = np.nan\n",
        "i = 13\n",
        "while i <= (df_oro_blanco.shape[0]-1):\n",
        "  if df_oro_blanco['oro_blanco_stoch_k'].iloc[i] < 20:\n",
        "    df_oro_blanco['stochastic_menor_20'].iloc[i] = 1\n",
        "  else:\n",
        "    df_oro_blanco['stochastic_menor_20'].iloc[i] = 0\n",
        "  i+= 1"
      ],
      "metadata": {
        "id": "iFWlTkk9xguf"
      },
      "execution_count": 69,
      "outputs": []
    },
    {
      "cell_type": "markdown",
      "source": [
        "#Data Parauco"
      ],
      "metadata": {
        "id": "vH-7qLhExsww"
      }
    },
    {
      "cell_type": "code",
      "source": [
        "df_parauco = pd.read_csv('PARAUCO.csv', index_col = 'Date')\n",
        "print(df_parauco)"
      ],
      "metadata": {
        "colab": {
          "base_uri": "https://localhost:8080/"
        },
        "id": "lUmbY7Afxu9T",
        "outputId": "658fcacf-ffd0-4848-9c1c-e5af45bcbb91"
      },
      "execution_count": 70,
      "outputs": [
        {
          "output_type": "stream",
          "name": "stdout",
          "text": [
            "                  Open       High        Low      Close   Volume\n",
            "Date                                                            \n",
            "2014-04-21  1051.24100  1051.3402  1021.4889  1041.3236   900773\n",
            "2014-04-22  1041.32360  1041.3236  1011.6707  1026.4476   617749\n",
            "2014-04-23  1026.44760  1026.4476  1006.7120  1011.6707   765964\n",
            "2014-04-24  1011.67065  1021.7864  1001.6542  1005.1252  1536068\n",
            "2014-04-25  1005.12520  1011.5715   981.8194   984.1103  2556530\n",
            "...                ...        ...        ...        ...      ...\n",
            "2024-04-15  1449.50000  1451.1000  1420.0000  1438.0000   923277\n",
            "2024-04-16  1438.00000  1438.0000  1414.2000  1430.0000  1053254\n",
            "2024-04-17  1430.00000  1429.9000  1403.0000  1425.0000   936704\n",
            "2024-04-18  1425.00000  1425.0000  1400.0000  1400.0000  1541296\n",
            "2024-04-19  1390.00000  1400.0000  1378.0000  1399.9000  1750381\n",
            "\n",
            "[2489 rows x 5 columns]\n"
          ]
        }
      ]
    },
    {
      "cell_type": "markdown",
      "source": [
        "#Cálculo del indicador estocástico con una ventana de 14 periodos"
      ],
      "metadata": {
        "id": "ZZPAjwJEx08E"
      }
    },
    {
      "cell_type": "code",
      "source": [
        "df_parauco['parauco_stoch_k'] = ta.momentum.stoch(\n",
        "    df_parauco['High'], df_parauco['Low'], df_parauco['Close'],\n",
        "    window = 14, smooth_window = 1)\n",
        "df_parauco['parauco_stoch_k'].iloc[13] #Primer valor del indicador estocástico"
      ],
      "metadata": {
        "colab": {
          "base_uri": "https://localhost:8080/"
        },
        "id": "-dfxRW0-x0jF",
        "outputId": "13803745-c3bf-4db9-d035-b8db34dcb75c"
      },
      "execution_count": 71,
      "outputs": [
        {
          "output_type": "execute_result",
          "data": {
            "text/plain": [
              "3.2462043687975672"
            ]
          },
          "metadata": {},
          "execution_count": 71
        }
      ]
    },
    {
      "cell_type": "markdown",
      "source": [
        "#Columna booleana que indica cuándo el valor del estocástico es menor a 20"
      ],
      "metadata": {
        "id": "71dPZYuRyCnU"
      }
    },
    {
      "cell_type": "code",
      "source": [
        "df_parauco['stochastic_menor_20'] = np.nan\n",
        "i = 13\n",
        "while i <= (df_parauco.shape[0]-1):\n",
        "  if df_parauco['parauco_stoch_k'].iloc[i] < 20:\n",
        "    df_parauco['stochastic_menor_20'].iloc[i] = 1\n",
        "  else:\n",
        "    df_parauco['stochastic_menor_20'].iloc[i] = 0\n",
        "  i+= 1\n"
      ],
      "metadata": {
        "id": "HCtJyShuyFzE"
      },
      "execution_count": 72,
      "outputs": []
    },
    {
      "cell_type": "markdown",
      "source": [
        "#Data Quinenco"
      ],
      "metadata": {
        "id": "7hRe0wUzyQjX"
      }
    },
    {
      "cell_type": "code",
      "source": [
        "df_quinenco = pd.read_csv('QUINENCO.csv', index_col = 'Date')\n",
        "print(df_quinenco)"
      ],
      "metadata": {
        "colab": {
          "base_uri": "https://localhost:8080/"
        },
        "id": "af9GlBE8yQMY",
        "outputId": "dc3dfb25-d261-44d8-d471-5aa66ed77268"
      },
      "execution_count": 73,
      "outputs": [
        {
          "output_type": "stream",
          "name": "stdout",
          "text": [
            "              Open    High     Low   Close  Volume\n",
            "Date                                              \n",
            "2014-04-21  1230.0  1230.0  1230.0  1230.0   15104\n",
            "2014-04-22  1230.0  1240.0  1229.6  1240.0   29881\n",
            "2014-04-23  1240.0  1240.0  1240.0  1240.0   19576\n",
            "2014-04-24  1240.0  1240.0  1240.0  1240.0    4719\n",
            "2014-04-25  1240.0  1260.0  1240.0  1240.0   53427\n",
            "...            ...     ...     ...     ...     ...\n",
            "2024-04-15  3309.5  3358.6  3230.4  3260.0  223758\n",
            "2024-04-16  3260.0  3249.5  3181.0  3181.6  202022\n",
            "2024-04-17  3181.6  3200.0  3048.0  3200.0  201591\n",
            "2024-04-18  3200.0  3400.0  3205.0  3400.0  155006\n",
            "2024-04-19  3400.0  3349.9  3250.1  3300.0  279144\n",
            "\n",
            "[2414 rows x 5 columns]\n"
          ]
        }
      ]
    },
    {
      "cell_type": "markdown",
      "source": [
        "#Cálculo del indicador estocástico con una ventana de 14 periodos"
      ],
      "metadata": {
        "id": "U05pToaAyYEi"
      }
    },
    {
      "cell_type": "code",
      "source": [
        "df_quinenco['quinenco_stoch_k'] = ta.momentum.stoch(\n",
        "    df_quinenco['High'], df_quinenco['Low'], df_quinenco['Close'],\n",
        "    window = 14, smooth_window = 1)\n",
        "df_quinenco['quinenco_stoch_k'].iloc[13] #Primer valor del indicador estocástico"
      ],
      "metadata": {
        "colab": {
          "base_uri": "https://localhost:8080/"
        },
        "id": "X9Viy1ghyXuu",
        "outputId": "8d0f1e1c-8684-43cd-c2e0-970a1fa89bf9"
      },
      "execution_count": 74,
      "outputs": [
        {
          "output_type": "execute_result",
          "data": {
            "text/plain": [
              "6.666666666666667"
            ]
          },
          "metadata": {},
          "execution_count": 74
        }
      ]
    },
    {
      "cell_type": "markdown",
      "source": [
        "#Columna booleana que indica cuándo el valor del estocástico es menor a 20"
      ],
      "metadata": {
        "id": "X9yn0cI_yjtf"
      }
    },
    {
      "cell_type": "code",
      "source": [
        "df_quinenco['stochastic_menor_20'] = np.nan\n",
        "i = 13\n",
        "while i <= (df_quinenco.shape[0]-1):\n",
        "  if df_quinenco['quinenco_stoch_k'].iloc[i] < 20:\n",
        "    df_quinenco['stochastic_menor_20'].iloc[i] = 1\n",
        "  else:\n",
        "    df_quinenco['stochastic_menor_20'].iloc[i] = 0\n",
        "  i+= 1\n"
      ],
      "metadata": {
        "id": "GedMEr_Iyn_w"
      },
      "execution_count": 75,
      "outputs": []
    },
    {
      "cell_type": "markdown",
      "source": [
        "#Data Ripley"
      ],
      "metadata": {
        "id": "7WV1anH-yxzE"
      }
    },
    {
      "cell_type": "code",
      "source": [
        "df_ripley = pd.read_csv('RIPLEY.csv', index_col = 'Date')\n",
        "print(df_ripley)"
      ],
      "metadata": {
        "colab": {
          "base_uri": "https://localhost:8080/"
        },
        "id": "LxIoIAQSy05E",
        "outputId": "7695f43f-ae7f-4fac-f64f-90d81896d642"
      },
      "execution_count": 76,
      "outputs": [
        {
          "output_type": "stream",
          "name": "stdout",
          "text": [
            "              Open    High     Low   Close   Volume\n",
            "Date                                               \n",
            "2014-04-21  378.00  382.00  373.10  374.00  1310373\n",
            "2014-04-22  374.00  375.00  370.01  370.01  1087411\n",
            "2014-04-23  370.01  375.30  370.00  374.00  1850499\n",
            "2014-04-24  374.00  378.00  370.00  371.52  1124019\n",
            "2014-04-25  371.52  375.00  368.00  370.50  1518266\n",
            "...            ...     ...     ...     ...      ...\n",
            "2024-04-15  210.00  212.00  208.00  210.90  4001225\n",
            "2024-04-16  210.90  208.93  201.00  206.50  3221142\n",
            "2024-04-17  206.50  207.00  202.04  206.16   783217\n",
            "2024-04-18  206.16  209.86  204.96  209.86   658280\n",
            "2024-04-19  209.86  210.18  202.29  208.37   396133\n",
            "\n",
            "[2491 rows x 5 columns]\n"
          ]
        }
      ]
    },
    {
      "cell_type": "markdown",
      "source": [
        "#Cálculo del indicador estocástico con una ventana de 14 periodos"
      ],
      "metadata": {
        "id": "-mWr3LGMy7Zw"
      }
    },
    {
      "cell_type": "code",
      "source": [
        "df_ripley['ripley_stoch_k'] = ta.momentum.stoch(\n",
        "    df_ripley['High'], df_ripley['Low'], df_ripley['Close'],\n",
        "    window = 14, smooth_window = 1)\n",
        "df_ripley['ripley_stoch_k'].iloc[13] #Primer valor del indicador estocástico"
      ],
      "metadata": {
        "colab": {
          "base_uri": "https://localhost:8080/"
        },
        "id": "3MnrZGN_y7B0",
        "outputId": "960ad179-71f8-4231-d1fc-2dc9fa4c6b4e"
      },
      "execution_count": 77,
      "outputs": [
        {
          "output_type": "execute_result",
          "data": {
            "text/plain": [
              "26.600000000000062"
            ]
          },
          "metadata": {},
          "execution_count": 77
        }
      ]
    },
    {
      "cell_type": "markdown",
      "source": [
        "#Columna booleana que indica cuándo el valor del estocástico es menor a 20"
      ],
      "metadata": {
        "id": "SVsNE51IzQhC"
      }
    },
    {
      "cell_type": "code",
      "source": [
        "df_ripley['stochastic_menor_20'] = np.nan\n",
        "i = 13\n",
        "while i <= (df_ripley.shape[0]-1):\n",
        "  if df_ripley['ripley_stoch_k'].iloc[i] < 20:\n",
        "    df_ripley['stochastic_menor_20'].iloc[i] = 1\n",
        "  else:\n",
        "    df_ripley['stochastic_menor_20'].iloc[i] = 0\n",
        "  i+= 1"
      ],
      "metadata": {
        "id": "d-eY8kGAzQCW"
      },
      "execution_count": 78,
      "outputs": []
    },
    {
      "cell_type": "markdown",
      "source": [
        "#Data Salfacorp"
      ],
      "metadata": {
        "id": "zQ4t6hhDzdkW"
      }
    },
    {
      "cell_type": "code",
      "source": [
        "df_salfacorp = pd.read_csv('SALFACORP.csv', index_col = 'Date')\n",
        "print(df_salfacorp)"
      ],
      "metadata": {
        "colab": {
          "base_uri": "https://localhost:8080/"
        },
        "id": "cwSlFPbUzdBm",
        "outputId": "6e4697a4-989a-40a1-bb78-fc8625713eb1"
      },
      "execution_count": 79,
      "outputs": [
        {
          "output_type": "stream",
          "name": "stdout",
          "text": [
            "                 Open      High       Low     Close   Volume\n",
            "Date                                                        \n",
            "2014-04-21  494.15080  496.1393  494.1508  494.1508    52215\n",
            "2014-04-22  494.15080  492.2617  492.1523  492.1523   400572\n",
            "2014-04-23  492.15230  488.1852  477.2482  480.5691   463264\n",
            "2014-04-24  480.56906  492.1622  477.2482  492.0628   442309\n",
            "2014-04-25  492.06284  497.1336  486.1966  488.1852   159318\n",
            "...               ...       ...       ...       ...      ...\n",
            "2024-04-16  545.97000  551.0000  531.0000  542.3700  1483477\n",
            "2024-04-17  542.37000  555.0000  531.3000  535.0000   893026\n",
            "2024-04-18  535.00000  545.0000  535.0000  539.4500   611575\n",
            "2024-04-19  539.45000  544.0000  533.0100  535.2100   168198\n",
            "2024-04-21    0.00000    0.0000    0.0000  535.2100        0\n",
            "\n",
            "[2487 rows x 5 columns]\n"
          ]
        }
      ]
    },
    {
      "cell_type": "markdown",
      "source": [
        "#Cálculo del indicador estocástico con una ventana de 14 periodos"
      ],
      "metadata": {
        "id": "LeC_ZbB2zoQb"
      }
    },
    {
      "cell_type": "code",
      "source": [
        "df_salfacorp['salfacorp_stoch_k'] = ta.momentum.stoch(\n",
        "    df_salfacorp['High'], df_salfacorp['Low'], df_salfacorp['Close'],\n",
        "    window = 14, smooth_window = 1)\n",
        "df_salfacorp['salfacorp_stoch_k'].iloc[13] #Primer valor del indicador estocástico"
      ],
      "metadata": {
        "colab": {
          "base_uri": "https://localhost:8080/"
        },
        "id": "VVM-Csxoznvg",
        "outputId": "f747c77b-c8be-4eba-a9d7-a9136efb2a38"
      },
      "execution_count": 80,
      "outputs": [
        {
          "output_type": "execute_result",
          "data": {
            "text/plain": [
              "13.933505654064389"
            ]
          },
          "metadata": {},
          "execution_count": 80
        }
      ]
    },
    {
      "cell_type": "markdown",
      "source": [
        "#Columna booleana que indica cuándo el valor del estocástico es menor a 20"
      ],
      "metadata": {
        "id": "mRnbd9zKzz1j"
      }
    },
    {
      "cell_type": "code",
      "source": [
        "df_salfacorp['stochastic_menor_20'] = np.nan\n",
        "i = 13\n",
        "while i <= (df_salfacorp.shape[0]-1):\n",
        "  if df_salfacorp['salfacorp_stoch_k'].iloc[i] < 20:\n",
        "    df_salfacorp['stochastic_menor_20'].iloc[i] = 1\n",
        "  else:\n",
        "    df_salfacorp['stochastic_menor_20'].iloc[i] = 0\n",
        "  i+= 1\n"
      ],
      "metadata": {
        "id": "mKltAI7WzzZW"
      },
      "execution_count": 81,
      "outputs": []
    },
    {
      "cell_type": "markdown",
      "source": [
        "#Data SMU"
      ],
      "metadata": {
        "id": "sjOtJ_8N0FeR"
      }
    },
    {
      "cell_type": "code",
      "source": [
        "df_smu = pd.read_csv('SMU.csv', index_col = 'Date')\n",
        "print(df_smu)"
      ],
      "metadata": {
        "colab": {
          "base_uri": "https://localhost:8080/"
        },
        "id": "-eRU-yQU0G3x",
        "outputId": "d8cac6f5-c4a5-4ca6-8e70-3dbc408e1eef"
      },
      "execution_count": 82,
      "outputs": [
        {
          "output_type": "stream",
          "name": "stdout",
          "text": [
            "              Open    High     Low   Close      Volume\n",
            "Date                                                  \n",
            "2017-01-24  113.00  117.00  113.00  114.56  1343712130\n",
            "2017-01-25  114.56  114.56  113.00  113.50    28279136\n",
            "2017-01-26  113.50  113.51  111.00  113.46    22152198\n",
            "2017-01-27  113.46  113.46  112.50  112.50     3344462\n",
            "2017-01-30  112.50  113.00  112.50  112.70     1305322\n",
            "...            ...     ...     ...     ...         ...\n",
            "2024-04-16  167.00  167.01  164.00  165.20    13018711\n",
            "2024-04-17  165.20  168.40  164.97  165.69     6656129\n",
            "2024-04-18  165.69  165.89  164.60  164.96     7183138\n",
            "2024-04-19  164.96  165.51  164.00  165.40     9128291\n",
            "2024-04-21    0.00    0.00    0.00  165.40           0\n",
            "\n",
            "[1796 rows x 5 columns]\n"
          ]
        }
      ]
    },
    {
      "cell_type": "markdown",
      "source": [
        "#Cálculo del indicador estocástico con una ventana de 14 periodos"
      ],
      "metadata": {
        "id": "JqUi86GH0SNK"
      }
    },
    {
      "cell_type": "code",
      "source": [
        "df_smu['smu_stoch_k'] = ta.momentum.stoch(\n",
        "    df_smu['High'], df_smu['Low'], df_smu['Close'],\n",
        "    window = 14, smooth_window = 1)\n",
        "df_smu['smu_stoch_k'].iloc[13] #Primer valor del indicador estocástico"
      ],
      "metadata": {
        "colab": {
          "base_uri": "https://localhost:8080/"
        },
        "id": "1wkEzd5H0W6X",
        "outputId": "882453bd-a53c-4d03-d7a9-a170afc80da4"
      },
      "execution_count": 83,
      "outputs": [
        {
          "output_type": "execute_result",
          "data": {
            "text/plain": [
              "33.333333333333336"
            ]
          },
          "metadata": {},
          "execution_count": 83
        }
      ]
    },
    {
      "cell_type": "markdown",
      "source": [
        "#Columna booleana que indica cuándo el valor del estocástico es menor a 20"
      ],
      "metadata": {
        "id": "fehX7kNy0iSR"
      }
    },
    {
      "cell_type": "code",
      "source": [
        "df_smu['stochastic_menor_20'] = np.nan\n",
        "i = 13\n",
        "while i <= (df_smu.shape[0]-1):\n",
        "  if df_smu['smu_stoch_k'].iloc[i] < 20:\n",
        "    df_smu['stochastic_menor_20'].iloc[i] = 1\n",
        "  else:\n",
        "    df_smu['stochastic_menor_20'].iloc[i] = 0\n",
        "  i+= 1"
      ],
      "metadata": {
        "id": "QaiRprVt0kTM"
      },
      "execution_count": 84,
      "outputs": []
    },
    {
      "cell_type": "markdown",
      "source": [
        "#Data SQM B"
      ],
      "metadata": {
        "id": "iTSCGTi60ud6"
      }
    },
    {
      "cell_type": "code",
      "source": [
        "df_sqm_b = pd.read_csv('SQM_B.csv', index_col = 'Date')\n",
        "print(df_sqm_b)"
      ],
      "metadata": {
        "colab": {
          "base_uri": "https://localhost:8080/"
        },
        "id": "oXUf4pyj0v82",
        "outputId": "caf3b24e-ea4a-474e-850c-c8df5931bb75"
      },
      "execution_count": 85,
      "outputs": [
        {
          "output_type": "stream",
          "name": "stdout",
          "text": [
            "               Open     High      Low    Close  Volume\n",
            "Date                                                  \n",
            "2014-04-21  17748.0  18199.0  17700.0  18146.0  103376\n",
            "2014-04-22  18000.0  18300.0  17905.0  18053.0   93449\n",
            "2014-04-23  18053.0  18050.0  17808.0  17850.0   64788\n",
            "2014-04-24  17850.0  17800.0  17446.0  17752.0   84498\n",
            "2014-04-25  17752.0  17750.0  17521.0  17600.0  105301\n",
            "...             ...      ...      ...      ...     ...\n",
            "2024-04-15  47201.0  48963.0  45300.0  45900.0  252873\n",
            "2024-04-16  45800.0  45801.0  44992.0  45000.0  309113\n",
            "2024-04-17  45400.0  46000.0  44750.0  45140.0  266016\n",
            "2024-04-18  45299.0  45299.0  44100.0  44290.0  403293\n",
            "2024-04-19  43900.0  43960.0  42925.0  42925.0  418171\n",
            "\n",
            "[2491 rows x 5 columns]\n"
          ]
        }
      ]
    },
    {
      "cell_type": "markdown",
      "source": [
        "#Cálculo del indicador estocástico con una ventana de 14 periodos"
      ],
      "metadata": {
        "id": "4hp3iTLU07DI"
      }
    },
    {
      "cell_type": "code",
      "source": [
        "df_sqm_b['sqm_b_stoch_k'] = ta.momentum.stoch(\n",
        "    df_sqm_b['High'], df_sqm_b['Low'], df_sqm_b['Close'],\n",
        "    window = 14, smooth_window = 1)\n",
        "df_sqm_b['sqm_b_stoch_k'].iloc[13] #Primer valor del indicador estocástico"
      ],
      "metadata": {
        "colab": {
          "base_uri": "https://localhost:8080/"
        },
        "id": "B2OQsxW706ov",
        "outputId": "2454aec2-c9e0-4e9d-e8e8-6ca1e948f1a4"
      },
      "execution_count": 86,
      "outputs": [
        {
          "output_type": "execute_result",
          "data": {
            "text/plain": [
              "2.2822822822822824"
            ]
          },
          "metadata": {},
          "execution_count": 86
        }
      ]
    },
    {
      "cell_type": "markdown",
      "source": [
        "#Columna booleana que indica cuándo el valor del estocástico es menor a 20"
      ],
      "metadata": {
        "id": "GF9M0tAa1HWJ"
      }
    },
    {
      "cell_type": "code",
      "source": [
        "df_sqm_b['stochastic_menor_20'] = np.nan\n",
        "i = 13\n",
        "while i <= (df_sqm_b.shape[0]-1):\n",
        "  if df_sqm_b['sqm_b_stoch_k'].iloc[i] < 20:\n",
        "    df_sqm_b['stochastic_menor_20'].iloc[i] = 1\n",
        "  else:\n",
        "    df_sqm_b['stochastic_menor_20'].iloc[i] = 0\n",
        "  i+= 1\n"
      ],
      "metadata": {
        "id": "ZjG0HLpL1Kmv"
      },
      "execution_count": 87,
      "outputs": []
    },
    {
      "cell_type": "markdown",
      "source": [
        "#Data Vapores"
      ],
      "metadata": {
        "id": "vFPUx3kn1VQO"
      }
    },
    {
      "cell_type": "code",
      "source": [
        "df_vapores = pd.read_csv('VAPORES.csv', index_col = 'Date')\n",
        "print(df_vapores)"
      ],
      "metadata": {
        "colab": {
          "base_uri": "https://localhost:8080/"
        },
        "id": "PFOTXzDF1XXK",
        "outputId": "47c4ee25-9f23-4155-e0dc-294a3cf94b2e"
      },
      "execution_count": 88,
      "outputs": [
        {
          "output_type": "stream",
          "name": "stdout",
          "text": [
            "                 Open     High      Low    Close    Volume\n",
            "Date                                                      \n",
            "2014-04-21  26.959457  27.2294  26.6028  26.7956   3016289\n",
            "2014-04-22  26.795578  26.9884  26.6607  26.7763   5756420\n",
            "2014-04-23  26.776333  26.7474  26.1305  26.4197   2237221\n",
            "2014-04-24  26.419687  26.6028  26.3137  26.3233   2373407\n",
            "2014-04-25  26.323322  26.2173  26.0245  26.0438   6027865\n",
            "...               ...      ...      ...      ...       ...\n",
            "2024-04-15  72.000000  72.6200  71.0800  71.5000  34929980\n",
            "2024-04-16  71.500000  71.5000  69.5000  71.0000  54499728\n",
            "2024-04-17  71.200000  72.5000  69.5600  71.7000  45070368\n",
            "2024-04-18  72.000000  72.0000  70.0000  70.0000  30093378\n",
            "2024-04-19  70.010000  71.0000  69.5000  69.9000  34284120\n",
            "\n",
            "[2491 rows x 5 columns]\n"
          ]
        }
      ]
    },
    {
      "cell_type": "markdown",
      "source": [
        "#Cálculo del indicador estocástico con una ventana de 14 periodos"
      ],
      "metadata": {
        "id": "ZCgHQqSe1eqN"
      }
    },
    {
      "cell_type": "code",
      "source": [
        "df_vapores['vapores_stoch_k'] = ta.momentum.stoch(\n",
        "    df_vapores['High'], df_vapores['Low'], df_vapores['Close'],\n",
        "    window = 14, smooth_window = 1)\n",
        "df_vapores['vapores_stoch_k'].iloc[13] #Primer valor del indicador estocástico"
      ],
      "metadata": {
        "colab": {
          "base_uri": "https://localhost:8080/"
        },
        "id": "CWw3CKq91gjt",
        "outputId": "b45c1cf3-568c-4ffe-9e64-484b1b0b22a2"
      },
      "execution_count": 89,
      "outputs": [
        {
          "output_type": "execute_result",
          "data": {
            "text/plain": [
              "11.429926488024575"
            ]
          },
          "metadata": {},
          "execution_count": 89
        }
      ]
    },
    {
      "cell_type": "markdown",
      "source": [
        "#Columna booleana que indica cuándo el valor del estocástico es menor a 20"
      ],
      "metadata": {
        "id": "xTpt39O61o3i"
      }
    },
    {
      "cell_type": "code",
      "source": [
        "df_vapores['stochastic_menor_20'] = np.nan\n",
        "i = 13\n",
        "while i <= (df_vapores.shape[0]-1):\n",
        "  if df_vapores['vapores_stoch_k'].iloc[i] < 20:\n",
        "    df_vapores['stochastic_menor_20'].iloc[i] = 1\n",
        "  else:\n",
        "    df_vapores['stochastic_menor_20'].iloc[i] = 0\n",
        "  i+= 1\n"
      ],
      "metadata": {
        "id": "96nCH_tb1rrt"
      },
      "execution_count": 90,
      "outputs": []
    },
    {
      "cell_type": "markdown",
      "source": [
        "#Transformación para stochastic"
      ],
      "metadata": {
        "id": "vvEtK_Yk10hQ"
      }
    },
    {
      "cell_type": "code",
      "source": [
        "df_aguas_a_stochastic = df_aguas_a['stochastic_menor_20'] #1\n",
        "df_andina_b_stochastic = df_andina['stochastic_menor_20'] #2\n",
        "df_bci_stochastic = df_bci['stochastic_menor_20'] #3\n",
        "df_bsantander_stochastic = df_bsantander['stochastic_menor_20'] #4\n",
        "df_cap_stochastic = df_cap['stochastic_menor_20'] #5\n",
        "df_ccu_stochastic = df_ccu['stochastic_menor_20'] #6\n",
        "df_cencoshopp_stochastic = df_cencoshopp['stochastic_menor_20'] #7\n",
        "df_cencosud_stochastic = df_cencosud['stochastic_menor_20'] #8\n",
        "df_bchile_stochastic = df_bchile['stochastic_menor_20'] #9\n",
        "df_cmpc_stochastic = df_cmpc['stochastic_menor_20'] #10\n",
        "df_colbun_stochastic = df_colbun['stochastic_menor_20'] #11\n",
        "df_concha_y_toro_stochastic = df_concha_y_toro['stochastic_menor_20'] #12\n",
        "df_copec_stochastic = df_copec['stochastic_menor_20'] #13\n",
        "df_ecl_stochastic = df_ecl['stochastic_menor_20'] #14\n",
        "df_enelam_stochastic = df_enelam['stochastic_menor_20'] #15\n",
        "df_enel_chile_stochastic = df_enel_chile['stochastic_menor_20'] #16\n",
        "df_entel_stochasctic = df_entel['stochastic_menor_20'] #17\n",
        "df_falabella_stochasctic = df_falabella['stochastic_menor_20'] #18\n",
        "df_iam_stochasctic = df_iam['stochastic_menor_20'] #19\n",
        "df_itau_stochasctic = df_itau['stochastic_menor_20'] #20\n",
        "df_ltm_stochastic = df_ltm['stochastic_menor_20'] #21\n",
        "df_mallplaza_stochastic = df_mallplaza['stochastic_menor_20'] #22\n",
        "df_oro_blanco_stochastic = df_oro_blanco['stochastic_menor_20'] #23\n",
        "df_parauco_stochastic = df_parauco['stochastic_menor_20'] #24\n",
        "df_quinenco_stochastic = df_quinenco['stochastic_menor_20'] #25\n",
        "df_ripley_stochastic = df_ripley['stochastic_menor_20'] #26\n",
        "df_salfacorp_stochatic = df_salfacorp['stochastic_menor_20'] #27\n",
        "df_smu_stochastic = df_smu['stochastic_menor_20'] #28\n",
        "df_sqm_b_stochastic = df_sqm_b['stochastic_menor_20'] #29\n",
        "df_vapores_stochastic = df_vapores['stochastic_menor_20'] #30\n"
      ],
      "metadata": {
        "id": "18DUNbPJ19GJ"
      },
      "execution_count": 96,
      "outputs": []
    },
    {
      "cell_type": "markdown",
      "source": [
        "#Concatenación"
      ],
      "metadata": {
        "id": "mdlMqy1d5Kbt"
      }
    },
    {
      "cell_type": "code",
      "source": [],
      "metadata": {
        "id": "lJl9_BTy5LwT"
      },
      "execution_count": null,
      "outputs": []
    }
  ]
}