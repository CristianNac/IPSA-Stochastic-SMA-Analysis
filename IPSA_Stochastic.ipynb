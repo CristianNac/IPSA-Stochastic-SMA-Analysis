{
  "nbformat": 4,
  "nbformat_minor": 0,
  "metadata": {
    "colab": {
      "provenance": []
    },
    "kernelspec": {
      "name": "python3",
      "display_name": "Python 3"
    },
    "language_info": {
      "name": "python"
    }
  },
  "cells": [
    {
      "cell_type": "code",
      "execution_count": 1,
      "metadata": {
        "colab": {
          "base_uri": "https://localhost:8080/"
        },
        "id": "ElS5EDcxXl5g",
        "outputId": "f467466a-0c37-4df1-bac5-bdc6e1531189"
      },
      "outputs": [
        {
          "output_type": "stream",
          "name": "stdout",
          "text": [
            "Collecting ta\n",
            "  Downloading ta-0.11.0.tar.gz (25 kB)\n",
            "  Preparing metadata (setup.py) ... \u001b[?25l\u001b[?25hdone\n",
            "Requirement already satisfied: numpy in /usr/local/lib/python3.10/dist-packages (from ta) (1.25.2)\n",
            "Requirement already satisfied: pandas in /usr/local/lib/python3.10/dist-packages (from ta) (2.0.3)\n",
            "Requirement already satisfied: python-dateutil>=2.8.2 in /usr/local/lib/python3.10/dist-packages (from pandas->ta) (2.8.2)\n",
            "Requirement already satisfied: pytz>=2020.1 in /usr/local/lib/python3.10/dist-packages (from pandas->ta) (2023.4)\n",
            "Requirement already satisfied: tzdata>=2022.1 in /usr/local/lib/python3.10/dist-packages (from pandas->ta) (2024.1)\n",
            "Requirement already satisfied: six>=1.5 in /usr/local/lib/python3.10/dist-packages (from python-dateutil>=2.8.2->pandas->ta) (1.16.0)\n",
            "Building wheels for collected packages: ta\n",
            "  Building wheel for ta (setup.py) ... \u001b[?25l\u001b[?25hdone\n",
            "  Created wheel for ta: filename=ta-0.11.0-py3-none-any.whl size=29411 sha256=56764509d921064dd1d428fc0740bd2f5b6a4f07e3a0d780bebc33a3d993412c\n",
            "  Stored in directory: /root/.cache/pip/wheels/5f/67/4f/8a9f252836e053e532c6587a3230bc72a4deb16b03a829610b\n",
            "Successfully built ta\n",
            "Installing collected packages: ta\n",
            "Successfully installed ta-0.11.0\n"
          ]
        }
      ],
      "source": [
        "!pip install ta"
      ]
    },
    {
      "cell_type": "code",
      "source": [
        "import pandas as pd\n",
        "import ta\n",
        "import numpy as np\n",
        "!pip install mplfinance\n",
        "import matplotlib.pyplot as plt\n",
        "import mplfinance as mpf\n",
        "import warnings\n",
        "warnings.filterwarnings(\"ignore\")\n"
      ],
      "metadata": {
        "colab": {
          "base_uri": "https://localhost:8080/"
        },
        "id": "chOfi7TUYgzF",
        "outputId": "3795c9d7-4908-4fe8-b1f5-ce0ad80460dd"
      },
      "execution_count": 7,
      "outputs": [
        {
          "output_type": "stream",
          "name": "stdout",
          "text": [
            "Requirement already satisfied: mplfinance in /usr/local/lib/python3.10/dist-packages (0.12.10b0)\n",
            "Requirement already satisfied: matplotlib in /usr/local/lib/python3.10/dist-packages (from mplfinance) (3.7.1)\n",
            "Requirement already satisfied: pandas in /usr/local/lib/python3.10/dist-packages (from mplfinance) (2.0.3)\n",
            "Requirement already satisfied: contourpy>=1.0.1 in /usr/local/lib/python3.10/dist-packages (from matplotlib->mplfinance) (1.2.1)\n",
            "Requirement already satisfied: cycler>=0.10 in /usr/local/lib/python3.10/dist-packages (from matplotlib->mplfinance) (0.12.1)\n",
            "Requirement already satisfied: fonttools>=4.22.0 in /usr/local/lib/python3.10/dist-packages (from matplotlib->mplfinance) (4.51.0)\n",
            "Requirement already satisfied: kiwisolver>=1.0.1 in /usr/local/lib/python3.10/dist-packages (from matplotlib->mplfinance) (1.4.5)\n",
            "Requirement already satisfied: numpy>=1.20 in /usr/local/lib/python3.10/dist-packages (from matplotlib->mplfinance) (1.25.2)\n",
            "Requirement already satisfied: packaging>=20.0 in /usr/local/lib/python3.10/dist-packages (from matplotlib->mplfinance) (24.0)\n",
            "Requirement already satisfied: pillow>=6.2.0 in /usr/local/lib/python3.10/dist-packages (from matplotlib->mplfinance) (9.4.0)\n",
            "Requirement already satisfied: pyparsing>=2.3.1 in /usr/local/lib/python3.10/dist-packages (from matplotlib->mplfinance) (3.1.2)\n",
            "Requirement already satisfied: python-dateutil>=2.7 in /usr/local/lib/python3.10/dist-packages (from matplotlib->mplfinance) (2.8.2)\n",
            "Requirement already satisfied: pytz>=2020.1 in /usr/local/lib/python3.10/dist-packages (from pandas->mplfinance) (2023.4)\n",
            "Requirement already satisfied: tzdata>=2022.1 in /usr/local/lib/python3.10/dist-packages (from pandas->mplfinance) (2024.1)\n",
            "Requirement already satisfied: six>=1.5 in /usr/local/lib/python3.10/dist-packages (from python-dateutil>=2.7->matplotlib->mplfinance) (1.16.0)\n"
          ]
        }
      ]
    },
    {
      "cell_type": "markdown",
      "source": [
        "#Data Aguas Andina"
      ],
      "metadata": {
        "id": "YajCbcWgWUnz"
      }
    },
    {
      "cell_type": "code",
      "source": [
        "df_aguas_a = pd.read_csv('AGUAS_A.csv', index_col = 'Date')\n",
        "print(df_aguas_a)"
      ],
      "metadata": {
        "colab": {
          "base_uri": "https://localhost:8080/"
        },
        "id": "EGL9k9Y-WW32",
        "outputId": "a99a390b-4317-48dd-a23b-4ec03231131d"
      },
      "execution_count": 3,
      "outputs": [
        {
          "output_type": "stream",
          "name": "stdout",
          "text": [
            "              Open    High     Low   Close   Volume\n",
            "Date                                               \n",
            "2014-04-21  342.35  343.50  342.00  343.20  1332972\n",
            "2014-04-22  342.00  343.00  340.00  340.86  1284030\n",
            "2014-04-23  340.86  343.01  341.51  342.00  1048269\n",
            "2014-04-24  342.00  342.00  340.50  340.70  1282877\n",
            "2014-04-25  340.70  341.00  339.50  339.65   704015\n",
            "...            ...     ...     ...     ...      ...\n",
            "2024-04-15  280.00  280.78  275.01  278.00  3463336\n",
            "2024-04-16  278.00  278.73  272.00  276.99  6160229\n",
            "2024-04-17  276.99  276.00  273.00  273.54  2018624\n",
            "2024-04-18  273.50  275.00  270.50  273.53  2194508\n",
            "2024-04-19  273.53  273.87  265.02  265.02  4176063\n",
            "\n",
            "[2491 rows x 5 columns]\n"
          ]
        }
      ]
    },
    {
      "cell_type": "markdown",
      "source": [
        "#Cálculo del indicador estocástico con una ventana de 14 periodos"
      ],
      "metadata": {
        "id": "MRCcBPnNWa2n"
      }
    },
    {
      "cell_type": "code",
      "source": [
        "df_aguas_a['aguas_a_stoch_k'] = ta.momentum.stoch(\n",
        "    df_aguas_a['High'], df_aguas_a['Low'], df_aguas_a['Close'],\n",
        "    window = 14, smooth_window = 1)\n",
        "df_aguas_a['aguas_a_stoch_k'].iloc[13] #Primer valor del indicador estocástico"
      ],
      "metadata": {
        "colab": {
          "base_uri": "https://localhost:8080/"
        },
        "id": "nc_txJlsWzpO",
        "outputId": "b4fb8780-c9cd-42dc-f901-41a235d9f330"
      },
      "execution_count": 4,
      "outputs": [
        {
          "output_type": "execute_result",
          "data": {
            "text/plain": [
              "93.65781710914472"
            ]
          },
          "metadata": {},
          "execution_count": 4
        }
      ]
    },
    {
      "cell_type": "markdown",
      "source": [
        "#Columna booleana que indica cuándo el valor del estocástico es menor a 20"
      ],
      "metadata": {
        "id": "exApsoDjW5T8"
      }
    },
    {
      "cell_type": "code",
      "source": [
        "df_aguas_a['stochastic_menor_20'] = np.nan\n",
        "i = 13\n",
        "while i <= (df_aguas_a.shape[0]-1):\n",
        "  if df_aguas_a['aguas_a_stoch_k'].iloc[i] < 20:\n",
        "    df_aguas_a['stochastic_menor_20'].iloc[i] = 1\n",
        "  else:\n",
        "    df_aguas_a['stochastic_menor_20'].iloc[i] = 0\n",
        "  i+= 1\n"
      ],
      "metadata": {
        "id": "H9kld43tXtr4"
      },
      "execution_count": 8,
      "outputs": []
    },
    {
      "cell_type": "code",
      "source": [
        "df_aguas_a.tail(20)"
      ],
      "metadata": {
        "colab": {
          "base_uri": "https://localhost:8080/",
          "height": 708
        },
        "id": "80TOhCRwZZoJ",
        "outputId": "488f1f9a-ebe5-49ce-b07d-a3e5470d77f3"
      },
      "execution_count": 6,
      "outputs": [
        {
          "output_type": "execute_result",
          "data": {
            "text/plain": [
              "              Open    High     Low   Close    Volume  aguas_a_stoch_k  \\\n",
              "Date                                                                    \n",
              "2024-03-22  283.10  286.00  277.51  279.65   1808020        56.731335   \n",
              "2024-03-25  277.11  278.05  274.23  275.85   8196892        34.391534   \n",
              "2024-03-26  275.85  279.49  276.00  278.99   2919214        52.851264   \n",
              "2024-03-27  278.99  284.00  279.01  284.00   1964409        82.304527   \n",
              "2024-03-28  284.00  286.00  279.53  286.00   2389571        93.691443   \n",
              "2024-04-01  285.00  285.00  281.49  283.50   1923727        78.076202   \n",
              "2024-04-02  283.50  286.60  281.00  283.50   2231826        78.076202   \n",
              "2024-04-03  283.50  284.00  282.53  283.98   1043630        81.074329   \n",
              "2024-04-04  283.98  283.90  276.56  279.30   3097743        44.130435   \n",
              "2024-04-05  279.30  281.00  276.00  278.50   3354665        38.333333   \n",
              "2024-04-08  278.50  279.00  275.10  275.10   6185009        13.695652   \n",
              "2024-04-09  275.10  278.71  276.01  277.00  15350992        21.674491   \n",
              "2024-04-10  277.00  280.50  277.99  280.50   4799702        50.687146   \n",
              "2024-04-11  280.50  282.50  279.00  282.00   6383196        62.813258   \n",
              "2024-04-12  282.00  283.48  278.50  281.99   1624153        62.732417   \n",
              "2024-04-15  280.00  280.78  275.01  278.00   3463336        25.798102   \n",
              "2024-04-16  278.00  278.73  272.00  276.99   6160229        34.178082   \n",
              "2024-04-17  276.99  276.00  273.00  273.54   2018624        10.547945   \n",
              "2024-04-18  273.50  275.00  270.50  273.53   2194508        18.819876   \n",
              "2024-04-19  273.53  273.87  265.02  265.02   4176063         0.000000   \n",
              "\n",
              "            stochastic_menor_20  \n",
              "Date                             \n",
              "2024-03-22                  0.0  \n",
              "2024-03-25                  0.0  \n",
              "2024-03-26                  0.0  \n",
              "2024-03-27                  0.0  \n",
              "2024-03-28                  0.0  \n",
              "2024-04-01                  0.0  \n",
              "2024-04-02                  0.0  \n",
              "2024-04-03                  0.0  \n",
              "2024-04-04                  0.0  \n",
              "2024-04-05                  0.0  \n",
              "2024-04-08                  1.0  \n",
              "2024-04-09                  0.0  \n",
              "2024-04-10                  0.0  \n",
              "2024-04-11                  0.0  \n",
              "2024-04-12                  0.0  \n",
              "2024-04-15                  0.0  \n",
              "2024-04-16                  0.0  \n",
              "2024-04-17                  1.0  \n",
              "2024-04-18                  1.0  \n",
              "2024-04-19                  1.0  "
            ],
            "text/html": [
              "\n",
              "  <div id=\"df-9d60fb55-46e3-4459-baae-db8b7f68ee3f\" class=\"colab-df-container\">\n",
              "    <div>\n",
              "<style scoped>\n",
              "    .dataframe tbody tr th:only-of-type {\n",
              "        vertical-align: middle;\n",
              "    }\n",
              "\n",
              "    .dataframe tbody tr th {\n",
              "        vertical-align: top;\n",
              "    }\n",
              "\n",
              "    .dataframe thead th {\n",
              "        text-align: right;\n",
              "    }\n",
              "</style>\n",
              "<table border=\"1\" class=\"dataframe\">\n",
              "  <thead>\n",
              "    <tr style=\"text-align: right;\">\n",
              "      <th></th>\n",
              "      <th>Open</th>\n",
              "      <th>High</th>\n",
              "      <th>Low</th>\n",
              "      <th>Close</th>\n",
              "      <th>Volume</th>\n",
              "      <th>aguas_a_stoch_k</th>\n",
              "      <th>stochastic_menor_20</th>\n",
              "    </tr>\n",
              "    <tr>\n",
              "      <th>Date</th>\n",
              "      <th></th>\n",
              "      <th></th>\n",
              "      <th></th>\n",
              "      <th></th>\n",
              "      <th></th>\n",
              "      <th></th>\n",
              "      <th></th>\n",
              "    </tr>\n",
              "  </thead>\n",
              "  <tbody>\n",
              "    <tr>\n",
              "      <th>2024-03-22</th>\n",
              "      <td>283.10</td>\n",
              "      <td>286.00</td>\n",
              "      <td>277.51</td>\n",
              "      <td>279.65</td>\n",
              "      <td>1808020</td>\n",
              "      <td>56.731335</td>\n",
              "      <td>0.0</td>\n",
              "    </tr>\n",
              "    <tr>\n",
              "      <th>2024-03-25</th>\n",
              "      <td>277.11</td>\n",
              "      <td>278.05</td>\n",
              "      <td>274.23</td>\n",
              "      <td>275.85</td>\n",
              "      <td>8196892</td>\n",
              "      <td>34.391534</td>\n",
              "      <td>0.0</td>\n",
              "    </tr>\n",
              "    <tr>\n",
              "      <th>2024-03-26</th>\n",
              "      <td>275.85</td>\n",
              "      <td>279.49</td>\n",
              "      <td>276.00</td>\n",
              "      <td>278.99</td>\n",
              "      <td>2919214</td>\n",
              "      <td>52.851264</td>\n",
              "      <td>0.0</td>\n",
              "    </tr>\n",
              "    <tr>\n",
              "      <th>2024-03-27</th>\n",
              "      <td>278.99</td>\n",
              "      <td>284.00</td>\n",
              "      <td>279.01</td>\n",
              "      <td>284.00</td>\n",
              "      <td>1964409</td>\n",
              "      <td>82.304527</td>\n",
              "      <td>0.0</td>\n",
              "    </tr>\n",
              "    <tr>\n",
              "      <th>2024-03-28</th>\n",
              "      <td>284.00</td>\n",
              "      <td>286.00</td>\n",
              "      <td>279.53</td>\n",
              "      <td>286.00</td>\n",
              "      <td>2389571</td>\n",
              "      <td>93.691443</td>\n",
              "      <td>0.0</td>\n",
              "    </tr>\n",
              "    <tr>\n",
              "      <th>2024-04-01</th>\n",
              "      <td>285.00</td>\n",
              "      <td>285.00</td>\n",
              "      <td>281.49</td>\n",
              "      <td>283.50</td>\n",
              "      <td>1923727</td>\n",
              "      <td>78.076202</td>\n",
              "      <td>0.0</td>\n",
              "    </tr>\n",
              "    <tr>\n",
              "      <th>2024-04-02</th>\n",
              "      <td>283.50</td>\n",
              "      <td>286.60</td>\n",
              "      <td>281.00</td>\n",
              "      <td>283.50</td>\n",
              "      <td>2231826</td>\n",
              "      <td>78.076202</td>\n",
              "      <td>0.0</td>\n",
              "    </tr>\n",
              "    <tr>\n",
              "      <th>2024-04-03</th>\n",
              "      <td>283.50</td>\n",
              "      <td>284.00</td>\n",
              "      <td>282.53</td>\n",
              "      <td>283.98</td>\n",
              "      <td>1043630</td>\n",
              "      <td>81.074329</td>\n",
              "      <td>0.0</td>\n",
              "    </tr>\n",
              "    <tr>\n",
              "      <th>2024-04-04</th>\n",
              "      <td>283.98</td>\n",
              "      <td>283.90</td>\n",
              "      <td>276.56</td>\n",
              "      <td>279.30</td>\n",
              "      <td>3097743</td>\n",
              "      <td>44.130435</td>\n",
              "      <td>0.0</td>\n",
              "    </tr>\n",
              "    <tr>\n",
              "      <th>2024-04-05</th>\n",
              "      <td>279.30</td>\n",
              "      <td>281.00</td>\n",
              "      <td>276.00</td>\n",
              "      <td>278.50</td>\n",
              "      <td>3354665</td>\n",
              "      <td>38.333333</td>\n",
              "      <td>0.0</td>\n",
              "    </tr>\n",
              "    <tr>\n",
              "      <th>2024-04-08</th>\n",
              "      <td>278.50</td>\n",
              "      <td>279.00</td>\n",
              "      <td>275.10</td>\n",
              "      <td>275.10</td>\n",
              "      <td>6185009</td>\n",
              "      <td>13.695652</td>\n",
              "      <td>1.0</td>\n",
              "    </tr>\n",
              "    <tr>\n",
              "      <th>2024-04-09</th>\n",
              "      <td>275.10</td>\n",
              "      <td>278.71</td>\n",
              "      <td>276.01</td>\n",
              "      <td>277.00</td>\n",
              "      <td>15350992</td>\n",
              "      <td>21.674491</td>\n",
              "      <td>0.0</td>\n",
              "    </tr>\n",
              "    <tr>\n",
              "      <th>2024-04-10</th>\n",
              "      <td>277.00</td>\n",
              "      <td>280.50</td>\n",
              "      <td>277.99</td>\n",
              "      <td>280.50</td>\n",
              "      <td>4799702</td>\n",
              "      <td>50.687146</td>\n",
              "      <td>0.0</td>\n",
              "    </tr>\n",
              "    <tr>\n",
              "      <th>2024-04-11</th>\n",
              "      <td>280.50</td>\n",
              "      <td>282.50</td>\n",
              "      <td>279.00</td>\n",
              "      <td>282.00</td>\n",
              "      <td>6383196</td>\n",
              "      <td>62.813258</td>\n",
              "      <td>0.0</td>\n",
              "    </tr>\n",
              "    <tr>\n",
              "      <th>2024-04-12</th>\n",
              "      <td>282.00</td>\n",
              "      <td>283.48</td>\n",
              "      <td>278.50</td>\n",
              "      <td>281.99</td>\n",
              "      <td>1624153</td>\n",
              "      <td>62.732417</td>\n",
              "      <td>0.0</td>\n",
              "    </tr>\n",
              "    <tr>\n",
              "      <th>2024-04-15</th>\n",
              "      <td>280.00</td>\n",
              "      <td>280.78</td>\n",
              "      <td>275.01</td>\n",
              "      <td>278.00</td>\n",
              "      <td>3463336</td>\n",
              "      <td>25.798102</td>\n",
              "      <td>0.0</td>\n",
              "    </tr>\n",
              "    <tr>\n",
              "      <th>2024-04-16</th>\n",
              "      <td>278.00</td>\n",
              "      <td>278.73</td>\n",
              "      <td>272.00</td>\n",
              "      <td>276.99</td>\n",
              "      <td>6160229</td>\n",
              "      <td>34.178082</td>\n",
              "      <td>0.0</td>\n",
              "    </tr>\n",
              "    <tr>\n",
              "      <th>2024-04-17</th>\n",
              "      <td>276.99</td>\n",
              "      <td>276.00</td>\n",
              "      <td>273.00</td>\n",
              "      <td>273.54</td>\n",
              "      <td>2018624</td>\n",
              "      <td>10.547945</td>\n",
              "      <td>1.0</td>\n",
              "    </tr>\n",
              "    <tr>\n",
              "      <th>2024-04-18</th>\n",
              "      <td>273.50</td>\n",
              "      <td>275.00</td>\n",
              "      <td>270.50</td>\n",
              "      <td>273.53</td>\n",
              "      <td>2194508</td>\n",
              "      <td>18.819876</td>\n",
              "      <td>1.0</td>\n",
              "    </tr>\n",
              "    <tr>\n",
              "      <th>2024-04-19</th>\n",
              "      <td>273.53</td>\n",
              "      <td>273.87</td>\n",
              "      <td>265.02</td>\n",
              "      <td>265.02</td>\n",
              "      <td>4176063</td>\n",
              "      <td>0.000000</td>\n",
              "      <td>1.0</td>\n",
              "    </tr>\n",
              "  </tbody>\n",
              "</table>\n",
              "</div>\n",
              "    <div class=\"colab-df-buttons\">\n",
              "\n",
              "  <div class=\"colab-df-container\">\n",
              "    <button class=\"colab-df-convert\" onclick=\"convertToInteractive('df-9d60fb55-46e3-4459-baae-db8b7f68ee3f')\"\n",
              "            title=\"Convert this dataframe to an interactive table.\"\n",
              "            style=\"display:none;\">\n",
              "\n",
              "  <svg xmlns=\"http://www.w3.org/2000/svg\" height=\"24px\" viewBox=\"0 -960 960 960\">\n",
              "    <path d=\"M120-120v-720h720v720H120Zm60-500h600v-160H180v160Zm220 220h160v-160H400v160Zm0 220h160v-160H400v160ZM180-400h160v-160H180v160Zm440 0h160v-160H620v160ZM180-180h160v-160H180v160Zm440 0h160v-160H620v160Z\"/>\n",
              "  </svg>\n",
              "    </button>\n",
              "\n",
              "  <style>\n",
              "    .colab-df-container {\n",
              "      display:flex;\n",
              "      gap: 12px;\n",
              "    }\n",
              "\n",
              "    .colab-df-convert {\n",
              "      background-color: #E8F0FE;\n",
              "      border: none;\n",
              "      border-radius: 50%;\n",
              "      cursor: pointer;\n",
              "      display: none;\n",
              "      fill: #1967D2;\n",
              "      height: 32px;\n",
              "      padding: 0 0 0 0;\n",
              "      width: 32px;\n",
              "    }\n",
              "\n",
              "    .colab-df-convert:hover {\n",
              "      background-color: #E2EBFA;\n",
              "      box-shadow: 0px 1px 2px rgba(60, 64, 67, 0.3), 0px 1px 3px 1px rgba(60, 64, 67, 0.15);\n",
              "      fill: #174EA6;\n",
              "    }\n",
              "\n",
              "    .colab-df-buttons div {\n",
              "      margin-bottom: 4px;\n",
              "    }\n",
              "\n",
              "    [theme=dark] .colab-df-convert {\n",
              "      background-color: #3B4455;\n",
              "      fill: #D2E3FC;\n",
              "    }\n",
              "\n",
              "    [theme=dark] .colab-df-convert:hover {\n",
              "      background-color: #434B5C;\n",
              "      box-shadow: 0px 1px 3px 1px rgba(0, 0, 0, 0.15);\n",
              "      filter: drop-shadow(0px 1px 2px rgba(0, 0, 0, 0.3));\n",
              "      fill: #FFFFFF;\n",
              "    }\n",
              "  </style>\n",
              "\n",
              "    <script>\n",
              "      const buttonEl =\n",
              "        document.querySelector('#df-9d60fb55-46e3-4459-baae-db8b7f68ee3f button.colab-df-convert');\n",
              "      buttonEl.style.display =\n",
              "        google.colab.kernel.accessAllowed ? 'block' : 'none';\n",
              "\n",
              "      async function convertToInteractive(key) {\n",
              "        const element = document.querySelector('#df-9d60fb55-46e3-4459-baae-db8b7f68ee3f');\n",
              "        const dataTable =\n",
              "          await google.colab.kernel.invokeFunction('convertToInteractive',\n",
              "                                                    [key], {});\n",
              "        if (!dataTable) return;\n",
              "\n",
              "        const docLinkHtml = 'Like what you see? Visit the ' +\n",
              "          '<a target=\"_blank\" href=https://colab.research.google.com/notebooks/data_table.ipynb>data table notebook</a>'\n",
              "          + ' to learn more about interactive tables.';\n",
              "        element.innerHTML = '';\n",
              "        dataTable['output_type'] = 'display_data';\n",
              "        await google.colab.output.renderOutput(dataTable, element);\n",
              "        const docLink = document.createElement('div');\n",
              "        docLink.innerHTML = docLinkHtml;\n",
              "        element.appendChild(docLink);\n",
              "      }\n",
              "    </script>\n",
              "  </div>\n",
              "\n",
              "\n",
              "<div id=\"df-d13550f5-6348-4e4d-a83f-20b27b9bcf1a\">\n",
              "  <button class=\"colab-df-quickchart\" onclick=\"quickchart('df-d13550f5-6348-4e4d-a83f-20b27b9bcf1a')\"\n",
              "            title=\"Suggest charts\"\n",
              "            style=\"display:none;\">\n",
              "\n",
              "<svg xmlns=\"http://www.w3.org/2000/svg\" height=\"24px\"viewBox=\"0 0 24 24\"\n",
              "     width=\"24px\">\n",
              "    <g>\n",
              "        <path d=\"M19 3H5c-1.1 0-2 .9-2 2v14c0 1.1.9 2 2 2h14c1.1 0 2-.9 2-2V5c0-1.1-.9-2-2-2zM9 17H7v-7h2v7zm4 0h-2V7h2v10zm4 0h-2v-4h2v4z\"/>\n",
              "    </g>\n",
              "</svg>\n",
              "  </button>\n",
              "\n",
              "<style>\n",
              "  .colab-df-quickchart {\n",
              "      --bg-color: #E8F0FE;\n",
              "      --fill-color: #1967D2;\n",
              "      --hover-bg-color: #E2EBFA;\n",
              "      --hover-fill-color: #174EA6;\n",
              "      --disabled-fill-color: #AAA;\n",
              "      --disabled-bg-color: #DDD;\n",
              "  }\n",
              "\n",
              "  [theme=dark] .colab-df-quickchart {\n",
              "      --bg-color: #3B4455;\n",
              "      --fill-color: #D2E3FC;\n",
              "      --hover-bg-color: #434B5C;\n",
              "      --hover-fill-color: #FFFFFF;\n",
              "      --disabled-bg-color: #3B4455;\n",
              "      --disabled-fill-color: #666;\n",
              "  }\n",
              "\n",
              "  .colab-df-quickchart {\n",
              "    background-color: var(--bg-color);\n",
              "    border: none;\n",
              "    border-radius: 50%;\n",
              "    cursor: pointer;\n",
              "    display: none;\n",
              "    fill: var(--fill-color);\n",
              "    height: 32px;\n",
              "    padding: 0;\n",
              "    width: 32px;\n",
              "  }\n",
              "\n",
              "  .colab-df-quickchart:hover {\n",
              "    background-color: var(--hover-bg-color);\n",
              "    box-shadow: 0 1px 2px rgba(60, 64, 67, 0.3), 0 1px 3px 1px rgba(60, 64, 67, 0.15);\n",
              "    fill: var(--button-hover-fill-color);\n",
              "  }\n",
              "\n",
              "  .colab-df-quickchart-complete:disabled,\n",
              "  .colab-df-quickchart-complete:disabled:hover {\n",
              "    background-color: var(--disabled-bg-color);\n",
              "    fill: var(--disabled-fill-color);\n",
              "    box-shadow: none;\n",
              "  }\n",
              "\n",
              "  .colab-df-spinner {\n",
              "    border: 2px solid var(--fill-color);\n",
              "    border-color: transparent;\n",
              "    border-bottom-color: var(--fill-color);\n",
              "    animation:\n",
              "      spin 1s steps(1) infinite;\n",
              "  }\n",
              "\n",
              "  @keyframes spin {\n",
              "    0% {\n",
              "      border-color: transparent;\n",
              "      border-bottom-color: var(--fill-color);\n",
              "      border-left-color: var(--fill-color);\n",
              "    }\n",
              "    20% {\n",
              "      border-color: transparent;\n",
              "      border-left-color: var(--fill-color);\n",
              "      border-top-color: var(--fill-color);\n",
              "    }\n",
              "    30% {\n",
              "      border-color: transparent;\n",
              "      border-left-color: var(--fill-color);\n",
              "      border-top-color: var(--fill-color);\n",
              "      border-right-color: var(--fill-color);\n",
              "    }\n",
              "    40% {\n",
              "      border-color: transparent;\n",
              "      border-right-color: var(--fill-color);\n",
              "      border-top-color: var(--fill-color);\n",
              "    }\n",
              "    60% {\n",
              "      border-color: transparent;\n",
              "      border-right-color: var(--fill-color);\n",
              "    }\n",
              "    80% {\n",
              "      border-color: transparent;\n",
              "      border-right-color: var(--fill-color);\n",
              "      border-bottom-color: var(--fill-color);\n",
              "    }\n",
              "    90% {\n",
              "      border-color: transparent;\n",
              "      border-bottom-color: var(--fill-color);\n",
              "    }\n",
              "  }\n",
              "</style>\n",
              "\n",
              "  <script>\n",
              "    async function quickchart(key) {\n",
              "      const quickchartButtonEl =\n",
              "        document.querySelector('#' + key + ' button');\n",
              "      quickchartButtonEl.disabled = true;  // To prevent multiple clicks.\n",
              "      quickchartButtonEl.classList.add('colab-df-spinner');\n",
              "      try {\n",
              "        const charts = await google.colab.kernel.invokeFunction(\n",
              "            'suggestCharts', [key], {});\n",
              "      } catch (error) {\n",
              "        console.error('Error during call to suggestCharts:', error);\n",
              "      }\n",
              "      quickchartButtonEl.classList.remove('colab-df-spinner');\n",
              "      quickchartButtonEl.classList.add('colab-df-quickchart-complete');\n",
              "    }\n",
              "    (() => {\n",
              "      let quickchartButtonEl =\n",
              "        document.querySelector('#df-d13550f5-6348-4e4d-a83f-20b27b9bcf1a button');\n",
              "      quickchartButtonEl.style.display =\n",
              "        google.colab.kernel.accessAllowed ? 'block' : 'none';\n",
              "    })();\n",
              "  </script>\n",
              "</div>\n",
              "\n",
              "    </div>\n",
              "  </div>\n"
            ],
            "application/vnd.google.colaboratory.intrinsic+json": {
              "type": "dataframe",
              "summary": "{\n  \"name\": \"df_aguas_a\",\n  \"rows\": 20,\n  \"fields\": [\n    {\n      \"column\": \"Date\",\n      \"properties\": {\n        \"dtype\": \"object\",\n        \"num_unique_values\": 20,\n        \"samples\": [\n          \"2024-03-22\",\n          \"2024-04-17\",\n          \"2024-04-15\"\n        ],\n        \"semantic_type\": \"\",\n        \"description\": \"\"\n      }\n    },\n    {\n      \"column\": \"Open\",\n      \"properties\": {\n        \"dtype\": \"number\",\n        \"std\": 3.621216537370601,\n        \"min\": 273.5,\n        \"max\": 285.0,\n        \"num_unique_values\": 19,\n        \"samples\": [\n          283.1,\n          285.0,\n          277.0\n        ],\n        \"semantic_type\": \"\",\n        \"description\": \"\"\n      }\n    },\n    {\n      \"column\": \"High\",\n      \"properties\": {\n        \"dtype\": \"number\",\n        \"std\": 3.7651077778660436,\n        \"min\": 273.87,\n        \"max\": 286.6,\n        \"num_unique_values\": 18,\n        \"samples\": [\n          286.0,\n          278.05,\n          279.0\n        ],\n        \"semantic_type\": \"\",\n        \"description\": \"\"\n      }\n    },\n    {\n      \"column\": \"Low\",\n      \"properties\": {\n        \"dtype\": \"number\",\n        \"std\": 4.1042038461224495,\n        \"min\": 265.02,\n        \"max\": 282.53,\n        \"num_unique_values\": 19,\n        \"samples\": [\n          277.51,\n          281.49,\n          277.99\n        ],\n        \"semantic_type\": \"\",\n        \"description\": \"\"\n      }\n    },\n    {\n      \"column\": \"Close\",\n      \"properties\": {\n        \"dtype\": \"number\",\n        \"std\": 4.86193821000378,\n        \"min\": 265.02,\n        \"max\": 286.0,\n        \"num_unique_values\": 19,\n        \"samples\": [\n          279.65,\n          283.5,\n          280.5\n        ],\n        \"semantic_type\": \"\",\n        \"description\": \"\"\n      }\n    },\n    {\n      \"column\": \"Volume\",\n      \"properties\": {\n        \"dtype\": \"number\",\n        \"std\": 3287965,\n        \"min\": 1043630,\n        \"max\": 15350992,\n        \"num_unique_values\": 20,\n        \"samples\": [\n          1808020,\n          2018624,\n          3463336\n        ],\n        \"semantic_type\": \"\",\n        \"description\": \"\"\n      }\n    },\n    {\n      \"column\": \"aguas_a_stoch_k\",\n      \"properties\": {\n        \"dtype\": \"number\",\n        \"std\": 27.239460055115934,\n        \"min\": 0.0,\n        \"max\": 93.69144284821992,\n        \"num_unique_values\": 19,\n        \"samples\": [\n          56.73133450911218,\n          78.0762023735166,\n          50.68714632174599\n        ],\n        \"semantic_type\": \"\",\n        \"description\": \"\"\n      }\n    },\n    {\n      \"column\": \"stochastic_menor_20\",\n      \"properties\": {\n        \"dtype\": \"number\",\n        \"std\": 0.41039134083406165,\n        \"min\": 0.0,\n        \"max\": 1.0,\n        \"num_unique_values\": 2,\n        \"samples\": [\n          1.0,\n          0.0\n        ],\n        \"semantic_type\": \"\",\n        \"description\": \"\"\n      }\n    }\n  ]\n}"
            }
          },
          "metadata": {},
          "execution_count": 6
        }
      ]
    },
    {
      "cell_type": "markdown",
      "source": [
        "#Data Andina B"
      ],
      "metadata": {
        "id": "TbYJcqpsibDO"
      }
    },
    {
      "cell_type": "code",
      "source": [
        "df_andina = pd.read_csv('ANDINA_B.csv', index_col = 'Date')\n",
        "print(df_andina)"
      ],
      "metadata": {
        "colab": {
          "base_uri": "https://localhost:8080/"
        },
        "id": "RVlczh_NiciV",
        "outputId": "dc957390-cdae-4af7-f546-5dbc360a8980"
      },
      "execution_count": 9,
      "outputs": [
        {
          "output_type": "stream",
          "name": "stdout",
          "text": [
            "              Open    High     Low   Close   Volume\n",
            "Date                                               \n",
            "2014-04-21  2338.0  2338.0  2230.0  2284.7   148845\n",
            "2014-04-22  2284.7  2270.0  2237.8  2250.0   940452\n",
            "2014-04-23  2250.0  2255.0  2221.0  2229.1   713034\n",
            "2014-04-24  2229.1  2263.0  2186.0  2214.7   568845\n",
            "2014-04-25  2214.7  2192.6  2155.0  2173.9    76409\n",
            "...            ...     ...     ...     ...      ...\n",
            "2024-04-15  2578.0  2604.0  2500.0  2553.0  1016598\n",
            "2024-04-16  2553.0  2565.5  2521.1  2551.1   245819\n",
            "2024-04-17  2551.1  2608.5  2551.0  2570.0   938613\n",
            "2024-04-18  2570.0  2629.6  2551.0  2615.0  1069148\n",
            "2024-04-19  2615.0  2625.0  2569.1  2615.0   426572\n",
            "\n",
            "[2491 rows x 5 columns]\n"
          ]
        }
      ]
    },
    {
      "cell_type": "markdown",
      "source": [
        "#Cálculo del indicador estocástico con una ventana de 14 periodos"
      ],
      "metadata": {
        "id": "CkEyFP5xjZ6l"
      }
    },
    {
      "cell_type": "code",
      "source": [
        "df_andina['andina_b_stoch_k'] = ta.momentum.stoch(\n",
        "    df_andina['High'], df_andina['Low'], df_andina['Close'],\n",
        "    window = 14, smooth_window = 1)\n",
        "df_andina['andina_b_stoch_k'].iloc[13] #Primer valor del indicador estocástico"
      ],
      "metadata": {
        "colab": {
          "base_uri": "https://localhost:8080/"
        },
        "id": "9CW3k7-Ljbxh",
        "outputId": "07b48359-2345-4512-fbaa-cf949850bed2"
      },
      "execution_count": 10,
      "outputs": [
        {
          "output_type": "execute_result",
          "data": {
            "text/plain": [
              "51.91256830601093"
            ]
          },
          "metadata": {},
          "execution_count": 10
        }
      ]
    },
    {
      "cell_type": "markdown",
      "source": [
        "#Columna booleana que indica cuándo el valor del estocástico es menor a 20"
      ],
      "metadata": {
        "id": "MYEl2B1_juMS"
      }
    },
    {
      "cell_type": "code",
      "source": [
        "df_andina['stochastic_menor_20'] = np.nan\n",
        "i = 13\n",
        "while i <= (df_andina.shape[0]-1):\n",
        "  if df_andina['andina_b_stoch_k'].iloc[i] < 20:\n",
        "    df_andina['stochastic_menor_20'].iloc[i] = 1\n",
        "  else:\n",
        "    df_andina['stochastic_menor_20'].iloc[i] = 0\n",
        "  i+= 1\n"
      ],
      "metadata": {
        "id": "Wu1xguYNjvxz"
      },
      "execution_count": 11,
      "outputs": []
    },
    {
      "cell_type": "markdown",
      "source": [
        "#Data BCI"
      ],
      "metadata": {
        "id": "jBT75kyUj7HF"
      }
    },
    {
      "cell_type": "code",
      "source": [
        "df_bci = pd.read_csv('BCI.csv', index_col = 'Date')\n",
        "print(df_bci)"
      ],
      "metadata": {
        "colab": {
          "base_uri": "https://localhost:8080/"
        },
        "id": "TtYhjHinj8Gd",
        "outputId": "7dc9b182-a653-45a3-d0cc-75f48aad8735"
      },
      "execution_count": 12,
      "outputs": [
        {
          "output_type": "stream",
          "name": "stdout",
          "text": [
            "                 Open       High        Low      Close  Volume\n",
            "Date                                                          \n",
            "2014-04-21  21619.012  21625.574  21231.785  21355.828   15639\n",
            "2014-04-22  21355.828  21592.758  20870.812  21011.920   13876\n",
            "2014-04-23  21011.920  20936.443  20411.390  20473.086   43420\n",
            "2014-04-24  20473.086  20629.287  20346.416  20457.334   49212\n",
            "2014-04-25  20457.334  20581.377  20378.576  20480.960   52162\n",
            "...               ...        ...        ...        ...     ...\n",
            "2024-04-15  27851.000  28200.000  27301.000  27420.000  100674\n",
            "2024-04-16  27400.000  27553.000  26601.000  26812.000  108449\n",
            "2024-04-17  26812.000  27360.000  26400.000  26609.000  152702\n",
            "2024-04-18  26609.000  27500.000  26600.000  27359.000  151961\n",
            "2024-04-19  27300.000  27445.000  26800.000  26800.000   34516\n",
            "\n",
            "[2491 rows x 5 columns]\n"
          ]
        }
      ]
    },
    {
      "cell_type": "markdown",
      "source": [
        "#Cálculo del indicador estocástico con una ventana de 14 periodos"
      ],
      "metadata": {
        "id": "rRGu147DkDUe"
      }
    },
    {
      "cell_type": "code",
      "source": [
        "df_bci['bci_stoch_k'] = ta.momentum.stoch(\n",
        "    df_bci['High'], df_bci['Low'], df_bci['Close'],\n",
        "    window = 14, smooth_window = 1)\n",
        "df_bci['bci_stoch_k'].iloc[13] #Primer valor del indicador estocástico"
      ],
      "metadata": {
        "colab": {
          "base_uri": "https://localhost:8080/"
        },
        "id": "BiFmHYmGkFaG",
        "outputId": "64682866-92c5-41f0-e60d-0120153c8fff"
      },
      "execution_count": 13,
      "outputs": [
        {
          "output_type": "execute_result",
          "data": {
            "text/plain": [
              "88.11590842593968"
            ]
          },
          "metadata": {},
          "execution_count": 13
        }
      ]
    },
    {
      "cell_type": "markdown",
      "source": [
        "#Columna booleana que indica cuándo el valor del estocástico es menor a 20"
      ],
      "metadata": {
        "id": "JFbECT6ZkOxI"
      }
    },
    {
      "cell_type": "code",
      "source": [
        "df_bci['stochastic_menor_20'] = np.nan\n",
        "i = 13\n",
        "while i <= (df_bci.shape[0]-1):\n",
        "  if df_bci['bci_stoch_k'].iloc[i] < 20:\n",
        "    df_bci['stochastic_menor_20'].iloc[i] = 1\n",
        "  else:\n",
        "    df_bci['stochastic_menor_20'].iloc[i] = 0\n",
        "  i+= 1\n"
      ],
      "metadata": {
        "id": "lqHzhnFpkOJR"
      },
      "execution_count": 14,
      "outputs": []
    },
    {
      "cell_type": "markdown",
      "source": [
        "#Data Banco Santander"
      ],
      "metadata": {
        "id": "seUYnY3ikZe_"
      }
    },
    {
      "cell_type": "code",
      "source": [
        "df_bsantander = pd.read_csv('BSANTANDER.csv', index_col = 'Date')\n",
        "print(df_bsantander)"
      ],
      "metadata": {
        "colab": {
          "base_uri": "https://localhost:8080/"
        },
        "id": "tyvigjNmkY-C",
        "outputId": "86a5da4b-29ff-4c69-c1e6-9b51e4dd9694"
      },
      "execution_count": 15,
      "outputs": [
        {
          "output_type": "stream",
          "name": "stdout",
          "text": [
            "             Open   High    Low  Close     Volume\n",
            "Date                                             \n",
            "2014-04-21  32.84  33.00  32.40  32.59   25520470\n",
            "2014-04-22  32.59  32.70  32.01  32.35   68148360\n",
            "2014-04-23  32.35  33.00  32.10  32.23   43694880\n",
            "2014-04-24  32.23  32.32  31.89  32.24   64038920\n",
            "2014-04-25  32.24  32.50  32.15  32.25   59901136\n",
            "...           ...    ...    ...    ...        ...\n",
            "2024-04-15  46.33  46.55  45.85  46.08  132448952\n",
            "2024-04-16  46.08  47.03  45.06  45.79  202465600\n",
            "2024-04-17  45.80  46.10  45.00  45.85  146006480\n",
            "2024-04-18  45.85  46.15  45.32  45.50  220339840\n",
            "2024-04-19  43.99  43.99  43.10  43.10  362452512\n",
            "\n",
            "[2491 rows x 5 columns]\n"
          ]
        }
      ]
    },
    {
      "cell_type": "markdown",
      "source": [
        "#Cálculo del indicador estocástico con una ventana de 14 periodos"
      ],
      "metadata": {
        "id": "BZgDrssqkjKO"
      }
    },
    {
      "cell_type": "code",
      "source": [
        "df_bsantander['bsantander_stoch_k'] = ta.momentum.stoch(\n",
        "    df_bsantander['High'], df_bsantander['Low'], df_bsantander['Close'],\n",
        "    window = 14, smooth_window = 1)\n",
        "df_bsantander['bsantander_stoch_k'].iloc[13] #Primer valor del indicador estocástico"
      ],
      "metadata": {
        "colab": {
          "base_uri": "https://localhost:8080/"
        },
        "id": "hORZezKTklJt",
        "outputId": "e09bcee3-4247-491b-e750-70dab581506c"
      },
      "execution_count": 16,
      "outputs": [
        {
          "output_type": "execute_result",
          "data": {
            "text/plain": [
              "96.63608562691132"
            ]
          },
          "metadata": {},
          "execution_count": 16
        }
      ]
    },
    {
      "cell_type": "markdown",
      "source": [
        "#Columna booleana que indica cuándo el valor del estocástico es menor a 20"
      ],
      "metadata": {
        "id": "raqJNpwdkxtc"
      }
    },
    {
      "cell_type": "code",
      "source": [
        "df_bsantander['stochastic_menor_20'] = np.nan\n",
        "i = 13\n",
        "while i <= (df_bsantander.shape[0]-1):\n",
        "  if df_bsantander['bsantander_stoch_k'].iloc[i] < 20:\n",
        "    df_bsantander['stochastic_menor_20'].iloc[i] = 1\n",
        "  else:\n",
        "    df_bsantander['stochastic_menor_20'].iloc[i] = 0\n",
        "  i+= 1\n"
      ],
      "metadata": {
        "id": "AYgE48Y8kzGN"
      },
      "execution_count": 17,
      "outputs": []
    },
    {
      "cell_type": "markdown",
      "source": [
        "#Data CAP"
      ],
      "metadata": {
        "id": "xc50jZ_Hk879"
      }
    },
    {
      "cell_type": "code",
      "source": [
        "df_cap = pd.read_csv('CAP.csv', index_col = 'Date')\n",
        "print(df_cap)"
      ],
      "metadata": {
        "colab": {
          "base_uri": "https://localhost:8080/"
        },
        "id": "kDrTtJNFk-pn",
        "outputId": "b49e865c-1244-46e1-a178-f5e359cfae25"
      },
      "execution_count": 18,
      "outputs": [
        {
          "output_type": "stream",
          "name": "stdout",
          "text": [
            "              Open    High     Low   Close  Volume\n",
            "Date                                              \n",
            "2014-04-21  8818.0  8818.0  8600.0  8606.4   43534\n",
            "2014-04-22  8606.4  8700.0  8550.0  8576.7  139348\n",
            "2014-04-23  8576.7  8700.0  8500.0  8624.8   71445\n",
            "2014-04-24  8624.8  8815.0  8600.0  8799.6   96937\n",
            "2014-04-25  8820.0  8880.0  8650.0  8748.2   96317\n",
            "...            ...     ...     ...     ...     ...\n",
            "2024-04-15  7101.0  7220.0  7018.3  7041.0  236724\n",
            "2024-04-16  7041.0  7050.1  6950.0  7020.0  248185\n",
            "2024-04-17  7113.0  7170.0  7015.0  7050.0  301493\n",
            "2024-04-18  7050.0  7060.1  6910.0  6920.5  213323\n",
            "2024-04-19  6925.0  6980.0  6810.0  6874.0  236456\n",
            "\n",
            "[2491 rows x 5 columns]\n"
          ]
        }
      ]
    },
    {
      "cell_type": "markdown",
      "source": [
        "#Cálculo del indicador estocástico con una ventana de 14 periodos"
      ],
      "metadata": {
        "id": "PqyX8VPflFoq"
      }
    },
    {
      "cell_type": "code",
      "source": [
        "df_cap['cap_stoch_k'] = ta.momentum.stoch(\n",
        "    df_cap['High'], df_cap['Low'], df_cap['Close'],\n",
        "    window = 14, smooth_window = 1)\n",
        "df_cap['cap_stoch_k'].iloc[13] #Primer valor del indicador estocástico"
      ],
      "metadata": {
        "colab": {
          "base_uri": "https://localhost:8080/"
        },
        "id": "znw6p6nRlGzl",
        "outputId": "9dbf071b-33d6-4b5f-e071-377d43cc6849"
      },
      "execution_count": 19,
      "outputs": [
        {
          "output_type": "execute_result",
          "data": {
            "text/plain": [
              "43.32758620689643"
            ]
          },
          "metadata": {},
          "execution_count": 19
        }
      ]
    },
    {
      "cell_type": "markdown",
      "source": [
        "#Columna booleana que indica cuándo el valor del estocástico es menor a 20"
      ],
      "metadata": {
        "id": "c7WG6QH7lTuT"
      }
    },
    {
      "cell_type": "code",
      "source": [
        "df_cap['stochastic_menor_20'] = np.nan\n",
        "i = 13\n",
        "while i <= (df_cap.shape[0]-1):\n",
        "  if df_cap['cap_stoch_k'].iloc[i] < 20:\n",
        "    df_cap['stochastic_menor_20'].iloc[i] = 1\n",
        "  else:\n",
        "    df_cap['stochastic_menor_20'].iloc[i] = 0\n",
        "  i+= 1\n"
      ],
      "metadata": {
        "id": "nOpPIvtklU93"
      },
      "execution_count": 20,
      "outputs": []
    },
    {
      "cell_type": "markdown",
      "source": [
        "#Data CCU"
      ],
      "metadata": {
        "id": "RhLcQl8-lhWB"
      }
    },
    {
      "cell_type": "code",
      "source": [
        "df_ccu = pd.read_csv('CCU.csv', index_col = 'Date')\n",
        "print(df_ccu)"
      ],
      "metadata": {
        "colab": {
          "base_uri": "https://localhost:8080/"
        },
        "id": "aLK6eEPslilR",
        "outputId": "36d853b5-7925-4bee-887d-dca01fbc5361"
      },
      "execution_count": 21,
      "outputs": [
        {
          "output_type": "stream",
          "name": "stdout",
          "text": [
            "              Open    High     Low   Close  Volume\n",
            "Date                                              \n",
            "2014-04-21  6361.8  6364.6  6280.0  6302.1  123973\n",
            "2014-04-22  6302.1  6480.6  6300.0  6469.5  488753\n",
            "2014-04-23  6469.5  6597.0  6475.0  6565.1  300279\n",
            "2014-04-24  6565.1  6560.0  6490.0  6521.5  431311\n",
            "2014-04-25  6521.5  6560.0  6372.0  6376.5  453329\n",
            "...            ...     ...     ...     ...     ...\n",
            "2024-04-15  5995.1  6084.0  5860.0  5864.0  324314\n",
            "2024-04-16  5864.0  5864.0  5762.7  5810.0  226994\n",
            "2024-04-17  5810.0  5813.7  5705.0  5753.0  495117\n",
            "2024-04-18  5753.0  5810.0  5702.0  5770.0  461723\n",
            "2024-04-19  5770.0  5767.9  5720.0  5720.0  260608\n",
            "\n",
            "[2491 rows x 5 columns]\n"
          ]
        }
      ]
    },
    {
      "cell_type": "markdown",
      "source": [
        "#Cálculo del indicador estocástico con una ventana de 14 periodos"
      ],
      "metadata": {
        "id": "XfgRlwNklo8_"
      }
    },
    {
      "cell_type": "code",
      "source": [
        "df_ccu['ccu_stoch_k'] = ta.momentum.stoch(\n",
        "    df_ccu['High'], df_ccu['Low'], df_ccu['Close'],\n",
        "    window = 14, smooth_window = 1)\n",
        "df_ccu['ccu_stoch_k'].iloc[13] #Primer valor del indicador estocástico"
      ],
      "metadata": {
        "colab": {
          "base_uri": "https://localhost:8080/"
        },
        "id": "hFpwswbtlq6U",
        "outputId": "f3a561b0-a5a3-4621-e1a0-3b56709ff6f8"
      },
      "execution_count": 22,
      "outputs": [
        {
          "output_type": "execute_result",
          "data": {
            "text/plain": [
              "36.55263157894727"
            ]
          },
          "metadata": {},
          "execution_count": 22
        }
      ]
    },
    {
      "cell_type": "markdown",
      "source": [
        "#Columna booleana que indica cuándo el valor del estocástico es menor a 20"
      ],
      "metadata": {
        "id": "0Ae2Uw91l1E1"
      }
    },
    {
      "cell_type": "code",
      "source": [
        "df_ccu['stochastic_menor_20'] = np.nan\n",
        "i = 13\n",
        "while i <= (df_ccu.shape[0]-1):\n",
        "  if df_ccu['ccu_stoch_k'].iloc[i] < 20:\n",
        "    df_ccu['stochastic_menor_20'].iloc[i] = 1\n",
        "  else:\n",
        "    df_ccu['stochastic_menor_20'].iloc[i] = 0\n",
        "  i+= 1\n"
      ],
      "metadata": {
        "id": "3jblqAycl2je"
      },
      "execution_count": 23,
      "outputs": []
    },
    {
      "cell_type": "markdown",
      "source": [
        "#Data Cencoshopp"
      ],
      "metadata": {
        "id": "sPPCNDH1mB-I"
      }
    },
    {
      "cell_type": "code",
      "source": [
        "df_cencoshopp = pd.read_csv('CENCOSHOPP.csv', index_col = 'Date')\n",
        "print(df_cencoshopp)"
      ],
      "metadata": {
        "colab": {
          "base_uri": "https://localhost:8080/"
        },
        "id": "VpenYsmemDtF",
        "outputId": "54ff73d0-d096-42e9-d013-9897c3e7a0db"
      },
      "execution_count": 24,
      "outputs": [
        {
          "output_type": "stream",
          "name": "stdout",
          "text": [
            "              Open    High     Low   Close     Volume\n",
            "Date                                                 \n",
            "2019-06-28  1539.9  1549.5  1517.0  1546.0  499704128\n",
            "2019-07-01  1548.0  1586.0  1548.0  1585.2   11033430\n",
            "2019-07-02  1590.0  1595.0  1580.0  1589.9    9794373\n",
            "2019-07-03  1589.9  1643.9  1589.9  1607.0    5455779\n",
            "2019-07-04  1609.0  1630.1  1607.0  1630.1    4139441\n",
            "...            ...     ...     ...     ...        ...\n",
            "2024-04-15  1559.6  1559.6  1490.0  1509.8    1118082\n",
            "2024-04-16  1509.8  1543.0  1491.0  1496.7     173157\n",
            "2024-04-17  1496.7  1512.9  1447.1  1465.9     866453\n",
            "2024-04-18  1465.9  1498.0  1421.9  1435.5    1622962\n",
            "2024-04-19  1435.0  1455.0  1425.9  1436.7    1591530\n",
            "\n",
            "[1200 rows x 5 columns]\n"
          ]
        }
      ]
    },
    {
      "cell_type": "markdown",
      "source": [
        "#Cálculo del indicador estocástico con una ventana de 14 periodos"
      ],
      "metadata": {
        "id": "vKcnlE-RmNRd"
      }
    },
    {
      "cell_type": "code",
      "source": [
        "df_cencoshopp['cencoshopp_stoch_k'] = ta.momentum.stoch(\n",
        "    df_cencoshopp['High'], df_cencoshopp['Low'], df_cencoshopp['Close'],\n",
        "    window = 14, smooth_window = 1)\n",
        "df_cencoshopp['cencoshopp_stoch_k'].iloc[13] #Primer valor del indicador estocástico"
      ],
      "metadata": {
        "colab": {
          "base_uri": "https://localhost:8080/"
        },
        "id": "tAUXupM9mO_i",
        "outputId": "af31ba7b-9cbc-4bd3-bfa9-cea1d343de7f"
      },
      "execution_count": 25,
      "outputs": [
        {
          "output_type": "execute_result",
          "data": {
            "text/plain": [
              "56.185973207249724"
            ]
          },
          "metadata": {},
          "execution_count": 25
        }
      ]
    },
    {
      "cell_type": "markdown",
      "source": [
        "#Columna booleana que indica cuándo el valor del estocástico es menor a 20"
      ],
      "metadata": {
        "id": "PsAzf7Pyma4S"
      }
    },
    {
      "cell_type": "code",
      "source": [
        "df_cencoshopp['stochastic_menor_20'] = np.nan\n",
        "i = 13\n",
        "while i <= (df_cencoshopp.shape[0]-1):\n",
        "  if df_cencoshopp['cencoshopp_stoch_k'].iloc[i] < 20:\n",
        "    df_cencoshopp['stochastic_menor_20'].iloc[i] = 1\n",
        "  else:\n",
        "    df_cencoshopp['stochastic_menor_20'].iloc[i] = 0\n",
        "  i+= 1\n"
      ],
      "metadata": {
        "id": "SXU1M_2wmabd"
      },
      "execution_count": 26,
      "outputs": []
    },
    {
      "cell_type": "markdown",
      "source": [
        "#Data Cencosud"
      ],
      "metadata": {
        "id": "aaBjLLE_mnCb"
      }
    },
    {
      "cell_type": "code",
      "source": [
        "df_cencosud = pd.read_csv('CENCOSUD.csv', index_col = 'Date')\n",
        "print(df_cencosud)"
      ],
      "metadata": {
        "colab": {
          "base_uri": "https://localhost:8080/"
        },
        "id": "l8m7CkjVmon9",
        "outputId": "f37dce9e-4a5d-4a8c-b2c3-12e6200142ee"
      },
      "execution_count": 27,
      "outputs": [
        {
          "output_type": "stream",
          "name": "stdout",
          "text": [
            "              Open    High     Low   Close   Volume\n",
            "Date                                               \n",
            "2014-04-07  1756.6  1810.0  1740.0  1801.8  1928945\n",
            "2014-04-08  1765.6  1858.9  1765.0  1855.1  3540465\n",
            "2014-04-09  1861.0  1899.0  1855.0  1898.0  2815980\n",
            "2014-04-10  1898.1  1900.2  1850.0  1872.2  1164023\n",
            "2014-04-11  1872.2  1880.0  1825.0  1873.9   952602\n",
            "...            ...     ...     ...     ...      ...\n",
            "2024-04-02  1715.0  1725.0  1691.2  1710.0  2030624\n",
            "2024-04-03  1710.0  1722.9  1690.0  1690.0  2968370\n",
            "2024-04-04  1690.0  1700.0  1671.6  1676.0  3238089\n",
            "2024-04-05  1676.0  1688.7  1645.0  1645.0  2376042\n",
            "2024-04-06     0.0     0.0     0.0  1645.0        0\n",
            "\n",
            "[2491 rows x 5 columns]\n"
          ]
        }
      ]
    },
    {
      "cell_type": "markdown",
      "source": [
        "#Cálculo del indicador estocástico con una ventana de 14 periodos"
      ],
      "metadata": {
        "id": "qAieBViJmvZZ"
      }
    },
    {
      "cell_type": "code",
      "source": [
        "df_cencosud['cencosud_stoch_k'] = ta.momentum.stoch(\n",
        "    df_cencosud['High'], df_cencosud['Low'], df_cencosud['Close'],\n",
        "    window = 14, smooth_window = 1)\n",
        "df_cencosud['cencosud_stoch_k'].iloc[13] #Primer valor del indicador estocástico"
      ],
      "metadata": {
        "colab": {
          "base_uri": "https://localhost:8080/"
        },
        "id": "pjSTusp6mvBm",
        "outputId": "cc0871aa-a0dc-4ee9-b2a2-6cc083049d84"
      },
      "execution_count": 28,
      "outputs": [
        {
          "output_type": "execute_result",
          "data": {
            "text/plain": [
              "60.78947368421053"
            ]
          },
          "metadata": {},
          "execution_count": 28
        }
      ]
    },
    {
      "cell_type": "markdown",
      "source": [
        "#Columna booleana que indica cuándo el valor del estocástico es menor a 20"
      ],
      "metadata": {
        "id": "Sb8N3Q2cm7Ke"
      }
    },
    {
      "cell_type": "code",
      "source": [
        "df_cencosud['stochastic_menor_20'] = np.nan\n",
        "i = 13\n",
        "while i <= (df_cencosud.shape[0]-1):\n",
        "  if df_cencosud['cencosud_stoch_k'].iloc[i] < 20:\n",
        "    df_cencosud['stochastic_menor_20'].iloc[i] = 1\n",
        "  else:\n",
        "    df_cencosud['stochastic_menor_20'].iloc[i] = 0\n",
        "  i+= 1\n"
      ],
      "metadata": {
        "id": "NkLlKt_7m8Xc"
      },
      "execution_count": 29,
      "outputs": []
    },
    {
      "cell_type": "markdown",
      "source": [
        "#Data Banco Chile"
      ],
      "metadata": {
        "id": "G6bF56EjnJof"
      }
    },
    {
      "cell_type": "code",
      "source": [
        "df_bchile = pd.read_csv('CHILE.csv', index_col = 'Date')\n",
        "print(df_bchile)"
      ],
      "metadata": {
        "colab": {
          "base_uri": "https://localhost:8080/"
        },
        "id": "riF7Mj1ynIwo",
        "outputId": "228466eb-ccc0-4992-eee5-7aa87e9dd4de"
      },
      "execution_count": 30,
      "outputs": [
        {
          "output_type": "stream",
          "name": "stdout",
          "text": [
            "                  Open      High       Low     Close     Volume\n",
            "Date                                                           \n",
            "2014-04-21   62.250130   62.0061   61.7796   61.9103   21175700\n",
            "2014-04-22   61.910385   62.6335   61.9103   62.4942   44124676\n",
            "2014-04-23   62.494140   62.6073   61.8667   62.0846   31819556\n",
            "2014-04-24   62.084553   62.2152   61.7796   61.8580   32810178\n",
            "2014-04-25   61.858044   62.0147   61.1696   61.7012   27569114\n",
            "...                ...       ...       ...       ...        ...\n",
            "2024-04-15  107.500000  109.0000  105.9300  106.0000   51145824\n",
            "2024-04-16  106.010000  108.0000  104.8800  106.4900  284295488\n",
            "2024-04-17  106.490000  111.0000  104.5700  107.2000   57746776\n",
            "2024-04-18  107.000000  109.0000  106.0100  106.3100   52783096\n",
            "2024-04-19  106.290000  107.2000  104.5400  104.6500   25993880\n",
            "\n",
            "[2491 rows x 5 columns]\n"
          ]
        }
      ]
    },
    {
      "cell_type": "markdown",
      "source": [
        "#Cálculo del indicador estocástico con una ventana de 14 periodos"
      ],
      "metadata": {
        "id": "mvawfnIGnU_b"
      }
    },
    {
      "cell_type": "code",
      "source": [
        "df_bchile['bchile_stoch_k'] = ta.momentum.stoch(\n",
        "    df_bchile['High'], df_bchile['Low'], df_bchile['Close'],\n",
        "    window = 14, smooth_window = 1)\n",
        "df_bchile['bchile_stoch_k'].iloc[13] #Primer valor del indicador estocástico"
      ],
      "metadata": {
        "colab": {
          "base_uri": "https://localhost:8080/"
        },
        "id": "bEVk9cUWnUki",
        "outputId": "3bfa859b-9576-4260-f8eb-2f8350b70427"
      },
      "execution_count": 31,
      "outputs": [
        {
          "output_type": "execute_result",
          "data": {
            "text/plain": [
              "99.29851909586907"
            ]
          },
          "metadata": {},
          "execution_count": 31
        }
      ]
    },
    {
      "cell_type": "markdown",
      "source": [
        "#Columna booleana que indica cuándo el valor del estocástico es menor a 20"
      ],
      "metadata": {
        "id": "ePWUqO1AngU8"
      }
    },
    {
      "cell_type": "code",
      "source": [
        "df_bchile['stochastic_menor_20'] = np.nan\n",
        "i = 13\n",
        "while i <= (df_bchile.shape[0]-1):\n",
        "  if df_bchile['bchile_stoch_k'].iloc[i] < 20:\n",
        "    df_bchile['stochastic_menor_20'].iloc[i] = 1\n",
        "  else:\n",
        "    df_bchile['stochastic_menor_20'].iloc[i] = 0\n",
        "  i+= 1"
      ],
      "metadata": {
        "id": "yxfoCo8Knf6b"
      },
      "execution_count": 32,
      "outputs": []
    },
    {
      "cell_type": "markdown",
      "source": [
        "#Data CMPC"
      ],
      "metadata": {
        "id": "DOm2w-xxnrRe"
      }
    },
    {
      "cell_type": "code",
      "source": [
        "df_cmpc = pd.read_csv('CMPC.csv', index_col = 'Date')\n",
        "print(df_cmpc)"
      ],
      "metadata": {
        "colab": {
          "base_uri": "https://localhost:8080/"
        },
        "id": "-j2fPHzMnsSR",
        "outputId": "4dbcbc7b-10f8-474c-f252-6ad556c0fcd3"
      },
      "execution_count": 33,
      "outputs": [
        {
          "output_type": "stream",
          "name": "stdout",
          "text": [
            "                 Open       High        Low      Close   Volume\n",
            "Date                                                           \n",
            "2014-04-21  1284.8430  1288.8270  1269.9030  1283.7474   588096\n",
            "2014-04-22  1283.7474  1294.8030  1269.9030  1288.2294  2760128\n",
            "2014-04-23  1288.2294  1324.6831  1275.0822  1293.0103   393657\n",
            "2014-04-24  1293.0103  1304.7631  1274.8830  1290.5201   941376\n",
            "2014-04-25  1290.5203  1279.8630  1260.9390  1263.4290  1000193\n",
            "...               ...        ...        ...        ...      ...\n",
            "2024-04-15  1950.0000  1950.0000  1860.1000  1900.0000  1224474\n",
            "2024-04-16  1900.0000  1919.0000  1865.0000  1882.0000  2498710\n",
            "2024-04-17  1882.0000  1904.6000  1844.4000  1900.0000  2466111\n",
            "2024-04-18  1900.0000  1920.0000  1862.0000  1865.1000  3165216\n",
            "2024-04-19  1865.1000  1882.9000  1825.0000  1875.0000  1595876\n",
            "\n",
            "[2491 rows x 5 columns]\n"
          ]
        }
      ]
    },
    {
      "cell_type": "markdown",
      "source": [
        "#Cálculo del indicador estocástico con una ventana de 14 periodos"
      ],
      "metadata": {
        "id": "Odz7MARPnxgK"
      }
    },
    {
      "cell_type": "code",
      "source": [
        "df_cmpc['cmpc_stoch_k'] = ta.momentum.stoch(\n",
        "    df_cmpc['High'], df_cmpc['Low'], df_cmpc['Close'],\n",
        "    window = 14, smooth_window = 1)\n",
        "df_cmpc['cmpc_stoch_k'].iloc[13] #Primer valor del indicador estocástico"
      ],
      "metadata": {
        "colab": {
          "base_uri": "https://localhost:8080/"
        },
        "id": "d3G_M9JBnxKY",
        "outputId": "e3933c36-cfcf-4c7e-bdd9-25f2f11073e6"
      },
      "execution_count": 34,
      "outputs": [
        {
          "output_type": "execute_result",
          "data": {
            "text/plain": [
              "18.181882718991776"
            ]
          },
          "metadata": {},
          "execution_count": 34
        }
      ]
    },
    {
      "cell_type": "markdown",
      "source": [
        "#Columna booleana que indica cuándo el valor del estocástico es menor a 20"
      ],
      "metadata": {
        "id": "wqdmg4Wwn8OL"
      }
    },
    {
      "cell_type": "code",
      "source": [
        "df_cmpc['stochastic_menor_20'] = np.nan\n",
        "i = 13\n",
        "while i <= (df_cmpc.shape[0]-1):\n",
        "  if df_cmpc['cmpc_stoch_k'].iloc[i] < 20:\n",
        "    df_cmpc['stochastic_menor_20'].iloc[i] = 1\n",
        "  else:\n",
        "    df_cmpc['stochastic_menor_20'].iloc[i] = 0\n",
        "  i+= 1\n"
      ],
      "metadata": {
        "id": "bBJ_uDaZn7kS"
      },
      "execution_count": 35,
      "outputs": []
    },
    {
      "cell_type": "markdown",
      "source": [
        "#Data COLBUN"
      ],
      "metadata": {
        "id": "yTIAgC-OoOVI"
      }
    },
    {
      "cell_type": "code",
      "source": [
        "df_colbun = pd.read_csv('COLBUN.csv', index_col = 'Date')\n",
        "print(df_colbun)"
      ],
      "metadata": {
        "colab": {
          "base_uri": "https://localhost:8080/"
        },
        "id": "NOiyMcfQoQil",
        "outputId": "a6850e4a-123b-45fb-abd4-2f44c8f20eec"
      },
      "execution_count": 36,
      "outputs": [
        {
          "output_type": "stream",
          "name": "stdout",
          "text": [
            "              Open    High     Low   Close    Volume\n",
            "Date                                                \n",
            "2014-04-21  141.57  142.99  140.00  141.40   9544958\n",
            "2014-04-22  141.40  141.40  138.01  139.53   4857281\n",
            "2014-04-23  139.53  140.00  139.00  139.00   7313176\n",
            "2014-04-24  139.00  139.50  137.00  137.16   4472286\n",
            "2014-04-25  137.16  138.50  135.01  137.12   4845911\n",
            "...            ...     ...     ...     ...       ...\n",
            "2024-04-15  126.50  126.50  122.90  123.80  12516102\n",
            "2024-04-16  123.80  125.08  123.00  123.01   5348738\n",
            "2024-04-17  123.12  124.48  121.00  122.04  21246078\n",
            "2024-04-18  122.04  123.38  121.50  121.50   6733204\n",
            "2024-04-19  121.50  123.99  119.00  120.90  18549240\n",
            "\n",
            "[2491 rows x 5 columns]\n"
          ]
        }
      ]
    },
    {
      "cell_type": "markdown",
      "source": [
        "#Cálculo del indicador estocástico con una ventana de 14 periodos"
      ],
      "metadata": {
        "id": "fRoMpJgloXj6"
      }
    },
    {
      "cell_type": "code",
      "source": [
        "df_colbun['colbun_stoch_k'] = ta.momentum.stoch(\n",
        "    df_colbun['High'], df_colbun['Low'], df_colbun['Close'],\n",
        "    window = 14, smooth_window = 1)\n",
        "df_colbun['colbun_stoch_k'].iloc[13] #Primer valor del indicador estocástico"
      ],
      "metadata": {
        "colab": {
          "base_uri": "https://localhost:8080/"
        },
        "id": "DBJWrxtdoIP-",
        "outputId": "234e4bf2-b788-4b4d-93ba-506f188bd913"
      },
      "execution_count": 37,
      "outputs": [
        {
          "output_type": "execute_result",
          "data": {
            "text/plain": [
              "34.29286608260333"
            ]
          },
          "metadata": {},
          "execution_count": 37
        }
      ]
    },
    {
      "cell_type": "markdown",
      "source": [
        "#Columna booleana que indica cuándo el valor del estocástico es menor a 20"
      ],
      "metadata": {
        "id": "P5oDbQH4oiW7"
      }
    },
    {
      "cell_type": "code",
      "source": [
        "df_colbun['stochastic_menor_20'] = np.nan\n",
        "i = 13\n",
        "while i <= (df_colbun.shape[0]-1):\n",
        "  if df_colbun['colbun_stoch_k'].iloc[i] < 20:\n",
        "    df_colbun['stochastic_menor_20'].iloc[i] = 1\n",
        "  else:\n",
        "    df_colbun['stochastic_menor_20'].iloc[i] = 0\n",
        "  i+= 1"
      ],
      "metadata": {
        "id": "MKJYrKAyoh7B"
      },
      "execution_count": 38,
      "outputs": []
    },
    {
      "cell_type": "markdown",
      "source": [
        "#Data Viña Concha y Toro"
      ],
      "metadata": {
        "id": "0L-I0iVeotW1"
      }
    },
    {
      "cell_type": "code",
      "source": [
        "df_concha_y_toro = pd.read_csv('CONCHATORO.csv', index_col = 'Date')\n",
        "print(df_concha_y_toro)"
      ],
      "metadata": {
        "colab": {
          "base_uri": "https://localhost:8080/"
        },
        "id": "wyVodBLdovO9",
        "outputId": "afb039d8-f668-48b9-f7a6-2fdf37599b37"
      },
      "execution_count": 39,
      "outputs": [
        {
          "output_type": "stream",
          "name": "stdout",
          "text": [
            "              Open    High     Low   Close   Volume\n",
            "Date                                               \n",
            "2014-04-21  1150.5  1160.0  1150.0  1152.3   158340\n",
            "2014-04-22  1152.3  1164.0  1150.0  1158.9   243458\n",
            "2014-04-23  1158.9  1174.8  1150.0  1171.3   960749\n",
            "2014-04-24  1171.3  1170.0  1160.0  1165.6   167241\n",
            "2014-04-25  1165.6  1170.0  1150.0  1150.1   568823\n",
            "...            ...     ...     ...     ...      ...\n",
            "2024-04-15  1150.0  1199.9  1130.4  1142.1   976853\n",
            "2024-04-16  1142.1  1190.0  1130.0  1140.0  2441330\n",
            "2024-04-17  1140.0  1160.0  1145.1  1145.1  1438026\n",
            "2024-04-18  1145.1  1150.0  1145.2  1146.0   427568\n",
            "2024-04-19  1160.0  1190.0  1150.0  1180.0  1049888\n",
            "\n",
            "[2491 rows x 5 columns]\n"
          ]
        }
      ]
    },
    {
      "cell_type": "markdown",
      "source": [
        "#Cálculo del indicador estocástico con una ventana de 14 periodos"
      ],
      "metadata": {
        "id": "kcgSv2Ruo5D4"
      }
    },
    {
      "cell_type": "code",
      "source": [
        "df_concha_y_toro['concha_y_toro_stoch_k'] = ta.momentum.stoch(\n",
        "    df_concha_y_toro['High'], df_concha_y_toro['Low'], df_concha_y_toro['Close'],\n",
        "    window = 14, smooth_window = 1)\n",
        "df_concha_y_toro['concha_y_toro_stoch_k'].iloc[13] #Primer valor del indicador estocástico"
      ],
      "metadata": {
        "colab": {
          "base_uri": "https://localhost:8080/"
        },
        "id": "bXzhydbjo70J",
        "outputId": "75842b51-143b-49dc-b185-0dad4ea148f1"
      },
      "execution_count": 40,
      "outputs": [
        {
          "output_type": "execute_result",
          "data": {
            "text/plain": [
              "20.443740095087335"
            ]
          },
          "metadata": {},
          "execution_count": 40
        }
      ]
    }
  ]
}