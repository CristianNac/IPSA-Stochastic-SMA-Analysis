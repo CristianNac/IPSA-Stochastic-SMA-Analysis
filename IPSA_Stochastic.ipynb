{
  "nbformat": 4,
  "nbformat_minor": 0,
  "metadata": {
    "colab": {
      "provenance": []
    },
    "kernelspec": {
      "name": "python3",
      "display_name": "Python 3"
    },
    "language_info": {
      "name": "python"
    }
  },
  "cells": [
    {
      "cell_type": "code",
      "execution_count": null,
      "metadata": {
        "colab": {
          "base_uri": "https://localhost:8080/"
        },
        "id": "ElS5EDcxXl5g",
        "outputId": "b2b7857a-891e-47c1-cbdf-e15d6213fbc1"
      },
      "outputs": [
        {
          "output_type": "stream",
          "name": "stdout",
          "text": [
            "Collecting ta\n",
            "  Downloading ta-0.11.0.tar.gz (25 kB)\n",
            "  Preparing metadata (setup.py) ... \u001b[?25l\u001b[?25hdone\n",
            "Requirement already satisfied: numpy in /usr/local/lib/python3.10/dist-packages (from ta) (1.25.2)\n",
            "Requirement already satisfied: pandas in /usr/local/lib/python3.10/dist-packages (from ta) (2.0.3)\n",
            "Requirement already satisfied: python-dateutil>=2.8.2 in /usr/local/lib/python3.10/dist-packages (from pandas->ta) (2.8.2)\n",
            "Requirement already satisfied: pytz>=2020.1 in /usr/local/lib/python3.10/dist-packages (from pandas->ta) (2023.4)\n",
            "Requirement already satisfied: tzdata>=2022.1 in /usr/local/lib/python3.10/dist-packages (from pandas->ta) (2024.1)\n",
            "Requirement already satisfied: six>=1.5 in /usr/local/lib/python3.10/dist-packages (from python-dateutil>=2.8.2->pandas->ta) (1.16.0)\n",
            "Building wheels for collected packages: ta\n",
            "  Building wheel for ta (setup.py) ... \u001b[?25l\u001b[?25hdone\n",
            "  Created wheel for ta: filename=ta-0.11.0-py3-none-any.whl size=29411 sha256=e866183782182544f0973e8e040d47625be95b392040901a1b45e08502eeb8b7\n",
            "  Stored in directory: /root/.cache/pip/wheels/5f/67/4f/8a9f252836e053e532c6587a3230bc72a4deb16b03a829610b\n",
            "Successfully built ta\n",
            "Installing collected packages: ta\n",
            "Successfully installed ta-0.11.0\n"
          ]
        }
      ],
      "source": [
        "!pip install ta"
      ]
    },
    {
      "cell_type": "code",
      "source": [
        "import pandas as pd\n",
        "import ta\n",
        "import numpy as np\n",
        "!pip install mplfinance\n",
        "import matplotlib.pyplot as plt\n",
        "import mplfinance as mpf\n",
        "import warnings\n",
        "warnings.filterwarnings(\"ignore\")\n"
      ],
      "metadata": {
        "colab": {
          "base_uri": "https://localhost:8080/"
        },
        "id": "chOfi7TUYgzF",
        "outputId": "8ef859e0-04ad-4ba7-9570-2c1aa881e3d3"
      },
      "execution_count": null,
      "outputs": [
        {
          "output_type": "stream",
          "name": "stdout",
          "text": [
            "Collecting mplfinance\n",
            "  Downloading mplfinance-0.12.10b0-py3-none-any.whl (75 kB)\n",
            "\u001b[?25l     \u001b[90m━━━━━━━━━━━━━━━━━━━━━━━━━━━━━━━━━━━━━━━━\u001b[0m \u001b[32m0.0/75.0 kB\u001b[0m \u001b[31m?\u001b[0m eta \u001b[36m-:--:--\u001b[0m\r\u001b[2K     \u001b[90m━━━━━━━━━━━━━━━━━━━━━━━━━━━━━━━━━━━━━━━━\u001b[0m \u001b[32m75.0/75.0 kB\u001b[0m \u001b[31m2.2 MB/s\u001b[0m eta \u001b[36m0:00:00\u001b[0m\n",
            "\u001b[?25hRequirement already satisfied: matplotlib in /usr/local/lib/python3.10/dist-packages (from mplfinance) (3.7.1)\n",
            "Requirement already satisfied: pandas in /usr/local/lib/python3.10/dist-packages (from mplfinance) (2.0.3)\n",
            "Requirement already satisfied: contourpy>=1.0.1 in /usr/local/lib/python3.10/dist-packages (from matplotlib->mplfinance) (1.2.1)\n",
            "Requirement already satisfied: cycler>=0.10 in /usr/local/lib/python3.10/dist-packages (from matplotlib->mplfinance) (0.12.1)\n",
            "Requirement already satisfied: fonttools>=4.22.0 in /usr/local/lib/python3.10/dist-packages (from matplotlib->mplfinance) (4.51.0)\n",
            "Requirement already satisfied: kiwisolver>=1.0.1 in /usr/local/lib/python3.10/dist-packages (from matplotlib->mplfinance) (1.4.5)\n",
            "Requirement already satisfied: numpy>=1.20 in /usr/local/lib/python3.10/dist-packages (from matplotlib->mplfinance) (1.25.2)\n",
            "Requirement already satisfied: packaging>=20.0 in /usr/local/lib/python3.10/dist-packages (from matplotlib->mplfinance) (24.0)\n",
            "Requirement already satisfied: pillow>=6.2.0 in /usr/local/lib/python3.10/dist-packages (from matplotlib->mplfinance) (9.4.0)\n",
            "Requirement already satisfied: pyparsing>=2.3.1 in /usr/local/lib/python3.10/dist-packages (from matplotlib->mplfinance) (3.1.2)\n",
            "Requirement already satisfied: python-dateutil>=2.7 in /usr/local/lib/python3.10/dist-packages (from matplotlib->mplfinance) (2.8.2)\n",
            "Requirement already satisfied: pytz>=2020.1 in /usr/local/lib/python3.10/dist-packages (from pandas->mplfinance) (2023.4)\n",
            "Requirement already satisfied: tzdata>=2022.1 in /usr/local/lib/python3.10/dist-packages (from pandas->mplfinance) (2024.1)\n",
            "Requirement already satisfied: six>=1.5 in /usr/local/lib/python3.10/dist-packages (from python-dateutil>=2.7->matplotlib->mplfinance) (1.16.0)\n",
            "Installing collected packages: mplfinance\n",
            "Successfully installed mplfinance-0.12.10b0\n"
          ]
        }
      ]
    },
    {
      "cell_type": "markdown",
      "source": [
        "#Data Aguas Andina"
      ],
      "metadata": {
        "id": "YajCbcWgWUnz"
      }
    },
    {
      "cell_type": "code",
      "source": [
        "df_aguas_a = pd.read_csv('AGUAS_A.csv', index_col = 'Date')\n",
        "print(df_aguas_a)"
      ],
      "metadata": {
        "colab": {
          "base_uri": "https://localhost:8080/"
        },
        "id": "EGL9k9Y-WW32",
        "outputId": "42ade8af-dd78-43c3-eab1-334f066ae26d"
      },
      "execution_count": null,
      "outputs": [
        {
          "output_type": "stream",
          "name": "stdout",
          "text": [
            "              Open    High     Low   Close   Volume\n",
            "Date                                               \n",
            "2014-04-21  342.35  343.50  342.00  343.20  1332972\n",
            "2014-04-22  342.00  343.00  340.00  340.86  1284030\n",
            "2014-04-23  340.86  343.01  341.51  342.00  1048269\n",
            "2014-04-24  342.00  342.00  340.50  340.70  1282877\n",
            "2014-04-25  340.70  341.00  339.50  339.65   704015\n",
            "...            ...     ...     ...     ...      ...\n",
            "2024-04-15  280.00  280.78  275.01  278.00  3463336\n",
            "2024-04-16  278.00  278.73  272.00  276.99  6160229\n",
            "2024-04-17  276.99  276.00  273.00  273.54  2018624\n",
            "2024-04-18  273.50  275.00  270.50  273.53  2194508\n",
            "2024-04-19  273.53  273.87  265.02  265.02  4176063\n",
            "\n",
            "[2491 rows x 5 columns]\n"
          ]
        }
      ]
    },
    {
      "cell_type": "markdown",
      "source": [
        "#Cálculo del indicador estocástico con una ventana de 14 periodos"
      ],
      "metadata": {
        "id": "MRCcBPnNWa2n"
      }
    },
    {
      "cell_type": "code",
      "source": [
        "df_aguas_a['aguas_a_stoch_k'] = ta.momentum.stoch(\n",
        "    df_aguas_a['High'], df_aguas_a['Low'], df_aguas_a['Close'],\n",
        "    window = 14, smooth_window = 1)\n",
        "df_aguas_a['aguas_a_stoch_k'].iloc[13] #Primer valor del indicador estocástico"
      ],
      "metadata": {
        "colab": {
          "base_uri": "https://localhost:8080/"
        },
        "id": "nc_txJlsWzpO",
        "outputId": "3416a89e-3817-414c-9ccc-b6dbe11c75ae"
      },
      "execution_count": null,
      "outputs": [
        {
          "output_type": "execute_result",
          "data": {
            "text/plain": [
              "93.65781710914472"
            ]
          },
          "metadata": {},
          "execution_count": 4
        }
      ]
    },
    {
      "cell_type": "markdown",
      "source": [
        "#Columna booleana que indica cuándo el valor del estocástico es menor a 20"
      ],
      "metadata": {
        "id": "exApsoDjW5T8"
      }
    },
    {
      "cell_type": "code",
      "source": [
        "df_aguas_a['stochastic_menor_20'] = np.nan\n",
        "i = 13\n",
        "while i <= (df_aguas_a.shape[0]-1):\n",
        "  if df_aguas_a['aguas_a_stoch_k'].iloc[i] < 20:\n",
        "    df_aguas_a['stochastic_menor_20'].iloc[i] = 1\n",
        "  else:\n",
        "    df_aguas_a['stochastic_menor_20'].iloc[i] = 0\n",
        "  i+= 1\n"
      ],
      "metadata": {
        "id": "H9kld43tXtr4"
      },
      "execution_count": null,
      "outputs": []
    },
    {
      "cell_type": "code",
      "source": [
        "df_aguas_a.tail(20)"
      ],
      "metadata": {
        "colab": {
          "base_uri": "https://localhost:8080/",
          "height": 708
        },
        "id": "80TOhCRwZZoJ",
        "outputId": "ed56f74e-2a8c-4855-aee6-a72857d72e60"
      },
      "execution_count": null,
      "outputs": [
        {
          "output_type": "execute_result",
          "data": {
            "text/plain": [
              "              Open    High     Low   Close    Volume  aguas_a_stoch_k  \\\n",
              "Date                                                                    \n",
              "2024-03-22  283.10  286.00  277.51  279.65   1808020        56.731335   \n",
              "2024-03-25  277.11  278.05  274.23  275.85   8196892        34.391534   \n",
              "2024-03-26  275.85  279.49  276.00  278.99   2919214        52.851264   \n",
              "2024-03-27  278.99  284.00  279.01  284.00   1964409        82.304527   \n",
              "2024-03-28  284.00  286.00  279.53  286.00   2389571        93.691443   \n",
              "2024-04-01  285.00  285.00  281.49  283.50   1923727        78.076202   \n",
              "2024-04-02  283.50  286.60  281.00  283.50   2231826        78.076202   \n",
              "2024-04-03  283.50  284.00  282.53  283.98   1043630        81.074329   \n",
              "2024-04-04  283.98  283.90  276.56  279.30   3097743        44.130435   \n",
              "2024-04-05  279.30  281.00  276.00  278.50   3354665        38.333333   \n",
              "2024-04-08  278.50  279.00  275.10  275.10   6185009        13.695652   \n",
              "2024-04-09  275.10  278.71  276.01  277.00  15350992        21.674491   \n",
              "2024-04-10  277.00  280.50  277.99  280.50   4799702        50.687146   \n",
              "2024-04-11  280.50  282.50  279.00  282.00   6383196        62.813258   \n",
              "2024-04-12  282.00  283.48  278.50  281.99   1624153        62.732417   \n",
              "2024-04-15  280.00  280.78  275.01  278.00   3463336        25.798102   \n",
              "2024-04-16  278.00  278.73  272.00  276.99   6160229        34.178082   \n",
              "2024-04-17  276.99  276.00  273.00  273.54   2018624        10.547945   \n",
              "2024-04-18  273.50  275.00  270.50  273.53   2194508        18.819876   \n",
              "2024-04-19  273.53  273.87  265.02  265.02   4176063         0.000000   \n",
              "\n",
              "            stochastic_menor_20  \n",
              "Date                             \n",
              "2024-03-22                  0.0  \n",
              "2024-03-25                  0.0  \n",
              "2024-03-26                  0.0  \n",
              "2024-03-27                  0.0  \n",
              "2024-03-28                  0.0  \n",
              "2024-04-01                  0.0  \n",
              "2024-04-02                  0.0  \n",
              "2024-04-03                  0.0  \n",
              "2024-04-04                  0.0  \n",
              "2024-04-05                  0.0  \n",
              "2024-04-08                  1.0  \n",
              "2024-04-09                  0.0  \n",
              "2024-04-10                  0.0  \n",
              "2024-04-11                  0.0  \n",
              "2024-04-12                  0.0  \n",
              "2024-04-15                  0.0  \n",
              "2024-04-16                  0.0  \n",
              "2024-04-17                  1.0  \n",
              "2024-04-18                  1.0  \n",
              "2024-04-19                  1.0  "
            ],
            "text/html": [
              "\n",
              "  <div id=\"df-462c09c1-9c86-4e88-bddd-6f8d5ddfedac\" class=\"colab-df-container\">\n",
              "    <div>\n",
              "<style scoped>\n",
              "    .dataframe tbody tr th:only-of-type {\n",
              "        vertical-align: middle;\n",
              "    }\n",
              "\n",
              "    .dataframe tbody tr th {\n",
              "        vertical-align: top;\n",
              "    }\n",
              "\n",
              "    .dataframe thead th {\n",
              "        text-align: right;\n",
              "    }\n",
              "</style>\n",
              "<table border=\"1\" class=\"dataframe\">\n",
              "  <thead>\n",
              "    <tr style=\"text-align: right;\">\n",
              "      <th></th>\n",
              "      <th>Open</th>\n",
              "      <th>High</th>\n",
              "      <th>Low</th>\n",
              "      <th>Close</th>\n",
              "      <th>Volume</th>\n",
              "      <th>aguas_a_stoch_k</th>\n",
              "      <th>stochastic_menor_20</th>\n",
              "    </tr>\n",
              "    <tr>\n",
              "      <th>Date</th>\n",
              "      <th></th>\n",
              "      <th></th>\n",
              "      <th></th>\n",
              "      <th></th>\n",
              "      <th></th>\n",
              "      <th></th>\n",
              "      <th></th>\n",
              "    </tr>\n",
              "  </thead>\n",
              "  <tbody>\n",
              "    <tr>\n",
              "      <th>2024-03-22</th>\n",
              "      <td>283.10</td>\n",
              "      <td>286.00</td>\n",
              "      <td>277.51</td>\n",
              "      <td>279.65</td>\n",
              "      <td>1808020</td>\n",
              "      <td>56.731335</td>\n",
              "      <td>0.0</td>\n",
              "    </tr>\n",
              "    <tr>\n",
              "      <th>2024-03-25</th>\n",
              "      <td>277.11</td>\n",
              "      <td>278.05</td>\n",
              "      <td>274.23</td>\n",
              "      <td>275.85</td>\n",
              "      <td>8196892</td>\n",
              "      <td>34.391534</td>\n",
              "      <td>0.0</td>\n",
              "    </tr>\n",
              "    <tr>\n",
              "      <th>2024-03-26</th>\n",
              "      <td>275.85</td>\n",
              "      <td>279.49</td>\n",
              "      <td>276.00</td>\n",
              "      <td>278.99</td>\n",
              "      <td>2919214</td>\n",
              "      <td>52.851264</td>\n",
              "      <td>0.0</td>\n",
              "    </tr>\n",
              "    <tr>\n",
              "      <th>2024-03-27</th>\n",
              "      <td>278.99</td>\n",
              "      <td>284.00</td>\n",
              "      <td>279.01</td>\n",
              "      <td>284.00</td>\n",
              "      <td>1964409</td>\n",
              "      <td>82.304527</td>\n",
              "      <td>0.0</td>\n",
              "    </tr>\n",
              "    <tr>\n",
              "      <th>2024-03-28</th>\n",
              "      <td>284.00</td>\n",
              "      <td>286.00</td>\n",
              "      <td>279.53</td>\n",
              "      <td>286.00</td>\n",
              "      <td>2389571</td>\n",
              "      <td>93.691443</td>\n",
              "      <td>0.0</td>\n",
              "    </tr>\n",
              "    <tr>\n",
              "      <th>2024-04-01</th>\n",
              "      <td>285.00</td>\n",
              "      <td>285.00</td>\n",
              "      <td>281.49</td>\n",
              "      <td>283.50</td>\n",
              "      <td>1923727</td>\n",
              "      <td>78.076202</td>\n",
              "      <td>0.0</td>\n",
              "    </tr>\n",
              "    <tr>\n",
              "      <th>2024-04-02</th>\n",
              "      <td>283.50</td>\n",
              "      <td>286.60</td>\n",
              "      <td>281.00</td>\n",
              "      <td>283.50</td>\n",
              "      <td>2231826</td>\n",
              "      <td>78.076202</td>\n",
              "      <td>0.0</td>\n",
              "    </tr>\n",
              "    <tr>\n",
              "      <th>2024-04-03</th>\n",
              "      <td>283.50</td>\n",
              "      <td>284.00</td>\n",
              "      <td>282.53</td>\n",
              "      <td>283.98</td>\n",
              "      <td>1043630</td>\n",
              "      <td>81.074329</td>\n",
              "      <td>0.0</td>\n",
              "    </tr>\n",
              "    <tr>\n",
              "      <th>2024-04-04</th>\n",
              "      <td>283.98</td>\n",
              "      <td>283.90</td>\n",
              "      <td>276.56</td>\n",
              "      <td>279.30</td>\n",
              "      <td>3097743</td>\n",
              "      <td>44.130435</td>\n",
              "      <td>0.0</td>\n",
              "    </tr>\n",
              "    <tr>\n",
              "      <th>2024-04-05</th>\n",
              "      <td>279.30</td>\n",
              "      <td>281.00</td>\n",
              "      <td>276.00</td>\n",
              "      <td>278.50</td>\n",
              "      <td>3354665</td>\n",
              "      <td>38.333333</td>\n",
              "      <td>0.0</td>\n",
              "    </tr>\n",
              "    <tr>\n",
              "      <th>2024-04-08</th>\n",
              "      <td>278.50</td>\n",
              "      <td>279.00</td>\n",
              "      <td>275.10</td>\n",
              "      <td>275.10</td>\n",
              "      <td>6185009</td>\n",
              "      <td>13.695652</td>\n",
              "      <td>1.0</td>\n",
              "    </tr>\n",
              "    <tr>\n",
              "      <th>2024-04-09</th>\n",
              "      <td>275.10</td>\n",
              "      <td>278.71</td>\n",
              "      <td>276.01</td>\n",
              "      <td>277.00</td>\n",
              "      <td>15350992</td>\n",
              "      <td>21.674491</td>\n",
              "      <td>0.0</td>\n",
              "    </tr>\n",
              "    <tr>\n",
              "      <th>2024-04-10</th>\n",
              "      <td>277.00</td>\n",
              "      <td>280.50</td>\n",
              "      <td>277.99</td>\n",
              "      <td>280.50</td>\n",
              "      <td>4799702</td>\n",
              "      <td>50.687146</td>\n",
              "      <td>0.0</td>\n",
              "    </tr>\n",
              "    <tr>\n",
              "      <th>2024-04-11</th>\n",
              "      <td>280.50</td>\n",
              "      <td>282.50</td>\n",
              "      <td>279.00</td>\n",
              "      <td>282.00</td>\n",
              "      <td>6383196</td>\n",
              "      <td>62.813258</td>\n",
              "      <td>0.0</td>\n",
              "    </tr>\n",
              "    <tr>\n",
              "      <th>2024-04-12</th>\n",
              "      <td>282.00</td>\n",
              "      <td>283.48</td>\n",
              "      <td>278.50</td>\n",
              "      <td>281.99</td>\n",
              "      <td>1624153</td>\n",
              "      <td>62.732417</td>\n",
              "      <td>0.0</td>\n",
              "    </tr>\n",
              "    <tr>\n",
              "      <th>2024-04-15</th>\n",
              "      <td>280.00</td>\n",
              "      <td>280.78</td>\n",
              "      <td>275.01</td>\n",
              "      <td>278.00</td>\n",
              "      <td>3463336</td>\n",
              "      <td>25.798102</td>\n",
              "      <td>0.0</td>\n",
              "    </tr>\n",
              "    <tr>\n",
              "      <th>2024-04-16</th>\n",
              "      <td>278.00</td>\n",
              "      <td>278.73</td>\n",
              "      <td>272.00</td>\n",
              "      <td>276.99</td>\n",
              "      <td>6160229</td>\n",
              "      <td>34.178082</td>\n",
              "      <td>0.0</td>\n",
              "    </tr>\n",
              "    <tr>\n",
              "      <th>2024-04-17</th>\n",
              "      <td>276.99</td>\n",
              "      <td>276.00</td>\n",
              "      <td>273.00</td>\n",
              "      <td>273.54</td>\n",
              "      <td>2018624</td>\n",
              "      <td>10.547945</td>\n",
              "      <td>1.0</td>\n",
              "    </tr>\n",
              "    <tr>\n",
              "      <th>2024-04-18</th>\n",
              "      <td>273.50</td>\n",
              "      <td>275.00</td>\n",
              "      <td>270.50</td>\n",
              "      <td>273.53</td>\n",
              "      <td>2194508</td>\n",
              "      <td>18.819876</td>\n",
              "      <td>1.0</td>\n",
              "    </tr>\n",
              "    <tr>\n",
              "      <th>2024-04-19</th>\n",
              "      <td>273.53</td>\n",
              "      <td>273.87</td>\n",
              "      <td>265.02</td>\n",
              "      <td>265.02</td>\n",
              "      <td>4176063</td>\n",
              "      <td>0.000000</td>\n",
              "      <td>1.0</td>\n",
              "    </tr>\n",
              "  </tbody>\n",
              "</table>\n",
              "</div>\n",
              "    <div class=\"colab-df-buttons\">\n",
              "\n",
              "  <div class=\"colab-df-container\">\n",
              "    <button class=\"colab-df-convert\" onclick=\"convertToInteractive('df-462c09c1-9c86-4e88-bddd-6f8d5ddfedac')\"\n",
              "            title=\"Convert this dataframe to an interactive table.\"\n",
              "            style=\"display:none;\">\n",
              "\n",
              "  <svg xmlns=\"http://www.w3.org/2000/svg\" height=\"24px\" viewBox=\"0 -960 960 960\">\n",
              "    <path d=\"M120-120v-720h720v720H120Zm60-500h600v-160H180v160Zm220 220h160v-160H400v160Zm0 220h160v-160H400v160ZM180-400h160v-160H180v160Zm440 0h160v-160H620v160ZM180-180h160v-160H180v160Zm440 0h160v-160H620v160Z\"/>\n",
              "  </svg>\n",
              "    </button>\n",
              "\n",
              "  <style>\n",
              "    .colab-df-container {\n",
              "      display:flex;\n",
              "      gap: 12px;\n",
              "    }\n",
              "\n",
              "    .colab-df-convert {\n",
              "      background-color: #E8F0FE;\n",
              "      border: none;\n",
              "      border-radius: 50%;\n",
              "      cursor: pointer;\n",
              "      display: none;\n",
              "      fill: #1967D2;\n",
              "      height: 32px;\n",
              "      padding: 0 0 0 0;\n",
              "      width: 32px;\n",
              "    }\n",
              "\n",
              "    .colab-df-convert:hover {\n",
              "      background-color: #E2EBFA;\n",
              "      box-shadow: 0px 1px 2px rgba(60, 64, 67, 0.3), 0px 1px 3px 1px rgba(60, 64, 67, 0.15);\n",
              "      fill: #174EA6;\n",
              "    }\n",
              "\n",
              "    .colab-df-buttons div {\n",
              "      margin-bottom: 4px;\n",
              "    }\n",
              "\n",
              "    [theme=dark] .colab-df-convert {\n",
              "      background-color: #3B4455;\n",
              "      fill: #D2E3FC;\n",
              "    }\n",
              "\n",
              "    [theme=dark] .colab-df-convert:hover {\n",
              "      background-color: #434B5C;\n",
              "      box-shadow: 0px 1px 3px 1px rgba(0, 0, 0, 0.15);\n",
              "      filter: drop-shadow(0px 1px 2px rgba(0, 0, 0, 0.3));\n",
              "      fill: #FFFFFF;\n",
              "    }\n",
              "  </style>\n",
              "\n",
              "    <script>\n",
              "      const buttonEl =\n",
              "        document.querySelector('#df-462c09c1-9c86-4e88-bddd-6f8d5ddfedac button.colab-df-convert');\n",
              "      buttonEl.style.display =\n",
              "        google.colab.kernel.accessAllowed ? 'block' : 'none';\n",
              "\n",
              "      async function convertToInteractive(key) {\n",
              "        const element = document.querySelector('#df-462c09c1-9c86-4e88-bddd-6f8d5ddfedac');\n",
              "        const dataTable =\n",
              "          await google.colab.kernel.invokeFunction('convertToInteractive',\n",
              "                                                    [key], {});\n",
              "        if (!dataTable) return;\n",
              "\n",
              "        const docLinkHtml = 'Like what you see? Visit the ' +\n",
              "          '<a target=\"_blank\" href=https://colab.research.google.com/notebooks/data_table.ipynb>data table notebook</a>'\n",
              "          + ' to learn more about interactive tables.';\n",
              "        element.innerHTML = '';\n",
              "        dataTable['output_type'] = 'display_data';\n",
              "        await google.colab.output.renderOutput(dataTable, element);\n",
              "        const docLink = document.createElement('div');\n",
              "        docLink.innerHTML = docLinkHtml;\n",
              "        element.appendChild(docLink);\n",
              "      }\n",
              "    </script>\n",
              "  </div>\n",
              "\n",
              "\n",
              "<div id=\"df-89598752-b8df-4024-8869-74ba560c7852\">\n",
              "  <button class=\"colab-df-quickchart\" onclick=\"quickchart('df-89598752-b8df-4024-8869-74ba560c7852')\"\n",
              "            title=\"Suggest charts\"\n",
              "            style=\"display:none;\">\n",
              "\n",
              "<svg xmlns=\"http://www.w3.org/2000/svg\" height=\"24px\"viewBox=\"0 0 24 24\"\n",
              "     width=\"24px\">\n",
              "    <g>\n",
              "        <path d=\"M19 3H5c-1.1 0-2 .9-2 2v14c0 1.1.9 2 2 2h14c1.1 0 2-.9 2-2V5c0-1.1-.9-2-2-2zM9 17H7v-7h2v7zm4 0h-2V7h2v10zm4 0h-2v-4h2v4z\"/>\n",
              "    </g>\n",
              "</svg>\n",
              "  </button>\n",
              "\n",
              "<style>\n",
              "  .colab-df-quickchart {\n",
              "      --bg-color: #E8F0FE;\n",
              "      --fill-color: #1967D2;\n",
              "      --hover-bg-color: #E2EBFA;\n",
              "      --hover-fill-color: #174EA6;\n",
              "      --disabled-fill-color: #AAA;\n",
              "      --disabled-bg-color: #DDD;\n",
              "  }\n",
              "\n",
              "  [theme=dark] .colab-df-quickchart {\n",
              "      --bg-color: #3B4455;\n",
              "      --fill-color: #D2E3FC;\n",
              "      --hover-bg-color: #434B5C;\n",
              "      --hover-fill-color: #FFFFFF;\n",
              "      --disabled-bg-color: #3B4455;\n",
              "      --disabled-fill-color: #666;\n",
              "  }\n",
              "\n",
              "  .colab-df-quickchart {\n",
              "    background-color: var(--bg-color);\n",
              "    border: none;\n",
              "    border-radius: 50%;\n",
              "    cursor: pointer;\n",
              "    display: none;\n",
              "    fill: var(--fill-color);\n",
              "    height: 32px;\n",
              "    padding: 0;\n",
              "    width: 32px;\n",
              "  }\n",
              "\n",
              "  .colab-df-quickchart:hover {\n",
              "    background-color: var(--hover-bg-color);\n",
              "    box-shadow: 0 1px 2px rgba(60, 64, 67, 0.3), 0 1px 3px 1px rgba(60, 64, 67, 0.15);\n",
              "    fill: var(--button-hover-fill-color);\n",
              "  }\n",
              "\n",
              "  .colab-df-quickchart-complete:disabled,\n",
              "  .colab-df-quickchart-complete:disabled:hover {\n",
              "    background-color: var(--disabled-bg-color);\n",
              "    fill: var(--disabled-fill-color);\n",
              "    box-shadow: none;\n",
              "  }\n",
              "\n",
              "  .colab-df-spinner {\n",
              "    border: 2px solid var(--fill-color);\n",
              "    border-color: transparent;\n",
              "    border-bottom-color: var(--fill-color);\n",
              "    animation:\n",
              "      spin 1s steps(1) infinite;\n",
              "  }\n",
              "\n",
              "  @keyframes spin {\n",
              "    0% {\n",
              "      border-color: transparent;\n",
              "      border-bottom-color: var(--fill-color);\n",
              "      border-left-color: var(--fill-color);\n",
              "    }\n",
              "    20% {\n",
              "      border-color: transparent;\n",
              "      border-left-color: var(--fill-color);\n",
              "      border-top-color: var(--fill-color);\n",
              "    }\n",
              "    30% {\n",
              "      border-color: transparent;\n",
              "      border-left-color: var(--fill-color);\n",
              "      border-top-color: var(--fill-color);\n",
              "      border-right-color: var(--fill-color);\n",
              "    }\n",
              "    40% {\n",
              "      border-color: transparent;\n",
              "      border-right-color: var(--fill-color);\n",
              "      border-top-color: var(--fill-color);\n",
              "    }\n",
              "    60% {\n",
              "      border-color: transparent;\n",
              "      border-right-color: var(--fill-color);\n",
              "    }\n",
              "    80% {\n",
              "      border-color: transparent;\n",
              "      border-right-color: var(--fill-color);\n",
              "      border-bottom-color: var(--fill-color);\n",
              "    }\n",
              "    90% {\n",
              "      border-color: transparent;\n",
              "      border-bottom-color: var(--fill-color);\n",
              "    }\n",
              "  }\n",
              "</style>\n",
              "\n",
              "  <script>\n",
              "    async function quickchart(key) {\n",
              "      const quickchartButtonEl =\n",
              "        document.querySelector('#' + key + ' button');\n",
              "      quickchartButtonEl.disabled = true;  // To prevent multiple clicks.\n",
              "      quickchartButtonEl.classList.add('colab-df-spinner');\n",
              "      try {\n",
              "        const charts = await google.colab.kernel.invokeFunction(\n",
              "            'suggestCharts', [key], {});\n",
              "      } catch (error) {\n",
              "        console.error('Error during call to suggestCharts:', error);\n",
              "      }\n",
              "      quickchartButtonEl.classList.remove('colab-df-spinner');\n",
              "      quickchartButtonEl.classList.add('colab-df-quickchart-complete');\n",
              "    }\n",
              "    (() => {\n",
              "      let quickchartButtonEl =\n",
              "        document.querySelector('#df-89598752-b8df-4024-8869-74ba560c7852 button');\n",
              "      quickchartButtonEl.style.display =\n",
              "        google.colab.kernel.accessAllowed ? 'block' : 'none';\n",
              "    })();\n",
              "  </script>\n",
              "</div>\n",
              "\n",
              "    </div>\n",
              "  </div>\n"
            ],
            "application/vnd.google.colaboratory.intrinsic+json": {
              "type": "dataframe",
              "summary": "{\n  \"name\": \"df_aguas_a\",\n  \"rows\": 20,\n  \"fields\": [\n    {\n      \"column\": \"Date\",\n      \"properties\": {\n        \"dtype\": \"object\",\n        \"num_unique_values\": 20,\n        \"samples\": [\n          \"2024-03-22\",\n          \"2024-04-17\",\n          \"2024-04-15\"\n        ],\n        \"semantic_type\": \"\",\n        \"description\": \"\"\n      }\n    },\n    {\n      \"column\": \"Open\",\n      \"properties\": {\n        \"dtype\": \"number\",\n        \"std\": 3.621216537370601,\n        \"min\": 273.5,\n        \"max\": 285.0,\n        \"num_unique_values\": 19,\n        \"samples\": [\n          283.1,\n          285.0,\n          277.0\n        ],\n        \"semantic_type\": \"\",\n        \"description\": \"\"\n      }\n    },\n    {\n      \"column\": \"High\",\n      \"properties\": {\n        \"dtype\": \"number\",\n        \"std\": 3.7651077778660436,\n        \"min\": 273.87,\n        \"max\": 286.6,\n        \"num_unique_values\": 18,\n        \"samples\": [\n          286.0,\n          278.05,\n          279.0\n        ],\n        \"semantic_type\": \"\",\n        \"description\": \"\"\n      }\n    },\n    {\n      \"column\": \"Low\",\n      \"properties\": {\n        \"dtype\": \"number\",\n        \"std\": 4.1042038461224495,\n        \"min\": 265.02,\n        \"max\": 282.53,\n        \"num_unique_values\": 19,\n        \"samples\": [\n          277.51,\n          281.49,\n          277.99\n        ],\n        \"semantic_type\": \"\",\n        \"description\": \"\"\n      }\n    },\n    {\n      \"column\": \"Close\",\n      \"properties\": {\n        \"dtype\": \"number\",\n        \"std\": 4.86193821000378,\n        \"min\": 265.02,\n        \"max\": 286.0,\n        \"num_unique_values\": 19,\n        \"samples\": [\n          279.65,\n          283.5,\n          280.5\n        ],\n        \"semantic_type\": \"\",\n        \"description\": \"\"\n      }\n    },\n    {\n      \"column\": \"Volume\",\n      \"properties\": {\n        \"dtype\": \"number\",\n        \"std\": 3287965,\n        \"min\": 1043630,\n        \"max\": 15350992,\n        \"num_unique_values\": 20,\n        \"samples\": [\n          1808020,\n          2018624,\n          3463336\n        ],\n        \"semantic_type\": \"\",\n        \"description\": \"\"\n      }\n    },\n    {\n      \"column\": \"aguas_a_stoch_k\",\n      \"properties\": {\n        \"dtype\": \"number\",\n        \"std\": 27.239460055115934,\n        \"min\": 0.0,\n        \"max\": 93.69144284821992,\n        \"num_unique_values\": 19,\n        \"samples\": [\n          56.73133450911218,\n          78.0762023735166,\n          50.68714632174599\n        ],\n        \"semantic_type\": \"\",\n        \"description\": \"\"\n      }\n    },\n    {\n      \"column\": \"stochastic_menor_20\",\n      \"properties\": {\n        \"dtype\": \"number\",\n        \"std\": 0.41039134083406165,\n        \"min\": 0.0,\n        \"max\": 1.0,\n        \"num_unique_values\": 2,\n        \"samples\": [\n          1.0,\n          0.0\n        ],\n        \"semantic_type\": \"\",\n        \"description\": \"\"\n      }\n    }\n  ]\n}"
            }
          },
          "metadata": {},
          "execution_count": 6
        }
      ]
    },
    {
      "cell_type": "markdown",
      "source": [
        "#Data Andina B"
      ],
      "metadata": {
        "id": "TbYJcqpsibDO"
      }
    },
    {
      "cell_type": "code",
      "source": [
        "df_andina = pd.read_csv('ANDINA_B.csv', index_col = 'Date')\n",
        "print(df_andina)"
      ],
      "metadata": {
        "colab": {
          "base_uri": "https://localhost:8080/"
        },
        "id": "RVlczh_NiciV",
        "outputId": "93e06ada-0533-42dc-d838-e1ae04b26c25"
      },
      "execution_count": null,
      "outputs": [
        {
          "output_type": "stream",
          "name": "stdout",
          "text": [
            "              Open    High     Low   Close   Volume\n",
            "Date                                               \n",
            "2014-04-21  2338.0  2338.0  2230.0  2284.7   148845\n",
            "2014-04-22  2284.7  2270.0  2237.8  2250.0   940452\n",
            "2014-04-23  2250.0  2255.0  2221.0  2229.1   713034\n",
            "2014-04-24  2229.1  2263.0  2186.0  2214.7   568845\n",
            "2014-04-25  2214.7  2192.6  2155.0  2173.9    76409\n",
            "...            ...     ...     ...     ...      ...\n",
            "2024-04-15  2578.0  2604.0  2500.0  2553.0  1016598\n",
            "2024-04-16  2553.0  2565.5  2521.1  2551.1   245819\n",
            "2024-04-17  2551.1  2608.5  2551.0  2570.0   938613\n",
            "2024-04-18  2570.0  2629.6  2551.0  2615.0  1069148\n",
            "2024-04-19  2615.0  2625.0  2569.1  2615.0   426572\n",
            "\n",
            "[2491 rows x 5 columns]\n"
          ]
        }
      ]
    },
    {
      "cell_type": "markdown",
      "source": [
        "#Cálculo del indicador estocástico con una ventana de 14 periodos"
      ],
      "metadata": {
        "id": "CkEyFP5xjZ6l"
      }
    },
    {
      "cell_type": "code",
      "source": [
        "df_andina['andina_b_stoch_k'] = ta.momentum.stoch(\n",
        "    df_andina['High'], df_andina['Low'], df_andina['Close'],\n",
        "    window = 14, smooth_window = 1)\n",
        "df_andina['andina_b_stoch_k'].iloc[13] #Primer valor del indicador estocástico"
      ],
      "metadata": {
        "colab": {
          "base_uri": "https://localhost:8080/"
        },
        "id": "9CW3k7-Ljbxh",
        "outputId": "e6d81f35-c56c-42e9-9243-3b17c139f981"
      },
      "execution_count": null,
      "outputs": [
        {
          "output_type": "execute_result",
          "data": {
            "text/plain": [
              "51.91256830601093"
            ]
          },
          "metadata": {},
          "execution_count": 8
        }
      ]
    },
    {
      "cell_type": "markdown",
      "source": [
        "#Columna booleana que indica cuándo el valor del estocástico es menor a 20"
      ],
      "metadata": {
        "id": "MYEl2B1_juMS"
      }
    },
    {
      "cell_type": "code",
      "source": [
        "df_andina['stochastic_menor_20'] = np.nan\n",
        "i = 13\n",
        "while i <= (df_andina.shape[0]-1):\n",
        "  if df_andina['andina_b_stoch_k'].iloc[i] < 20:\n",
        "    df_andina['stochastic_menor_20'].iloc[i] = 1\n",
        "  else:\n",
        "    df_andina['stochastic_menor_20'].iloc[i] = 0\n",
        "  i+= 1\n"
      ],
      "metadata": {
        "id": "Wu1xguYNjvxz"
      },
      "execution_count": null,
      "outputs": []
    },
    {
      "cell_type": "markdown",
      "source": [
        "#Data BCI"
      ],
      "metadata": {
        "id": "jBT75kyUj7HF"
      }
    },
    {
      "cell_type": "code",
      "source": [
        "df_bci = pd.read_csv('BCI.csv', index_col = 'Date')\n",
        "print(df_bci)"
      ],
      "metadata": {
        "colab": {
          "base_uri": "https://localhost:8080/"
        },
        "id": "TtYhjHinj8Gd",
        "outputId": "5752002b-1d52-42d7-f227-7d66e0153f37"
      },
      "execution_count": null,
      "outputs": [
        {
          "output_type": "stream",
          "name": "stdout",
          "text": [
            "                 Open       High        Low      Close  Volume\n",
            "Date                                                          \n",
            "2014-04-21  21619.012  21625.574  21231.785  21355.828   15639\n",
            "2014-04-22  21355.828  21592.758  20870.812  21011.920   13876\n",
            "2014-04-23  21011.920  20936.443  20411.390  20473.086   43420\n",
            "2014-04-24  20473.086  20629.287  20346.416  20457.334   49212\n",
            "2014-04-25  20457.334  20581.377  20378.576  20480.960   52162\n",
            "...               ...        ...        ...        ...     ...\n",
            "2024-04-15  27851.000  28200.000  27301.000  27420.000  100674\n",
            "2024-04-16  27400.000  27553.000  26601.000  26812.000  108449\n",
            "2024-04-17  26812.000  27360.000  26400.000  26609.000  152702\n",
            "2024-04-18  26609.000  27500.000  26600.000  27359.000  151961\n",
            "2024-04-19  27300.000  27445.000  26800.000  26800.000   34516\n",
            "\n",
            "[2491 rows x 5 columns]\n"
          ]
        }
      ]
    },
    {
      "cell_type": "markdown",
      "source": [
        "#Cálculo del indicador estocástico con una ventana de 14 periodos"
      ],
      "metadata": {
        "id": "rRGu147DkDUe"
      }
    },
    {
      "cell_type": "code",
      "source": [
        "df_bci['bci_stoch_k'] = ta.momentum.stoch(\n",
        "    df_bci['High'], df_bci['Low'], df_bci['Close'],\n",
        "    window = 14, smooth_window = 1)\n",
        "df_bci['bci_stoch_k'].iloc[13] #Primer valor del indicador estocástico"
      ],
      "metadata": {
        "colab": {
          "base_uri": "https://localhost:8080/"
        },
        "id": "BiFmHYmGkFaG",
        "outputId": "c6f8c824-a520-483b-f6de-cf52bbe1a66c"
      },
      "execution_count": null,
      "outputs": [
        {
          "output_type": "execute_result",
          "data": {
            "text/plain": [
              "88.11590842593968"
            ]
          },
          "metadata": {},
          "execution_count": 11
        }
      ]
    },
    {
      "cell_type": "markdown",
      "source": [
        "#Columna booleana que indica cuándo el valor del estocástico es menor a 20"
      ],
      "metadata": {
        "id": "JFbECT6ZkOxI"
      }
    },
    {
      "cell_type": "code",
      "source": [
        "df_bci['stochastic_menor_20'] = np.nan\n",
        "i = 13\n",
        "while i <= (df_bci.shape[0]-1):\n",
        "  if df_bci['bci_stoch_k'].iloc[i] < 20:\n",
        "    df_bci['stochastic_menor_20'].iloc[i] = 1\n",
        "  else:\n",
        "    df_bci['stochastic_menor_20'].iloc[i] = 0\n",
        "  i+= 1\n"
      ],
      "metadata": {
        "id": "lqHzhnFpkOJR"
      },
      "execution_count": null,
      "outputs": []
    },
    {
      "cell_type": "markdown",
      "source": [
        "#Data Banco Santander"
      ],
      "metadata": {
        "id": "seUYnY3ikZe_"
      }
    },
    {
      "cell_type": "code",
      "source": [
        "df_bsantander = pd.read_csv('BSANTANDER.csv', index_col = 'Date')\n",
        "print(df_bsantander)"
      ],
      "metadata": {
        "colab": {
          "base_uri": "https://localhost:8080/"
        },
        "id": "tyvigjNmkY-C",
        "outputId": "3c9f6ad5-823d-4b51-98e4-da35648e36b9"
      },
      "execution_count": null,
      "outputs": [
        {
          "output_type": "stream",
          "name": "stdout",
          "text": [
            "             Open   High    Low  Close     Volume\n",
            "Date                                             \n",
            "2014-04-21  32.84  33.00  32.40  32.59   25520470\n",
            "2014-04-22  32.59  32.70  32.01  32.35   68148360\n",
            "2014-04-23  32.35  33.00  32.10  32.23   43694880\n",
            "2014-04-24  32.23  32.32  31.89  32.24   64038920\n",
            "2014-04-25  32.24  32.50  32.15  32.25   59901136\n",
            "...           ...    ...    ...    ...        ...\n",
            "2024-04-15  46.33  46.55  45.85  46.08  132448952\n",
            "2024-04-16  46.08  47.03  45.06  45.79  202465600\n",
            "2024-04-17  45.80  46.10  45.00  45.85  146006480\n",
            "2024-04-18  45.85  46.15  45.32  45.50  220339840\n",
            "2024-04-19  43.99  43.99  43.10  43.10  362452512\n",
            "\n",
            "[2491 rows x 5 columns]\n"
          ]
        }
      ]
    },
    {
      "cell_type": "markdown",
      "source": [
        "#Cálculo del indicador estocástico con una ventana de 14 periodos"
      ],
      "metadata": {
        "id": "BZgDrssqkjKO"
      }
    },
    {
      "cell_type": "code",
      "source": [
        "df_bsantander['bsantander_stoch_k'] = ta.momentum.stoch(\n",
        "    df_bsantander['High'], df_bsantander['Low'], df_bsantander['Close'],\n",
        "    window = 14, smooth_window = 1)\n",
        "df_bsantander['bsantander_stoch_k'].iloc[13] #Primer valor del indicador estocástico"
      ],
      "metadata": {
        "colab": {
          "base_uri": "https://localhost:8080/"
        },
        "id": "hORZezKTklJt",
        "outputId": "8c76b435-0d92-4213-ffa7-f372440aa0f1"
      },
      "execution_count": null,
      "outputs": [
        {
          "output_type": "execute_result",
          "data": {
            "text/plain": [
              "96.63608562691132"
            ]
          },
          "metadata": {},
          "execution_count": 14
        }
      ]
    },
    {
      "cell_type": "markdown",
      "source": [
        "#Columna booleana que indica cuándo el valor del estocástico es menor a 20"
      ],
      "metadata": {
        "id": "raqJNpwdkxtc"
      }
    },
    {
      "cell_type": "code",
      "source": [
        "df_bsantander['stochastic_menor_20'] = np.nan\n",
        "i = 13\n",
        "while i <= (df_bsantander.shape[0]-1):\n",
        "  if df_bsantander['bsantander_stoch_k'].iloc[i] < 20:\n",
        "    df_bsantander['stochastic_menor_20'].iloc[i] = 1\n",
        "  else:\n",
        "    df_bsantander['stochastic_menor_20'].iloc[i] = 0\n",
        "  i+= 1\n"
      ],
      "metadata": {
        "id": "AYgE48Y8kzGN"
      },
      "execution_count": null,
      "outputs": []
    },
    {
      "cell_type": "markdown",
      "source": [
        "#Data CAP"
      ],
      "metadata": {
        "id": "xc50jZ_Hk879"
      }
    },
    {
      "cell_type": "code",
      "source": [
        "df_cap = pd.read_csv('CAP.csv', index_col = 'Date')\n",
        "print(df_cap)"
      ],
      "metadata": {
        "colab": {
          "base_uri": "https://localhost:8080/"
        },
        "id": "kDrTtJNFk-pn",
        "outputId": "f5d640f6-1485-478d-9496-3476e36916e5"
      },
      "execution_count": null,
      "outputs": [
        {
          "output_type": "stream",
          "name": "stdout",
          "text": [
            "              Open    High     Low   Close  Volume\n",
            "Date                                              \n",
            "2014-04-21  8818.0  8818.0  8600.0  8606.4   43534\n",
            "2014-04-22  8606.4  8700.0  8550.0  8576.7  139348\n",
            "2014-04-23  8576.7  8700.0  8500.0  8624.8   71445\n",
            "2014-04-24  8624.8  8815.0  8600.0  8799.6   96937\n",
            "2014-04-25  8820.0  8880.0  8650.0  8748.2   96317\n",
            "...            ...     ...     ...     ...     ...\n",
            "2024-04-15  7101.0  7220.0  7018.3  7041.0  236724\n",
            "2024-04-16  7041.0  7050.1  6950.0  7020.0  248185\n",
            "2024-04-17  7113.0  7170.0  7015.0  7050.0  301493\n",
            "2024-04-18  7050.0  7060.1  6910.0  6920.5  213323\n",
            "2024-04-19  6925.0  6980.0  6810.0  6874.0  236456\n",
            "\n",
            "[2491 rows x 5 columns]\n"
          ]
        }
      ]
    },
    {
      "cell_type": "markdown",
      "source": [
        "#Cálculo del indicador estocástico con una ventana de 14 periodos"
      ],
      "metadata": {
        "id": "PqyX8VPflFoq"
      }
    },
    {
      "cell_type": "code",
      "source": [
        "df_cap['cap_stoch_k'] = ta.momentum.stoch(\n",
        "    df_cap['High'], df_cap['Low'], df_cap['Close'],\n",
        "    window = 14, smooth_window = 1)\n",
        "df_cap['cap_stoch_k'].iloc[13] #Primer valor del indicador estocástico"
      ],
      "metadata": {
        "colab": {
          "base_uri": "https://localhost:8080/"
        },
        "id": "znw6p6nRlGzl",
        "outputId": "37821353-e62c-4550-9481-3945649ae7ac"
      },
      "execution_count": null,
      "outputs": [
        {
          "output_type": "execute_result",
          "data": {
            "text/plain": [
              "43.32758620689643"
            ]
          },
          "metadata": {},
          "execution_count": 17
        }
      ]
    },
    {
      "cell_type": "markdown",
      "source": [
        "#Columna booleana que indica cuándo el valor del estocástico es menor a 20"
      ],
      "metadata": {
        "id": "c7WG6QH7lTuT"
      }
    },
    {
      "cell_type": "code",
      "source": [
        "df_cap['stochastic_menor_20'] = np.nan\n",
        "i = 13\n",
        "while i <= (df_cap.shape[0]-1):\n",
        "  if df_cap['cap_stoch_k'].iloc[i] < 20:\n",
        "    df_cap['stochastic_menor_20'].iloc[i] = 1\n",
        "  else:\n",
        "    df_cap['stochastic_menor_20'].iloc[i] = 0\n",
        "  i+= 1\n"
      ],
      "metadata": {
        "id": "nOpPIvtklU93"
      },
      "execution_count": null,
      "outputs": []
    },
    {
      "cell_type": "markdown",
      "source": [
        "#Data CCU"
      ],
      "metadata": {
        "id": "RhLcQl8-lhWB"
      }
    },
    {
      "cell_type": "code",
      "source": [
        "df_ccu = pd.read_csv('CCU.csv', index_col = 'Date')\n",
        "print(df_ccu)"
      ],
      "metadata": {
        "colab": {
          "base_uri": "https://localhost:8080/"
        },
        "id": "aLK6eEPslilR",
        "outputId": "b840f78e-b280-41ea-bb95-3a40dd6824a3"
      },
      "execution_count": null,
      "outputs": [
        {
          "output_type": "stream",
          "name": "stdout",
          "text": [
            "              Open    High     Low   Close  Volume\n",
            "Date                                              \n",
            "2014-04-21  6361.8  6364.6  6280.0  6302.1  123973\n",
            "2014-04-22  6302.1  6480.6  6300.0  6469.5  488753\n",
            "2014-04-23  6469.5  6597.0  6475.0  6565.1  300279\n",
            "2014-04-24  6565.1  6560.0  6490.0  6521.5  431311\n",
            "2014-04-25  6521.5  6560.0  6372.0  6376.5  453329\n",
            "...            ...     ...     ...     ...     ...\n",
            "2024-04-15  5995.1  6084.0  5860.0  5864.0  324314\n",
            "2024-04-16  5864.0  5864.0  5762.7  5810.0  226994\n",
            "2024-04-17  5810.0  5813.7  5705.0  5753.0  495117\n",
            "2024-04-18  5753.0  5810.0  5702.0  5770.0  461723\n",
            "2024-04-19  5770.0  5767.9  5720.0  5720.0  260608\n",
            "\n",
            "[2491 rows x 5 columns]\n"
          ]
        }
      ]
    },
    {
      "cell_type": "markdown",
      "source": [
        "#Cálculo del indicador estocástico con una ventana de 14 periodos"
      ],
      "metadata": {
        "id": "XfgRlwNklo8_"
      }
    },
    {
      "cell_type": "code",
      "source": [
        "df_ccu['ccu_stoch_k'] = ta.momentum.stoch(\n",
        "    df_ccu['High'], df_ccu['Low'], df_ccu['Close'],\n",
        "    window = 14, smooth_window = 1)\n",
        "df_ccu['ccu_stoch_k'].iloc[13] #Primer valor del indicador estocástico"
      ],
      "metadata": {
        "colab": {
          "base_uri": "https://localhost:8080/"
        },
        "id": "hFpwswbtlq6U",
        "outputId": "7679c0fc-5a2c-4c15-b600-d7da03f312a1"
      },
      "execution_count": null,
      "outputs": [
        {
          "output_type": "execute_result",
          "data": {
            "text/plain": [
              "36.55263157894727"
            ]
          },
          "metadata": {},
          "execution_count": 20
        }
      ]
    },
    {
      "cell_type": "markdown",
      "source": [
        "#Columna booleana que indica cuándo el valor del estocástico es menor a 20"
      ],
      "metadata": {
        "id": "0Ae2Uw91l1E1"
      }
    },
    {
      "cell_type": "code",
      "source": [
        "df_ccu['stochastic_menor_20'] = np.nan\n",
        "i = 13\n",
        "while i <= (df_ccu.shape[0]-1):\n",
        "  if df_ccu['ccu_stoch_k'].iloc[i] < 20:\n",
        "    df_ccu['stochastic_menor_20'].iloc[i] = 1\n",
        "  else:\n",
        "    df_ccu['stochastic_menor_20'].iloc[i] = 0\n",
        "  i+= 1\n"
      ],
      "metadata": {
        "id": "3jblqAycl2je"
      },
      "execution_count": null,
      "outputs": []
    },
    {
      "cell_type": "markdown",
      "source": [
        "#Data Cencoshopp"
      ],
      "metadata": {
        "id": "sPPCNDH1mB-I"
      }
    },
    {
      "cell_type": "code",
      "source": [
        "df_cencoshopp = pd.read_csv('CENCOSHOPP.csv', index_col = 'Date')\n",
        "print(df_cencoshopp)"
      ],
      "metadata": {
        "colab": {
          "base_uri": "https://localhost:8080/"
        },
        "id": "VpenYsmemDtF",
        "outputId": "a08f0396-4d3f-49c5-b12a-d22200432591"
      },
      "execution_count": null,
      "outputs": [
        {
          "output_type": "stream",
          "name": "stdout",
          "text": [
            "              Open    High     Low   Close     Volume\n",
            "Date                                                 \n",
            "2019-06-28  1539.9  1549.5  1517.0  1546.0  499704128\n",
            "2019-07-01  1548.0  1586.0  1548.0  1585.2   11033430\n",
            "2019-07-02  1590.0  1595.0  1580.0  1589.9    9794373\n",
            "2019-07-03  1589.9  1643.9  1589.9  1607.0    5455779\n",
            "2019-07-04  1609.0  1630.1  1607.0  1630.1    4139441\n",
            "...            ...     ...     ...     ...        ...\n",
            "2024-04-15  1559.6  1559.6  1490.0  1509.8    1118082\n",
            "2024-04-16  1509.8  1543.0  1491.0  1496.7     173157\n",
            "2024-04-17  1496.7  1512.9  1447.1  1465.9     866453\n",
            "2024-04-18  1465.9  1498.0  1421.9  1435.5    1622962\n",
            "2024-04-19  1435.0  1455.0  1425.9  1436.7    1591530\n",
            "\n",
            "[1200 rows x 5 columns]\n"
          ]
        }
      ]
    },
    {
      "cell_type": "markdown",
      "source": [
        "#Cálculo del indicador estocástico con una ventana de 14 periodos"
      ],
      "metadata": {
        "id": "vKcnlE-RmNRd"
      }
    },
    {
      "cell_type": "code",
      "source": [
        "df_cencoshopp['cencoshopp_stoch_k'] = ta.momentum.stoch(\n",
        "    df_cencoshopp['High'], df_cencoshopp['Low'], df_cencoshopp['Close'],\n",
        "    window = 14, smooth_window = 1)\n",
        "df_cencoshopp['cencoshopp_stoch_k'].iloc[13] #Primer valor del indicador estocástico"
      ],
      "metadata": {
        "colab": {
          "base_uri": "https://localhost:8080/"
        },
        "id": "tAUXupM9mO_i",
        "outputId": "fb48ffde-0a44-4c95-f3dc-b1795470d10a"
      },
      "execution_count": null,
      "outputs": [
        {
          "output_type": "execute_result",
          "data": {
            "text/plain": [
              "56.185973207249724"
            ]
          },
          "metadata": {},
          "execution_count": 23
        }
      ]
    },
    {
      "cell_type": "markdown",
      "source": [
        "#Columna booleana que indica cuándo el valor del estocástico es menor a 20"
      ],
      "metadata": {
        "id": "PsAzf7Pyma4S"
      }
    },
    {
      "cell_type": "code",
      "source": [
        "df_cencoshopp['stochastic_menor_20'] = np.nan\n",
        "i = 13\n",
        "while i <= (df_cencoshopp.shape[0]-1):\n",
        "  if df_cencoshopp['cencoshopp_stoch_k'].iloc[i] < 20:\n",
        "    df_cencoshopp['stochastic_menor_20'].iloc[i] = 1\n",
        "  else:\n",
        "    df_cencoshopp['stochastic_menor_20'].iloc[i] = 0\n",
        "  i+= 1\n"
      ],
      "metadata": {
        "id": "SXU1M_2wmabd"
      },
      "execution_count": null,
      "outputs": []
    },
    {
      "cell_type": "markdown",
      "source": [
        "#Data Cencosud"
      ],
      "metadata": {
        "id": "aaBjLLE_mnCb"
      }
    },
    {
      "cell_type": "code",
      "source": [
        "df_cencosud = pd.read_csv('CENCOSUD.csv', index_col = 'Date')\n",
        "print(df_cencosud)"
      ],
      "metadata": {
        "colab": {
          "base_uri": "https://localhost:8080/"
        },
        "id": "l8m7CkjVmon9",
        "outputId": "17c13944-b15d-47b6-804b-5c7181e567bf"
      },
      "execution_count": null,
      "outputs": [
        {
          "output_type": "stream",
          "name": "stdout",
          "text": [
            "              Open    High     Low   Close   Volume\n",
            "Date                                               \n",
            "2014-04-07  1756.6  1810.0  1740.0  1801.8  1928945\n",
            "2014-04-08  1765.6  1858.9  1765.0  1855.1  3540465\n",
            "2014-04-09  1861.0  1899.0  1855.0  1898.0  2815980\n",
            "2014-04-10  1898.1  1900.2  1850.0  1872.2  1164023\n",
            "2014-04-11  1872.2  1880.0  1825.0  1873.9   952602\n",
            "...            ...     ...     ...     ...      ...\n",
            "2024-04-02  1715.0  1725.0  1691.2  1710.0  2030624\n",
            "2024-04-03  1710.0  1722.9  1690.0  1690.0  2968370\n",
            "2024-04-04  1690.0  1700.0  1671.6  1676.0  3238089\n",
            "2024-04-05  1676.0  1688.7  1645.0  1645.0  2376042\n",
            "2024-04-06     0.0     0.0     0.0  1645.0        0\n",
            "\n",
            "[2491 rows x 5 columns]\n"
          ]
        }
      ]
    },
    {
      "cell_type": "markdown",
      "source": [
        "#Cálculo del indicador estocástico con una ventana de 14 periodos"
      ],
      "metadata": {
        "id": "qAieBViJmvZZ"
      }
    },
    {
      "cell_type": "code",
      "source": [
        "df_cencosud['cencosud_stoch_k'] = ta.momentum.stoch(\n",
        "    df_cencosud['High'], df_cencosud['Low'], df_cencosud['Close'],\n",
        "    window = 14, smooth_window = 1)\n",
        "df_cencosud['cencosud_stoch_k'].iloc[13] #Primer valor del indicador estocástico"
      ],
      "metadata": {
        "colab": {
          "base_uri": "https://localhost:8080/"
        },
        "id": "pjSTusp6mvBm",
        "outputId": "ca588ee0-c2d7-4b80-cf27-ffd48035cfd5"
      },
      "execution_count": null,
      "outputs": [
        {
          "output_type": "execute_result",
          "data": {
            "text/plain": [
              "60.78947368421053"
            ]
          },
          "metadata": {},
          "execution_count": 26
        }
      ]
    },
    {
      "cell_type": "markdown",
      "source": [
        "#Columna booleana que indica cuándo el valor del estocástico es menor a 20"
      ],
      "metadata": {
        "id": "Sb8N3Q2cm7Ke"
      }
    },
    {
      "cell_type": "code",
      "source": [
        "df_cencosud['stochastic_menor_20'] = np.nan\n",
        "i = 13\n",
        "while i <= (df_cencosud.shape[0]-1):\n",
        "  if df_cencosud['cencosud_stoch_k'].iloc[i] < 20:\n",
        "    df_cencosud['stochastic_menor_20'].iloc[i] = 1\n",
        "  else:\n",
        "    df_cencosud['stochastic_menor_20'].iloc[i] = 0\n",
        "  i+= 1\n"
      ],
      "metadata": {
        "id": "NkLlKt_7m8Xc"
      },
      "execution_count": null,
      "outputs": []
    },
    {
      "cell_type": "markdown",
      "source": [
        "#Data Banco Chile"
      ],
      "metadata": {
        "id": "G6bF56EjnJof"
      }
    },
    {
      "cell_type": "code",
      "source": [
        "df_bchile = pd.read_csv('CHILE.csv', index_col = 'Date')\n",
        "print(df_bchile)"
      ],
      "metadata": {
        "colab": {
          "base_uri": "https://localhost:8080/"
        },
        "id": "riF7Mj1ynIwo",
        "outputId": "d3b61eab-4de7-4ffc-d149-b6d7e07bcddb"
      },
      "execution_count": null,
      "outputs": [
        {
          "output_type": "stream",
          "name": "stdout",
          "text": [
            "                  Open      High       Low     Close     Volume\n",
            "Date                                                           \n",
            "2014-04-21   62.250130   62.0061   61.7796   61.9103   21175700\n",
            "2014-04-22   61.910385   62.6335   61.9103   62.4942   44124676\n",
            "2014-04-23   62.494140   62.6073   61.8667   62.0846   31819556\n",
            "2014-04-24   62.084553   62.2152   61.7796   61.8580   32810178\n",
            "2014-04-25   61.858044   62.0147   61.1696   61.7012   27569114\n",
            "...                ...       ...       ...       ...        ...\n",
            "2024-04-15  107.500000  109.0000  105.9300  106.0000   51145824\n",
            "2024-04-16  106.010000  108.0000  104.8800  106.4900  284295488\n",
            "2024-04-17  106.490000  111.0000  104.5700  107.2000   57746776\n",
            "2024-04-18  107.000000  109.0000  106.0100  106.3100   52783096\n",
            "2024-04-19  106.290000  107.2000  104.5400  104.6500   25993880\n",
            "\n",
            "[2491 rows x 5 columns]\n"
          ]
        }
      ]
    },
    {
      "cell_type": "markdown",
      "source": [
        "#Cálculo del indicador estocástico con una ventana de 14 periodos"
      ],
      "metadata": {
        "id": "mvawfnIGnU_b"
      }
    },
    {
      "cell_type": "code",
      "source": [
        "df_bchile['bchile_stoch_k'] = ta.momentum.stoch(\n",
        "    df_bchile['High'], df_bchile['Low'], df_bchile['Close'],\n",
        "    window = 14, smooth_window = 1)\n",
        "df_bchile['bchile_stoch_k'].iloc[13] #Primer valor del indicador estocástico"
      ],
      "metadata": {
        "colab": {
          "base_uri": "https://localhost:8080/"
        },
        "id": "bEVk9cUWnUki",
        "outputId": "5e414a26-bf27-4f91-832a-fdcaf862c332"
      },
      "execution_count": null,
      "outputs": [
        {
          "output_type": "execute_result",
          "data": {
            "text/plain": [
              "99.29851909586907"
            ]
          },
          "metadata": {},
          "execution_count": 29
        }
      ]
    },
    {
      "cell_type": "markdown",
      "source": [
        "#Columna booleana que indica cuándo el valor del estocástico es menor a 20"
      ],
      "metadata": {
        "id": "ePWUqO1AngU8"
      }
    },
    {
      "cell_type": "code",
      "source": [
        "df_bchile['stochastic_menor_20'] = np.nan\n",
        "i = 13\n",
        "while i <= (df_bchile.shape[0]-1):\n",
        "  if df_bchile['bchile_stoch_k'].iloc[i] < 20:\n",
        "    df_bchile['stochastic_menor_20'].iloc[i] = 1\n",
        "  else:\n",
        "    df_bchile['stochastic_menor_20'].iloc[i] = 0\n",
        "  i+= 1"
      ],
      "metadata": {
        "id": "yxfoCo8Knf6b"
      },
      "execution_count": null,
      "outputs": []
    },
    {
      "cell_type": "markdown",
      "source": [
        "#Data CMPC"
      ],
      "metadata": {
        "id": "DOm2w-xxnrRe"
      }
    },
    {
      "cell_type": "code",
      "source": [
        "df_cmpc = pd.read_csv('CMPC.csv', index_col = 'Date')\n",
        "print(df_cmpc)"
      ],
      "metadata": {
        "colab": {
          "base_uri": "https://localhost:8080/"
        },
        "id": "-j2fPHzMnsSR",
        "outputId": "6994491a-6892-424b-e2a7-3a272fd23cbf"
      },
      "execution_count": null,
      "outputs": [
        {
          "output_type": "stream",
          "name": "stdout",
          "text": [
            "                 Open       High        Low      Close   Volume\n",
            "Date                                                           \n",
            "2014-04-21  1284.8430  1288.8270  1269.9030  1283.7474   588096\n",
            "2014-04-22  1283.7474  1294.8030  1269.9030  1288.2294  2760128\n",
            "2014-04-23  1288.2294  1324.6831  1275.0822  1293.0103   393657\n",
            "2014-04-24  1293.0103  1304.7631  1274.8830  1290.5201   941376\n",
            "2014-04-25  1290.5203  1279.8630  1260.9390  1263.4290  1000193\n",
            "...               ...        ...        ...        ...      ...\n",
            "2024-04-15  1950.0000  1950.0000  1860.1000  1900.0000  1224474\n",
            "2024-04-16  1900.0000  1919.0000  1865.0000  1882.0000  2498710\n",
            "2024-04-17  1882.0000  1904.6000  1844.4000  1900.0000  2466111\n",
            "2024-04-18  1900.0000  1920.0000  1862.0000  1865.1000  3165216\n",
            "2024-04-19  1865.1000  1882.9000  1825.0000  1875.0000  1595876\n",
            "\n",
            "[2491 rows x 5 columns]\n"
          ]
        }
      ]
    },
    {
      "cell_type": "markdown",
      "source": [
        "#Cálculo del indicador estocástico con una ventana de 14 periodos"
      ],
      "metadata": {
        "id": "Odz7MARPnxgK"
      }
    },
    {
      "cell_type": "code",
      "source": [
        "df_cmpc['cmpc_stoch_k'] = ta.momentum.stoch(\n",
        "    df_cmpc['High'], df_cmpc['Low'], df_cmpc['Close'],\n",
        "    window = 14, smooth_window = 1)\n",
        "df_cmpc['cmpc_stoch_k'].iloc[13] #Primer valor del indicador estocástico"
      ],
      "metadata": {
        "colab": {
          "base_uri": "https://localhost:8080/"
        },
        "id": "d3G_M9JBnxKY",
        "outputId": "8b2d4238-0dcc-433a-e3c3-326261fc404b"
      },
      "execution_count": null,
      "outputs": [
        {
          "output_type": "execute_result",
          "data": {
            "text/plain": [
              "18.181882718991776"
            ]
          },
          "metadata": {},
          "execution_count": 32
        }
      ]
    },
    {
      "cell_type": "markdown",
      "source": [
        "#Columna booleana que indica cuándo el valor del estocástico es menor a 20"
      ],
      "metadata": {
        "id": "wqdmg4Wwn8OL"
      }
    },
    {
      "cell_type": "code",
      "source": [
        "df_cmpc['stochastic_menor_20'] = np.nan\n",
        "i = 13\n",
        "while i <= (df_cmpc.shape[0]-1):\n",
        "  if df_cmpc['cmpc_stoch_k'].iloc[i] < 20:\n",
        "    df_cmpc['stochastic_menor_20'].iloc[i] = 1\n",
        "  else:\n",
        "    df_cmpc['stochastic_menor_20'].iloc[i] = 0\n",
        "  i+= 1\n"
      ],
      "metadata": {
        "id": "bBJ_uDaZn7kS"
      },
      "execution_count": null,
      "outputs": []
    },
    {
      "cell_type": "markdown",
      "source": [
        "#Data COLBUN"
      ],
      "metadata": {
        "id": "yTIAgC-OoOVI"
      }
    },
    {
      "cell_type": "code",
      "source": [
        "df_colbun = pd.read_csv('COLBUN.csv', index_col = 'Date')\n",
        "print(df_colbun)"
      ],
      "metadata": {
        "colab": {
          "base_uri": "https://localhost:8080/"
        },
        "id": "NOiyMcfQoQil",
        "outputId": "593fde13-163f-4883-bbfa-f31ad038a5b0"
      },
      "execution_count": null,
      "outputs": [
        {
          "output_type": "stream",
          "name": "stdout",
          "text": [
            "              Open    High     Low   Close    Volume\n",
            "Date                                                \n",
            "2014-04-21  141.57  142.99  140.00  141.40   9544958\n",
            "2014-04-22  141.40  141.40  138.01  139.53   4857281\n",
            "2014-04-23  139.53  140.00  139.00  139.00   7313176\n",
            "2014-04-24  139.00  139.50  137.00  137.16   4472286\n",
            "2014-04-25  137.16  138.50  135.01  137.12   4845911\n",
            "...            ...     ...     ...     ...       ...\n",
            "2024-04-15  126.50  126.50  122.90  123.80  12516102\n",
            "2024-04-16  123.80  125.08  123.00  123.01   5348738\n",
            "2024-04-17  123.12  124.48  121.00  122.04  21246078\n",
            "2024-04-18  122.04  123.38  121.50  121.50   6733204\n",
            "2024-04-19  121.50  123.99  119.00  120.90  18549240\n",
            "\n",
            "[2491 rows x 5 columns]\n"
          ]
        }
      ]
    },
    {
      "cell_type": "markdown",
      "source": [
        "#Cálculo del indicador estocástico con una ventana de 14 periodos"
      ],
      "metadata": {
        "id": "fRoMpJgloXj6"
      }
    },
    {
      "cell_type": "code",
      "source": [
        "df_colbun['colbun_stoch_k'] = ta.momentum.stoch(\n",
        "    df_colbun['High'], df_colbun['Low'], df_colbun['Close'],\n",
        "    window = 14, smooth_window = 1)\n",
        "df_colbun['colbun_stoch_k'].iloc[13] #Primer valor del indicador estocástico"
      ],
      "metadata": {
        "colab": {
          "base_uri": "https://localhost:8080/"
        },
        "id": "DBJWrxtdoIP-",
        "outputId": "2e825938-d875-4f17-df85-0cb0352ebb11"
      },
      "execution_count": null,
      "outputs": [
        {
          "output_type": "execute_result",
          "data": {
            "text/plain": [
              "34.29286608260333"
            ]
          },
          "metadata": {},
          "execution_count": 35
        }
      ]
    },
    {
      "cell_type": "markdown",
      "source": [
        "#Columna booleana que indica cuándo el valor del estocástico es menor a 20"
      ],
      "metadata": {
        "id": "P5oDbQH4oiW7"
      }
    },
    {
      "cell_type": "code",
      "source": [
        "df_colbun['stochastic_menor_20'] = np.nan\n",
        "i = 13\n",
        "while i <= (df_colbun.shape[0]-1):\n",
        "  if df_colbun['colbun_stoch_k'].iloc[i] < 20:\n",
        "    df_colbun['stochastic_menor_20'].iloc[i] = 1\n",
        "  else:\n",
        "    df_colbun['stochastic_menor_20'].iloc[i] = 0\n",
        "  i+= 1"
      ],
      "metadata": {
        "id": "MKJYrKAyoh7B"
      },
      "execution_count": null,
      "outputs": []
    },
    {
      "cell_type": "markdown",
      "source": [
        "#Data Viña Concha y Toro"
      ],
      "metadata": {
        "id": "0L-I0iVeotW1"
      }
    },
    {
      "cell_type": "code",
      "source": [
        "df_concha_y_toro = pd.read_csv('CONCHATORO.csv', index_col = 'Date')\n",
        "print(df_concha_y_toro)"
      ],
      "metadata": {
        "colab": {
          "base_uri": "https://localhost:8080/"
        },
        "id": "wyVodBLdovO9",
        "outputId": "96cc3277-f854-4d92-f56d-a84e751ffd71"
      },
      "execution_count": null,
      "outputs": [
        {
          "output_type": "stream",
          "name": "stdout",
          "text": [
            "              Open    High     Low   Close   Volume\n",
            "Date                                               \n",
            "2014-04-21  1150.5  1160.0  1150.0  1152.3   158340\n",
            "2014-04-22  1152.3  1164.0  1150.0  1158.9   243458\n",
            "2014-04-23  1158.9  1174.8  1150.0  1171.3   960749\n",
            "2014-04-24  1171.3  1170.0  1160.0  1165.6   167241\n",
            "2014-04-25  1165.6  1170.0  1150.0  1150.1   568823\n",
            "...            ...     ...     ...     ...      ...\n",
            "2024-04-15  1150.0  1199.9  1130.4  1142.1   976853\n",
            "2024-04-16  1142.1  1190.0  1130.0  1140.0  2441330\n",
            "2024-04-17  1140.0  1160.0  1145.1  1145.1  1438026\n",
            "2024-04-18  1145.1  1150.0  1145.2  1146.0   427568\n",
            "2024-04-19  1160.0  1190.0  1150.0  1180.0  1049888\n",
            "\n",
            "[2491 rows x 5 columns]\n"
          ]
        }
      ]
    },
    {
      "cell_type": "markdown",
      "source": [
        "#Cálculo del indicador estocástico con una ventana de 14 periodos"
      ],
      "metadata": {
        "id": "kcgSv2Ruo5D4"
      }
    },
    {
      "cell_type": "code",
      "source": [
        "df_concha_y_toro['concha_y_toro_stoch_k'] = ta.momentum.stoch(\n",
        "    df_concha_y_toro['High'], df_concha_y_toro['Low'], df_concha_y_toro['Close'],\n",
        "    window = 14, smooth_window = 1)\n",
        "df_concha_y_toro['concha_y_toro_stoch_k'].iloc[13] #Primer valor del indicador estocástico"
      ],
      "metadata": {
        "colab": {
          "base_uri": "https://localhost:8080/"
        },
        "id": "bXzhydbjo70J",
        "outputId": "86b1d9d9-d694-4d39-bbdb-9860a6c99899"
      },
      "execution_count": null,
      "outputs": [
        {
          "output_type": "execute_result",
          "data": {
            "text/plain": [
              "20.443740095087335"
            ]
          },
          "metadata": {},
          "execution_count": 38
        }
      ]
    },
    {
      "cell_type": "markdown",
      "source": [
        "#Columna booleana que indica cuándo el valor del estocástico es menor a 20"
      ],
      "metadata": {
        "id": "qml8DhUBpuna"
      }
    },
    {
      "cell_type": "code",
      "source": [
        "df_concha_y_toro['stochastic_menor_20'] = np.nan\n",
        "i = 13\n",
        "while i <= (df_concha_y_toro.shape[0]-1):\n",
        "  if df_concha_y_toro['concha_y_toro_stoch_k'].iloc[i] < 20:\n",
        "    df_concha_y_toro['stochastic_menor_20'].iloc[i] = 1\n",
        "  else:\n",
        "    df_concha_y_toro['stochastic_menor_20'].iloc[i] = 0\n",
        "  i+= 1"
      ],
      "metadata": {
        "id": "7D3sgalQpxWq"
      },
      "execution_count": null,
      "outputs": []
    },
    {
      "cell_type": "markdown",
      "source": [
        "#Data Copec"
      ],
      "metadata": {
        "id": "piXyy2P5p9qr"
      }
    },
    {
      "cell_type": "code",
      "source": [
        "df_copec = pd.read_csv('COPEC.csv', index_col = 'Date')\n",
        "print(df_copec)"
      ],
      "metadata": {
        "colab": {
          "base_uri": "https://localhost:8080/"
        },
        "id": "K-fCxseUqBAG",
        "outputId": "7de50127-b29d-4e53-9d79-f8f509c57fb1"
      },
      "execution_count": null,
      "outputs": [
        {
          "output_type": "stream",
          "name": "stdout",
          "text": [
            "              Open    High     Low   Close  Volume\n",
            "Date                                              \n",
            "2014-04-21  7330.4  7412.0  7290.0  7383.7  261864\n",
            "2014-04-22  7350.0  7400.0  7335.0  7365.9  213651\n",
            "2014-04-23  7365.9  7380.0  7300.0  7342.2  281599\n",
            "2014-04-24  7345.0  7400.0  7320.0  7388.5  575102\n",
            "2014-04-25  7388.5  7388.5  7260.0  7271.8  147305\n",
            "...            ...     ...     ...     ...     ...\n",
            "2024-04-15  7000.0  7062.4  6885.0  7004.0  340507\n",
            "2024-04-16  7004.0  7004.0  6871.0  6916.7  510863\n",
            "2024-04-17  6916.7  7000.0  6845.0  7000.0  406074\n",
            "2024-04-18  7000.0  7090.0  6948.5  7010.0  382671\n",
            "2024-04-19  7010.0  7090.2  6900.8  6984.9  321911\n",
            "\n",
            "[2491 rows x 5 columns]\n"
          ]
        }
      ]
    },
    {
      "cell_type": "markdown",
      "source": [
        "#Cálculo del indicador estocástico con una ventana de 14 periodos"
      ],
      "metadata": {
        "id": "Y0KJwjZ2qGKT"
      }
    },
    {
      "cell_type": "code",
      "source": [
        "df_copec['copec_stoch_k'] = ta.momentum.stoch(\n",
        "    df_copec['High'], df_copec['Low'], df_copec['Close'],\n",
        "    window = 14, smooth_window = 1)\n",
        "df_copec['copec_stoch_k'].iloc[13] #Primer valor del indicador estocástico"
      ],
      "metadata": {
        "colab": {
          "base_uri": "https://localhost:8080/"
        },
        "id": "4DNevhHbqID7",
        "outputId": "15453379-7ff2-4582-f0e0-8d46f05270a5"
      },
      "execution_count": null,
      "outputs": [
        {
          "output_type": "execute_result",
          "data": {
            "text/plain": [
              "76.49305555555561"
            ]
          },
          "metadata": {},
          "execution_count": 41
        }
      ]
    },
    {
      "cell_type": "markdown",
      "source": [
        "#Columna booleana que indica cuándo el valor del estocástico es menor a 20"
      ],
      "metadata": {
        "id": "4lYW_DP1qRgR"
      }
    },
    {
      "cell_type": "code",
      "source": [
        "df_copec['stochastic_menor_20'] = np.nan\n",
        "i = 13\n",
        "while i <= (df_copec.shape[0]-1):\n",
        "  if df_copec['copec_stoch_k'].iloc[i] < 20:\n",
        "    df_copec['stochastic_menor_20'].iloc[i] = 1\n",
        "  else:\n",
        "    df_copec['stochastic_menor_20'].iloc[i] = 0\n",
        "  i+= 1"
      ],
      "metadata": {
        "id": "u4x08VnBqFy-"
      },
      "execution_count": null,
      "outputs": []
    },
    {
      "cell_type": "markdown",
      "source": [
        "#Data ECL"
      ],
      "metadata": {
        "id": "FKeHekWmqbqS"
      }
    },
    {
      "cell_type": "code",
      "source": [
        "df_ecl = pd.read_csv('ECL.csv', index_col = 'Date')\n",
        "print(df_ecl)"
      ],
      "metadata": {
        "colab": {
          "base_uri": "https://localhost:8080/"
        },
        "id": "pwoUWtGAqdzj",
        "outputId": "0d3e06cb-ddad-4111-f8af-cafcdcb29ba0"
      },
      "execution_count": null,
      "outputs": [
        {
          "output_type": "stream",
          "name": "stdout",
          "text": [
            "              Open    High     Low   Close   Volume\n",
            "Date                                               \n",
            "2014-04-21  721.53  720.00  714.40  719.63   261638\n",
            "2014-04-22  719.63  719.50  712.00  718.11  1691996\n",
            "2014-04-23  718.11  718.20  711.00  713.00   433505\n",
            "2014-04-24  713.00  714.00  705.00  710.00   282547\n",
            "2014-04-25  710.00  706.00  700.00  702.82   565553\n",
            "...            ...     ...     ...     ...      ...\n",
            "2024-04-15  815.00  823.29  814.00  814.50   713729\n",
            "2024-04-16  814.50  825.01  795.01  810.00  1019711\n",
            "2024-04-17  810.00  814.45  784.99  799.90   528710\n",
            "2024-04-18  799.90  804.00  795.79  800.00   911643\n",
            "2024-04-19  799.99  799.99  776.00  794.83   618581\n",
            "\n",
            "[2490 rows x 5 columns]\n"
          ]
        }
      ]
    },
    {
      "cell_type": "markdown",
      "source": [
        "#Cálculo del indicador estocástico con una ventana de 14 periodos"
      ],
      "metadata": {
        "id": "wwO25mm9qjJ7"
      }
    },
    {
      "cell_type": "code",
      "source": [
        "df_ecl['ecl_stoch_k'] = ta.momentum.stoch(\n",
        "    df_ecl['High'], df_ecl['Low'], df_ecl['Close'],\n",
        "    window = 14, smooth_window = 1)\n",
        "df_ecl['ecl_stoch_k'].iloc[13] #Primer valor del indicador estocástico"
      ],
      "metadata": {
        "colab": {
          "base_uri": "https://localhost:8080/"
        },
        "id": "dqFCOuqoqiiR",
        "outputId": "cf94fcc8-906f-4790-fae8-3cc484337352"
      },
      "execution_count": null,
      "outputs": [
        {
          "output_type": "execute_result",
          "data": {
            "text/plain": [
              "65.0574712643677"
            ]
          },
          "metadata": {},
          "execution_count": 44
        }
      ]
    },
    {
      "cell_type": "markdown",
      "source": [
        "#Columna booleana que indica cuándo el valor del estocástico es menor a 20"
      ],
      "metadata": {
        "id": "KIOHkVEjqxNg"
      }
    },
    {
      "cell_type": "code",
      "source": [
        "df_ecl['stochastic_menor_20'] = np.nan\n",
        "i = 13\n",
        "while i <= (df_ecl.shape[0]-1):\n",
        "  if df_ecl['ecl_stoch_k'].iloc[i] < 20:\n",
        "    df_ecl['stochastic_menor_20'].iloc[i] = 1\n",
        "  else:\n",
        "    df_ecl['stochastic_menor_20'].iloc[i] = 0\n",
        "  i+= 1"
      ],
      "metadata": {
        "id": "o72yVMBVqaoa"
      },
      "execution_count": null,
      "outputs": []
    },
    {
      "cell_type": "markdown",
      "source": [
        "#Data Enelam"
      ],
      "metadata": {
        "id": "hqI4-ahfq80l"
      }
    },
    {
      "cell_type": "code",
      "source": [
        "df_enelam = pd.read_csv('ENELAM.csv', index_col = 'Date')\n",
        "print(df_enelam)"
      ],
      "metadata": {
        "colab": {
          "base_uri": "https://localhost:8080/"
        },
        "id": "lzB_eK92rN3h",
        "outputId": "44024945-544a-46b9-9d4e-a7cb757a3fd2"
      },
      "execution_count": null,
      "outputs": [
        {
          "output_type": "stream",
          "name": "stdout",
          "text": [
            "                  Open      High       Low     Close    Volume\n",
            "Date                                                          \n",
            "2014-04-21  110.264725  110.3880  109.0328  109.3284  17849186\n",
            "2014-04-22  108.453750  109.7473  108.4168  109.4948  26432332\n",
            "2014-04-23  109.494780  110.1416  109.0328  109.2915  22340308\n",
            "2014-04-24  109.291480  109.6488  109.0143  109.3038  13335958\n",
            "2014-04-25  109.303856  109.6488  107.1909  107.4004  25150136\n",
            "...                ...       ...       ...       ...       ...\n",
            "2024-04-15   92.000000   92.0000   90.1500   90.1500  22802730\n",
            "2024-04-16   90.180000   90.9900   90.0400   90.1500  63388216\n",
            "2024-04-17   90.150000   91.8000   88.0000   90.7900  60723744\n",
            "2024-04-18   90.790000   91.4900   90.6000   91.2000  33539552\n",
            "2024-04-19   91.200000   91.8100   89.9800   89.9800  29856412\n",
            "\n",
            "[2491 rows x 5 columns]\n"
          ]
        }
      ]
    },
    {
      "cell_type": "markdown",
      "source": [
        "#Cálculo del indicador estocástico con una ventana de 14 periodos"
      ],
      "metadata": {
        "id": "iJYheAsFrT7I"
      }
    },
    {
      "cell_type": "code",
      "source": [
        "df_enelam['enelam_stoch_k'] = ta.momentum.stoch(\n",
        "    df_enelam['High'], df_enelam['Low'], df_enelam['Close'],\n",
        "    window = 14, smooth_window = 1)\n",
        "df_enelam['enelam_stoch_k'].iloc[13] #Primer valor del indicador estocástico"
      ],
      "metadata": {
        "colab": {
          "base_uri": "https://localhost:8080/"
        },
        "id": "WzjHjxoLrVgo",
        "outputId": "0411faa0-2521-47b3-c307-99648a968178"
      },
      "execution_count": null,
      "outputs": [
        {
          "output_type": "execute_result",
          "data": {
            "text/plain": [
              "69.52093753950034"
            ]
          },
          "metadata": {},
          "execution_count": 47
        }
      ]
    },
    {
      "cell_type": "markdown",
      "source": [
        "#Columna booleana que indica cuándo el valor del estocástico es menor a 20"
      ],
      "metadata": {
        "id": "R7yY_sW6rhJl"
      }
    },
    {
      "cell_type": "code",
      "source": [
        "df_enelam['stochastic_menor_20'] = np.nan\n",
        "i = 13\n",
        "while i <= (df_enelam.shape[0]-1):\n",
        "  if df_enelam['enelam_stoch_k'].iloc[i] < 20:\n",
        "    df_enelam['stochastic_menor_20'].iloc[i] = 1\n",
        "  else:\n",
        "    df_enelam['stochastic_menor_20'].iloc[i] = 0\n",
        "  i+= 1"
      ],
      "metadata": {
        "id": "Ef43d90urgvL"
      },
      "execution_count": null,
      "outputs": []
    },
    {
      "cell_type": "markdown",
      "source": [
        "#Data Entel"
      ],
      "metadata": {
        "id": "0DIpRuUvrtTD"
      }
    },
    {
      "cell_type": "code",
      "source": [
        "df_entel = pd.read_csv('ENTEL.csv', index_col = 'Date')\n",
        "print(df_entel)"
      ],
      "metadata": {
        "colab": {
          "base_uri": "https://localhost:8080/"
        },
        "id": "GXEDosc0rvGz",
        "outputId": "d0bbe001-343a-4852-a7c4-7110fc04fa63"
      },
      "execution_count": null,
      "outputs": [
        {
          "output_type": "stream",
          "name": "stdout",
          "text": [
            "                 Open       High        Low      Close  Volume\n",
            "Date                                                          \n",
            "2014-04-21  6777.9840  6770.7540  6702.3630  6719.5580   44336\n",
            "2014-04-22  6719.5580  6741.5410  6653.5117  6674.3223  240182\n",
            "2014-04-23  6674.3223  6731.6733  6654.4890  6693.8623  105851\n",
            "2014-04-24  6707.2476  6887.9966  6624.5920  6766.3574  223551\n",
            "2014-04-25  6766.3574  6741.4434  6644.7183  6721.5120  204809\n",
            "...               ...        ...        ...        ...     ...\n",
            "2024-04-15  3600.0000  3625.1000  3553.0000  3595.0000  245134\n",
            "2024-04-16  3595.0000  3636.0000  3450.0000  3500.0000  162179\n",
            "2024-04-17  3500.0000  3545.0000  3355.0000  3449.0000  236966\n",
            "2024-04-18  3449.0000  3549.9000  3451.0000  3455.4000  100422\n",
            "2024-04-19  3455.4000  3524.0000  3455.0000  3503.0000  329583\n",
            "\n",
            "[2491 rows x 5 columns]\n"
          ]
        }
      ]
    },
    {
      "cell_type": "markdown",
      "source": [
        "#Cálculo del indicador estocástico con una ventana de 14 periodos"
      ],
      "metadata": {
        "id": "oZYw_FBer4Ia"
      }
    },
    {
      "cell_type": "code",
      "source": [
        "df_entel['entel_stoch_k'] = ta.momentum.stoch(\n",
        "    df_entel['High'], df_entel['Low'], df_entel['Close'],\n",
        "    window = 14, smooth_window = 1)\n",
        "df_entel['entel_stoch_k'].iloc[13] #Primer valor del indicador estocástico"
      ],
      "metadata": {
        "colab": {
          "base_uri": "https://localhost:8080/"
        },
        "id": "2e09GRYor3ge",
        "outputId": "53c4fd74-40fe-4ffd-a35c-51b798adb8b0"
      },
      "execution_count": null,
      "outputs": [
        {
          "output_type": "execute_result",
          "data": {
            "text/plain": [
              "80.08174496572941"
            ]
          },
          "metadata": {},
          "execution_count": 50
        }
      ]
    },
    {
      "cell_type": "markdown",
      "source": [
        "#Columna booleana que indica cuándo el valor del estocástico es menor a 20"
      ],
      "metadata": {
        "id": "dgpsm95WsF5C"
      }
    },
    {
      "cell_type": "code",
      "source": [
        "df_entel['stochastic_menor_20'] = np.nan\n",
        "i = 13\n",
        "while i <= (df_entel.shape[0]-1):\n",
        "  if df_entel['entel_stoch_k'].iloc[i] < 20:\n",
        "    df_entel['stochastic_menor_20'].iloc[i] = 1\n",
        "  else:\n",
        "    df_entel['stochastic_menor_20'].iloc[i] = 0\n",
        "  i+= 1"
      ],
      "metadata": {
        "id": "66EoKe05rs4-"
      },
      "execution_count": null,
      "outputs": []
    },
    {
      "cell_type": "markdown",
      "source": [
        "#Data Falabella"
      ],
      "metadata": {
        "id": "tfgn3A18sRMA"
      }
    },
    {
      "cell_type": "code",
      "source": [
        "df_falabella = pd.read_csv('FALABELLA.csv', index_col = 'Date')\n",
        "print(df_falabella)"
      ],
      "metadata": {
        "colab": {
          "base_uri": "https://localhost:8080/"
        },
        "id": "HaFsp3s9sS4n",
        "outputId": "068a2f61-2edc-4e69-968d-6242a8591b57"
      },
      "execution_count": null,
      "outputs": [
        {
          "output_type": "stream",
          "name": "stdout",
          "text": [
            "              Open    High     Low   Close   Volume\n",
            "Date                                               \n",
            "2014-04-21  4925.2  4940.0  4820.0  4853.3   765477\n",
            "2014-04-22  4855.0  4880.0  4802.0  4846.4  1381659\n",
            "2014-04-23  4846.4  4880.0  4820.0  4857.1   304591\n",
            "2014-04-24  4870.0  4890.0  4820.0  4872.2   915448\n",
            "2014-04-25  4872.2  4880.0  4780.0  4805.9   589500\n",
            "...            ...     ...     ...     ...      ...\n",
            "2024-04-15  2467.0  2515.0  2407.0  2425.0  2231141\n",
            "2024-04-16  2425.1  2450.0  2380.0  2419.0  2965024\n",
            "2024-04-17  2419.0  2470.0  2391.4  2460.0  1607434\n",
            "2024-04-18  2460.0  2540.2  2420.1  2534.0  1771556\n",
            "2024-04-19  2534.0  2550.0  2460.5  2481.0  1231926\n",
            "\n",
            "[2491 rows x 5 columns]\n"
          ]
        }
      ]
    },
    {
      "cell_type": "markdown",
      "source": [
        "#Cálculo del indicador estocástico con una ventana de 14 periodos"
      ],
      "metadata": {
        "id": "s72ZWvyesYyp"
      }
    },
    {
      "cell_type": "code",
      "source": [
        "df_falabella['falabella_stoch_k'] = ta.momentum.stoch(\n",
        "    df_falabella['High'], df_falabella['Low'], df_falabella['Close'],\n",
        "    window = 14, smooth_window = 1)\n",
        "df_falabella['falabella_stoch_k'].iloc[13] #Primer valor del indicador estocástico"
      ],
      "metadata": {
        "colab": {
          "base_uri": "https://localhost:8080/"
        },
        "id": "WZ0f74F5sYGA",
        "outputId": "d68c93b2-2981-429a-e97f-e060234b11cf"
      },
      "execution_count": null,
      "outputs": [
        {
          "output_type": "execute_result",
          "data": {
            "text/plain": [
              "27.73684210526306"
            ]
          },
          "metadata": {},
          "execution_count": 53
        }
      ]
    },
    {
      "cell_type": "markdown",
      "source": [
        "#Columna booleana que indica cuándo el valor del estocástico es menor a 20"
      ],
      "metadata": {
        "id": "z-vlMDj3smW9"
      }
    },
    {
      "cell_type": "code",
      "source": [
        "df_falabella['stochastic_menor_20'] = np.nan\n",
        "i = 13\n",
        "while i <= (df_falabella.shape[0]-1):\n",
        "  if df_falabella['falabella_stoch_k'].iloc[i] < 20:\n",
        "    df_falabella['stochastic_menor_20'].iloc[i] = 1\n",
        "  else:\n",
        "    df_falabella['stochastic_menor_20'].iloc[i] = 0\n",
        "  i+= 1\n"
      ],
      "metadata": {
        "id": "pzx5neSlsn3a"
      },
      "execution_count": null,
      "outputs": []
    },
    {
      "cell_type": "markdown",
      "source": [
        "#Data IAM"
      ],
      "metadata": {
        "id": "D_uzl3onsxRT"
      }
    },
    {
      "cell_type": "code",
      "source": [
        "df_iam = pd.read_csv('IAM.csv', index_col = 'Date')\n",
        "print(df_iam)"
      ],
      "metadata": {
        "colab": {
          "base_uri": "https://localhost:8080/"
        },
        "id": "N7qyjLrVszXz",
        "outputId": "d7855981-b35b-489c-c06a-06fc97b7f4cc"
      },
      "execution_count": null,
      "outputs": [
        {
          "output_type": "stream",
          "name": "stdout",
          "text": [
            "              Open    High     Low   Close   Volume\n",
            "Date                                               \n",
            "2014-04-21  907.38  919.00  907.40  919.00   614737\n",
            "2014-04-22  919.00  924.99  907.00  908.00  1086298\n",
            "2014-04-23  908.00  925.00  910.00  917.20   737402\n",
            "2014-04-24  917.20  920.00  915.00  917.89   266837\n",
            "2014-04-25  917.89  919.99  915.00  916.15   609773\n",
            "...            ...     ...     ...     ...      ...\n",
            "2024-04-15  755.00  750.00  735.00  747.99   398664\n",
            "2024-04-16  758.00  758.00  711.00  732.00  1312432\n",
            "2024-04-17  732.00  738.37  716.00  733.00   484151\n",
            "2024-04-18  733.00  735.00  721.32  730.00   232171\n",
            "2024-04-19  730.00  721.23  718.01  719.23   412680\n",
            "\n",
            "[2490 rows x 5 columns]\n"
          ]
        }
      ]
    },
    {
      "cell_type": "markdown",
      "source": [
        "#Cálculo del indicador estocástico con una ventana de 14 periodos"
      ],
      "metadata": {
        "id": "JsxgMkG1tI19"
      }
    },
    {
      "cell_type": "code",
      "source": [
        "df_iam['iam_stoch_k'] = ta.momentum.stoch(\n",
        "    df_iam['High'], df_iam['Low'], df_iam['Close'],\n",
        "    window = 14, smooth_window = 1)\n",
        "df_iam['iam_stoch_k'].iloc[13] #Primer valor del indicador estocástico"
      ],
      "metadata": {
        "colab": {
          "base_uri": "https://localhost:8080/"
        },
        "id": "rkdzllemtKUL",
        "outputId": "5cc70bac-1f5f-45bc-cfeb-d7e2d5e2f577"
      },
      "execution_count": null,
      "outputs": [
        {
          "output_type": "execute_result",
          "data": {
            "text/plain": [
              "60.29439516889987"
            ]
          },
          "metadata": {},
          "execution_count": 56
        }
      ]
    },
    {
      "cell_type": "markdown",
      "source": [
        "#Columna booleana que indica cuándo el valor del estocástico es menor a 20"
      ],
      "metadata": {
        "id": "wIN3n7-btUP8"
      }
    },
    {
      "cell_type": "code",
      "source": [
        "df_iam['stochastic_menor_20'] = np.nan\n",
        "i = 13\n",
        "while i <= (df_iam.shape[0]-1):\n",
        "  if df_iam['iam_stoch_k'].iloc[i] < 20:\n",
        "    df_iam['stochastic_menor_20'].iloc[i] = 1\n",
        "  else:\n",
        "    df_iam['stochastic_menor_20'].iloc[i] = 0\n",
        "  i+= 1\n"
      ],
      "metadata": {
        "id": "q8c4wqF4tIdy"
      },
      "execution_count": null,
      "outputs": []
    },
    {
      "cell_type": "markdown",
      "source": [
        "#Data ITAU"
      ],
      "metadata": {
        "id": "laL0-6Gutd-e"
      }
    },
    {
      "cell_type": "code",
      "source": [
        "df_itau = pd.read_csv('ITAUCL.csv', index_col = 'Date')\n",
        "print(df_itau)"
      ],
      "metadata": {
        "colab": {
          "base_uri": "https://localhost:8080/"
        },
        "id": "oBITwevvtgK2",
        "outputId": "92792509-17a8-448f-a88a-f5a155075109"
      },
      "execution_count": null,
      "outputs": [
        {
          "output_type": "stream",
          "name": "stdout",
          "text": [
            "                 Open       High        Low      Close  Volume\n",
            "Date                                                          \n",
            "2014-04-21  27646.310  27913.062  27642.342  27850.451   24160\n",
            "2014-04-22  27850.785  27996.396  27700.451  27821.621    9661\n",
            "2014-04-23  27821.690  27913.062  27325.676  27450.900    8562\n",
            "2014-04-24  27450.870  27454.955  27121.621  27184.234   20737\n",
            "2014-04-25  27184.242  27288.290  27079.730  27250.900    7796\n",
            "...               ...        ...        ...        ...     ...\n",
            "2024-04-15  10500.000  10500.000  10235.000  10240.000  153290\n",
            "2024-04-16  10240.000  10346.000  10112.000  10130.000  171022\n",
            "2024-04-17  10150.000  10350.000  10150.000  10200.000  221078\n",
            "2024-04-18  10300.000  10400.000  10190.000  10249.000  265798\n",
            "2024-04-19  10300.000  10300.000  10150.000  10170.000  209604\n",
            "\n",
            "[2491 rows x 5 columns]\n"
          ]
        }
      ]
    },
    {
      "cell_type": "markdown",
      "source": [
        "#Cálculo del indicador estocástico con una ventana de 14 periodos"
      ],
      "metadata": {
        "id": "hGAf_XIDtolk"
      }
    },
    {
      "cell_type": "code",
      "source": [
        "df_itau['itau_stoch_k'] = ta.momentum.stoch(\n",
        "    df_itau['High'], df_itau['Low'], df_itau['Close'],\n",
        "    window = 14, smooth_window = 1)\n",
        "df_itau['itau_stoch_k'].iloc[13] #Primer valor del indicador estocástico"
      ],
      "metadata": {
        "colab": {
          "base_uri": "https://localhost:8080/"
        },
        "id": "KJ4x1TSutq8y",
        "outputId": "e9c0817e-fb6d-4538-ab4e-8aa8e91ecf2d"
      },
      "execution_count": null,
      "outputs": [
        {
          "output_type": "execute_result",
          "data": {
            "text/plain": [
              "87.08510413822702"
            ]
          },
          "metadata": {},
          "execution_count": 59
        }
      ]
    },
    {
      "cell_type": "markdown",
      "source": [
        "#Columna booleana que indica cuándo el valor del estocástico es menor a 20"
      ],
      "metadata": {
        "id": "Rgd3EjQutyt9"
      }
    },
    {
      "cell_type": "code",
      "source": [
        "df_itau['stochastic_menor_20'] = np.nan\n",
        "i = 13\n",
        "while i <= (df_itau.shape[0]-1):\n",
        "  if df_itau['itau_stoch_k'].iloc[i] < 20:\n",
        "    df_itau['stochastic_menor_20'].iloc[i] = 1\n",
        "  else:\n",
        "    df_itau['stochastic_menor_20'].iloc[i] = 0\n",
        "  i+= 1\n"
      ],
      "metadata": {
        "id": "8pLcKJl-tybT"
      },
      "execution_count": null,
      "outputs": []
    }
  ]
}