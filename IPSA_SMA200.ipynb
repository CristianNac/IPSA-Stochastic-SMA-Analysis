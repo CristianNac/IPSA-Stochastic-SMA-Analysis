{
  "nbformat": 4,
  "nbformat_minor": 0,
  "metadata": {
    "colab": {
      "provenance": []
    },
    "kernelspec": {
      "name": "python3",
      "display_name": "Python 3"
    },
    "language_info": {
      "name": "python"
    }
  },
  "cells": [
    {
      "cell_type": "markdown",
      "source": [
        "#Data Aguas A"
      ],
      "metadata": {
        "id": "9pWE_5lM237O"
      }
    },
    {
      "cell_type": "code",
      "source": [
        "import pandas as pd"
      ],
      "metadata": {
        "id": "Qy0eu9qo2_SH"
      },
      "execution_count": null,
      "outputs": []
    }
  ]
}