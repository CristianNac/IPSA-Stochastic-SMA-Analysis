{
  "nbformat": 4,
  "nbformat_minor": 0,
  "metadata": {
    "colab": {
      "provenance": []
    },
    "kernelspec": {
      "name": "python3",
      "display_name": "Python 3"
    },
    "language_info": {
      "name": "python"
    }
  },
  "cells": [
    {
      "cell_type": "code",
      "source": [
        "import warnings\n",
        "warnings.filterwarnings(\"ignore\")"
      ],
      "metadata": {
        "id": "DpmUNNTf_Yib"
      },
      "execution_count": 1,
      "outputs": []
    },
    {
      "cell_type": "code",
      "source": [
        "!pip install ta"
      ],
      "metadata": {
        "colab": {
          "base_uri": "https://localhost:8080/"
        },
        "id": "IAU0sg7A7i-l",
        "outputId": "8680ba53-84af-448e-bba1-9d2c57e4b5ba"
      },
      "execution_count": 2,
      "outputs": [
        {
          "output_type": "stream",
          "name": "stdout",
          "text": [
            "Collecting ta\n",
            "  Downloading ta-0.11.0.tar.gz (25 kB)\n",
            "  Preparing metadata (setup.py) ... \u001b[?25l\u001b[?25hdone\n",
            "Requirement already satisfied: numpy in /usr/local/lib/python3.10/dist-packages (from ta) (1.25.2)\n",
            "Requirement already satisfied: pandas in /usr/local/lib/python3.10/dist-packages (from ta) (2.0.3)\n",
            "Requirement already satisfied: python-dateutil>=2.8.2 in /usr/local/lib/python3.10/dist-packages (from pandas->ta) (2.8.2)\n",
            "Requirement already satisfied: pytz>=2020.1 in /usr/local/lib/python3.10/dist-packages (from pandas->ta) (2023.4)\n",
            "Requirement already satisfied: tzdata>=2022.1 in /usr/local/lib/python3.10/dist-packages (from pandas->ta) (2024.1)\n",
            "Requirement already satisfied: six>=1.5 in /usr/local/lib/python3.10/dist-packages (from python-dateutil>=2.8.2->pandas->ta) (1.16.0)\n",
            "Building wheels for collected packages: ta\n",
            "  Building wheel for ta (setup.py) ... \u001b[?25l\u001b[?25hdone\n",
            "  Created wheel for ta: filename=ta-0.11.0-py3-none-any.whl size=29411 sha256=09a89905bc1626e01fb0d4249a6452f38b2953ab3dc83e889e6f435c90b5ed85\n",
            "  Stored in directory: /root/.cache/pip/wheels/5f/67/4f/8a9f252836e053e532c6587a3230bc72a4deb16b03a829610b\n",
            "Successfully built ta\n",
            "Installing collected packages: ta\n",
            "Successfully installed ta-0.11.0\n"
          ]
        }
      ]
    },
    {
      "cell_type": "code",
      "source": [
        "import pandas as pd\n",
        "import ta\n",
        "import numpy as np\n",
        "!pip install mplfinance\n",
        "import matplotlib.pyplot as plt\n",
        "import mplfinance as mpf"
      ],
      "metadata": {
        "colab": {
          "base_uri": "https://localhost:8080/"
        },
        "id": "34Xx_TfQ7irk",
        "outputId": "db074128-6be4-4e2a-d602-48be89e24124"
      },
      "execution_count": 3,
      "outputs": [
        {
          "output_type": "stream",
          "name": "stdout",
          "text": [
            "Collecting mplfinance\n",
            "  Downloading mplfinance-0.12.10b0-py3-none-any.whl (75 kB)\n",
            "\u001b[2K     \u001b[90m━━━━━━━━━━━━━━━━━━━━━━━━━━━━━━━━━━━━━━━━\u001b[0m \u001b[32m75.0/75.0 kB\u001b[0m \u001b[31m1.1 MB/s\u001b[0m eta \u001b[36m0:00:00\u001b[0m\n",
            "\u001b[?25hRequirement already satisfied: matplotlib in /usr/local/lib/python3.10/dist-packages (from mplfinance) (3.7.1)\n",
            "Requirement already satisfied: pandas in /usr/local/lib/python3.10/dist-packages (from mplfinance) (2.0.3)\n",
            "Requirement already satisfied: contourpy>=1.0.1 in /usr/local/lib/python3.10/dist-packages (from matplotlib->mplfinance) (1.2.1)\n",
            "Requirement already satisfied: cycler>=0.10 in /usr/local/lib/python3.10/dist-packages (from matplotlib->mplfinance) (0.12.1)\n",
            "Requirement already satisfied: fonttools>=4.22.0 in /usr/local/lib/python3.10/dist-packages (from matplotlib->mplfinance) (4.51.0)\n",
            "Requirement already satisfied: kiwisolver>=1.0.1 in /usr/local/lib/python3.10/dist-packages (from matplotlib->mplfinance) (1.4.5)\n",
            "Requirement already satisfied: numpy>=1.20 in /usr/local/lib/python3.10/dist-packages (from matplotlib->mplfinance) (1.25.2)\n",
            "Requirement already satisfied: packaging>=20.0 in /usr/local/lib/python3.10/dist-packages (from matplotlib->mplfinance) (24.0)\n",
            "Requirement already satisfied: pillow>=6.2.0 in /usr/local/lib/python3.10/dist-packages (from matplotlib->mplfinance) (9.4.0)\n",
            "Requirement already satisfied: pyparsing>=2.3.1 in /usr/local/lib/python3.10/dist-packages (from matplotlib->mplfinance) (3.1.2)\n",
            "Requirement already satisfied: python-dateutil>=2.7 in /usr/local/lib/python3.10/dist-packages (from matplotlib->mplfinance) (2.8.2)\n",
            "Requirement already satisfied: pytz>=2020.1 in /usr/local/lib/python3.10/dist-packages (from pandas->mplfinance) (2023.4)\n",
            "Requirement already satisfied: tzdata>=2022.1 in /usr/local/lib/python3.10/dist-packages (from pandas->mplfinance) (2024.1)\n",
            "Requirement already satisfied: six>=1.5 in /usr/local/lib/python3.10/dist-packages (from python-dateutil>=2.7->matplotlib->mplfinance) (1.16.0)\n",
            "Installing collected packages: mplfinance\n",
            "Successfully installed mplfinance-0.12.10b0\n"
          ]
        }
      ]
    },
    {
      "cell_type": "markdown",
      "source": [
        "#Data Aguas Andina"
      ],
      "metadata": {
        "id": "9pWE_5lM237O"
      }
    },
    {
      "cell_type": "code",
      "source": [
        "df_aguas_a = pd.read_csv('AGUAS_A.csv', index_col = 'Date')\n",
        "print(df_aguas_a)"
      ],
      "metadata": {
        "colab": {
          "base_uri": "https://localhost:8080/"
        },
        "id": "eXDC3yqO70uR",
        "outputId": "1064c894-eb47-45be-a1d5-a7c3d58b5633"
      },
      "execution_count": 4,
      "outputs": [
        {
          "output_type": "stream",
          "name": "stdout",
          "text": [
            "              Open    High     Low   Close   Volume\n",
            "Date                                               \n",
            "2014-04-21  342.35  343.50  342.00  343.20  1332972\n",
            "2014-04-22  342.00  343.00  340.00  340.86  1284030\n",
            "2014-04-23  340.86  343.01  341.51  342.00  1048269\n",
            "2014-04-24  342.00  342.00  340.50  340.70  1282877\n",
            "2014-04-25  340.70  341.00  339.50  339.65   704015\n",
            "...            ...     ...     ...     ...      ...\n",
            "2024-04-15  280.00  280.78  275.01  278.00  3463336\n",
            "2024-04-16  278.00  278.73  272.00  276.99  6160229\n",
            "2024-04-17  276.99  276.00  273.00  273.54  2018624\n",
            "2024-04-18  273.50  275.00  270.50  273.53  2194508\n",
            "2024-04-19  273.53  273.87  265.02  265.02  4176063\n",
            "\n",
            "[2491 rows x 5 columns]\n"
          ]
        }
      ]
    },
    {
      "cell_type": "markdown",
      "source": [
        "#Cálculo de la media móvil simple para una ventana de 200 días"
      ],
      "metadata": {
        "id": "RIwHVvt19Qm9"
      }
    },
    {
      "cell_type": "code",
      "source": [
        "df_aguas_a['aguas_a_sma_200'] = ta.trend.sma_indicator(df_aguas_a['Close'], window = 200)\n",
        "df_aguas_a[['Close','aguas_a_sma_200']].iloc[199]"
      ],
      "metadata": {
        "colab": {
          "base_uri": "https://localhost:8080/"
        },
        "id": "RHVdDoW_9jPK",
        "outputId": "57686fe9-b461-4825-ad90-41c634ef0a9d"
      },
      "execution_count": 5,
      "outputs": [
        {
          "output_type": "execute_result",
          "data": {
            "text/plain": [
              "Close              365.3100\n",
              "aguas_a_sma_200    355.0693\n",
              "Name: 2015-02-09, dtype: float64"
            ]
          },
          "metadata": {},
          "execution_count": 5
        }
      ]
    },
    {
      "cell_type": "markdown",
      "source": [
        "#Columna booleana que indica cuándo se superó la media"
      ],
      "metadata": {
        "id": "ZQgOJxhl99jY"
      }
    },
    {
      "cell_type": "code",
      "source": [
        "df_aguas_a['msa200_aguas_a'] = np.nan\n",
        "i = 199\n",
        "while i <= (df_aguas_a.shape[0]-1):\n",
        "  if df_aguas_a['Close'].iloc[i] > df_aguas_a['aguas_a_sma_200'].iloc[i]:\n",
        "    df_aguas_a['msa200_aguas_a'].iloc[i] = 1\n",
        "  else:\n",
        "    df_aguas_a['msa200_aguas_a'].iloc[i] = 0\n",
        "  i += 1\n"
      ],
      "metadata": {
        "id": "cMwhhdpw-GPw"
      },
      "execution_count": 6,
      "outputs": []
    },
    {
      "cell_type": "markdown",
      "source": [
        "#Data Andina B"
      ],
      "metadata": {
        "id": "A9fx-tvl-qsG"
      }
    },
    {
      "cell_type": "code",
      "source": [
        "df_andina = pd.read_csv('ANDINA_B.csv', index_col = 'Date')\n",
        "print(df_andina)"
      ],
      "metadata": {
        "colab": {
          "base_uri": "https://localhost:8080/"
        },
        "id": "QZA8nriL-vPM",
        "outputId": "e587f899-e749-4537-ed82-806573e527c3"
      },
      "execution_count": 94,
      "outputs": [
        {
          "output_type": "stream",
          "name": "stdout",
          "text": [
            "              Open    High     Low   Close   Volume\n",
            "Date                                               \n",
            "2014-04-21  2338.0  2338.0  2230.0  2284.7   148845\n",
            "2014-04-22  2284.7  2270.0  2237.8  2250.0   940452\n",
            "2014-04-23  2250.0  2255.0  2221.0  2229.1   713034\n",
            "2014-04-24  2229.1  2263.0  2186.0  2214.7   568845\n",
            "2014-04-25  2214.7  2192.6  2155.0  2173.9    76409\n",
            "...            ...     ...     ...     ...      ...\n",
            "2024-04-15  2578.0  2604.0  2500.0  2553.0  1016598\n",
            "2024-04-16  2553.0  2565.5  2521.1  2551.1   245819\n",
            "2024-04-17  2551.1  2608.5  2551.0  2570.0   938613\n",
            "2024-04-18  2570.0  2629.6  2551.0  2615.0  1069148\n",
            "2024-04-19  2615.0  2625.0  2569.1  2615.0   426572\n",
            "\n",
            "[2491 rows x 5 columns]\n"
          ]
        }
      ]
    },
    {
      "cell_type": "markdown",
      "source": [
        "#Cálculo de la media móvil simple para una ventana de 200 días"
      ],
      "metadata": {
        "id": "DXRVjhJp9I4U"
      }
    },
    {
      "cell_type": "code",
      "source": [
        "df_andina['andina_b_sma_200'] = ta.trend.sma_indicator(df_andina['Close'], window = 200)\n",
        "df_andina[['Close','andina_b_sma_200']].iloc[199]"
      ],
      "metadata": {
        "colab": {
          "base_uri": "https://localhost:8080/"
        },
        "id": "vSMDnB5J_rZE",
        "outputId": "ddf4193f-8ad2-41db-d1db-ceb5c55e24e6"
      },
      "execution_count": 95,
      "outputs": [
        {
          "output_type": "execute_result",
          "data": {
            "text/plain": [
              "Close               1775.3000\n",
              "andina_b_sma_200    1957.4075\n",
              "Name: 2015-02-09, dtype: float64"
            ]
          },
          "metadata": {},
          "execution_count": 95
        }
      ]
    },
    {
      "cell_type": "markdown",
      "source": [
        "#Columna booleana que indica cuándo se superó la media"
      ],
      "metadata": {
        "id": "XhIj-cOY_22D"
      }
    },
    {
      "cell_type": "code",
      "source": [
        "df_andina['msa200_andina_b'] = np.nan\n",
        "i = 199\n",
        "while i <= (df_andina.shape[0]-1):\n",
        "  if df_andina['Close'].iloc[i] > df_andina['andina_b_sma_200'].iloc[i]:\n",
        "    df_andina['msa200_andina_b'].iloc[i] = 1\n",
        "  else:\n",
        "    df_andina['msa200_andina_b'].iloc[i] = 0\n",
        "  i += 1"
      ],
      "metadata": {
        "id": "44-4VCYa_2Tz"
      },
      "execution_count": 96,
      "outputs": []
    },
    {
      "cell_type": "markdown",
      "source": [
        "#Data BCI"
      ],
      "metadata": {
        "id": "1ZJz5C7MALHE"
      }
    },
    {
      "cell_type": "code",
      "source": [
        "df_bci = pd.read_csv('BCI.csv', index_col = 'Date')\n",
        "print(df_bci)"
      ],
      "metadata": {
        "colab": {
          "base_uri": "https://localhost:8080/"
        },
        "id": "COIvfhGvAMvV",
        "outputId": "0c1c41a5-2eed-4552-9843-7ee2312acf90"
      },
      "execution_count": 10,
      "outputs": [
        {
          "output_type": "stream",
          "name": "stdout",
          "text": [
            "                 Open       High        Low      Close  Volume\n",
            "Date                                                          \n",
            "2014-04-21  21619.012  21625.574  21231.785  21355.828   15639\n",
            "2014-04-22  21355.828  21592.758  20870.812  21011.920   13876\n",
            "2014-04-23  21011.920  20936.443  20411.390  20473.086   43420\n",
            "2014-04-24  20473.086  20629.287  20346.416  20457.334   49212\n",
            "2014-04-25  20457.334  20581.377  20378.576  20480.960   52162\n",
            "...               ...        ...        ...        ...     ...\n",
            "2024-04-15  27851.000  28200.000  27301.000  27420.000  100674\n",
            "2024-04-16  27400.000  27553.000  26601.000  26812.000  108449\n",
            "2024-04-17  26812.000  27360.000  26400.000  26609.000  152702\n",
            "2024-04-18  26609.000  27500.000  26600.000  27359.000  151961\n",
            "2024-04-19  27300.000  27445.000  26800.000  26800.000   34516\n",
            "\n",
            "[2491 rows x 5 columns]\n"
          ]
        }
      ]
    },
    {
      "cell_type": "markdown",
      "source": [
        "#Cálculo de la media móvil simple para una ventana de 200 días"
      ],
      "metadata": {
        "id": "NlGGyhsYAc6K"
      }
    },
    {
      "cell_type": "code",
      "source": [
        "df_bci['bci_sma_200'] = ta.trend.sma_indicator(df_bci['Close'], window = 200)\n",
        "df_bci[['Close','bci_sma_200']].iloc[199]"
      ],
      "metadata": {
        "colab": {
          "base_uri": "https://localhost:8080/"
        },
        "id": "-DlzA7vUAgqe",
        "outputId": "bc98522b-6856-45bc-ea2d-5e7890d468f2"
      },
      "execution_count": 11,
      "outputs": [
        {
          "output_type": "execute_result",
          "data": {
            "text/plain": [
              "Close          19207.736\n",
              "bci_sma_200    20893.623\n",
              "Name: 2015-02-09, dtype: float64"
            ]
          },
          "metadata": {},
          "execution_count": 11
        }
      ]
    },
    {
      "cell_type": "markdown",
      "source": [
        "#Columna booleana que indica cuándo se superó la media"
      ],
      "metadata": {
        "id": "BITJwey3ApSB"
      }
    },
    {
      "cell_type": "code",
      "source": [
        "df_bci['msa200_bci'] = np.nan\n",
        "i = 199\n",
        "while i <= (df_bci.shape[0]-1):\n",
        "  if df_bci['Close'].iloc[i] > df_bci['bci_sma_200'].iloc[i]:\n",
        "    df_bci['msa200_bci'].iloc[i] = 1\n",
        "  else:\n",
        "    df_bci['msa200_bci'].iloc[i] = 0\n",
        "  i += 1"
      ],
      "metadata": {
        "id": "uUNTJwC8Aozq"
      },
      "execution_count": 12,
      "outputs": []
    },
    {
      "cell_type": "markdown",
      "source": [
        "#Data BSANTANDER"
      ],
      "metadata": {
        "id": "-FAW0jSbA3Wq"
      }
    },
    {
      "cell_type": "code",
      "source": [
        "df_bsantander = pd.read_csv('BSANTANDER.csv', index_col = 'Date')\n",
        "print(df_bsantander)"
      ],
      "metadata": {
        "colab": {
          "base_uri": "https://localhost:8080/"
        },
        "id": "UWVBq0bVA5JQ",
        "outputId": "c632aee4-5e97-4158-ae69-f834384505f4"
      },
      "execution_count": 13,
      "outputs": [
        {
          "output_type": "stream",
          "name": "stdout",
          "text": [
            "             Open   High    Low  Close     Volume\n",
            "Date                                             \n",
            "2014-04-21  32.84  33.00  32.40  32.59   25520470\n",
            "2014-04-22  32.59  32.70  32.01  32.35   68148360\n",
            "2014-04-23  32.35  33.00  32.10  32.23   43694880\n",
            "2014-04-24  32.23  32.32  31.89  32.24   64038920\n",
            "2014-04-25  32.24  32.50  32.15  32.25   59901136\n",
            "...           ...    ...    ...    ...        ...\n",
            "2024-04-15  46.33  46.55  45.85  46.08  132448952\n",
            "2024-04-16  46.08  47.03  45.06  45.79  202465600\n",
            "2024-04-17  45.80  46.10  45.00  45.85  146006480\n",
            "2024-04-18  45.85  46.15  45.32  45.50  220339840\n",
            "2024-04-19  43.99  43.99  43.10  43.10  362452512\n",
            "\n",
            "[2491 rows x 5 columns]\n"
          ]
        }
      ]
    },
    {
      "cell_type": "markdown",
      "source": [
        "#Cálculo de la media móvil simple para una ventana de 200 días"
      ],
      "metadata": {
        "id": "MEfcNiY3BjOj"
      }
    },
    {
      "cell_type": "code",
      "source": [
        "df_bsantander['bsantander_sma_200'] = ta.trend.sma_indicator(df_bsantander['Close'], window = 200)\n",
        "df_bsantander[['Close','bsantander_sma_200']].iloc[199]"
      ],
      "metadata": {
        "colab": {
          "base_uri": "https://localhost:8080/"
        },
        "id": "cpVuvMIiBlKn",
        "outputId": "006064a4-3434-445a-bc94-a5d7e1a58e17"
      },
      "execution_count": 14,
      "outputs": [
        {
          "output_type": "execute_result",
          "data": {
            "text/plain": [
              "Close                 31.5200\n",
              "bsantander_sma_200    33.7147\n",
              "Name: 2015-02-09, dtype: float64"
            ]
          },
          "metadata": {},
          "execution_count": 14
        }
      ]
    },
    {
      "cell_type": "markdown",
      "source": [
        "#Columna booleana que indica cuándo se superó la media"
      ],
      "metadata": {
        "id": "korriQNfBv4M"
      }
    },
    {
      "cell_type": "code",
      "source": [
        "df_bsantander['msa200_bsantander'] = np.nan\n",
        "i = 199\n",
        "while i <= (df_bsantander.shape[0]-1):\n",
        "  if df_bsantander['Close'].iloc[i] > df_bsantander['bsantander_sma_200'].iloc[i]:\n",
        "    df_bsantander['msa200_bsantander'].iloc[i] = 1\n",
        "  else:\n",
        "    df_bsantander['msa200_bsantander'].iloc[i] = 0\n",
        "  i += 1"
      ],
      "metadata": {
        "id": "UU53FDoWBxJo"
      },
      "execution_count": 15,
      "outputs": []
    },
    {
      "cell_type": "markdown",
      "source": [
        "#Data CAP"
      ],
      "metadata": {
        "id": "cBmIejpxCC-A"
      }
    },
    {
      "cell_type": "code",
      "source": [
        "df_cap = pd.read_csv('CAP.csv', index_col = 'Date')\n",
        "print(df_cap)"
      ],
      "metadata": {
        "colab": {
          "base_uri": "https://localhost:8080/"
        },
        "id": "-ayxhzX_CE2A",
        "outputId": "3ad0332e-360d-4b22-808b-62a4d01b06d2"
      },
      "execution_count": 16,
      "outputs": [
        {
          "output_type": "stream",
          "name": "stdout",
          "text": [
            "              Open    High     Low   Close  Volume\n",
            "Date                                              \n",
            "2014-04-21  8818.0  8818.0  8600.0  8606.4   43534\n",
            "2014-04-22  8606.4  8700.0  8550.0  8576.7  139348\n",
            "2014-04-23  8576.7  8700.0  8500.0  8624.8   71445\n",
            "2014-04-24  8624.8  8815.0  8600.0  8799.6   96937\n",
            "2014-04-25  8820.0  8880.0  8650.0  8748.2   96317\n",
            "...            ...     ...     ...     ...     ...\n",
            "2024-04-15  7101.0  7220.0  7018.3  7041.0  236724\n",
            "2024-04-16  7041.0  7050.1  6950.0  7020.0  248185\n",
            "2024-04-17  7113.0  7170.0  7015.0  7050.0  301493\n",
            "2024-04-18  7050.0  7060.1  6910.0  6920.5  213323\n",
            "2024-04-19  6925.0  6980.0  6810.0  6874.0  236456\n",
            "\n",
            "[2491 rows x 5 columns]\n"
          ]
        }
      ]
    },
    {
      "cell_type": "markdown",
      "source": [
        "#Cálculo de la media móvil simple para una ventana de 200 días"
      ],
      "metadata": {
        "id": "VrSYk7xrCKYT"
      }
    },
    {
      "cell_type": "code",
      "source": [
        "df_cap['cap_sma_200'] = ta.trend.sma_indicator(df_cap['Close'], window = 200)\n",
        "df_cap[['Close','cap_sma_200']].iloc[199]"
      ],
      "metadata": {
        "colab": {
          "base_uri": "https://localhost:8080/"
        },
        "id": "ngB4zkq9CL9Q",
        "outputId": "7792c546-6424-4a96-bb7d-afd5a1e9a12d"
      },
      "execution_count": 17,
      "outputs": [
        {
          "output_type": "execute_result",
          "data": {
            "text/plain": [
              "Close          2366.900\n",
              "cap_sma_200    6026.288\n",
              "Name: 2015-02-09, dtype: float64"
            ]
          },
          "metadata": {},
          "execution_count": 17
        }
      ]
    },
    {
      "cell_type": "markdown",
      "source": [
        "#Columna booleana que indica cuándo se superó la media"
      ],
      "metadata": {
        "id": "8plrOxGwDNG0"
      }
    },
    {
      "cell_type": "code",
      "source": [
        "df_cap['msa200_cap'] = np.nan\n",
        "i = 199\n",
        "while i <= (df_cap.shape[0]-1):\n",
        "  if df_cap['Close'].iloc[i] > df_cap['cap_sma_200'].iloc[i]:\n",
        "    df_cap['msa200_cap'].iloc[i] = 1\n",
        "  else:\n",
        "    df_cap['msa200_cap'].iloc[i] = 0\n",
        "  i += 1"
      ],
      "metadata": {
        "id": "S5aswNuRDPpI"
      },
      "execution_count": 18,
      "outputs": []
    },
    {
      "cell_type": "markdown",
      "source": [
        "#Data CCU"
      ],
      "metadata": {
        "id": "HWpuSIRJDznS"
      }
    },
    {
      "cell_type": "code",
      "source": [
        "df_ccu = pd.read_csv('CCU.csv', index_col = 'Date')\n",
        "print(df_ccu)"
      ],
      "metadata": {
        "colab": {
          "base_uri": "https://localhost:8080/"
        },
        "id": "vVqKI1UiD14Y",
        "outputId": "09a2c16d-e75b-4e55-e289-6a33b808c84f"
      },
      "execution_count": 19,
      "outputs": [
        {
          "output_type": "stream",
          "name": "stdout",
          "text": [
            "              Open    High     Low   Close  Volume\n",
            "Date                                              \n",
            "2014-04-21  6361.8  6364.6  6280.0  6302.1  123973\n",
            "2014-04-22  6302.1  6480.6  6300.0  6469.5  488753\n",
            "2014-04-23  6469.5  6597.0  6475.0  6565.1  300279\n",
            "2014-04-24  6565.1  6560.0  6490.0  6521.5  431311\n",
            "2014-04-25  6521.5  6560.0  6372.0  6376.5  453329\n",
            "...            ...     ...     ...     ...     ...\n",
            "2024-04-15  5995.1  6084.0  5860.0  5864.0  324314\n",
            "2024-04-16  5864.0  5864.0  5762.7  5810.0  226994\n",
            "2024-04-17  5810.0  5813.7  5705.0  5753.0  495117\n",
            "2024-04-18  5753.0  5810.0  5702.0  5770.0  461723\n",
            "2024-04-19  5770.0  5767.9  5720.0  5720.0  260608\n",
            "\n",
            "[2491 rows x 5 columns]\n"
          ]
        }
      ]
    },
    {
      "cell_type": "markdown",
      "source": [
        "#Cálculo de la media móvil simple para una ventana de 200 días"
      ],
      "metadata": {
        "id": "Xe6O_haGD6y0"
      }
    },
    {
      "cell_type": "code",
      "source": [
        "df_ccu['ccu_sma_200'] = ta.trend.sma_indicator(df_ccu['Close'], window = 200)\n",
        "df_ccu[['Close','ccu_sma_200']].iloc[199]"
      ],
      "metadata": {
        "colab": {
          "base_uri": "https://localhost:8080/"
        },
        "id": "9pL8gy5gD6H_",
        "outputId": "c223de6f-6dbe-43b4-e7bf-d0519a2463af"
      },
      "execution_count": 20,
      "outputs": [
        {
          "output_type": "execute_result",
          "data": {
            "text/plain": [
              "Close          5839.3000\n",
              "ccu_sma_200    6248.4285\n",
              "Name: 2015-02-09, dtype: float64"
            ]
          },
          "metadata": {},
          "execution_count": 20
        }
      ]
    },
    {
      "cell_type": "markdown",
      "source": [
        "#Columna booleana que indica cuándo se superó la media"
      ],
      "metadata": {
        "id": "5PAYqLCNEDeZ"
      }
    },
    {
      "cell_type": "code",
      "source": [
        "df_ccu['msa200_ccu'] = np.nan\n",
        "i = 199\n",
        "while i <= (df_ccu.shape[0]-1):\n",
        "  if df_ccu['Close'].iloc[i] > df_ccu['ccu_sma_200'].iloc[i]:\n",
        "    df_ccu['msa200_ccu'].iloc[i] = 1\n",
        "  else:\n",
        "    df_ccu['msa200_ccu'].iloc[i] = 0\n",
        "  i += 1"
      ],
      "metadata": {
        "id": "1uH8d_StEDEm"
      },
      "execution_count": 21,
      "outputs": []
    },
    {
      "cell_type": "markdown",
      "source": [
        "#Data Cencoshopp"
      ],
      "metadata": {
        "id": "ASj3qwvjESRU"
      }
    },
    {
      "cell_type": "code",
      "source": [
        "df_cencoshopp = pd.read_csv('CENCOSHOPP.csv', index_col = 'Date')\n",
        "print(df_cencoshopp)"
      ],
      "metadata": {
        "colab": {
          "base_uri": "https://localhost:8080/"
        },
        "id": "S39fRNd0EVMA",
        "outputId": "db0eeb86-3f63-4ab0-e03c-7b92c5b5e78c"
      },
      "execution_count": 22,
      "outputs": [
        {
          "output_type": "stream",
          "name": "stdout",
          "text": [
            "              Open    High     Low   Close     Volume\n",
            "Date                                                 \n",
            "2019-06-28  1539.9  1549.5  1517.0  1546.0  499704128\n",
            "2019-07-01  1548.0  1586.0  1548.0  1585.2   11033430\n",
            "2019-07-02  1590.0  1595.0  1580.0  1589.9    9794373\n",
            "2019-07-03  1589.9  1643.9  1589.9  1607.0    5455779\n",
            "2019-07-04  1609.0  1630.1  1607.0  1630.1    4139441\n",
            "...            ...     ...     ...     ...        ...\n",
            "2024-04-15  1559.6  1559.6  1490.0  1509.8    1118082\n",
            "2024-04-16  1509.8  1543.0  1491.0  1496.7     173157\n",
            "2024-04-17  1496.7  1512.9  1447.1  1465.9     866453\n",
            "2024-04-18  1465.9  1498.0  1421.9  1435.5    1622962\n",
            "2024-04-19  1435.0  1455.0  1425.9  1436.7    1591530\n",
            "\n",
            "[1200 rows x 5 columns]\n"
          ]
        }
      ]
    },
    {
      "cell_type": "markdown",
      "source": [
        "#Cálculo de la media móvil simple para una ventana de 200 días"
      ],
      "metadata": {
        "id": "Rz0svOHLEn-E"
      }
    },
    {
      "cell_type": "code",
      "source": [
        "df_cencoshopp['cencoshopp_sma_200'] = ta.trend.sma_indicator(df_cencoshopp['Close'], window = 200)\n",
        "df_cencoshopp[['Close','cencoshopp_sma_200']].iloc[199]"
      ],
      "metadata": {
        "colab": {
          "base_uri": "https://localhost:8080/"
        },
        "id": "H1aygEA3Emja",
        "outputId": "698fc7cd-7d03-4a55-ba4e-5930b54e093e"
      },
      "execution_count": 23,
      "outputs": [
        {
          "output_type": "execute_result",
          "data": {
            "text/plain": [
              "Close                 1470.9000\n",
              "cencoshopp_sma_200    1607.1229\n",
              "Name: 2020-04-17, dtype: float64"
            ]
          },
          "metadata": {},
          "execution_count": 23
        }
      ]
    },
    {
      "cell_type": "markdown",
      "source": [
        "#Columna booleana que indica cuándo se superó la media"
      ],
      "metadata": {
        "id": "hm_8LgMcE2WD"
      }
    },
    {
      "cell_type": "code",
      "source": [
        "df_cencoshopp['msa200_cencoshopp'] = np.nan\n",
        "i = 199\n",
        "while i <= (df_cencoshopp.shape[0]-1):\n",
        "  if df_cencoshopp['Close'].iloc[i] > df_cencoshopp['cencoshopp_sma_200'].iloc[i]:\n",
        "    df_cencoshopp['msa200_cencoshopp'].iloc[i] = 1\n",
        "  else:\n",
        "    df_cencoshopp['msa200_cencoshopp'].iloc[i] = 0\n",
        "  i += 1"
      ],
      "metadata": {
        "id": "RTqe-IOPE32R"
      },
      "execution_count": 24,
      "outputs": []
    },
    {
      "cell_type": "markdown",
      "source": [
        "#Data Cencosud"
      ],
      "metadata": {
        "id": "GyWZC8fqFVbw"
      }
    },
    {
      "cell_type": "code",
      "source": [
        "df_cencosud = pd.read_csv('CENCOSUD.csv', index_col = 'Date')\n",
        "print(df_cencosud)"
      ],
      "metadata": {
        "colab": {
          "base_uri": "https://localhost:8080/"
        },
        "id": "MvhKb8TVFX9g",
        "outputId": "051e52ed-fa9a-446f-e588-45f68cfd3a83"
      },
      "execution_count": 25,
      "outputs": [
        {
          "output_type": "stream",
          "name": "stdout",
          "text": [
            "              Open    High     Low   Close   Volume\n",
            "Date                                               \n",
            "2014-04-07  1756.6  1810.0  1740.0  1801.8  1928945\n",
            "2014-04-08  1765.6  1858.9  1765.0  1855.1  3540465\n",
            "2014-04-09  1861.0  1899.0  1855.0  1898.0  2815980\n",
            "2014-04-10  1898.1  1900.2  1850.0  1872.2  1164023\n",
            "2014-04-11  1872.2  1880.0  1825.0  1873.9   952602\n",
            "...            ...     ...     ...     ...      ...\n",
            "2024-04-02  1715.0  1725.0  1691.2  1710.0  2030624\n",
            "2024-04-03  1710.0  1722.9  1690.0  1690.0  2968370\n",
            "2024-04-04  1690.0  1700.0  1671.6  1676.0  3238089\n",
            "2024-04-05  1676.0  1688.7  1645.0  1645.0  2376042\n",
            "2024-04-06     0.0     0.0     0.0  1645.0        0\n",
            "\n",
            "[2491 rows x 5 columns]\n"
          ]
        }
      ]
    },
    {
      "cell_type": "markdown",
      "source": [
        "#Cálculo de la media móvil simple para una ventana de 200 días"
      ],
      "metadata": {
        "id": "w-ozuiGoFd2Q"
      }
    },
    {
      "cell_type": "code",
      "source": [
        "df_cencosud['cencosud_sma_200'] = ta.trend.sma_indicator(df_cencosud['Close'], window = 200)\n",
        "df_cencosud[['Close','cencosud_sma_200']].iloc[199]"
      ],
      "metadata": {
        "colab": {
          "base_uri": "https://localhost:8080/"
        },
        "id": "9NKxSrANFdfh",
        "outputId": "cbd5f1ff-8234-4646-d837-f6c2f09396ea"
      },
      "execution_count": 26,
      "outputs": [
        {
          "output_type": "execute_result",
          "data": {
            "text/plain": [
              "Close               1333.200\n",
              "cencosud_sma_200    1721.286\n",
              "Name: 2015-01-27, dtype: float64"
            ]
          },
          "metadata": {},
          "execution_count": 26
        }
      ]
    },
    {
      "cell_type": "markdown",
      "source": [
        "#Columna booleana que indica cuándo se superó la media"
      ],
      "metadata": {
        "id": "x0tLzZKOFtOi"
      }
    },
    {
      "cell_type": "code",
      "source": [
        "df_cencosud['msa200_cencosud'] = np.nan\n",
        "i = 199\n",
        "while i <= (df_cencosud.shape[0]-1):\n",
        "  if df_cencosud['Close'].iloc[i] > df_cencosud['cencosud_sma_200'].iloc[i]:\n",
        "    df_cencosud['msa200_cencosud'].iloc[i] = 1\n",
        "  else:\n",
        "    df_cencosud['msa200_cencosud'].iloc[i] = 0\n",
        "  i += 1"
      ],
      "metadata": {
        "id": "EwisqJpUFus4"
      },
      "execution_count": 27,
      "outputs": []
    },
    {
      "cell_type": "markdown",
      "source": [
        "#Data Banco Chile"
      ],
      "metadata": {
        "id": "NyrvEnEZF8nN"
      }
    },
    {
      "cell_type": "code",
      "source": [
        "df_bchile = pd.read_csv('CHILE.csv', index_col = 'Date')\n",
        "print(df_bchile)"
      ],
      "metadata": {
        "colab": {
          "base_uri": "https://localhost:8080/"
        },
        "id": "N7oHmQAqF-1S",
        "outputId": "dab6c026-ea67-4ecd-a99d-cf9d18fbf034"
      },
      "execution_count": 28,
      "outputs": [
        {
          "output_type": "stream",
          "name": "stdout",
          "text": [
            "                  Open      High       Low     Close     Volume\n",
            "Date                                                           \n",
            "2014-04-21   62.250130   62.0061   61.7796   61.9103   21175700\n",
            "2014-04-22   61.910385   62.6335   61.9103   62.4942   44124676\n",
            "2014-04-23   62.494140   62.6073   61.8667   62.0846   31819556\n",
            "2014-04-24   62.084553   62.2152   61.7796   61.8580   32810178\n",
            "2014-04-25   61.858044   62.0147   61.1696   61.7012   27569114\n",
            "...                ...       ...       ...       ...        ...\n",
            "2024-04-15  107.500000  109.0000  105.9300  106.0000   51145824\n",
            "2024-04-16  106.010000  108.0000  104.8800  106.4900  284295488\n",
            "2024-04-17  106.490000  111.0000  104.5700  107.2000   57746776\n",
            "2024-04-18  107.000000  109.0000  106.0100  106.3100   52783096\n",
            "2024-04-19  106.290000  107.2000  104.5400  104.6500   25993880\n",
            "\n",
            "[2491 rows x 5 columns]\n"
          ]
        }
      ]
    },
    {
      "cell_type": "markdown",
      "source": [
        "#Cálculo de la media móvil simple para una ventana de 200 días"
      ],
      "metadata": {
        "id": "tgyevko2GK4m"
      }
    },
    {
      "cell_type": "code",
      "source": [
        "df_bchile['bchile_sma_200'] = ta.trend.sma_indicator(df_bchile['Close'], window = 200)\n",
        "df_bchile[['Close','bchile_sma_200']].iloc[199]"
      ],
      "metadata": {
        "colab": {
          "base_uri": "https://localhost:8080/"
        },
        "id": "K1jpgVGsGKgQ",
        "outputId": "fdb0b5a5-b3c7-4aa9-94d0-69d22bac48c8"
      },
      "execution_count": 29,
      "outputs": [
        {
          "output_type": "execute_result",
          "data": {
            "text/plain": [
              "Close             63.962600\n",
              "bchile_sma_200    64.272097\n",
              "Name: 2015-02-09, dtype: float64"
            ]
          },
          "metadata": {},
          "execution_count": 29
        }
      ]
    },
    {
      "cell_type": "markdown",
      "source": [
        "#Columna booleana que indica cuándo se superó la media"
      ],
      "metadata": {
        "id": "p60E96HoGUwG"
      }
    },
    {
      "cell_type": "code",
      "source": [
        "df_bchile['msa200_bchile'] = np.nan\n",
        "i = 199\n",
        "while i <= (df_bchile.shape[0]-1):\n",
        "  if df_bchile['Close'].iloc[i] > df_bchile['bchile_sma_200'].iloc[i]:\n",
        "    df_bchile['msa200_bchile'].iloc[i] = 1\n",
        "  else:\n",
        "    df_bchile['msa200_bchile'].iloc[i] = 0\n",
        "  i += 1"
      ],
      "metadata": {
        "id": "GIh3irVjGV_W"
      },
      "execution_count": 30,
      "outputs": []
    },
    {
      "cell_type": "markdown",
      "source": [
        "#Data CMPC"
      ],
      "metadata": {
        "id": "5pw26SKEGk3q"
      }
    },
    {
      "cell_type": "code",
      "source": [
        "df_cmpc = pd.read_csv('CMPC.csv', index_col = 'Date')\n",
        "print(df_cmpc)"
      ],
      "metadata": {
        "colab": {
          "base_uri": "https://localhost:8080/"
        },
        "id": "ASIo4NI5Gl1M",
        "outputId": "aaa675b4-b06f-4665-e0b0-9a6bc6f4d6ee"
      },
      "execution_count": 31,
      "outputs": [
        {
          "output_type": "stream",
          "name": "stdout",
          "text": [
            "                 Open       High        Low      Close   Volume\n",
            "Date                                                           \n",
            "2014-04-21  1284.8430  1288.8270  1269.9030  1283.7474   588096\n",
            "2014-04-22  1283.7474  1294.8030  1269.9030  1288.2294  2760128\n",
            "2014-04-23  1288.2294  1324.6831  1275.0822  1293.0103   393657\n",
            "2014-04-24  1293.0103  1304.7631  1274.8830  1290.5201   941376\n",
            "2014-04-25  1290.5203  1279.8630  1260.9390  1263.4290  1000193\n",
            "...               ...        ...        ...        ...      ...\n",
            "2024-04-15  1950.0000  1950.0000  1860.1000  1900.0000  1224474\n",
            "2024-04-16  1900.0000  1919.0000  1865.0000  1882.0000  2498710\n",
            "2024-04-17  1882.0000  1904.6000  1844.4000  1900.0000  2466111\n",
            "2024-04-18  1900.0000  1920.0000  1862.0000  1865.1000  3165216\n",
            "2024-04-19  1865.1000  1882.9000  1825.0000  1875.0000  1595876\n",
            "\n",
            "[2491 rows x 5 columns]\n"
          ]
        }
      ]
    },
    {
      "cell_type": "markdown",
      "source": [
        "#Cálculo de la media móvil simple para una ventana de 200 días"
      ],
      "metadata": {
        "id": "5YP4x0DhG5Ty"
      }
    },
    {
      "cell_type": "code",
      "source": [
        "df_cmpc['cmpc_sma_200'] = ta.trend.sma_indicator(df_cmpc['Close'], window = 200)\n",
        "df_cmpc[['Close','cmpc_sma_200']].iloc[199]"
      ],
      "metadata": {
        "colab": {
          "base_uri": "https://localhost:8080/"
        },
        "id": "5rCVSugwG66Y",
        "outputId": "77d2fc35-c6a1-420d-ff49-a1cd00e8211a"
      },
      "execution_count": 32,
      "outputs": [
        {
          "output_type": "execute_result",
          "data": {
            "text/plain": [
              "Close           1600.300000\n",
              "cmpc_sma_200    1386.786833\n",
              "Name: 2015-02-09, dtype: float64"
            ]
          },
          "metadata": {},
          "execution_count": 32
        }
      ]
    },
    {
      "cell_type": "markdown",
      "source": [
        "#Columna booleana que indica cuándo se superó la media"
      ],
      "metadata": {
        "id": "UcfkVDvsHEL4"
      }
    },
    {
      "cell_type": "code",
      "source": [
        "df_cmpc['msa200_cmpc'] = np.nan\n",
        "i = 199\n",
        "while i <= (df_cmpc.shape[0]-1):\n",
        "  if df_cmpc['Close'].iloc[i] > df_cmpc['cmpc_sma_200'].iloc[i]:\n",
        "    df_cmpc['msa200_cmpc'].iloc[i] = 1\n",
        "  else:\n",
        "    df_cmpc['msa200_cmpc'].iloc[i] = 0\n",
        "  i += 1"
      ],
      "metadata": {
        "id": "G4OYNT0LHF4b"
      },
      "execution_count": 33,
      "outputs": []
    },
    {
      "cell_type": "markdown",
      "source": [
        "#Data Colbun"
      ],
      "metadata": {
        "id": "unBWrm3UHYMx"
      }
    },
    {
      "cell_type": "code",
      "source": [
        "df_colbun = pd.read_csv('COLBUN.csv', index_col = 'Date')\n",
        "print(df_colbun)"
      ],
      "metadata": {
        "colab": {
          "base_uri": "https://localhost:8080/"
        },
        "id": "DwaQYM4yHaBE",
        "outputId": "331cde8c-a378-4697-be30-8498b0c7b0b7"
      },
      "execution_count": 34,
      "outputs": [
        {
          "output_type": "stream",
          "name": "stdout",
          "text": [
            "              Open    High     Low   Close    Volume\n",
            "Date                                                \n",
            "2014-04-21  141.57  142.99  140.00  141.40   9544958\n",
            "2014-04-22  141.40  141.40  138.01  139.53   4857281\n",
            "2014-04-23  139.53  140.00  139.00  139.00   7313176\n",
            "2014-04-24  139.00  139.50  137.00  137.16   4472286\n",
            "2014-04-25  137.16  138.50  135.01  137.12   4845911\n",
            "...            ...     ...     ...     ...       ...\n",
            "2024-04-15  126.50  126.50  122.90  123.80  12516102\n",
            "2024-04-16  123.80  125.08  123.00  123.01   5348738\n",
            "2024-04-17  123.12  124.48  121.00  122.04  21246078\n",
            "2024-04-18  122.04  123.38  121.50  121.50   6733204\n",
            "2024-04-19  121.50  123.99  119.00  120.90  18549240\n",
            "\n",
            "[2491 rows x 5 columns]\n"
          ]
        }
      ]
    },
    {
      "cell_type": "markdown",
      "source": [
        "#Cálculo de la media móvil simple para una ventana de 200 días"
      ],
      "metadata": {
        "id": "wmV-jXp-Hfi5"
      }
    },
    {
      "cell_type": "code",
      "source": [
        "df_colbun['colbun_sma_200'] = ta.trend.sma_indicator(df_colbun['Close'], window = 200)\n",
        "df_colbun[['Close','colbun_sma_200']].iloc[199]"
      ],
      "metadata": {
        "colab": {
          "base_uri": "https://localhost:8080/"
        },
        "id": "96W9GSsCHfMS",
        "outputId": "ce289f34-177b-4378-ff57-d086237d69a0"
      },
      "execution_count": 35,
      "outputs": [
        {
          "output_type": "execute_result",
          "data": {
            "text/plain": [
              "Close             180.95000\n",
              "colbun_sma_200    152.77575\n",
              "Name: 2015-02-09, dtype: float64"
            ]
          },
          "metadata": {},
          "execution_count": 35
        }
      ]
    },
    {
      "cell_type": "markdown",
      "source": [
        "#Columna booleana que indica cuándo se superó la media"
      ],
      "metadata": {
        "id": "mkNtHFW0HuSr"
      }
    },
    {
      "cell_type": "code",
      "source": [
        "df_colbun['msa200_colbun'] = np.nan\n",
        "i = 199\n",
        "while i <= (df_colbun.shape[0]-1):\n",
        "  if df_colbun['Close'].iloc[i] > df_colbun['colbun_sma_200'].iloc[i]:\n",
        "    df_colbun['msa200_colbun'].iloc[i] = 1\n",
        "  else:\n",
        "    df_colbun['msa200_colbun'].iloc[i] = 0\n",
        "  i += 1"
      ],
      "metadata": {
        "id": "LTT4STTWHvwU"
      },
      "execution_count": 36,
      "outputs": []
    },
    {
      "cell_type": "markdown",
      "source": [
        "#Data CONCHATORO"
      ],
      "metadata": {
        "id": "MI-1dSESH9iY"
      }
    },
    {
      "cell_type": "code",
      "source": [
        "df_concha_y_toro = pd.read_csv('CONCHATORO.csv', index_col = 'Date')\n",
        "print(df_concha_y_toro)"
      ],
      "metadata": {
        "colab": {
          "base_uri": "https://localhost:8080/"
        },
        "id": "QI_U9WRXISWp",
        "outputId": "ce4067ad-8c68-40cd-dbf2-295f6cda61ca"
      },
      "execution_count": 37,
      "outputs": [
        {
          "output_type": "stream",
          "name": "stdout",
          "text": [
            "              Open    High     Low   Close   Volume\n",
            "Date                                               \n",
            "2014-04-21  1150.5  1160.0  1150.0  1152.3   158340\n",
            "2014-04-22  1152.3  1164.0  1150.0  1158.9   243458\n",
            "2014-04-23  1158.9  1174.8  1150.0  1171.3   960749\n",
            "2014-04-24  1171.3  1170.0  1160.0  1165.6   167241\n",
            "2014-04-25  1165.6  1170.0  1150.0  1150.1   568823\n",
            "...            ...     ...     ...     ...      ...\n",
            "2024-04-15  1150.0  1199.9  1130.4  1142.1   976853\n",
            "2024-04-16  1142.1  1190.0  1130.0  1140.0  2441330\n",
            "2024-04-17  1140.0  1160.0  1145.1  1145.1  1438026\n",
            "2024-04-18  1145.1  1150.0  1145.2  1146.0   427568\n",
            "2024-04-19  1160.0  1190.0  1150.0  1180.0  1049888\n",
            "\n",
            "[2491 rows x 5 columns]\n"
          ]
        }
      ]
    },
    {
      "cell_type": "markdown",
      "source": [
        "#Cálculo de la media móvil simple para una ventana de 200 días"
      ],
      "metadata": {
        "id": "6xIST6WdIffT"
      }
    },
    {
      "cell_type": "code",
      "source": [
        "df_concha_y_toro['concha_y_toro_sma_200'] = ta.trend.sma_indicator(df_concha_y_toro['Close'], window = 200)\n",
        "df_concha_y_toro[['Close','concha_y_toro_sma_200']].iloc[199]"
      ],
      "metadata": {
        "colab": {
          "base_uri": "https://localhost:8080/"
        },
        "id": "YZQRpQkKIhFL",
        "outputId": "dee1bb18-2e8f-4dba-84f8-099ffbfc304e"
      },
      "execution_count": 38,
      "outputs": [
        {
          "output_type": "execute_result",
          "data": {
            "text/plain": [
              "Close                    1205.2000\n",
              "concha_y_toro_sma_200    1146.1995\n",
              "Name: 2015-02-09, dtype: float64"
            ]
          },
          "metadata": {},
          "execution_count": 38
        }
      ]
    },
    {
      "cell_type": "markdown",
      "source": [
        "#Columna booleana que indica cuándo se superó la media"
      ],
      "metadata": {
        "id": "aIX3NBFMItBq"
      }
    },
    {
      "cell_type": "code",
      "source": [
        "df_concha_y_toro['msa200_concha_y_toro'] = np.nan\n",
        "i = 199\n",
        "while i <= (df_concha_y_toro.shape[0]-1):\n",
        "  if df_concha_y_toro['Close'].iloc[i] > df_concha_y_toro['concha_y_toro_sma_200'].iloc[i]:\n",
        "    df_concha_y_toro['msa200_concha_y_toro'].iloc[i] = 1\n",
        "  else:\n",
        "    df_concha_y_toro['msa200_concha_y_toro'].iloc[i] = 0\n",
        "  i += 1"
      ],
      "metadata": {
        "id": "l_sJ3I3qIu3A"
      },
      "execution_count": 39,
      "outputs": []
    },
    {
      "cell_type": "markdown",
      "source": [
        "#Data Copec"
      ],
      "metadata": {
        "id": "V_Clz-rtJCDo"
      }
    },
    {
      "cell_type": "code",
      "source": [
        "df_copec = pd.read_csv('COPEC.csv', index_col = 'Date')\n",
        "print(df_copec)"
      ],
      "metadata": {
        "colab": {
          "base_uri": "https://localhost:8080/"
        },
        "id": "G4cycRIGJDe9",
        "outputId": "490f2106-8439-4c48-8e70-28f7b219aa2b"
      },
      "execution_count": 40,
      "outputs": [
        {
          "output_type": "stream",
          "name": "stdout",
          "text": [
            "              Open    High     Low   Close  Volume\n",
            "Date                                              \n",
            "2014-04-21  7330.4  7412.0  7290.0  7383.7  261864\n",
            "2014-04-22  7350.0  7400.0  7335.0  7365.9  213651\n",
            "2014-04-23  7365.9  7380.0  7300.0  7342.2  281599\n",
            "2014-04-24  7345.0  7400.0  7320.0  7388.5  575102\n",
            "2014-04-25  7388.5  7388.5  7260.0  7271.8  147305\n",
            "...            ...     ...     ...     ...     ...\n",
            "2024-04-15  7000.0  7062.4  6885.0  7004.0  340507\n",
            "2024-04-16  7004.0  7004.0  6871.0  6916.7  510863\n",
            "2024-04-17  6916.7  7000.0  6845.0  7000.0  406074\n",
            "2024-04-18  7000.0  7090.0  6948.5  7010.0  382671\n",
            "2024-04-19  7010.0  7090.2  6900.8  6984.9  321911\n",
            "\n",
            "[2491 rows x 5 columns]\n"
          ]
        }
      ]
    },
    {
      "cell_type": "markdown",
      "source": [
        "#Cálculo de la media móvil simple para una ventana de 200 días"
      ],
      "metadata": {
        "id": "j1B7aBKFJjzK"
      }
    },
    {
      "cell_type": "code",
      "source": [
        "df_copec['copec_sma_200'] = ta.trend.sma_indicator(df_copec['Close'], window = 200)\n",
        "df_copec[['Close','copec_sma_200']].iloc[199]"
      ],
      "metadata": {
        "colab": {
          "base_uri": "https://localhost:8080/"
        },
        "id": "LkIjm34ZJjVk",
        "outputId": "680a3481-6db6-45a9-db88-e4472be7c00e"
      },
      "execution_count": 41,
      "outputs": [
        {
          "output_type": "execute_result",
          "data": {
            "text/plain": [
              "Close            7104.000\n",
              "copec_sma_200    7182.327\n",
              "Name: 2015-02-09, dtype: float64"
            ]
          },
          "metadata": {},
          "execution_count": 41
        }
      ]
    },
    {
      "cell_type": "markdown",
      "source": [
        "#Columna booleana que indica cuándo se superó la media"
      ],
      "metadata": {
        "id": "asOpyfMTJtYT"
      }
    },
    {
      "cell_type": "code",
      "source": [
        "df_copec['msa200_copec'] = np.nan\n",
        "i = 199\n",
        "while i <= (df_copec.shape[0]-1):\n",
        "  if df_copec['Close'].iloc[i] > df_copec['copec_sma_200'].iloc[i]:\n",
        "    df_copec['msa200_copec'].iloc[i] = 1\n",
        "  else:\n",
        "    df_copec['msa200_copec'].iloc[i] = 0\n",
        "  i += 1"
      ],
      "metadata": {
        "id": "6_sVx6eCJs_K"
      },
      "execution_count": 42,
      "outputs": []
    },
    {
      "cell_type": "markdown",
      "source": [
        "#Data ECL"
      ],
      "metadata": {
        "id": "HnA6ArTiKM70"
      }
    },
    {
      "cell_type": "code",
      "source": [
        "df_ecl = pd.read_csv('ECL.csv', index_col = 'Date')\n",
        "print(df_ecl)"
      ],
      "metadata": {
        "colab": {
          "base_uri": "https://localhost:8080/"
        },
        "id": "b41YaxQWKMkf",
        "outputId": "5663a904-44a5-4537-a40c-5d8b18171942"
      },
      "execution_count": 43,
      "outputs": [
        {
          "output_type": "stream",
          "name": "stdout",
          "text": [
            "              Open    High     Low   Close   Volume\n",
            "Date                                               \n",
            "2014-04-21  721.53  720.00  714.40  719.63   261638\n",
            "2014-04-22  719.63  719.50  712.00  718.11  1691996\n",
            "2014-04-23  718.11  718.20  711.00  713.00   433505\n",
            "2014-04-24  713.00  714.00  705.00  710.00   282547\n",
            "2014-04-25  710.00  706.00  700.00  702.82   565553\n",
            "...            ...     ...     ...     ...      ...\n",
            "2024-04-15  815.00  823.29  814.00  814.50   713729\n",
            "2024-04-16  814.50  825.01  795.01  810.00  1019711\n",
            "2024-04-17  810.00  814.45  784.99  799.90   528710\n",
            "2024-04-18  799.90  804.00  795.79  800.00   911643\n",
            "2024-04-19  799.99  799.99  776.00  794.83   618581\n",
            "\n",
            "[2490 rows x 5 columns]\n"
          ]
        }
      ]
    },
    {
      "cell_type": "markdown",
      "source": [
        "#Cálculo de la media móvil simple para una ventana de 200 días"
      ],
      "metadata": {
        "id": "qmO-n0--KTMg"
      }
    },
    {
      "cell_type": "code",
      "source": [
        "df_ecl['ecl_sma_200'] = ta.trend.sma_indicator(df_ecl['Close'], window = 200)\n",
        "df_ecl[['Close','ecl_sma_200']].iloc[199]"
      ],
      "metadata": {
        "colab": {
          "base_uri": "https://localhost:8080/"
        },
        "id": "mF8I2xnWKSqU",
        "outputId": "e038cf1e-4dfd-4035-9553-69d4fa03d5d4"
      },
      "execution_count": 44,
      "outputs": [
        {
          "output_type": "execute_result",
          "data": {
            "text/plain": [
              "Close          986.7500\n",
              "ecl_sma_200    826.1303\n",
              "Name: 2015-02-09, dtype: float64"
            ]
          },
          "metadata": {},
          "execution_count": 44
        }
      ]
    },
    {
      "cell_type": "markdown",
      "source": [
        "#Columna booleana que indica cuándo se superó la media"
      ],
      "metadata": {
        "id": "KPIuTDpjKdbw"
      }
    },
    {
      "cell_type": "code",
      "source": [
        "df_ecl['msa200_ecl'] = np.nan\n",
        "i = 199\n",
        "while i <= (df_ecl.shape[0]-1):\n",
        "  if df_ecl['Close'].iloc[i] > df_ecl['ecl_sma_200'].iloc[i]:\n",
        "    df_ecl['msa200_ecl'].iloc[i] = 1\n",
        "  else:\n",
        "    df_ecl['msa200_ecl'].iloc[i] = 0\n",
        "  i += 1"
      ],
      "metadata": {
        "id": "MDq-cT_8KfET"
      },
      "execution_count": 45,
      "outputs": []
    },
    {
      "cell_type": "markdown",
      "source": [
        "#Data ENELAM"
      ],
      "metadata": {
        "id": "4aepb54WKsaK"
      }
    },
    {
      "cell_type": "code",
      "source": [
        "df_enelam = pd.read_csv('ENELAM.csv', index_col = 'Date')\n",
        "print(df_enelam)"
      ],
      "metadata": {
        "colab": {
          "base_uri": "https://localhost:8080/"
        },
        "id": "-LFp76HgKuRF",
        "outputId": "1a2f7eb3-39c5-435a-8c9e-25cc192a5c31"
      },
      "execution_count": 46,
      "outputs": [
        {
          "output_type": "stream",
          "name": "stdout",
          "text": [
            "                  Open      High       Low     Close    Volume\n",
            "Date                                                          \n",
            "2014-04-21  110.264725  110.3880  109.0328  109.3284  17849186\n",
            "2014-04-22  108.453750  109.7473  108.4168  109.4948  26432332\n",
            "2014-04-23  109.494780  110.1416  109.0328  109.2915  22340308\n",
            "2014-04-24  109.291480  109.6488  109.0143  109.3038  13335958\n",
            "2014-04-25  109.303856  109.6488  107.1909  107.4004  25150136\n",
            "...                ...       ...       ...       ...       ...\n",
            "2024-04-15   92.000000   92.0000   90.1500   90.1500  22802730\n",
            "2024-04-16   90.180000   90.9900   90.0400   90.1500  63388216\n",
            "2024-04-17   90.150000   91.8000   88.0000   90.7900  60723744\n",
            "2024-04-18   90.790000   91.4900   90.6000   91.2000  33539552\n",
            "2024-04-19   91.200000   91.8100   89.9800   89.9800  29856412\n",
            "\n",
            "[2491 rows x 5 columns]\n"
          ]
        }
      ]
    },
    {
      "cell_type": "markdown",
      "source": [
        "#Cálculo de la media móvil simple para una ventana de 200 días"
      ],
      "metadata": {
        "id": "kAr0q-7FK0cg"
      }
    },
    {
      "cell_type": "code",
      "source": [
        "df_enelam['enelam_sma_200'] = ta.trend.sma_indicator(df_enelam['Close'], window = 200)\n",
        "df_enelam[['Close','enelam_sma_200']].iloc[199]"
      ],
      "metadata": {
        "colab": {
          "base_uri": "https://localhost:8080/"
        },
        "id": "xWRkc7b1KzSy",
        "outputId": "e1c82b18-d1d0-4187-a768-ced8bac3ac05"
      },
      "execution_count": 47,
      "outputs": [
        {
          "output_type": "execute_result",
          "data": {
            "text/plain": [
              "Close             121.20500\n",
              "enelam_sma_200    117.21158\n",
              "Name: 2015-02-09, dtype: float64"
            ]
          },
          "metadata": {},
          "execution_count": 47
        }
      ]
    },
    {
      "cell_type": "markdown",
      "source": [
        "#Columna booleana que indica cuándo se superó la media"
      ],
      "metadata": {
        "id": "gBKMUdO_K-Yj"
      }
    },
    {
      "cell_type": "code",
      "source": [
        "df_enelam['msa200_enelam'] = np.nan\n",
        "i = 199\n",
        "while i <= (df_enelam.shape[0]-1):\n",
        "  if df_enelam['Close'].iloc[i] > df_enelam['enelam_sma_200'].iloc[i]:\n",
        "    df_enelam['msa200_enelam'].iloc[i] = 1\n",
        "  else:\n",
        "    df_enelam['msa200_enelam'].iloc[i] = 0\n",
        "  i += 1"
      ],
      "metadata": {
        "id": "7EXmsHvxK_1O"
      },
      "execution_count": 48,
      "outputs": []
    },
    {
      "cell_type": "markdown",
      "source": [
        "#Data Enel Chile"
      ],
      "metadata": {
        "id": "E9cBOUTqLQAw"
      }
    },
    {
      "cell_type": "code",
      "source": [
        "df_enel_chile = pd.read_csv('ENELCHILE.csv', index_col = 'Date')\n",
        "print(df_enel_chile)"
      ],
      "metadata": {
        "colab": {
          "base_uri": "https://localhost:8080/"
        },
        "id": "4SYG8Ye_LTeu",
        "outputId": "9fa88af0-e8cb-4e9e-a822-458c0a1d9aef"
      },
      "execution_count": 49,
      "outputs": [
        {
          "output_type": "stream",
          "name": "stdout",
          "text": [
            "             Open   High    Low  Close     Volume\n",
            "Date                                             \n",
            "2016-04-21  71.02  90.00  80.00  88.11    7839077\n",
            "2016-04-22  88.11  89.90  87.37  88.99    9707145\n",
            "2016-04-25  88.99  88.35  83.50  86.04   13779476\n",
            "2016-04-26  86.04  87.00  82.51  84.57   33214992\n",
            "2016-04-27  84.57  84.20  81.01  82.74   19140544\n",
            "...           ...    ...    ...    ...        ...\n",
            "2024-04-15  58.50  59.02  57.32  57.74   34941464\n",
            "2024-04-16  57.74  58.09  56.51  57.98   41671448\n",
            "2024-04-17  57.98  57.79  56.28  56.50  101795528\n",
            "2024-04-18  56.50  57.00  55.80  56.88   54423816\n",
            "2024-04-19  56.11  57.00  55.12  55.65  126172944\n",
            "\n",
            "[1991 rows x 5 columns]\n"
          ]
        }
      ]
    },
    {
      "cell_type": "markdown",
      "source": [
        "#Cálculo de la media móvil simple para una ventana de 200 días"
      ],
      "metadata": {
        "id": "scBl2HKwLp3x"
      }
    },
    {
      "cell_type": "code",
      "source": [
        "df_enel_chile['enel_chile_sma_200'] = ta.trend.sma_indicator(df_enel_chile['Close'], window = 200)\n",
        "df_enel_chile[['Close','enel_chile_sma_200']].iloc[199]"
      ],
      "metadata": {
        "colab": {
          "base_uri": "https://localhost:8080/"
        },
        "id": "sGREHwrMLNFh",
        "outputId": "ff17b93d-1b63-4d32-a835-38f9cc48f189"
      },
      "execution_count": 50,
      "outputs": [
        {
          "output_type": "execute_result",
          "data": {
            "text/plain": [
              "Close                 62.0100\n",
              "enel_chile_sma_200    71.0856\n",
              "Name: 2017-02-06, dtype: float64"
            ]
          },
          "metadata": {},
          "execution_count": 50
        }
      ]
    },
    {
      "cell_type": "markdown",
      "source": [
        "#Columna booleana que indica cuándo se superó la media"
      ],
      "metadata": {
        "id": "Qrd3swkjL0aa"
      }
    },
    {
      "cell_type": "code",
      "source": [
        "df_enel_chile['msa200_enel_chile'] = np.nan\n",
        "i = 199\n",
        "while i <= (df_enel_chile.shape[0]-1):\n",
        "  if df_enel_chile['Close'].iloc[i] > df_enel_chile['enel_chile_sma_200'].iloc[i]:\n",
        "    df_enel_chile['msa200_enel_chile'].iloc[i] = 1\n",
        "  else:\n",
        "    df_enel_chile['msa200_enel_chile'].iloc[i] = 0\n",
        "  i += 1"
      ],
      "metadata": {
        "id": "V6IjKmEoL2HQ"
      },
      "execution_count": 51,
      "outputs": []
    },
    {
      "cell_type": "markdown",
      "source": [
        "#Data Entel"
      ],
      "metadata": {
        "id": "gKA7-zpmMGD1"
      }
    },
    {
      "cell_type": "code",
      "source": [
        "df_entel = pd.read_csv('ENTEL.csv', index_col = 'Date')\n",
        "print(df_entel)"
      ],
      "metadata": {
        "colab": {
          "base_uri": "https://localhost:8080/"
        },
        "id": "JBlOnn-VMHxk",
        "outputId": "3073ccce-29ec-4092-dfcd-c593e37a0e9b"
      },
      "execution_count": 52,
      "outputs": [
        {
          "output_type": "stream",
          "name": "stdout",
          "text": [
            "                 Open       High        Low      Close  Volume\n",
            "Date                                                          \n",
            "2014-04-21  6777.9840  6770.7540  6702.3630  6719.5580   44336\n",
            "2014-04-22  6719.5580  6741.5410  6653.5117  6674.3223  240182\n",
            "2014-04-23  6674.3223  6731.6733  6654.4890  6693.8623  105851\n",
            "2014-04-24  6707.2476  6887.9966  6624.5920  6766.3574  223551\n",
            "2014-04-25  6766.3574  6741.4434  6644.7183  6721.5120  204809\n",
            "...               ...        ...        ...        ...     ...\n",
            "2024-04-15  3600.0000  3625.1000  3553.0000  3595.0000  245134\n",
            "2024-04-16  3595.0000  3636.0000  3450.0000  3500.0000  162179\n",
            "2024-04-17  3500.0000  3545.0000  3355.0000  3449.0000  236966\n",
            "2024-04-18  3449.0000  3549.9000  3451.0000  3455.4000  100422\n",
            "2024-04-19  3455.4000  3524.0000  3455.0000  3503.0000  329583\n",
            "\n",
            "[2491 rows x 5 columns]\n"
          ]
        }
      ]
    },
    {
      "cell_type": "markdown",
      "source": [
        "#Cálculo de la media móvil simple para una ventana de 200 días"
      ],
      "metadata": {
        "id": "vT8cOYBvMO2z"
      }
    },
    {
      "cell_type": "code",
      "source": [
        "df_entel['entel_sma_200'] = ta.trend.sma_indicator(df_entel['Close'], window = 200)\n",
        "df_entel[['Close','entel_sma_200']].iloc[199]"
      ],
      "metadata": {
        "colab": {
          "base_uri": "https://localhost:8080/"
        },
        "id": "4PG47aWVMUgv",
        "outputId": "7ea08b1b-ac3e-4091-e54a-13edd902fc7a"
      },
      "execution_count": 53,
      "outputs": [
        {
          "output_type": "execute_result",
          "data": {
            "text/plain": [
              "Close            6110.385700\n",
              "entel_sma_200    6506.160722\n",
              "Name: 2015-02-09, dtype: float64"
            ]
          },
          "metadata": {},
          "execution_count": 53
        }
      ]
    },
    {
      "cell_type": "markdown",
      "source": [
        "#Columna booleana que indica cuándo se superó la media"
      ],
      "metadata": {
        "id": "8WweaNPfMccB"
      }
    },
    {
      "cell_type": "code",
      "source": [
        "df_entel['msa200_entel'] = np.nan\n",
        "i = 199\n",
        "while i <= (df_entel.shape[0]-1):\n",
        "  if df_entel['Close'].iloc[i] > df_entel['entel_sma_200'].iloc[i]:\n",
        "    df_entel['msa200_entel'].iloc[i] = 1\n",
        "  else:\n",
        "    df_entel['msa200_entel'].iloc[i] = 0\n",
        "  i += 1"
      ],
      "metadata": {
        "id": "x4u6cYdfMdxz"
      },
      "execution_count": 54,
      "outputs": []
    },
    {
      "cell_type": "markdown",
      "source": [
        "#Data Falabella"
      ],
      "metadata": {
        "id": "Pa4mn-xJMs40"
      }
    },
    {
      "cell_type": "code",
      "source": [
        "df_falabella = pd.read_csv('FALABELLA.csv', index_col = 'Date')\n",
        "print(df_falabella)"
      ],
      "metadata": {
        "colab": {
          "base_uri": "https://localhost:8080/"
        },
        "id": "21UeUmdTMu1i",
        "outputId": "07d95423-1347-4ade-93a3-c1274d772d60"
      },
      "execution_count": 55,
      "outputs": [
        {
          "output_type": "stream",
          "name": "stdout",
          "text": [
            "              Open    High     Low   Close   Volume\n",
            "Date                                               \n",
            "2014-04-21  4925.2  4940.0  4820.0  4853.3   765477\n",
            "2014-04-22  4855.0  4880.0  4802.0  4846.4  1381659\n",
            "2014-04-23  4846.4  4880.0  4820.0  4857.1   304591\n",
            "2014-04-24  4870.0  4890.0  4820.0  4872.2   915448\n",
            "2014-04-25  4872.2  4880.0  4780.0  4805.9   589500\n",
            "...            ...     ...     ...     ...      ...\n",
            "2024-04-15  2467.0  2515.0  2407.0  2425.0  2231141\n",
            "2024-04-16  2425.1  2450.0  2380.0  2419.0  2965024\n",
            "2024-04-17  2419.0  2470.0  2391.4  2460.0  1607434\n",
            "2024-04-18  2460.0  2540.2  2420.1  2534.0  1771556\n",
            "2024-04-19  2534.0  2550.0  2460.5  2481.0  1231926\n",
            "\n",
            "[2491 rows x 5 columns]\n"
          ]
        }
      ]
    },
    {
      "cell_type": "markdown",
      "source": [
        "#Cálculo de la media móvil simple para una ventana de 200 días"
      ],
      "metadata": {
        "id": "-b42CSWlM0HM"
      }
    },
    {
      "cell_type": "code",
      "source": [
        "df_falabella['falabella_sma_200'] = ta.trend.sma_indicator(df_falabella['Close'], window = 200)\n",
        "df_falabella[['Close','falabella_sma_200']].iloc[199]"
      ],
      "metadata": {
        "colab": {
          "base_uri": "https://localhost:8080/"
        },
        "id": "tQsAgnDcMzwx",
        "outputId": "8dadd7dd-f75f-42e3-aaea-d100673adaaf"
      },
      "execution_count": 56,
      "outputs": [
        {
          "output_type": "execute_result",
          "data": {
            "text/plain": [
              "Close                4340.4000\n",
              "falabella_sma_200    4496.0655\n",
              "Name: 2015-02-09, dtype: float64"
            ]
          },
          "metadata": {},
          "execution_count": 56
        }
      ]
    },
    {
      "cell_type": "markdown",
      "source": [
        "#Columna booleana que indica cuándo se superó la media"
      ],
      "metadata": {
        "id": "b1OMKW1PNHRA"
      }
    },
    {
      "cell_type": "code",
      "source": [
        "df_falabella['msa200_falabella'] = np.nan\n",
        "i = 199\n",
        "while i <= (df_falabella.shape[0]-1):\n",
        "  if df_falabella['Close'].iloc[i] > df_falabella['falabella_sma_200'].iloc[i]:\n",
        "    df_falabella['msa200_falabella'].iloc[i] = 1\n",
        "  else:\n",
        "    df_falabella['msa200_falabella'].iloc[i] = 0\n",
        "  i += 1"
      ],
      "metadata": {
        "id": "A-M8VnLUNItK"
      },
      "execution_count": 57,
      "outputs": []
    },
    {
      "cell_type": "markdown",
      "source": [
        "#Data IAM"
      ],
      "metadata": {
        "id": "L-T3Qvj_NWiY"
      }
    },
    {
      "cell_type": "code",
      "source": [
        "df_iam = pd.read_csv('IAM.csv', index_col = 'Date')\n",
        "print(df_iam)"
      ],
      "metadata": {
        "colab": {
          "base_uri": "https://localhost:8080/"
        },
        "id": "HUljz_TQNeXN",
        "outputId": "6d64a467-8c8b-4251-8ee7-2b4c5299d7db"
      },
      "execution_count": 58,
      "outputs": [
        {
          "output_type": "stream",
          "name": "stdout",
          "text": [
            "              Open    High     Low   Close   Volume\n",
            "Date                                               \n",
            "2014-04-21  907.38  919.00  907.40  919.00   614737\n",
            "2014-04-22  919.00  924.99  907.00  908.00  1086298\n",
            "2014-04-23  908.00  925.00  910.00  917.20   737402\n",
            "2014-04-24  917.20  920.00  915.00  917.89   266837\n",
            "2014-04-25  917.89  919.99  915.00  916.15   609773\n",
            "...            ...     ...     ...     ...      ...\n",
            "2024-04-15  755.00  750.00  735.00  747.99   398664\n",
            "2024-04-16  758.00  758.00  711.00  732.00  1312432\n",
            "2024-04-17  732.00  738.37  716.00  733.00   484151\n",
            "2024-04-18  733.00  735.00  721.32  730.00   232171\n",
            "2024-04-19  730.00  721.23  718.01  719.23   412680\n",
            "\n",
            "[2490 rows x 5 columns]\n"
          ]
        }
      ]
    },
    {
      "cell_type": "markdown",
      "source": [
        "#Cálculo de la media móvil simple para una ventana de 200 días"
      ],
      "metadata": {
        "id": "0T4HO0luNqc6"
      }
    },
    {
      "cell_type": "code",
      "source": [
        "df_iam['iam_sma_200'] = ta.trend.sma_indicator(df_iam['Close'], window = 200)\n",
        "df_iam[['Close','iam_sma_200']].iloc[199]"
      ],
      "metadata": {
        "colab": {
          "base_uri": "https://localhost:8080/"
        },
        "id": "3hfYvnEVNr1J",
        "outputId": "979032ae-cf84-4da3-fa6f-2a85a2900e0e"
      },
      "execution_count": 59,
      "outputs": [
        {
          "output_type": "execute_result",
          "data": {
            "text/plain": [
              "Close          976.18000\n",
              "iam_sma_200    924.25825\n",
              "Name: 2015-02-09, dtype: float64"
            ]
          },
          "metadata": {},
          "execution_count": 59
        }
      ]
    },
    {
      "cell_type": "markdown",
      "source": [
        "#Columna booleana que indica cuándo se superó la media"
      ],
      "metadata": {
        "id": "zknjZ5SJNy8x"
      }
    },
    {
      "cell_type": "code",
      "source": [
        "df_iam['msa200_iam'] = np.nan\n",
        "i = 199\n",
        "while i <= (df_iam.shape[0]-1):\n",
        "  if df_iam['Close'].iloc[i] > df_iam['iam_sma_200'].iloc[i]:\n",
        "    df_iam['msa200_iam'].iloc[i] = 1\n",
        "  else:\n",
        "    df_iam['msa200_iam'].iloc[i] = 0\n",
        "  i += 1"
      ],
      "metadata": {
        "id": "YOfm4JN2N17T"
      },
      "execution_count": 60,
      "outputs": []
    },
    {
      "cell_type": "markdown",
      "source": [
        "#Data ITAUCL"
      ],
      "metadata": {
        "id": "Uzk39w1QODl5"
      }
    },
    {
      "cell_type": "code",
      "source": [
        "df_itau = pd.read_csv('ITAUCL.csv', index_col = 'Date')\n",
        "print(df_itau)"
      ],
      "metadata": {
        "colab": {
          "base_uri": "https://localhost:8080/"
        },
        "id": "Q9TC7oSiOFLN",
        "outputId": "5dddfba2-fda0-42ba-8e2c-bec312c69dbf"
      },
      "execution_count": 61,
      "outputs": [
        {
          "output_type": "stream",
          "name": "stdout",
          "text": [
            "                 Open       High        Low      Close  Volume\n",
            "Date                                                          \n",
            "2014-04-21  27646.310  27913.062  27642.342  27850.451   24160\n",
            "2014-04-22  27850.785  27996.396  27700.451  27821.621    9661\n",
            "2014-04-23  27821.690  27913.062  27325.676  27450.900    8562\n",
            "2014-04-24  27450.870  27454.955  27121.621  27184.234   20737\n",
            "2014-04-25  27184.242  27288.290  27079.730  27250.900    7796\n",
            "...               ...        ...        ...        ...     ...\n",
            "2024-04-15  10500.000  10500.000  10235.000  10240.000  153290\n",
            "2024-04-16  10240.000  10346.000  10112.000  10130.000  171022\n",
            "2024-04-17  10150.000  10350.000  10150.000  10200.000  221078\n",
            "2024-04-18  10300.000  10400.000  10190.000  10249.000  265798\n",
            "2024-04-19  10300.000  10300.000  10150.000  10170.000  209604\n",
            "\n",
            "[2491 rows x 5 columns]\n"
          ]
        }
      ]
    },
    {
      "cell_type": "markdown",
      "source": [
        "#Cálculo de la media móvil simple para una ventana de 200 días"
      ],
      "metadata": {
        "id": "DQ7nKj_5OP2-"
      }
    },
    {
      "cell_type": "code",
      "source": [
        "df_itau['itau_sma_200'] = ta.trend.sma_indicator(df_itau['Close'], window = 200)\n",
        "df_itau[['Close','itau_sma_200']].iloc[199]"
      ],
      "metadata": {
        "colab": {
          "base_uri": "https://localhost:8080/"
        },
        "id": "p6DEweaXOPRT",
        "outputId": "76cb290f-bcd7-4e76-d197-770480c7d6be"
      },
      "execution_count": 62,
      "outputs": [
        {
          "output_type": "execute_result",
          "data": {
            "text/plain": [
              "Close           30579.28000\n",
              "itau_sma_200    29660.89641\n",
              "Name: 2015-02-09, dtype: float64"
            ]
          },
          "metadata": {},
          "execution_count": 62
        }
      ]
    },
    {
      "cell_type": "markdown",
      "source": [
        "#Columna booleana que indica cuándo se superó la media"
      ],
      "metadata": {
        "id": "Fys0iGMjOYxX"
      }
    },
    {
      "cell_type": "code",
      "source": [
        "df_itau['msa200_itau'] = np.nan\n",
        "i = 199\n",
        "while i <= (df_itau.shape[0]-1):\n",
        "  if df_itau['Close'].iloc[i] > df_itau['itau_sma_200'].iloc[i]:\n",
        "    df_itau['msa200_itau'].iloc[i] = 1\n",
        "  else:\n",
        "    df_itau['msa200_itau'].iloc[i] = 0\n",
        "  i += 1"
      ],
      "metadata": {
        "id": "mrcb9kymObbd"
      },
      "execution_count": 63,
      "outputs": []
    },
    {
      "cell_type": "markdown",
      "source": [
        "#Data LTM"
      ],
      "metadata": {
        "id": "HeSlSAtPOoqL"
      }
    },
    {
      "cell_type": "code",
      "source": [
        "df_ltm = pd.read_csv('LTM.csv', index_col = 'Date')\n",
        "print(df_ltm)"
      ],
      "metadata": {
        "colab": {
          "base_uri": "https://localhost:8080/"
        },
        "id": "jh-9PJlsOpzc",
        "outputId": "f9a1c7b6-716c-4a7a-b43a-aab8d599f1ee"
      },
      "execution_count": 64,
      "outputs": [
        {
          "output_type": "stream",
          "name": "stdout",
          "text": [
            "                 Open      High       Low     Close      Volume\n",
            "Date                                                           \n",
            "2014-04-21  468.62866  473.3427  468.6287  472.1836     5350420\n",
            "2014-04-22  472.18360  473.6200  468.6342  471.8342     5460970\n",
            "2014-04-23  471.83417  472.5274  460.3098  471.9728     4483996\n",
            "2014-04-24  471.97287  474.1746  468.9670  472.8103     5649812\n",
            "2014-04-25  472.81024  472.8103  463.1937  464.2640     5112100\n",
            "...               ...       ...       ...       ...         ...\n",
            "2024-04-15   12.52000   12.7500   12.0100   12.0400  1173742210\n",
            "2024-04-16   12.00000   12.2000   11.6100   12.2000  1439499260\n",
            "2024-04-17   12.30000   12.8000   12.2500   12.3200   897878780\n",
            "2024-04-18   12.35000   12.7000   12.3200   12.5100  2058487680\n",
            "2024-04-19   12.30000   12.6000   12.3000   12.4000  2026921470\n",
            "\n",
            "[2491 rows x 5 columns]\n"
          ]
        }
      ]
    },
    {
      "cell_type": "markdown",
      "source": [
        "#Cálculo de la media móvil simple para una ventana de 200 días"
      ],
      "metadata": {
        "id": "FCYB9DamOvN1"
      }
    },
    {
      "cell_type": "code",
      "source": [
        "df_ltm['ltm_sma_200'] = ta.trend.sma_indicator(df_ltm['Close'], window = 200)\n",
        "df_ltm[['Close','ltm_sma_200']].iloc[199]"
      ],
      "metadata": {
        "colab": {
          "base_uri": "https://localhost:8080/"
        },
        "id": "W4262qYcOul6",
        "outputId": "ac81142d-a603-4cae-91a6-9c56558ca284"
      },
      "execution_count": 65,
      "outputs": [
        {
          "output_type": "execute_result",
          "data": {
            "text/plain": [
              "Close          370.227700\n",
              "ltm_sma_200    403.993738\n",
              "Name: 2015-02-09, dtype: float64"
            ]
          },
          "metadata": {},
          "execution_count": 65
        }
      ]
    },
    {
      "cell_type": "markdown",
      "source": [
        "#Columna booleana que indica cuándo se superó la media"
      ],
      "metadata": {
        "id": "m5G8cXJDO33U"
      }
    },
    {
      "cell_type": "code",
      "source": [
        "df_ltm['msa200_ltm'] = np.nan\n",
        "i = 199\n",
        "while i <= (df_ltm.shape[0]-1):\n",
        "  if df_ltm['Close'].iloc[i] > df_ltm['ltm_sma_200'].iloc[i]:\n",
        "    df_ltm['msa200_ltm'].iloc[i] = 1\n",
        "  else:\n",
        "    df_ltm['msa200_ltm'].iloc[i] = 0\n",
        "  i += 1"
      ],
      "metadata": {
        "id": "27Lu2EeoO5Mz"
      },
      "execution_count": 66,
      "outputs": []
    },
    {
      "cell_type": "markdown",
      "source": [
        "#Data Mallplaza"
      ],
      "metadata": {
        "id": "uIiu229BPHVM"
      }
    },
    {
      "cell_type": "code",
      "source": [
        "df_mallplaza = pd.read_csv('MALLPLAZA.csv', index_col = 'Date')\n",
        "print(df_mallplaza)"
      ],
      "metadata": {
        "colab": {
          "base_uri": "https://localhost:8080/"
        },
        "id": "RVi4IOqzPKHI",
        "outputId": "32c05a54-2eb8-467f-dd4e-3c55c933b0a6"
      },
      "execution_count": 67,
      "outputs": [
        {
          "output_type": "stream",
          "name": "stdout",
          "text": [
            "              Open    High     Low   Close     Volume\n",
            "Date                                                 \n",
            "2018-07-27  1435.0  1435.0  1400.1  1402.7  281806176\n",
            "2018-07-30  1410.0  1415.0  1400.0  1410.1   12949530\n",
            "2018-07-31  1414.7  1432.0  1411.8  1420.1    8801941\n",
            "2018-08-01  1420.1  1445.3  1423.1  1425.0    8624787\n",
            "2018-08-02  1425.0  1431.0  1416.2  1430.0    3627880\n",
            "...            ...     ...     ...     ...        ...\n",
            "2024-04-15  1380.0  1396.0  1370.0  1372.1     183273\n",
            "2024-04-16  1372.1  1373.0  1360.0  1370.0      94029\n",
            "2024-04-17  1370.0  1405.9  1370.0  1383.6      19023\n",
            "2024-04-18  1383.6  1380.0  1370.0  1380.0     584447\n",
            "2024-04-19  1380.0  1390.0  1335.0  1373.7    1901876\n",
            "\n",
            "[1427 rows x 5 columns]\n"
          ]
        }
      ]
    },
    {
      "cell_type": "markdown",
      "source": [
        "#Cálculo de la media móvil simple para una ventana de 200 días"
      ],
      "metadata": {
        "id": "tm1KobfYPcVh"
      }
    },
    {
      "cell_type": "code",
      "source": [
        "df_mallplaza['mallplaza_sma_200'] = ta.trend.sma_indicator(df_mallplaza['Close'], window = 200)\n",
        "df_mallplaza[['Close','mallplaza_sma_200']].iloc[199]"
      ],
      "metadata": {
        "colab": {
          "base_uri": "https://localhost:8080/"
        },
        "id": "ATxz2RpCPbzn",
        "outputId": "c50b9f84-5128-4ab1-e74c-0242b08c9be6"
      },
      "execution_count": 68,
      "outputs": [
        {
          "output_type": "execute_result",
          "data": {
            "text/plain": [
              "Close                1580.0000\n",
              "mallplaza_sma_200    1507.0205\n",
              "Name: 2019-05-20, dtype: float64"
            ]
          },
          "metadata": {},
          "execution_count": 68
        }
      ]
    },
    {
      "cell_type": "markdown",
      "source": [
        "#Columna booleana que indica cuándo se superó la media"
      ],
      "metadata": {
        "id": "43GeO14UPmRC"
      }
    },
    {
      "cell_type": "code",
      "source": [
        "df_mallplaza['msa200_mallplaza'] = np.nan\n",
        "i = 199\n",
        "while i <= (df_mallplaza.shape[0]-1):\n",
        "  if df_mallplaza['Close'].iloc[i] > df_mallplaza['mallplaza_sma_200'].iloc[i]:\n",
        "    df_mallplaza['msa200_mallplaza'].iloc[i] = 1\n",
        "  else:\n",
        "    df_mallplaza['msa200_mallplaza'].iloc[i] = 0\n",
        "  i += 1"
      ],
      "metadata": {
        "id": "LxL2e5OGPnx9"
      },
      "execution_count": 69,
      "outputs": []
    },
    {
      "cell_type": "markdown",
      "source": [
        "#Data Oro Blanco"
      ],
      "metadata": {
        "id": "th6dS5uxP9o1"
      }
    },
    {
      "cell_type": "code",
      "source": [
        "df_oro_blanco = pd.read_csv('ORO_BLANCO.csv', index_col = 'Date')\n",
        "print(df_oro_blanco)"
      ],
      "metadata": {
        "colab": {
          "base_uri": "https://localhost:8080/"
        },
        "id": "aEiW5qYYP_nu",
        "outputId": "f56b9829-7798-4abc-e17d-9bdfb681b0cc"
      },
      "execution_count": 70,
      "outputs": [
        {
          "output_type": "stream",
          "name": "stdout",
          "text": [
            "                Open    High     Low   Close    Volume\n",
            "Date                                                  \n",
            "2014-04-21  2.035000  2.0350  2.0350  2.0350     19458\n",
            "2014-04-23  2.034963  2.0220  1.9558  1.9558   3893908\n",
            "2014-04-24  1.955768  2.0489  2.0489  2.0489  30022836\n",
            "2014-04-25  2.048927  2.0583  2.0303  2.0303  20400564\n",
            "2014-04-28  2.030364  2.0489  1.9651  1.9661  13199226\n",
            "...              ...     ...     ...     ...       ...\n",
            "2024-04-15  6.933000  6.9400  6.8710  6.8690   2553098\n",
            "2024-04-16  6.869000  6.8700  6.7200  6.7630   3537118\n",
            "2024-04-17  6.763000  6.9000  6.7490  6.8440   7925320\n",
            "2024-04-18  6.844000  6.9000  6.8500  6.9000   2233322\n",
            "2024-04-19  6.900000  6.8800  6.7500  6.8740   3046958\n",
            "\n",
            "[2321 rows x 5 columns]\n"
          ]
        }
      ]
    },
    {
      "cell_type": "markdown",
      "source": [
        "#Cálculo de la media móvil simple para una ventana de 200 días"
      ],
      "metadata": {
        "id": "vSeMS6hSQJ6c"
      }
    },
    {
      "cell_type": "code",
      "source": [
        "df_oro_blanco['oro_blanco_sma_200'] = ta.trend.sma_indicator(df_oro_blanco['Close'], window = 200)\n",
        "df_oro_blanco[['Close','oro_blanco_sma_200']].iloc[199]"
      ],
      "metadata": {
        "colab": {
          "base_uri": "https://localhost:8080/"
        },
        "id": "icQQdQEHQJiB",
        "outputId": "fcaa009e-6312-4212-a6a8-9cd60bc594b9"
      },
      "execution_count": 71,
      "outputs": [
        {
          "output_type": "execute_result",
          "data": {
            "text/plain": [
              "Close                 1.404400\n",
              "oro_blanco_sma_200    1.791078\n",
              "Name: 2015-06-25, dtype: float64"
            ]
          },
          "metadata": {},
          "execution_count": 71
        }
      ]
    },
    {
      "cell_type": "markdown",
      "source": [
        "#Columna booleana que indica cuándo se superó la media"
      ],
      "metadata": {
        "id": "jCJiqc3hQVKm"
      }
    },
    {
      "cell_type": "code",
      "source": [
        "df_oro_blanco['msa200_oro_blanco'] = np.nan\n",
        "i = 199\n",
        "while i <= (df_oro_blanco.shape[0]-1):\n",
        "  if df_oro_blanco['Close'].iloc[i] > df_oro_blanco['oro_blanco_sma_200'].iloc[i]:\n",
        "    df_oro_blanco['msa200_oro_blanco'].iloc[i] = 1\n",
        "  else:\n",
        "    df_oro_blanco['msa200_oro_blanco'].iloc[i] = 0\n",
        "  i += 1"
      ],
      "metadata": {
        "id": "r4sNEivwQUqA"
      },
      "execution_count": 72,
      "outputs": []
    },
    {
      "cell_type": "markdown",
      "source": [
        "#Data PARAUCO"
      ],
      "metadata": {
        "id": "GKmIE-V2QssU"
      }
    },
    {
      "cell_type": "code",
      "source": [
        "df_parauco = pd.read_csv('PARAUCO.csv', index_col = 'Date')\n",
        "print(df_parauco)"
      ],
      "metadata": {
        "colab": {
          "base_uri": "https://localhost:8080/"
        },
        "id": "QqObFXY5QtyH",
        "outputId": "68f12531-0daa-48e2-ebcc-154799ec0cfa"
      },
      "execution_count": 73,
      "outputs": [
        {
          "output_type": "stream",
          "name": "stdout",
          "text": [
            "                  Open       High        Low      Close   Volume\n",
            "Date                                                            \n",
            "2014-04-21  1051.24100  1051.3402  1021.4889  1041.3236   900773\n",
            "2014-04-22  1041.32360  1041.3236  1011.6707  1026.4476   617749\n",
            "2014-04-23  1026.44760  1026.4476  1006.7120  1011.6707   765964\n",
            "2014-04-24  1011.67065  1021.7864  1001.6542  1005.1252  1536068\n",
            "2014-04-25  1005.12520  1011.5715   981.8194   984.1103  2556530\n",
            "...                ...        ...        ...        ...      ...\n",
            "2024-04-15  1449.50000  1451.1000  1420.0000  1438.0000   923277\n",
            "2024-04-16  1438.00000  1438.0000  1414.2000  1430.0000  1053254\n",
            "2024-04-17  1430.00000  1429.9000  1403.0000  1425.0000   936704\n",
            "2024-04-18  1425.00000  1425.0000  1400.0000  1400.0000  1541296\n",
            "2024-04-19  1390.00000  1400.0000  1378.0000  1399.9000  1750381\n",
            "\n",
            "[2489 rows x 5 columns]\n"
          ]
        }
      ]
    },
    {
      "cell_type": "markdown",
      "source": [
        "#Cálculo de la media móvil simple para una ventana de 200 días"
      ],
      "metadata": {
        "id": "UCs-qofLQznW"
      }
    },
    {
      "cell_type": "code",
      "source": [
        "df_parauco['parauco_sma_200'] = ta.trend.sma_indicator(df_parauco['Close'], window = 200)\n",
        "df_parauco[['Close','parauco_sma_200']].iloc[199]"
      ],
      "metadata": {
        "colab": {
          "base_uri": "https://localhost:8080/"
        },
        "id": "Ap3eQpk6QzET",
        "outputId": "6f7f65f8-69b5-44fc-84eb-ae0146ee073c"
      },
      "execution_count": 74,
      "outputs": [
        {
          "output_type": "execute_result",
          "data": {
            "text/plain": [
              "Close              1122.844400\n",
              "parauco_sma_200    1081.886218\n",
              "Name: 2015-02-10, dtype: float64"
            ]
          },
          "metadata": {},
          "execution_count": 74
        }
      ]
    },
    {
      "cell_type": "markdown",
      "source": [
        "#Columna booleana que indica cuándo se superó la media"
      ],
      "metadata": {
        "id": "1NKke0xbQ8pB"
      }
    },
    {
      "cell_type": "code",
      "source": [
        "df_parauco['msa200_parauco'] = np.nan\n",
        "i = 199\n",
        "while i <= (df_parauco.shape[0]-1):\n",
        "  if df_parauco['Close'].iloc[i] > df_parauco['parauco_sma_200'].iloc[i]:\n",
        "    df_parauco['msa200_parauco'].iloc[i] = 1\n",
        "  else:\n",
        "    df_parauco['msa200_parauco'].iloc[i] = 0\n",
        "  i += 1"
      ],
      "metadata": {
        "id": "bfYXzVpkQ9_f"
      },
      "execution_count": 75,
      "outputs": []
    },
    {
      "cell_type": "markdown",
      "source": [
        "#Data QUINENCO"
      ],
      "metadata": {
        "id": "c1aBBmwxRPjr"
      }
    },
    {
      "cell_type": "code",
      "source": [
        "df_quinenco = pd.read_csv('QUINENCO.csv', index_col = 'Date')\n",
        "print(df_quinenco)"
      ],
      "metadata": {
        "colab": {
          "base_uri": "https://localhost:8080/"
        },
        "id": "CONNhqZyRQ6V",
        "outputId": "6f5d375a-ce70-4be3-efe2-a76fa6fa20e3"
      },
      "execution_count": 76,
      "outputs": [
        {
          "output_type": "stream",
          "name": "stdout",
          "text": [
            "              Open    High     Low   Close  Volume\n",
            "Date                                              \n",
            "2014-04-21  1230.0  1230.0  1230.0  1230.0   15104\n",
            "2014-04-22  1230.0  1240.0  1229.6  1240.0   29881\n",
            "2014-04-23  1240.0  1240.0  1240.0  1240.0   19576\n",
            "2014-04-24  1240.0  1240.0  1240.0  1240.0    4719\n",
            "2014-04-25  1240.0  1260.0  1240.0  1240.0   53427\n",
            "...            ...     ...     ...     ...     ...\n",
            "2024-04-15  3309.5  3358.6  3230.4  3260.0  223758\n",
            "2024-04-16  3260.0  3249.5  3181.0  3181.6  202022\n",
            "2024-04-17  3181.6  3200.0  3048.0  3200.0  201591\n",
            "2024-04-18  3200.0  3400.0  3205.0  3400.0  155006\n",
            "2024-04-19  3400.0  3349.9  3250.1  3300.0  279144\n",
            "\n",
            "[2414 rows x 5 columns]\n"
          ]
        }
      ]
    },
    {
      "cell_type": "markdown",
      "source": [
        "#Cálculo de la media móvil simple para una ventana de 200 días"
      ],
      "metadata": {
        "id": "aDnUaiccRW7h"
      }
    },
    {
      "cell_type": "code",
      "source": [
        "df_quinenco['quinenco_sma_200'] = ta.trend.sma_indicator(df_quinenco['Close'], window = 200)\n",
        "df_quinenco[['Close','quinenco_sma_200']].iloc[199]"
      ],
      "metadata": {
        "colab": {
          "base_uri": "https://localhost:8080/"
        },
        "id": "ydLquPbNRWcC",
        "outputId": "98269346-617c-46be-c7f3-c37a7603b54a"
      },
      "execution_count": 77,
      "outputs": [
        {
          "output_type": "execute_result",
          "data": {
            "text/plain": [
              "Close               1335.000\n",
              "quinenco_sma_200    1247.639\n",
              "Name: 2015-03-02, dtype: float64"
            ]
          },
          "metadata": {},
          "execution_count": 77
        }
      ]
    },
    {
      "cell_type": "markdown",
      "source": [
        "#Columna booleana que indica cuándo se superó la media"
      ],
      "metadata": {
        "id": "OvfFHsjGRgbr"
      }
    },
    {
      "cell_type": "code",
      "source": [
        "df_quinenco['msa200_quinenco'] = np.nan\n",
        "i = 199\n",
        "while i <= (df_quinenco.shape[0]-1):\n",
        "  if df_quinenco['Close'].iloc[i] > df_quinenco['quinenco_sma_200'].iloc[i]:\n",
        "    df_quinenco['msa200_quinenco'].iloc[i] = 1\n",
        "  else:\n",
        "    df_quinenco['msa200_quinenco'].iloc[i] = 0\n",
        "  i += 1"
      ],
      "metadata": {
        "id": "KUBST6R-Q8RQ"
      },
      "execution_count": 78,
      "outputs": []
    },
    {
      "cell_type": "markdown",
      "source": [
        "#Data Ripley"
      ],
      "metadata": {
        "id": "MpOsU5C-RxBH"
      }
    },
    {
      "cell_type": "code",
      "source": [
        "df_ripley = pd.read_csv('RIPLEY.csv', index_col = 'Date')\n",
        "print(df_ripley)"
      ],
      "metadata": {
        "colab": {
          "base_uri": "https://localhost:8080/"
        },
        "id": "i81ZcijwR60L",
        "outputId": "a81edeec-b6a3-4257-ad5a-8cb9388924ac"
      },
      "execution_count": 79,
      "outputs": [
        {
          "output_type": "stream",
          "name": "stdout",
          "text": [
            "              Open    High     Low   Close   Volume\n",
            "Date                                               \n",
            "2014-04-21  378.00  382.00  373.10  374.00  1310373\n",
            "2014-04-22  374.00  375.00  370.01  370.01  1087411\n",
            "2014-04-23  370.01  375.30  370.00  374.00  1850499\n",
            "2014-04-24  374.00  378.00  370.00  371.52  1124019\n",
            "2014-04-25  371.52  375.00  368.00  370.50  1518266\n",
            "...            ...     ...     ...     ...      ...\n",
            "2024-04-15  210.00  212.00  208.00  210.90  4001225\n",
            "2024-04-16  210.90  208.93  201.00  206.50  3221142\n",
            "2024-04-17  206.50  207.00  202.04  206.16   783217\n",
            "2024-04-18  206.16  209.86  204.96  209.86   658280\n",
            "2024-04-19  209.86  210.18  202.29  208.37   396133\n",
            "\n",
            "[2491 rows x 5 columns]\n"
          ]
        }
      ]
    },
    {
      "cell_type": "markdown",
      "source": [
        "#Cálculo de la media móvil simple para una ventana de 200 días"
      ],
      "metadata": {
        "id": "JoS3vZJNSp07"
      }
    },
    {
      "cell_type": "code",
      "source": [
        "df_ripley['ripley_sma_200'] = ta.trend.sma_indicator(df_ripley['Close'], window = 200)\n",
        "df_ripley[['Close','ripley_sma_200']].iloc[199]"
      ],
      "metadata": {
        "colab": {
          "base_uri": "https://localhost:8080/"
        },
        "id": "oQUjFoeeSpO5",
        "outputId": "31d7d6e8-f017-495b-aa45-1dfe15ad9d84"
      },
      "execution_count": 80,
      "outputs": [
        {
          "output_type": "execute_result",
          "data": {
            "text/plain": [
              "Close             297.00000\n",
              "ripley_sma_200    327.99675\n",
              "Name: 2015-02-09, dtype: float64"
            ]
          },
          "metadata": {},
          "execution_count": 80
        }
      ]
    },
    {
      "cell_type": "markdown",
      "source": [
        "#Columna booleana que indica cuándo se superó la media"
      ],
      "metadata": {
        "id": "t8DylXJyS0UN"
      }
    },
    {
      "cell_type": "code",
      "source": [
        "df_ripley['msa200_ripley'] = np.nan\n",
        "i = 199\n",
        "while i <= (df_ripley.shape[0]-1):\n",
        "  if df_ripley['Close'].iloc[i] > df_ripley['ripley_sma_200'].iloc[i]:\n",
        "    df_ripley['msa200_ripley'].iloc[i] = 1\n",
        "  else:\n",
        "    df_ripley['msa200_ripley'].iloc[i] = 0\n",
        "  i += 1"
      ],
      "metadata": {
        "id": "EoNIzTjGSz0P"
      },
      "execution_count": 81,
      "outputs": []
    },
    {
      "cell_type": "markdown",
      "source": [
        "#Data SALFACORP"
      ],
      "metadata": {
        "id": "cTTOxsSbTF6P"
      }
    },
    {
      "cell_type": "code",
      "source": [
        "df_salfacorp = pd.read_csv('SALFACORP.csv', index_col = 'Date')\n",
        "print(df_salfacorp)"
      ],
      "metadata": {
        "colab": {
          "base_uri": "https://localhost:8080/"
        },
        "id": "zyVUIK5yTIC2",
        "outputId": "95082c44-024e-4b24-86dc-d59c7dd8d658"
      },
      "execution_count": 82,
      "outputs": [
        {
          "output_type": "stream",
          "name": "stdout",
          "text": [
            "                 Open      High       Low     Close   Volume\n",
            "Date                                                        \n",
            "2014-04-21  494.15080  496.1393  494.1508  494.1508    52215\n",
            "2014-04-22  494.15080  492.2617  492.1523  492.1523   400572\n",
            "2014-04-23  492.15230  488.1852  477.2482  480.5691   463264\n",
            "2014-04-24  480.56906  492.1622  477.2482  492.0628   442309\n",
            "2014-04-25  492.06284  497.1336  486.1966  488.1852   159318\n",
            "...               ...       ...       ...       ...      ...\n",
            "2024-04-16  545.97000  551.0000  531.0000  542.3700  1483477\n",
            "2024-04-17  542.37000  555.0000  531.3000  535.0000   893026\n",
            "2024-04-18  535.00000  545.0000  535.0000  539.4500   611575\n",
            "2024-04-19  539.45000  544.0000  533.0100  535.2100   168198\n",
            "2024-04-21    0.00000    0.0000    0.0000  535.2100        0\n",
            "\n",
            "[2487 rows x 5 columns]\n"
          ]
        }
      ]
    },
    {
      "cell_type": "markdown",
      "source": [
        "#Cálculo de la media móvil simple para una ventana de 200 días"
      ],
      "metadata": {
        "id": "I8Tp2CdWTQqm"
      }
    },
    {
      "cell_type": "code",
      "source": [
        "df_salfacorp['salfacorp_sma_200'] = ta.trend.sma_indicator(df_salfacorp['Close'], window = 200)\n",
        "df_salfacorp[['Close','salfacorp_sma_200']].iloc[199]"
      ],
      "metadata": {
        "colab": {
          "base_uri": "https://localhost:8080/"
        },
        "id": "YpConaZcTPvf",
        "outputId": "df96a8cb-d430-4787-f62f-30bd64c72800"
      },
      "execution_count": 83,
      "outputs": [
        {
          "output_type": "execute_result",
          "data": {
            "text/plain": [
              "Close                420.575000\n",
              "salfacorp_sma_200    452.584278\n",
              "Name: 2015-02-09, dtype: float64"
            ]
          },
          "metadata": {},
          "execution_count": 83
        }
      ]
    },
    {
      "cell_type": "markdown",
      "source": [
        "#Columna booleana que indica cuándo se superó la media"
      ],
      "metadata": {
        "id": "na8J0g5CTavJ"
      }
    },
    {
      "cell_type": "code",
      "source": [
        "df_salfacorp['msa200_salfacorp'] = np.nan\n",
        "i = 199\n",
        "while i <= (df_salfacorp.shape[0]-1):\n",
        "  if df_salfacorp['Close'].iloc[i] > df_salfacorp['salfacorp_sma_200'].iloc[i]:\n",
        "    df_salfacorp['msa200_salfacorp'].iloc[i] = 1\n",
        "  else:\n",
        "    df_salfacorp['msa200_salfacorp'].iloc[i] = 0\n",
        "  i += 1"
      ],
      "metadata": {
        "id": "Tx1_nl6RTaVJ"
      },
      "execution_count": 84,
      "outputs": []
    },
    {
      "cell_type": "markdown",
      "source": [
        "#Data SMU"
      ],
      "metadata": {
        "id": "fj51d2PXTxR1"
      }
    },
    {
      "cell_type": "code",
      "source": [
        "df_smu = pd.read_csv('SMU.csv', index_col = 'Date')\n",
        "print(df_smu)"
      ],
      "metadata": {
        "colab": {
          "base_uri": "https://localhost:8080/"
        },
        "id": "mxeiR32QTyRw",
        "outputId": "9491fff7-5a11-438e-fa52-4de86e545d5a"
      },
      "execution_count": 85,
      "outputs": [
        {
          "output_type": "stream",
          "name": "stdout",
          "text": [
            "              Open    High     Low   Close      Volume\n",
            "Date                                                  \n",
            "2017-01-24  113.00  117.00  113.00  114.56  1343712130\n",
            "2017-01-25  114.56  114.56  113.00  113.50    28279136\n",
            "2017-01-26  113.50  113.51  111.00  113.46    22152198\n",
            "2017-01-27  113.46  113.46  112.50  112.50     3344462\n",
            "2017-01-30  112.50  113.00  112.50  112.70     1305322\n",
            "...            ...     ...     ...     ...         ...\n",
            "2024-04-16  167.00  167.01  164.00  165.20    13018711\n",
            "2024-04-17  165.20  168.40  164.97  165.69     6656129\n",
            "2024-04-18  165.69  165.89  164.60  164.96     7183138\n",
            "2024-04-19  164.96  165.51  164.00  165.40     9128291\n",
            "2024-04-21    0.00    0.00    0.00  165.40           0\n",
            "\n",
            "[1796 rows x 5 columns]\n"
          ]
        }
      ]
    },
    {
      "cell_type": "markdown",
      "source": [
        "#Cálculo de la media móvil simple para una ventana de 200 días"
      ],
      "metadata": {
        "id": "BIJxrfT-T3u9"
      }
    },
    {
      "cell_type": "code",
      "source": [
        "df_smu['smu_sma_200'] = ta.trend.sma_indicator(df_smu['Close'], window = 200)\n",
        "df_smu[['Close','smu_sma_200']].iloc[199]"
      ],
      "metadata": {
        "colab": {
          "base_uri": "https://localhost:8080/"
        },
        "id": "Ewc1QgZwTwwV",
        "outputId": "c3be6233-05ec-4eb1-fe52-316ef72b2fb1"
      },
      "execution_count": 86,
      "outputs": [
        {
          "output_type": "execute_result",
          "data": {
            "text/plain": [
              "Close          170.0100\n",
              "smu_sma_200    154.3327\n",
              "Name: 2017-11-15, dtype: float64"
            ]
          },
          "metadata": {},
          "execution_count": 86
        }
      ]
    },
    {
      "cell_type": "markdown",
      "source": [
        "#Columna booleana que indica cuándo se superó la media"
      ],
      "metadata": {
        "id": "YaSuHPCzUGK_"
      }
    },
    {
      "cell_type": "code",
      "source": [
        "df_smu['msa200_smu'] = np.nan\n",
        "i = 199\n",
        "while i <= (df_smu.shape[0]-1):\n",
        "  if df_smu['Close'].iloc[i] > df_smu['smu_sma_200'].iloc[i]:\n",
        "    df_smu['msa200_smu'].iloc[i] = 1\n",
        "  else:\n",
        "    df_smu['msa200_smu'].iloc[i] = 0\n",
        "  i += 1"
      ],
      "metadata": {
        "id": "rKqa_T1OUFZA"
      },
      "execution_count": 87,
      "outputs": []
    },
    {
      "cell_type": "markdown",
      "source": [
        "#Data SQM B"
      ],
      "metadata": {
        "id": "oX8W0EPGUT5T"
      }
    },
    {
      "cell_type": "code",
      "source": [
        "df_sqm_b = pd.read_csv('SQM_B.csv', index_col = 'Date')\n",
        "print(df_sqm_b)"
      ],
      "metadata": {
        "colab": {
          "base_uri": "https://localhost:8080/"
        },
        "id": "_lL1J-NZUTWG",
        "outputId": "eda7a205-fe3e-4dfb-b4fd-8fc5c3125bce"
      },
      "execution_count": 88,
      "outputs": [
        {
          "output_type": "stream",
          "name": "stdout",
          "text": [
            "               Open     High      Low    Close  Volume\n",
            "Date                                                  \n",
            "2014-04-21  17748.0  18199.0  17700.0  18146.0  103376\n",
            "2014-04-22  18000.0  18300.0  17905.0  18053.0   93449\n",
            "2014-04-23  18053.0  18050.0  17808.0  17850.0   64788\n",
            "2014-04-24  17850.0  17800.0  17446.0  17752.0   84498\n",
            "2014-04-25  17752.0  17750.0  17521.0  17600.0  105301\n",
            "...             ...      ...      ...      ...     ...\n",
            "2024-04-15  47201.0  48963.0  45300.0  45900.0  252873\n",
            "2024-04-16  45800.0  45801.0  44992.0  45000.0  309113\n",
            "2024-04-17  45400.0  46000.0  44750.0  45140.0  266016\n",
            "2024-04-18  45299.0  45299.0  44100.0  44290.0  403293\n",
            "2024-04-19  43900.0  43960.0  42925.0  42925.0  418171\n",
            "\n",
            "[2491 rows x 5 columns]\n"
          ]
        }
      ]
    },
    {
      "cell_type": "markdown",
      "source": [
        "#Cálculo de la media móvil simple para una ventana de 200 días"
      ],
      "metadata": {
        "id": "mU8ORbGiUiAq"
      }
    },
    {
      "cell_type": "code",
      "source": [
        "df_sqm_b['sqm_b_sma_200'] = ta.trend.sma_indicator(df_sqm_b['Close'], window = 200)\n",
        "df_sqm_b[['Close','sqm_b_sma_200']].iloc[199]"
      ],
      "metadata": {
        "colab": {
          "base_uri": "https://localhost:8080/"
        },
        "id": "LHxaOEzyUhlf",
        "outputId": "c0166646-d8b3-4fed-eb31-3b324f880aff"
      },
      "execution_count": 89,
      "outputs": [
        {
          "output_type": "execute_result",
          "data": {
            "text/plain": [
              "Close            15373.00\n",
              "sqm_b_sma_200    15632.58\n",
              "Name: 2015-02-09, dtype: float64"
            ]
          },
          "metadata": {},
          "execution_count": 89
        }
      ]
    },
    {
      "cell_type": "markdown",
      "source": [
        "#Columna booleana que indica cuándo se superó la media"
      ],
      "metadata": {
        "id": "f-KgCE_pUrsB"
      }
    },
    {
      "cell_type": "code",
      "source": [
        "df_sqm_b['msa200_sqm_b'] = np.nan\n",
        "i = 199\n",
        "while i <= (df_sqm_b.shape[0]-1):\n",
        "  if df_sqm_b['Close'].iloc[i] > df_sqm_b['sqm_b_sma_200'].iloc[i]:\n",
        "    df_sqm_b['msa200_sqm_b'].iloc[i] = 1\n",
        "  else:\n",
        "    df_sqm_b['msa200_sqm_b'].iloc[i] = 0\n",
        "  i += 1"
      ],
      "metadata": {
        "id": "uW6I3qXlUtSP"
      },
      "execution_count": 90,
      "outputs": []
    },
    {
      "cell_type": "markdown",
      "source": [
        "#Data Vapores"
      ],
      "metadata": {
        "id": "P7glPeueU6wj"
      }
    },
    {
      "cell_type": "code",
      "source": [
        "df_vapores = pd.read_csv('VAPORES.csv', index_col = 'Date')\n",
        "print(df_vapores)"
      ],
      "metadata": {
        "colab": {
          "base_uri": "https://localhost:8080/"
        },
        "id": "67oeWXGXU7x-",
        "outputId": "f124dfe4-ee4f-404f-d908-5149b7fff74d"
      },
      "execution_count": 91,
      "outputs": [
        {
          "output_type": "stream",
          "name": "stdout",
          "text": [
            "                 Open     High      Low    Close    Volume\n",
            "Date                                                      \n",
            "2014-04-21  26.959457  27.2294  26.6028  26.7956   3016289\n",
            "2014-04-22  26.795578  26.9884  26.6607  26.7763   5756420\n",
            "2014-04-23  26.776333  26.7474  26.1305  26.4197   2237221\n",
            "2014-04-24  26.419687  26.6028  26.3137  26.3233   2373407\n",
            "2014-04-25  26.323322  26.2173  26.0245  26.0438   6027865\n",
            "...               ...      ...      ...      ...       ...\n",
            "2024-04-15  72.000000  72.6200  71.0800  71.5000  34929980\n",
            "2024-04-16  71.500000  71.5000  69.5000  71.0000  54499728\n",
            "2024-04-17  71.200000  72.5000  69.5600  71.7000  45070368\n",
            "2024-04-18  72.000000  72.0000  70.0000  70.0000  30093378\n",
            "2024-04-19  70.010000  71.0000  69.5000  69.9000  34284120\n",
            "\n",
            "[2491 rows x 5 columns]\n"
          ]
        }
      ]
    },
    {
      "cell_type": "markdown",
      "source": [
        "#Cálculo de la media móvil simple para una ventana de 200 días"
      ],
      "metadata": {
        "id": "7fzL8xcvVAf9"
      }
    },
    {
      "cell_type": "code",
      "source": [
        "df_vapores['vapores_sma_200'] = ta.trend.sma_indicator(df_vapores['Close'], window = 200)\n",
        "df_vapores[['Close','vapores_sma_200']].iloc[199]"
      ],
      "metadata": {
        "colab": {
          "base_uri": "https://localhost:8080/"
        },
        "id": "RHcD7pOGU_xi",
        "outputId": "a8dd4250-4236-44d9-b6ac-3917b691671c"
      },
      "execution_count": 92,
      "outputs": [
        {
          "output_type": "execute_result",
          "data": {
            "text/plain": [
              "Close              24.000000\n",
              "vapores_sma_200    23.150137\n",
              "Name: 2015-02-09, dtype: float64"
            ]
          },
          "metadata": {},
          "execution_count": 92
        }
      ]
    },
    {
      "cell_type": "markdown",
      "source": [
        "#Columna booleana que indica cuándo se superó la media"
      ],
      "metadata": {
        "id": "UOvQ8EImVJ6X"
      }
    },
    {
      "cell_type": "code",
      "source": [
        "df_vapores['msa200_vapores'] = np.nan\n",
        "i = 199\n",
        "while i <= (df_vapores.shape[0]-1):\n",
        "  if df_vapores['Close'].iloc[i] > df_vapores['vapores_sma_200'].iloc[i]:\n",
        "    df_vapores['msa200_vapores'].iloc[i] = 1\n",
        "  else:\n",
        "    df_vapores['msa200_vapores'].iloc[i] = 0\n",
        "  i += 1"
      ],
      "metadata": {
        "id": "2TFb-1XUVJkz"
      },
      "execution_count": 93,
      "outputs": []
    },
    {
      "cell_type": "markdown",
      "source": [
        "#Transformación para msa 200"
      ],
      "metadata": {
        "id": "dcCPNWgtusxK"
      }
    },
    {
      "cell_type": "code",
      "source": [
        "df_aguas_a_msa_200 = df_aguas_a['msa200_aguas_a'] #1\n",
        "df_andina_b_msa_200 = df_andina['msa200_andina_b'] #2\n",
        "df_bci_msa_200 = df_bci['msa200_bci'] #3\n",
        "df_bsantander_msa_200 = df_bsantander['msa200_bsantander'] #4\n",
        "df_cap_msa_200 = df_cap['msa200_cap'] #5\n",
        "df_ccu_msa_200 = df_ccu['msa200_ccu'] #6\n",
        "df_cencoshopp_msa_200 = df_cencoshopp['msa200_cencoshopp'] #7\n",
        "df_cencosud_msa_200 = df_cencosud['msa200_cencosud'] #8\n",
        "df_bchile_msa_200 = df_bchile['msa200_bchile'] #9\n",
        "df_cmpc_msa_200 = df_cmpc['msa200_cmpc'] #10\n",
        "df_colbun_msa_200 = df_colbun['msa200_colbun'] #11\n",
        "df_concha_y_toro_msa_200 = df_concha_y_toro['msa200_concha_y_toro'] #12\n",
        "df_copec_msa_200 = df_copec['msa200_copec'] #13\n",
        "df_ecl_msa_200 = df_ecl['msa200_ecl'] #14\n",
        "df_enelam_msa_200 = df_enelam['msa200_enelam'] #15\n",
        "df_enel_chile_msa_200 = df_enel_chile['msa200_enel_chile'] #16\n",
        "df_entel_msa_200 = df_entel['msa200_entel'] #17\n",
        "df_falabella_msa_200 = df_falabella['msa200_falabella'] #18\n",
        "df_iam_msa_200 = df_iam['msa200_iam'] #19\n",
        "df_itau_msa_200 = df_itau['msa200_itau'] #20\n",
        "df_ltm_msa_200 = df_ltm['msa200_ltm'] #21\n",
        "df_mallplaza_msa_200 = df_mallplaza['msa200_mallplaza'] #22\n",
        "df_oro_blanco_msa_200 = df_oro_blanco['msa200_oro_blanco'] #23\n",
        "df_parauco_msa_200 = df_parauco['msa200_parauco'] #24\n",
        "df_quinenco_msa_200 = df_quinenco['msa200_quinenco'] #25\n",
        "df_ripley_msa_200 = df_ripley['msa200_ripley'] #26\n",
        "df_salfacorp_msa_200 = df_salfacorp['msa200_salfacorp'] #27\n",
        "df_smu_msa_200 = df_smu['msa200_smu'] #28\n",
        "df_sqm_b_msa_200 = df_sqm_b['msa200_sqm_b'] #29\n",
        "df_vapores_msa_200 = df_vapores['msa200_vapores'] #30\n"
      ],
      "metadata": {
        "id": "B1kag9heuwkP"
      },
      "execution_count": 98,
      "outputs": []
    },
    {
      "cell_type": "markdown",
      "source": [
        "#Unir todos los valores de msa 10 en un solo Data Frame (IPSA)"
      ],
      "metadata": {
        "id": "g3tEcGoSv23g"
      }
    },
    {
      "cell_type": "code",
      "source": [
        "df_concat200 = [df_aguas_a_msa_200, df_andina_b_msa_200, df_bci_msa_200, df_bsantander_msa_200, df_cap_msa_200, df_ccu_msa_200, df_cencoshopp_msa_200, df_cencosud_msa_200, df_bchile_msa_200, df_cmpc_msa_200, df_colbun_msa_200, df_concha_y_toro_msa_200, df_copec_msa_200, df_ecl_msa_200, df_enelam_msa_200, df_enel_chile_msa_200, df_entel_msa_200, df_falabella_msa_200, df_iam_msa_200, df_itau_msa_200, df_ltm_msa_200, df_mallplaza_msa_200, df_oro_blanco_msa_200, df_parauco_msa_200, df_quinenco_msa_200, df_ripley_msa_200, df_salfacorp_msa_200, df_smu_msa_200, df_sqm_b_msa_200, df_vapores_msa_200]\n",
        "\n",
        "\n",
        "df_msa_200 = pd.concat(df_concat200, axis=1, join='outer')\n",
        "df_msa_200 = df_msa_200.fillna(0) #Rellena con 0 los valores faltantes\n",
        "df_msa_200['promedio_msa_200'] = df_msa_200.sum(axis = 1)/30\n",
        "df_msa_200.head(10)"
      ],
      "metadata": {
        "colab": {
          "base_uri": "https://localhost:8080/",
          "height": 617
        },
        "id": "RVae6K3Tv_8y",
        "outputId": "286392b5-3714-4fcd-f993-26f4ca2a501b"
      },
      "execution_count": 103,
      "outputs": [
        {
          "output_type": "execute_result",
          "data": {
            "text/plain": [
              "            msa200_aguas_a  msa200_andina_b  msa200_bci  msa200_bsantander  \\\n",
              "Date                                                                         \n",
              "2014-04-21             0.0              0.0         0.0                0.0   \n",
              "2014-04-22             0.0              0.0         0.0                0.0   \n",
              "2014-04-23             0.0              0.0         0.0                0.0   \n",
              "2014-04-24             0.0              0.0         0.0                0.0   \n",
              "2014-04-25             0.0              0.0         0.0                0.0   \n",
              "2014-04-28             0.0              0.0         0.0                0.0   \n",
              "2014-04-29             0.0              0.0         0.0                0.0   \n",
              "2014-04-30             0.0              0.0         0.0                0.0   \n",
              "2014-05-02             0.0              0.0         0.0                0.0   \n",
              "2014-05-05             0.0              0.0         0.0                0.0   \n",
              "\n",
              "            msa200_cap  msa200_ccu  msa200_cencoshopp  msa200_cencosud  \\\n",
              "Date                                                                     \n",
              "2014-04-21         0.0         0.0                0.0              0.0   \n",
              "2014-04-22         0.0         0.0                0.0              0.0   \n",
              "2014-04-23         0.0         0.0                0.0              0.0   \n",
              "2014-04-24         0.0         0.0                0.0              0.0   \n",
              "2014-04-25         0.0         0.0                0.0              0.0   \n",
              "2014-04-28         0.0         0.0                0.0              0.0   \n",
              "2014-04-29         0.0         0.0                0.0              0.0   \n",
              "2014-04-30         0.0         0.0                0.0              0.0   \n",
              "2014-05-02         0.0         0.0                0.0              0.0   \n",
              "2014-05-05         0.0         0.0                0.0              0.0   \n",
              "\n",
              "            msa200_bchile  msa200_cmpc  ...  msa200_mallplaza  \\\n",
              "Date                                    ...                     \n",
              "2014-04-21            0.0          0.0  ...               0.0   \n",
              "2014-04-22            0.0          0.0  ...               0.0   \n",
              "2014-04-23            0.0          0.0  ...               0.0   \n",
              "2014-04-24            0.0          0.0  ...               0.0   \n",
              "2014-04-25            0.0          0.0  ...               0.0   \n",
              "2014-04-28            0.0          0.0  ...               0.0   \n",
              "2014-04-29            0.0          0.0  ...               0.0   \n",
              "2014-04-30            0.0          0.0  ...               0.0   \n",
              "2014-05-02            0.0          0.0  ...               0.0   \n",
              "2014-05-05            0.0          0.0  ...               0.0   \n",
              "\n",
              "            msa200_oro_blanco  msa200_parauco  msa200_quinenco  msa200_ripley  \\\n",
              "Date                                                                            \n",
              "2014-04-21                0.0             0.0              0.0            0.0   \n",
              "2014-04-22                0.0             0.0              0.0            0.0   \n",
              "2014-04-23                0.0             0.0              0.0            0.0   \n",
              "2014-04-24                0.0             0.0              0.0            0.0   \n",
              "2014-04-25                0.0             0.0              0.0            0.0   \n",
              "2014-04-28                0.0             0.0              0.0            0.0   \n",
              "2014-04-29                0.0             0.0              0.0            0.0   \n",
              "2014-04-30                0.0             0.0              0.0            0.0   \n",
              "2014-05-02                0.0             0.0              0.0            0.0   \n",
              "2014-05-05                0.0             0.0              0.0            0.0   \n",
              "\n",
              "            msa200_salfacorp  msa200_smu  msa200_sqm_b  msa200_vapores  \\\n",
              "Date                                                                     \n",
              "2014-04-21               0.0         0.0           0.0             0.0   \n",
              "2014-04-22               0.0         0.0           0.0             0.0   \n",
              "2014-04-23               0.0         0.0           0.0             0.0   \n",
              "2014-04-24               0.0         0.0           0.0             0.0   \n",
              "2014-04-25               0.0         0.0           0.0             0.0   \n",
              "2014-04-28               0.0         0.0           0.0             0.0   \n",
              "2014-04-29               0.0         0.0           0.0             0.0   \n",
              "2014-04-30               0.0         0.0           0.0             0.0   \n",
              "2014-05-02               0.0         0.0           0.0             0.0   \n",
              "2014-05-05               0.0         0.0           0.0             0.0   \n",
              "\n",
              "            promedio_msa_200  \n",
              "Date                          \n",
              "2014-04-21               0.0  \n",
              "2014-04-22               0.0  \n",
              "2014-04-23               0.0  \n",
              "2014-04-24               0.0  \n",
              "2014-04-25               0.0  \n",
              "2014-04-28               0.0  \n",
              "2014-04-29               0.0  \n",
              "2014-04-30               0.0  \n",
              "2014-05-02               0.0  \n",
              "2014-05-05               0.0  \n",
              "\n",
              "[10 rows x 31 columns]"
            ],
            "text/html": [
              "\n",
              "  <div id=\"df-53d7b77c-6a8c-4e6a-a18e-9b639132156e\" class=\"colab-df-container\">\n",
              "    <div>\n",
              "<style scoped>\n",
              "    .dataframe tbody tr th:only-of-type {\n",
              "        vertical-align: middle;\n",
              "    }\n",
              "\n",
              "    .dataframe tbody tr th {\n",
              "        vertical-align: top;\n",
              "    }\n",
              "\n",
              "    .dataframe thead th {\n",
              "        text-align: right;\n",
              "    }\n",
              "</style>\n",
              "<table border=\"1\" class=\"dataframe\">\n",
              "  <thead>\n",
              "    <tr style=\"text-align: right;\">\n",
              "      <th></th>\n",
              "      <th>msa200_aguas_a</th>\n",
              "      <th>msa200_andina_b</th>\n",
              "      <th>msa200_bci</th>\n",
              "      <th>msa200_bsantander</th>\n",
              "      <th>msa200_cap</th>\n",
              "      <th>msa200_ccu</th>\n",
              "      <th>msa200_cencoshopp</th>\n",
              "      <th>msa200_cencosud</th>\n",
              "      <th>msa200_bchile</th>\n",
              "      <th>msa200_cmpc</th>\n",
              "      <th>...</th>\n",
              "      <th>msa200_mallplaza</th>\n",
              "      <th>msa200_oro_blanco</th>\n",
              "      <th>msa200_parauco</th>\n",
              "      <th>msa200_quinenco</th>\n",
              "      <th>msa200_ripley</th>\n",
              "      <th>msa200_salfacorp</th>\n",
              "      <th>msa200_smu</th>\n",
              "      <th>msa200_sqm_b</th>\n",
              "      <th>msa200_vapores</th>\n",
              "      <th>promedio_msa_200</th>\n",
              "    </tr>\n",
              "    <tr>\n",
              "      <th>Date</th>\n",
              "      <th></th>\n",
              "      <th></th>\n",
              "      <th></th>\n",
              "      <th></th>\n",
              "      <th></th>\n",
              "      <th></th>\n",
              "      <th></th>\n",
              "      <th></th>\n",
              "      <th></th>\n",
              "      <th></th>\n",
              "      <th></th>\n",
              "      <th></th>\n",
              "      <th></th>\n",
              "      <th></th>\n",
              "      <th></th>\n",
              "      <th></th>\n",
              "      <th></th>\n",
              "      <th></th>\n",
              "      <th></th>\n",
              "      <th></th>\n",
              "      <th></th>\n",
              "    </tr>\n",
              "  </thead>\n",
              "  <tbody>\n",
              "    <tr>\n",
              "      <th>2014-04-21</th>\n",
              "      <td>0.0</td>\n",
              "      <td>0.0</td>\n",
              "      <td>0.0</td>\n",
              "      <td>0.0</td>\n",
              "      <td>0.0</td>\n",
              "      <td>0.0</td>\n",
              "      <td>0.0</td>\n",
              "      <td>0.0</td>\n",
              "      <td>0.0</td>\n",
              "      <td>0.0</td>\n",
              "      <td>...</td>\n",
              "      <td>0.0</td>\n",
              "      <td>0.0</td>\n",
              "      <td>0.0</td>\n",
              "      <td>0.0</td>\n",
              "      <td>0.0</td>\n",
              "      <td>0.0</td>\n",
              "      <td>0.0</td>\n",
              "      <td>0.0</td>\n",
              "      <td>0.0</td>\n",
              "      <td>0.0</td>\n",
              "    </tr>\n",
              "    <tr>\n",
              "      <th>2014-04-22</th>\n",
              "      <td>0.0</td>\n",
              "      <td>0.0</td>\n",
              "      <td>0.0</td>\n",
              "      <td>0.0</td>\n",
              "      <td>0.0</td>\n",
              "      <td>0.0</td>\n",
              "      <td>0.0</td>\n",
              "      <td>0.0</td>\n",
              "      <td>0.0</td>\n",
              "      <td>0.0</td>\n",
              "      <td>...</td>\n",
              "      <td>0.0</td>\n",
              "      <td>0.0</td>\n",
              "      <td>0.0</td>\n",
              "      <td>0.0</td>\n",
              "      <td>0.0</td>\n",
              "      <td>0.0</td>\n",
              "      <td>0.0</td>\n",
              "      <td>0.0</td>\n",
              "      <td>0.0</td>\n",
              "      <td>0.0</td>\n",
              "    </tr>\n",
              "    <tr>\n",
              "      <th>2014-04-23</th>\n",
              "      <td>0.0</td>\n",
              "      <td>0.0</td>\n",
              "      <td>0.0</td>\n",
              "      <td>0.0</td>\n",
              "      <td>0.0</td>\n",
              "      <td>0.0</td>\n",
              "      <td>0.0</td>\n",
              "      <td>0.0</td>\n",
              "      <td>0.0</td>\n",
              "      <td>0.0</td>\n",
              "      <td>...</td>\n",
              "      <td>0.0</td>\n",
              "      <td>0.0</td>\n",
              "      <td>0.0</td>\n",
              "      <td>0.0</td>\n",
              "      <td>0.0</td>\n",
              "      <td>0.0</td>\n",
              "      <td>0.0</td>\n",
              "      <td>0.0</td>\n",
              "      <td>0.0</td>\n",
              "      <td>0.0</td>\n",
              "    </tr>\n",
              "    <tr>\n",
              "      <th>2014-04-24</th>\n",
              "      <td>0.0</td>\n",
              "      <td>0.0</td>\n",
              "      <td>0.0</td>\n",
              "      <td>0.0</td>\n",
              "      <td>0.0</td>\n",
              "      <td>0.0</td>\n",
              "      <td>0.0</td>\n",
              "      <td>0.0</td>\n",
              "      <td>0.0</td>\n",
              "      <td>0.0</td>\n",
              "      <td>...</td>\n",
              "      <td>0.0</td>\n",
              "      <td>0.0</td>\n",
              "      <td>0.0</td>\n",
              "      <td>0.0</td>\n",
              "      <td>0.0</td>\n",
              "      <td>0.0</td>\n",
              "      <td>0.0</td>\n",
              "      <td>0.0</td>\n",
              "      <td>0.0</td>\n",
              "      <td>0.0</td>\n",
              "    </tr>\n",
              "    <tr>\n",
              "      <th>2014-04-25</th>\n",
              "      <td>0.0</td>\n",
              "      <td>0.0</td>\n",
              "      <td>0.0</td>\n",
              "      <td>0.0</td>\n",
              "      <td>0.0</td>\n",
              "      <td>0.0</td>\n",
              "      <td>0.0</td>\n",
              "      <td>0.0</td>\n",
              "      <td>0.0</td>\n",
              "      <td>0.0</td>\n",
              "      <td>...</td>\n",
              "      <td>0.0</td>\n",
              "      <td>0.0</td>\n",
              "      <td>0.0</td>\n",
              "      <td>0.0</td>\n",
              "      <td>0.0</td>\n",
              "      <td>0.0</td>\n",
              "      <td>0.0</td>\n",
              "      <td>0.0</td>\n",
              "      <td>0.0</td>\n",
              "      <td>0.0</td>\n",
              "    </tr>\n",
              "    <tr>\n",
              "      <th>2014-04-28</th>\n",
              "      <td>0.0</td>\n",
              "      <td>0.0</td>\n",
              "      <td>0.0</td>\n",
              "      <td>0.0</td>\n",
              "      <td>0.0</td>\n",
              "      <td>0.0</td>\n",
              "      <td>0.0</td>\n",
              "      <td>0.0</td>\n",
              "      <td>0.0</td>\n",
              "      <td>0.0</td>\n",
              "      <td>...</td>\n",
              "      <td>0.0</td>\n",
              "      <td>0.0</td>\n",
              "      <td>0.0</td>\n",
              "      <td>0.0</td>\n",
              "      <td>0.0</td>\n",
              "      <td>0.0</td>\n",
              "      <td>0.0</td>\n",
              "      <td>0.0</td>\n",
              "      <td>0.0</td>\n",
              "      <td>0.0</td>\n",
              "    </tr>\n",
              "    <tr>\n",
              "      <th>2014-04-29</th>\n",
              "      <td>0.0</td>\n",
              "      <td>0.0</td>\n",
              "      <td>0.0</td>\n",
              "      <td>0.0</td>\n",
              "      <td>0.0</td>\n",
              "      <td>0.0</td>\n",
              "      <td>0.0</td>\n",
              "      <td>0.0</td>\n",
              "      <td>0.0</td>\n",
              "      <td>0.0</td>\n",
              "      <td>...</td>\n",
              "      <td>0.0</td>\n",
              "      <td>0.0</td>\n",
              "      <td>0.0</td>\n",
              "      <td>0.0</td>\n",
              "      <td>0.0</td>\n",
              "      <td>0.0</td>\n",
              "      <td>0.0</td>\n",
              "      <td>0.0</td>\n",
              "      <td>0.0</td>\n",
              "      <td>0.0</td>\n",
              "    </tr>\n",
              "    <tr>\n",
              "      <th>2014-04-30</th>\n",
              "      <td>0.0</td>\n",
              "      <td>0.0</td>\n",
              "      <td>0.0</td>\n",
              "      <td>0.0</td>\n",
              "      <td>0.0</td>\n",
              "      <td>0.0</td>\n",
              "      <td>0.0</td>\n",
              "      <td>0.0</td>\n",
              "      <td>0.0</td>\n",
              "      <td>0.0</td>\n",
              "      <td>...</td>\n",
              "      <td>0.0</td>\n",
              "      <td>0.0</td>\n",
              "      <td>0.0</td>\n",
              "      <td>0.0</td>\n",
              "      <td>0.0</td>\n",
              "      <td>0.0</td>\n",
              "      <td>0.0</td>\n",
              "      <td>0.0</td>\n",
              "      <td>0.0</td>\n",
              "      <td>0.0</td>\n",
              "    </tr>\n",
              "    <tr>\n",
              "      <th>2014-05-02</th>\n",
              "      <td>0.0</td>\n",
              "      <td>0.0</td>\n",
              "      <td>0.0</td>\n",
              "      <td>0.0</td>\n",
              "      <td>0.0</td>\n",
              "      <td>0.0</td>\n",
              "      <td>0.0</td>\n",
              "      <td>0.0</td>\n",
              "      <td>0.0</td>\n",
              "      <td>0.0</td>\n",
              "      <td>...</td>\n",
              "      <td>0.0</td>\n",
              "      <td>0.0</td>\n",
              "      <td>0.0</td>\n",
              "      <td>0.0</td>\n",
              "      <td>0.0</td>\n",
              "      <td>0.0</td>\n",
              "      <td>0.0</td>\n",
              "      <td>0.0</td>\n",
              "      <td>0.0</td>\n",
              "      <td>0.0</td>\n",
              "    </tr>\n",
              "    <tr>\n",
              "      <th>2014-05-05</th>\n",
              "      <td>0.0</td>\n",
              "      <td>0.0</td>\n",
              "      <td>0.0</td>\n",
              "      <td>0.0</td>\n",
              "      <td>0.0</td>\n",
              "      <td>0.0</td>\n",
              "      <td>0.0</td>\n",
              "      <td>0.0</td>\n",
              "      <td>0.0</td>\n",
              "      <td>0.0</td>\n",
              "      <td>...</td>\n",
              "      <td>0.0</td>\n",
              "      <td>0.0</td>\n",
              "      <td>0.0</td>\n",
              "      <td>0.0</td>\n",
              "      <td>0.0</td>\n",
              "      <td>0.0</td>\n",
              "      <td>0.0</td>\n",
              "      <td>0.0</td>\n",
              "      <td>0.0</td>\n",
              "      <td>0.0</td>\n",
              "    </tr>\n",
              "  </tbody>\n",
              "</table>\n",
              "<p>10 rows × 31 columns</p>\n",
              "</div>\n",
              "    <div class=\"colab-df-buttons\">\n",
              "\n",
              "  <div class=\"colab-df-container\">\n",
              "    <button class=\"colab-df-convert\" onclick=\"convertToInteractive('df-53d7b77c-6a8c-4e6a-a18e-9b639132156e')\"\n",
              "            title=\"Convert this dataframe to an interactive table.\"\n",
              "            style=\"display:none;\">\n",
              "\n",
              "  <svg xmlns=\"http://www.w3.org/2000/svg\" height=\"24px\" viewBox=\"0 -960 960 960\">\n",
              "    <path d=\"M120-120v-720h720v720H120Zm60-500h600v-160H180v160Zm220 220h160v-160H400v160Zm0 220h160v-160H400v160ZM180-400h160v-160H180v160Zm440 0h160v-160H620v160ZM180-180h160v-160H180v160Zm440 0h160v-160H620v160Z\"/>\n",
              "  </svg>\n",
              "    </button>\n",
              "\n",
              "  <style>\n",
              "    .colab-df-container {\n",
              "      display:flex;\n",
              "      gap: 12px;\n",
              "    }\n",
              "\n",
              "    .colab-df-convert {\n",
              "      background-color: #E8F0FE;\n",
              "      border: none;\n",
              "      border-radius: 50%;\n",
              "      cursor: pointer;\n",
              "      display: none;\n",
              "      fill: #1967D2;\n",
              "      height: 32px;\n",
              "      padding: 0 0 0 0;\n",
              "      width: 32px;\n",
              "    }\n",
              "\n",
              "    .colab-df-convert:hover {\n",
              "      background-color: #E2EBFA;\n",
              "      box-shadow: 0px 1px 2px rgba(60, 64, 67, 0.3), 0px 1px 3px 1px rgba(60, 64, 67, 0.15);\n",
              "      fill: #174EA6;\n",
              "    }\n",
              "\n",
              "    .colab-df-buttons div {\n",
              "      margin-bottom: 4px;\n",
              "    }\n",
              "\n",
              "    [theme=dark] .colab-df-convert {\n",
              "      background-color: #3B4455;\n",
              "      fill: #D2E3FC;\n",
              "    }\n",
              "\n",
              "    [theme=dark] .colab-df-convert:hover {\n",
              "      background-color: #434B5C;\n",
              "      box-shadow: 0px 1px 3px 1px rgba(0, 0, 0, 0.15);\n",
              "      filter: drop-shadow(0px 1px 2px rgba(0, 0, 0, 0.3));\n",
              "      fill: #FFFFFF;\n",
              "    }\n",
              "  </style>\n",
              "\n",
              "    <script>\n",
              "      const buttonEl =\n",
              "        document.querySelector('#df-53d7b77c-6a8c-4e6a-a18e-9b639132156e button.colab-df-convert');\n",
              "      buttonEl.style.display =\n",
              "        google.colab.kernel.accessAllowed ? 'block' : 'none';\n",
              "\n",
              "      async function convertToInteractive(key) {\n",
              "        const element = document.querySelector('#df-53d7b77c-6a8c-4e6a-a18e-9b639132156e');\n",
              "        const dataTable =\n",
              "          await google.colab.kernel.invokeFunction('convertToInteractive',\n",
              "                                                    [key], {});\n",
              "        if (!dataTable) return;\n",
              "\n",
              "        const docLinkHtml = 'Like what you see? Visit the ' +\n",
              "          '<a target=\"_blank\" href=https://colab.research.google.com/notebooks/data_table.ipynb>data table notebook</a>'\n",
              "          + ' to learn more about interactive tables.';\n",
              "        element.innerHTML = '';\n",
              "        dataTable['output_type'] = 'display_data';\n",
              "        await google.colab.output.renderOutput(dataTable, element);\n",
              "        const docLink = document.createElement('div');\n",
              "        docLink.innerHTML = docLinkHtml;\n",
              "        element.appendChild(docLink);\n",
              "      }\n",
              "    </script>\n",
              "  </div>\n",
              "\n",
              "\n",
              "<div id=\"df-fc55dac3-2040-4c2e-b8ef-258ae069138c\">\n",
              "  <button class=\"colab-df-quickchart\" onclick=\"quickchart('df-fc55dac3-2040-4c2e-b8ef-258ae069138c')\"\n",
              "            title=\"Suggest charts\"\n",
              "            style=\"display:none;\">\n",
              "\n",
              "<svg xmlns=\"http://www.w3.org/2000/svg\" height=\"24px\"viewBox=\"0 0 24 24\"\n",
              "     width=\"24px\">\n",
              "    <g>\n",
              "        <path d=\"M19 3H5c-1.1 0-2 .9-2 2v14c0 1.1.9 2 2 2h14c1.1 0 2-.9 2-2V5c0-1.1-.9-2-2-2zM9 17H7v-7h2v7zm4 0h-2V7h2v10zm4 0h-2v-4h2v4z\"/>\n",
              "    </g>\n",
              "</svg>\n",
              "  </button>\n",
              "\n",
              "<style>\n",
              "  .colab-df-quickchart {\n",
              "      --bg-color: #E8F0FE;\n",
              "      --fill-color: #1967D2;\n",
              "      --hover-bg-color: #E2EBFA;\n",
              "      --hover-fill-color: #174EA6;\n",
              "      --disabled-fill-color: #AAA;\n",
              "      --disabled-bg-color: #DDD;\n",
              "  }\n",
              "\n",
              "  [theme=dark] .colab-df-quickchart {\n",
              "      --bg-color: #3B4455;\n",
              "      --fill-color: #D2E3FC;\n",
              "      --hover-bg-color: #434B5C;\n",
              "      --hover-fill-color: #FFFFFF;\n",
              "      --disabled-bg-color: #3B4455;\n",
              "      --disabled-fill-color: #666;\n",
              "  }\n",
              "\n",
              "  .colab-df-quickchart {\n",
              "    background-color: var(--bg-color);\n",
              "    border: none;\n",
              "    border-radius: 50%;\n",
              "    cursor: pointer;\n",
              "    display: none;\n",
              "    fill: var(--fill-color);\n",
              "    height: 32px;\n",
              "    padding: 0;\n",
              "    width: 32px;\n",
              "  }\n",
              "\n",
              "  .colab-df-quickchart:hover {\n",
              "    background-color: var(--hover-bg-color);\n",
              "    box-shadow: 0 1px 2px rgba(60, 64, 67, 0.3), 0 1px 3px 1px rgba(60, 64, 67, 0.15);\n",
              "    fill: var(--button-hover-fill-color);\n",
              "  }\n",
              "\n",
              "  .colab-df-quickchart-complete:disabled,\n",
              "  .colab-df-quickchart-complete:disabled:hover {\n",
              "    background-color: var(--disabled-bg-color);\n",
              "    fill: var(--disabled-fill-color);\n",
              "    box-shadow: none;\n",
              "  }\n",
              "\n",
              "  .colab-df-spinner {\n",
              "    border: 2px solid var(--fill-color);\n",
              "    border-color: transparent;\n",
              "    border-bottom-color: var(--fill-color);\n",
              "    animation:\n",
              "      spin 1s steps(1) infinite;\n",
              "  }\n",
              "\n",
              "  @keyframes spin {\n",
              "    0% {\n",
              "      border-color: transparent;\n",
              "      border-bottom-color: var(--fill-color);\n",
              "      border-left-color: var(--fill-color);\n",
              "    }\n",
              "    20% {\n",
              "      border-color: transparent;\n",
              "      border-left-color: var(--fill-color);\n",
              "      border-top-color: var(--fill-color);\n",
              "    }\n",
              "    30% {\n",
              "      border-color: transparent;\n",
              "      border-left-color: var(--fill-color);\n",
              "      border-top-color: var(--fill-color);\n",
              "      border-right-color: var(--fill-color);\n",
              "    }\n",
              "    40% {\n",
              "      border-color: transparent;\n",
              "      border-right-color: var(--fill-color);\n",
              "      border-top-color: var(--fill-color);\n",
              "    }\n",
              "    60% {\n",
              "      border-color: transparent;\n",
              "      border-right-color: var(--fill-color);\n",
              "    }\n",
              "    80% {\n",
              "      border-color: transparent;\n",
              "      border-right-color: var(--fill-color);\n",
              "      border-bottom-color: var(--fill-color);\n",
              "    }\n",
              "    90% {\n",
              "      border-color: transparent;\n",
              "      border-bottom-color: var(--fill-color);\n",
              "    }\n",
              "  }\n",
              "</style>\n",
              "\n",
              "  <script>\n",
              "    async function quickchart(key) {\n",
              "      const quickchartButtonEl =\n",
              "        document.querySelector('#' + key + ' button');\n",
              "      quickchartButtonEl.disabled = true;  // To prevent multiple clicks.\n",
              "      quickchartButtonEl.classList.add('colab-df-spinner');\n",
              "      try {\n",
              "        const charts = await google.colab.kernel.invokeFunction(\n",
              "            'suggestCharts', [key], {});\n",
              "      } catch (error) {\n",
              "        console.error('Error during call to suggestCharts:', error);\n",
              "      }\n",
              "      quickchartButtonEl.classList.remove('colab-df-spinner');\n",
              "      quickchartButtonEl.classList.add('colab-df-quickchart-complete');\n",
              "    }\n",
              "    (() => {\n",
              "      let quickchartButtonEl =\n",
              "        document.querySelector('#df-fc55dac3-2040-4c2e-b8ef-258ae069138c button');\n",
              "      quickchartButtonEl.style.display =\n",
              "        google.colab.kernel.accessAllowed ? 'block' : 'none';\n",
              "    })();\n",
              "  </script>\n",
              "</div>\n",
              "\n",
              "    </div>\n",
              "  </div>\n"
            ],
            "application/vnd.google.colaboratory.intrinsic+json": {
              "type": "dataframe",
              "variable_name": "df_msa_200"
            }
          },
          "metadata": {},
          "execution_count": 103
        }
      ]
    },
    {
      "cell_type": "markdown",
      "source": [
        "#Gráfico MSA 200"
      ],
      "metadata": {
        "id": "tcQIgPWUw0LV"
      }
    },
    {
      "cell_type": "code",
      "source": [
        "df_msa_200.index = pd.to_datetime(df_msa_200.index)\n",
        "\n",
        "start_year = 2022\n",
        "end_year = 2023\n",
        "filtro_df_msa200_año = df_msa_200.loc[(df_msa_200.index.year >= start_year) & (df_msa_200.index.year <= end_year)]\n",
        "filtro_df_msa200_año['promedio_msa_200'].plot(figsize = (20,8))\n",
        "plt.xlabel('Fecha')\n",
        "plt.title('Sma_200_ipsa')\n",
        "plt.ylabel('Porcentaje del total')\n",
        "plt.show()"
      ],
      "metadata": {
        "colab": {
          "base_uri": "https://localhost:8080/",
          "height": 467
        },
        "id": "xlZZrTvdw22K",
        "outputId": "967811fa-4658-422d-fed8-1a3069286eb5"
      },
      "execution_count": 102,
      "outputs": [
        {
          "output_type": "display_data",
          "data": {
            "text/plain": [
              "<Figure size 2000x800 with 1 Axes>"
            ],
            "image/png": "[encoded data removed]"
          },
          "metadata": {}
        }
      ]
    }
  ]
}