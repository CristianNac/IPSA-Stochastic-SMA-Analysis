{
  "nbformat": 4,
  "nbformat_minor": 0,
  "metadata": {
    "colab": {
      "provenance": []
    },
    "kernelspec": {
      "name": "python3",
      "display_name": "Python 3"
    },
    "language_info": {
      "name": "python"
    }
  },
  "cells": [
    {
      "cell_type": "code",
      "source": [
        "import warnings\n",
        "warnings.filterwarnings(\"ignore\")"
      ],
      "metadata": {
        "id": "DpmUNNTf_Yib"
      },
      "execution_count": 18,
      "outputs": []
    },
    {
      "cell_type": "code",
      "source": [
        "!pip install ta"
      ],
      "metadata": {
        "colab": {
          "base_uri": "https://localhost:8080/"
        },
        "id": "IAU0sg7A7i-l",
        "outputId": "7e4b5c3b-7b13-4387-f5a2-c2676c3bb513"
      },
      "execution_count": 1,
      "outputs": [
        {
          "output_type": "stream",
          "name": "stdout",
          "text": [
            "Collecting ta\n",
            "  Downloading ta-0.11.0.tar.gz (25 kB)\n",
            "  Preparing metadata (setup.py) ... \u001b[?25l\u001b[?25hdone\n",
            "Requirement already satisfied: numpy in /usr/local/lib/python3.10/dist-packages (from ta) (1.25.2)\n",
            "Requirement already satisfied: pandas in /usr/local/lib/python3.10/dist-packages (from ta) (2.0.3)\n",
            "Requirement already satisfied: python-dateutil>=2.8.2 in /usr/local/lib/python3.10/dist-packages (from pandas->ta) (2.8.2)\n",
            "Requirement already satisfied: pytz>=2020.1 in /usr/local/lib/python3.10/dist-packages (from pandas->ta) (2023.4)\n",
            "Requirement already satisfied: tzdata>=2022.1 in /usr/local/lib/python3.10/dist-packages (from pandas->ta) (2024.1)\n",
            "Requirement already satisfied: six>=1.5 in /usr/local/lib/python3.10/dist-packages (from python-dateutil>=2.8.2->pandas->ta) (1.16.0)\n",
            "Building wheels for collected packages: ta\n",
            "  Building wheel for ta (setup.py) ... \u001b[?25l\u001b[?25hdone\n",
            "  Created wheel for ta: filename=ta-0.11.0-py3-none-any.whl size=29411 sha256=20cac42f649bdbbe3521aca194021b44788dfe10c8fd28fcab9604da3b181a8d\n",
            "  Stored in directory: /root/.cache/pip/wheels/5f/67/4f/8a9f252836e053e532c6587a3230bc72a4deb16b03a829610b\n",
            "Successfully built ta\n",
            "Installing collected packages: ta\n",
            "Successfully installed ta-0.11.0\n"
          ]
        }
      ]
    },
    {
      "cell_type": "code",
      "source": [
        "import pandas as pd\n",
        "import ta\n",
        "import numpy as np\n",
        "!pip install mplfinance\n",
        "import matplotlib.pyplot as plt\n",
        "import mplfinance as mpf"
      ],
      "metadata": {
        "colab": {
          "base_uri": "https://localhost:8080/"
        },
        "id": "34Xx_TfQ7irk",
        "outputId": "29a8384c-5bee-436e-fc05-15f714be435c"
      },
      "execution_count": 2,
      "outputs": [
        {
          "output_type": "stream",
          "name": "stdout",
          "text": [
            "Collecting mplfinance\n",
            "  Downloading mplfinance-0.12.10b0-py3-none-any.whl (75 kB)\n",
            "\u001b[2K     \u001b[90m━━━━━━━━━━━━━━━━━━━━━━━━━━━━━━━━━━━━━━━━\u001b[0m \u001b[32m75.0/75.0 kB\u001b[0m \u001b[31m1.1 MB/s\u001b[0m eta \u001b[36m0:00:00\u001b[0m\n",
            "\u001b[?25hRequirement already satisfied: matplotlib in /usr/local/lib/python3.10/dist-packages (from mplfinance) (3.7.1)\n",
            "Requirement already satisfied: pandas in /usr/local/lib/python3.10/dist-packages (from mplfinance) (2.0.3)\n",
            "Requirement already satisfied: contourpy>=1.0.1 in /usr/local/lib/python3.10/dist-packages (from matplotlib->mplfinance) (1.2.1)\n",
            "Requirement already satisfied: cycler>=0.10 in /usr/local/lib/python3.10/dist-packages (from matplotlib->mplfinance) (0.12.1)\n",
            "Requirement already satisfied: fonttools>=4.22.0 in /usr/local/lib/python3.10/dist-packages (from matplotlib->mplfinance) (4.51.0)\n",
            "Requirement already satisfied: kiwisolver>=1.0.1 in /usr/local/lib/python3.10/dist-packages (from matplotlib->mplfinance) (1.4.5)\n",
            "Requirement already satisfied: numpy>=1.20 in /usr/local/lib/python3.10/dist-packages (from matplotlib->mplfinance) (1.25.2)\n",
            "Requirement already satisfied: packaging>=20.0 in /usr/local/lib/python3.10/dist-packages (from matplotlib->mplfinance) (24.0)\n",
            "Requirement already satisfied: pillow>=6.2.0 in /usr/local/lib/python3.10/dist-packages (from matplotlib->mplfinance) (9.4.0)\n",
            "Requirement already satisfied: pyparsing>=2.3.1 in /usr/local/lib/python3.10/dist-packages (from matplotlib->mplfinance) (3.1.2)\n",
            "Requirement already satisfied: python-dateutil>=2.7 in /usr/local/lib/python3.10/dist-packages (from matplotlib->mplfinance) (2.8.2)\n",
            "Requirement already satisfied: pytz>=2020.1 in /usr/local/lib/python3.10/dist-packages (from pandas->mplfinance) (2023.4)\n",
            "Requirement already satisfied: tzdata>=2022.1 in /usr/local/lib/python3.10/dist-packages (from pandas->mplfinance) (2024.1)\n",
            "Requirement already satisfied: six>=1.5 in /usr/local/lib/python3.10/dist-packages (from python-dateutil>=2.7->matplotlib->mplfinance) (1.16.0)\n",
            "Installing collected packages: mplfinance\n",
            "Successfully installed mplfinance-0.12.10b0\n"
          ]
        }
      ]
    },
    {
      "cell_type": "markdown",
      "source": [
        "#Data Aguas Andina"
      ],
      "metadata": {
        "id": "9pWE_5lM237O"
      }
    },
    {
      "cell_type": "code",
      "source": [
        "df_aguas_a = pd.read_csv('AGUAS_A.csv', index_col = 'Date')\n",
        "print(df_aguas_a)"
      ],
      "metadata": {
        "colab": {
          "base_uri": "https://localhost:8080/"
        },
        "id": "eXDC3yqO70uR",
        "outputId": "29d87633-8bea-4081-e918-866bb3d4600b"
      },
      "execution_count": 5,
      "outputs": [
        {
          "output_type": "stream",
          "name": "stdout",
          "text": [
            "              Open    High     Low   Close   Volume\n",
            "Date                                               \n",
            "2014-04-21  342.35  343.50  342.00  343.20  1332972\n",
            "2014-04-22  342.00  343.00  340.00  340.86  1284030\n",
            "2014-04-23  340.86  343.01  341.51  342.00  1048269\n",
            "2014-04-24  342.00  342.00  340.50  340.70  1282877\n",
            "2014-04-25  340.70  341.00  339.50  339.65   704015\n",
            "...            ...     ...     ...     ...      ...\n",
            "2024-04-15  280.00  280.78  275.01  278.00  3463336\n",
            "2024-04-16  278.00  278.73  272.00  276.99  6160229\n",
            "2024-04-17  276.99  276.00  273.00  273.54  2018624\n",
            "2024-04-18  273.50  275.00  270.50  273.53  2194508\n",
            "2024-04-19  273.53  273.87  265.02  265.02  4176063\n",
            "\n",
            "[2491 rows x 5 columns]\n"
          ]
        }
      ]
    },
    {
      "cell_type": "markdown",
      "source": [
        "#Cálculo de la media móvil simple para una ventana de 200 días"
      ],
      "metadata": {
        "id": "RIwHVvt19Qm9"
      }
    },
    {
      "cell_type": "code",
      "source": [
        "df_aguas_a['aguas_a_sma_200'] = ta.trend.sma_indicator(df_aguas_a['Close'], window = 200)\n",
        "df_aguas_a[['Close','aguas_a_sma_200']].iloc[199]"
      ],
      "metadata": {
        "colab": {
          "base_uri": "https://localhost:8080/"
        },
        "id": "RHVdDoW_9jPK",
        "outputId": "ec91deda-12ff-4c20-f2d9-91711d02d051"
      },
      "execution_count": 12,
      "outputs": [
        {
          "output_type": "execute_result",
          "data": {
            "text/plain": [
              "Close              365.3100\n",
              "aguas_a_sma_200    355.0693\n",
              "Name: 2015-02-09, dtype: float64"
            ]
          },
          "metadata": {},
          "execution_count": 12
        }
      ]
    },
    {
      "cell_type": "markdown",
      "source": [
        "#Columna booleana que indica cuándo se superó la media"
      ],
      "metadata": {
        "id": "ZQgOJxhl99jY"
      }
    },
    {
      "cell_type": "code",
      "source": [
        "df_aguas_a['msa200_aguas_a'] = np.nan\n",
        "i = 199\n",
        "while i <= (df_aguas_a.shape[0]-1):\n",
        "  if df_aguas_a['Close'].iloc[i] > df_aguas_a['aguas_a_sma_200'].iloc[i]:\n",
        "    df_aguas_a['msa200_aguas_a'].iloc[i] = 1\n",
        "  else:\n",
        "    df_aguas_a['msa200_aguas_a'].iloc[i] = 0\n",
        "  i += 1\n"
      ],
      "metadata": {
        "id": "cMwhhdpw-GPw"
      },
      "execution_count": 19,
      "outputs": []
    },
    {
      "cell_type": "markdown",
      "source": [
        "#Data Andina B"
      ],
      "metadata": {
        "id": "A9fx-tvl-qsG"
      }
    },
    {
      "cell_type": "code",
      "source": [
        "df_andina_b = pd.read_csv('ANDINA_B.csv', index_col = 'Date')\n",
        "print(df_andina_b)"
      ],
      "metadata": {
        "colab": {
          "base_uri": "https://localhost:8080/"
        },
        "id": "QZA8nriL-vPM",
        "outputId": "b6519ba8-fb22-457c-d21c-20e67a349d44"
      },
      "execution_count": 21,
      "outputs": [
        {
          "output_type": "stream",
          "name": "stdout",
          "text": [
            "              Open    High     Low   Close   Volume\n",
            "Date                                               \n",
            "2014-04-21  2338.0  2338.0  2230.0  2284.7   148845\n",
            "2014-04-22  2284.7  2270.0  2237.8  2250.0   940452\n",
            "2014-04-23  2250.0  2255.0  2221.0  2229.1   713034\n",
            "2014-04-24  2229.1  2263.0  2186.0  2214.7   568845\n",
            "2014-04-25  2214.7  2192.6  2155.0  2173.9    76409\n",
            "...            ...     ...     ...     ...      ...\n",
            "2024-04-15  2578.0  2604.0  2500.0  2553.0  1016598\n",
            "2024-04-16  2553.0  2565.5  2521.1  2551.1   245819\n",
            "2024-04-17  2551.1  2608.5  2551.0  2570.0   938613\n",
            "2024-04-18  2570.0  2629.6  2551.0  2615.0  1069148\n",
            "2024-04-19  2615.0  2625.0  2569.1  2615.0   426572\n",
            "\n",
            "[2491 rows x 5 columns]\n"
          ]
        }
      ]
    },
    {
      "cell_type": "markdown",
      "source": [
        "#Cálculo de la media móvil simple para una ventana de 200 días"
      ],
      "metadata": {
        "id": "DXRVjhJp9I4U"
      }
    },
    {
      "cell_type": "code",
      "source": [
        "df_andina_b['andina_b_sma_200'] = ta.trend.sma_indicator(df_andina_b['Close'], window = 200)\n",
        "df_andina_b[['Close','andina_b_sma_200']].iloc[199]"
      ],
      "metadata": {
        "colab": {
          "base_uri": "https://localhost:8080/"
        },
        "id": "vSMDnB5J_rZE",
        "outputId": "52e8d8d7-30ea-4532-d033-f8b485f3316e"
      },
      "execution_count": 22,
      "outputs": [
        {
          "output_type": "execute_result",
          "data": {
            "text/plain": [
              "Close               1775.3000\n",
              "andina_b_sma_200    1957.4075\n",
              "Name: 2015-02-09, dtype: float64"
            ]
          },
          "metadata": {},
          "execution_count": 22
        }
      ]
    },
    {
      "cell_type": "markdown",
      "source": [
        "#Columna booleana que indica cuándo se superó la media"
      ],
      "metadata": {
        "id": "XhIj-cOY_22D"
      }
    },
    {
      "cell_type": "code",
      "source": [
        "df_andina_b['msa200_andina_b'] = np.nan\n",
        "i = 199\n",
        "while i <= (df_andina_b.shape[0]-1):\n",
        "  if df_andina_b['Close'].iloc[i] > df_andina_b['andina_b_sma_200'].iloc[i]:\n",
        "    df_andina_b['msa200_andina_b'].iloc[i] = 1\n",
        "  else:\n",
        "    df_andina_b['msa200_andina_b'].iloc[i] = 0\n",
        "  i += 1"
      ],
      "metadata": {
        "id": "44-4VCYa_2Tz"
      },
      "execution_count": 23,
      "outputs": []
    },
    {
      "cell_type": "markdown",
      "source": [
        "#Data BCI"
      ],
      "metadata": {
        "id": "1ZJz5C7MALHE"
      }
    },
    {
      "cell_type": "code",
      "source": [
        "df_bci = pd.read_csv('BCI.csv', index_col = 'Date')\n",
        "print(df_bci)"
      ],
      "metadata": {
        "colab": {
          "base_uri": "https://localhost:8080/"
        },
        "id": "COIvfhGvAMvV",
        "outputId": "dca79e90-0e9e-4f1b-8fcc-2450a0876187"
      },
      "execution_count": 24,
      "outputs": [
        {
          "output_type": "stream",
          "name": "stdout",
          "text": [
            "                 Open       High        Low      Close  Volume\n",
            "Date                                                          \n",
            "2014-04-21  21619.012  21625.574  21231.785  21355.828   15639\n",
            "2014-04-22  21355.828  21592.758  20870.812  21011.920   13876\n",
            "2014-04-23  21011.920  20936.443  20411.390  20473.086   43420\n",
            "2014-04-24  20473.086  20629.287  20346.416  20457.334   49212\n",
            "2014-04-25  20457.334  20581.377  20378.576  20480.960   52162\n",
            "...               ...        ...        ...        ...     ...\n",
            "2024-04-15  27851.000  28200.000  27301.000  27420.000  100674\n",
            "2024-04-16  27400.000  27553.000  26601.000  26812.000  108449\n",
            "2024-04-17  26812.000  27360.000  26400.000  26609.000  152702\n",
            "2024-04-18  26609.000  27500.000  26600.000  27359.000  151961\n",
            "2024-04-19  27300.000  27445.000  26800.000  26800.000   34516\n",
            "\n",
            "[2491 rows x 5 columns]\n"
          ]
        }
      ]
    },
    {
      "cell_type": "markdown",
      "source": [
        "#Cálculo de la media móvil simple para una ventana de 200 días"
      ],
      "metadata": {
        "id": "NlGGyhsYAc6K"
      }
    },
    {
      "cell_type": "code",
      "source": [
        "df_bci['bci_sma_200'] = ta.trend.sma_indicator(df_bci['Close'], window = 200)\n",
        "df_bci[['Close','bci_sma_200']].iloc[199]"
      ],
      "metadata": {
        "colab": {
          "base_uri": "https://localhost:8080/"
        },
        "id": "-DlzA7vUAgqe",
        "outputId": "05027eef-a365-4717-b278-1740f1cb0f87"
      },
      "execution_count": 25,
      "outputs": [
        {
          "output_type": "execute_result",
          "data": {
            "text/plain": [
              "Close          19207.736\n",
              "bci_sma_200    20893.623\n",
              "Name: 2015-02-09, dtype: float64"
            ]
          },
          "metadata": {},
          "execution_count": 25
        }
      ]
    },
    {
      "cell_type": "markdown",
      "source": [
        "#Columna booleana que indica cuándo se superó la media"
      ],
      "metadata": {
        "id": "BITJwey3ApSB"
      }
    },
    {
      "cell_type": "code",
      "source": [
        "df_bci['msa200_bci'] = np.nan\n",
        "i = 199\n",
        "while i <= (df_bci.shape[0]-1):\n",
        "  if df_bci['Close'].iloc[i] > df_bci['bci_sma_200'].iloc[i]:\n",
        "    df_bci['msa200_bci'].iloc[i] = 1\n",
        "  else:\n",
        "    df_bci['msa200_bci'].iloc[i] = 0\n",
        "  i += 1"
      ],
      "metadata": {
        "id": "uUNTJwC8Aozq"
      },
      "execution_count": 26,
      "outputs": []
    },
    {
      "cell_type": "markdown",
      "source": [
        "#Data BSANTANDER"
      ],
      "metadata": {
        "id": "-FAW0jSbA3Wq"
      }
    },
    {
      "cell_type": "code",
      "source": [
        "df_bsantander = pd.read_csv('BSANTANDER.csv', index_col = 'Date')\n",
        "print(df_bsantander)"
      ],
      "metadata": {
        "colab": {
          "base_uri": "https://localhost:8080/"
        },
        "id": "UWVBq0bVA5JQ",
        "outputId": "a263bd89-25e3-4faf-cb85-949a3f3615e0"
      },
      "execution_count": 27,
      "outputs": [
        {
          "output_type": "stream",
          "name": "stdout",
          "text": [
            "             Open   High    Low  Close     Volume\n",
            "Date                                             \n",
            "2014-04-21  32.84  33.00  32.40  32.59   25520470\n",
            "2014-04-22  32.59  32.70  32.01  32.35   68148360\n",
            "2014-04-23  32.35  33.00  32.10  32.23   43694880\n",
            "2014-04-24  32.23  32.32  31.89  32.24   64038920\n",
            "2014-04-25  32.24  32.50  32.15  32.25   59901136\n",
            "...           ...    ...    ...    ...        ...\n",
            "2024-04-15  46.33  46.55  45.85  46.08  132448952\n",
            "2024-04-16  46.08  47.03  45.06  45.79  202465600\n",
            "2024-04-17  45.80  46.10  45.00  45.85  146006480\n",
            "2024-04-18  45.85  46.15  45.32  45.50  220339840\n",
            "2024-04-19  43.99  43.99  43.10  43.10  362452512\n",
            "\n",
            "[2491 rows x 5 columns]\n"
          ]
        }
      ]
    },
    {
      "cell_type": "markdown",
      "source": [
        "#Cálculo de la media móvil simple para una ventana de 200 días"
      ],
      "metadata": {
        "id": "MEfcNiY3BjOj"
      }
    },
    {
      "cell_type": "code",
      "source": [
        "df_bsantander['bsantander_sma_200'] = ta.trend.sma_indicator(df_bsantander['Close'], window = 200)\n",
        "df_bsantander[['Close','bsantander_sma_200']].iloc[199]"
      ],
      "metadata": {
        "colab": {
          "base_uri": "https://localhost:8080/"
        },
        "id": "cpVuvMIiBlKn",
        "outputId": "f429c52d-ec76-4878-b593-45b164797c8d"
      },
      "execution_count": 28,
      "outputs": [
        {
          "output_type": "execute_result",
          "data": {
            "text/plain": [
              "Close                 31.5200\n",
              "bsantander_sma_200    33.7147\n",
              "Name: 2015-02-09, dtype: float64"
            ]
          },
          "metadata": {},
          "execution_count": 28
        }
      ]
    },
    {
      "cell_type": "markdown",
      "source": [
        "#Columna booleana que indica cuándo se superó la media"
      ],
      "metadata": {
        "id": "korriQNfBv4M"
      }
    },
    {
      "cell_type": "code",
      "source": [
        "df_bsantander['msa200_bsantander'] = np.nan\n",
        "i = 199\n",
        "while i <= (df_bsantander.shape[0]-1):\n",
        "  if df_bsantander['Close'].iloc[i] > df_bsantander['bsantander_sma_200'].iloc[i]:\n",
        "    df_bsantander['msa200_bsantander'].iloc[i] = 1\n",
        "  else:\n",
        "    df_bsantander['msa200_bsantander'].iloc[i] = 0\n",
        "  i += 1"
      ],
      "metadata": {
        "id": "UU53FDoWBxJo"
      },
      "execution_count": 29,
      "outputs": []
    },
    {
      "cell_type": "markdown",
      "source": [
        "#Data CAP"
      ],
      "metadata": {
        "id": "cBmIejpxCC-A"
      }
    },
    {
      "cell_type": "code",
      "source": [
        "df_cap = pd.read_csv('CAP.csv', index_col = 'Date')\n",
        "print(df_cap)"
      ],
      "metadata": {
        "colab": {
          "base_uri": "https://localhost:8080/"
        },
        "id": "-ayxhzX_CE2A",
        "outputId": "0d0f9190-0450-4aae-c737-08b62be181aa"
      },
      "execution_count": 33,
      "outputs": [
        {
          "output_type": "stream",
          "name": "stdout",
          "text": [
            "              Open    High     Low   Close  Volume\n",
            "Date                                              \n",
            "2014-04-21  8818.0  8818.0  8600.0  8606.4   43534\n",
            "2014-04-22  8606.4  8700.0  8550.0  8576.7  139348\n",
            "2014-04-23  8576.7  8700.0  8500.0  8624.8   71445\n",
            "2014-04-24  8624.8  8815.0  8600.0  8799.6   96937\n",
            "2014-04-25  8820.0  8880.0  8650.0  8748.2   96317\n",
            "...            ...     ...     ...     ...     ...\n",
            "2024-04-15  7101.0  7220.0  7018.3  7041.0  236724\n",
            "2024-04-16  7041.0  7050.1  6950.0  7020.0  248185\n",
            "2024-04-17  7113.0  7170.0  7015.0  7050.0  301493\n",
            "2024-04-18  7050.0  7060.1  6910.0  6920.5  213323\n",
            "2024-04-19  6925.0  6980.0  6810.0  6874.0  236456\n",
            "\n",
            "[2491 rows x 5 columns]\n"
          ]
        }
      ]
    },
    {
      "cell_type": "markdown",
      "source": [
        "#Cálculo de la media móvil simple para una ventana de 200 días"
      ],
      "metadata": {
        "id": "VrSYk7xrCKYT"
      }
    },
    {
      "cell_type": "code",
      "source": [
        "df_cap['cap_sma_200'] = ta.trend.sma_indicator(df_cap['Close'], window = 200)\n",
        "df_cap[['Close','cap_sma_200']].iloc[199]"
      ],
      "metadata": {
        "colab": {
          "base_uri": "https://localhost:8080/"
        },
        "id": "ngB4zkq9CL9Q",
        "outputId": "6921fa78-12ed-44d4-ae5b-6d31a9c54f6d"
      },
      "execution_count": 35,
      "outputs": [
        {
          "output_type": "execute_result",
          "data": {
            "text/plain": [
              "Close          2366.900\n",
              "cap_sma_200    6026.288\n",
              "Name: 2015-02-09, dtype: float64"
            ]
          },
          "metadata": {},
          "execution_count": 35
        }
      ]
    },
    {
      "cell_type": "markdown",
      "source": [
        "#Columna booleana que indica cuándo se superó la media"
      ],
      "metadata": {
        "id": "8plrOxGwDNG0"
      }
    },
    {
      "cell_type": "code",
      "source": [
        "df_cap['msa200_cap'] = np.nan\n",
        "i = 199\n",
        "while i <= (df_cap.shape[0]-1):\n",
        "  if df_cap['Close'].iloc[i] > df_cap['cap_sma_200'].iloc[i]:\n",
        "    df_cap['msa200_cap'].iloc[i] = 1\n",
        "  else:\n",
        "    df_cap['msa200_cap'].iloc[i] = 0\n",
        "  i += 1"
      ],
      "metadata": {
        "id": "S5aswNuRDPpI"
      },
      "execution_count": 36,
      "outputs": []
    },
    {
      "cell_type": "markdown",
      "source": [
        "#Data CCU"
      ],
      "metadata": {
        "id": "HWpuSIRJDznS"
      }
    },
    {
      "cell_type": "code",
      "source": [
        "df_ccu = pd.read_csv('CCU.csv', index_col = 'Date')\n",
        "print(df_ccu)"
      ],
      "metadata": {
        "colab": {
          "base_uri": "https://localhost:8080/"
        },
        "id": "vVqKI1UiD14Y",
        "outputId": "790807e8-a617-45b3-e268-7376502cae64"
      },
      "execution_count": 37,
      "outputs": [
        {
          "output_type": "stream",
          "name": "stdout",
          "text": [
            "              Open    High     Low   Close  Volume\n",
            "Date                                              \n",
            "2014-04-21  6361.8  6364.6  6280.0  6302.1  123973\n",
            "2014-04-22  6302.1  6480.6  6300.0  6469.5  488753\n",
            "2014-04-23  6469.5  6597.0  6475.0  6565.1  300279\n",
            "2014-04-24  6565.1  6560.0  6490.0  6521.5  431311\n",
            "2014-04-25  6521.5  6560.0  6372.0  6376.5  453329\n",
            "...            ...     ...     ...     ...     ...\n",
            "2024-04-15  5995.1  6084.0  5860.0  5864.0  324314\n",
            "2024-04-16  5864.0  5864.0  5762.7  5810.0  226994\n",
            "2024-04-17  5810.0  5813.7  5705.0  5753.0  495117\n",
            "2024-04-18  5753.0  5810.0  5702.0  5770.0  461723\n",
            "2024-04-19  5770.0  5767.9  5720.0  5720.0  260608\n",
            "\n",
            "[2491 rows x 5 columns]\n"
          ]
        }
      ]
    },
    {
      "cell_type": "markdown",
      "source": [
        "#Cálculo de la media móvil simple para una ventana de 200 días"
      ],
      "metadata": {
        "id": "Xe6O_haGD6y0"
      }
    },
    {
      "cell_type": "code",
      "source": [
        "df_ccu['ccu_sma_200'] = ta.trend.sma_indicator(df_ccu['Close'], window = 200)\n",
        "df_ccu[['Close','ccu_sma_200']].iloc[199]"
      ],
      "metadata": {
        "colab": {
          "base_uri": "https://localhost:8080/"
        },
        "id": "9pL8gy5gD6H_",
        "outputId": "a0345cbf-dc8e-4919-e53f-df39d1a28b69"
      },
      "execution_count": 38,
      "outputs": [
        {
          "output_type": "execute_result",
          "data": {
            "text/plain": [
              "Close          5839.3000\n",
              "ccu_sma_200    6248.4285\n",
              "Name: 2015-02-09, dtype: float64"
            ]
          },
          "metadata": {},
          "execution_count": 38
        }
      ]
    },
    {
      "cell_type": "markdown",
      "source": [
        "#Columna booleana que indica cuándo se superó la media"
      ],
      "metadata": {
        "id": "5PAYqLCNEDeZ"
      }
    },
    {
      "cell_type": "code",
      "source": [
        "df_ccu['msa200_ccu'] = np.nan\n",
        "i = 199\n",
        "while i <= (df_ccu.shape[0]-1):\n",
        "  if df_ccu['Close'].iloc[i] > df_ccu['ccu_sma_200'].iloc[i]:\n",
        "    df_ccu['msa200_ccu'].iloc[i] = 1\n",
        "  else:\n",
        "    df_ccu['msa200_ccu'].iloc[i] = 0\n",
        "  i += 1"
      ],
      "metadata": {
        "id": "1uH8d_StEDEm"
      },
      "execution_count": 39,
      "outputs": []
    },
    {
      "cell_type": "markdown",
      "source": [
        "#Data Cencoshopp"
      ],
      "metadata": {
        "id": "ASj3qwvjESRU"
      }
    },
    {
      "cell_type": "code",
      "source": [
        "df_cencoshopp = pd.read_csv('CENCOSHOPP.csv', index_col = 'Date')\n",
        "print(df_cencoshopp)"
      ],
      "metadata": {
        "colab": {
          "base_uri": "https://localhost:8080/"
        },
        "id": "S39fRNd0EVMA",
        "outputId": "43a720c9-131f-4a14-f322-ce3efe8d8904"
      },
      "execution_count": 40,
      "outputs": [
        {
          "output_type": "stream",
          "name": "stdout",
          "text": [
            "              Open    High     Low   Close     Volume\n",
            "Date                                                 \n",
            "2019-06-28  1539.9  1549.5  1517.0  1546.0  499704128\n",
            "2019-07-01  1548.0  1586.0  1548.0  1585.2   11033430\n",
            "2019-07-02  1590.0  1595.0  1580.0  1589.9    9794373\n",
            "2019-07-03  1589.9  1643.9  1589.9  1607.0    5455779\n",
            "2019-07-04  1609.0  1630.1  1607.0  1630.1    4139441\n",
            "...            ...     ...     ...     ...        ...\n",
            "2024-04-15  1559.6  1559.6  1490.0  1509.8    1118082\n",
            "2024-04-16  1509.8  1543.0  1491.0  1496.7     173157\n",
            "2024-04-17  1496.7  1512.9  1447.1  1465.9     866453\n",
            "2024-04-18  1465.9  1498.0  1421.9  1435.5    1622962\n",
            "2024-04-19  1435.0  1455.0  1425.9  1436.7    1591530\n",
            "\n",
            "[1200 rows x 5 columns]\n"
          ]
        }
      ]
    },
    {
      "cell_type": "markdown",
      "source": [
        "#Cálculo de la media móvil simple para una ventana de 200 días"
      ],
      "metadata": {
        "id": "Rz0svOHLEn-E"
      }
    },
    {
      "cell_type": "code",
      "source": [
        "df_cencoshopp['cencoshopp_sma_200'] = ta.trend.sma_indicator(df_cencoshopp['Close'], window = 200)\n",
        "df_cencoshopp[['Close','cencoshopp_sma_200']].iloc[199]"
      ],
      "metadata": {
        "colab": {
          "base_uri": "https://localhost:8080/"
        },
        "id": "H1aygEA3Emja",
        "outputId": "fc787724-b449-474c-972a-a9c1c6c703ca"
      },
      "execution_count": 41,
      "outputs": [
        {
          "output_type": "execute_result",
          "data": {
            "text/plain": [
              "Close                 1470.9000\n",
              "cencoshopp_sma_200    1607.1229\n",
              "Name: 2020-04-17, dtype: float64"
            ]
          },
          "metadata": {},
          "execution_count": 41
        }
      ]
    },
    {
      "cell_type": "markdown",
      "source": [
        "#Columna booleana que indica cuándo se superó la media"
      ],
      "metadata": {
        "id": "hm_8LgMcE2WD"
      }
    },
    {
      "cell_type": "code",
      "source": [
        "df_cencoshopp['msa200_cencoshopp'] = np.nan\n",
        "i = 199\n",
        "while i <= (df_cencoshopp.shape[0]-1):\n",
        "  if df_cencoshopp['Close'].iloc[i] > df_cencoshopp['cencoshopp_sma_200'].iloc[i]:\n",
        "    df_cencoshopp['msa200_cencoshopp'].iloc[i] = 1\n",
        "  else:\n",
        "    df_cencoshopp['msa200_cencoshopp'].iloc[i] = 0\n",
        "  i += 1"
      ],
      "metadata": {
        "id": "RTqe-IOPE32R"
      },
      "execution_count": 42,
      "outputs": []
    },
    {
      "cell_type": "markdown",
      "source": [
        "#Data Cencosud"
      ],
      "metadata": {
        "id": "GyWZC8fqFVbw"
      }
    },
    {
      "cell_type": "code",
      "source": [
        "df_cencosud = pd.read_csv('CENCOSUD.csv', index_col = 'Date')\n",
        "print(df_cencosud)"
      ],
      "metadata": {
        "colab": {
          "base_uri": "https://localhost:8080/"
        },
        "id": "MvhKb8TVFX9g",
        "outputId": "3c7401f8-b265-4397-978e-e7786b556d42"
      },
      "execution_count": 44,
      "outputs": [
        {
          "output_type": "stream",
          "name": "stdout",
          "text": [
            "              Open    High     Low   Close   Volume\n",
            "Date                                               \n",
            "2014-04-07  1756.6  1810.0  1740.0  1801.8  1928945\n",
            "2014-04-08  1765.6  1858.9  1765.0  1855.1  3540465\n",
            "2014-04-09  1861.0  1899.0  1855.0  1898.0  2815980\n",
            "2014-04-10  1898.1  1900.2  1850.0  1872.2  1164023\n",
            "2014-04-11  1872.2  1880.0  1825.0  1873.9   952602\n",
            "...            ...     ...     ...     ...      ...\n",
            "2024-04-02  1715.0  1725.0  1691.2  1710.0  2030624\n",
            "2024-04-03  1710.0  1722.9  1690.0  1690.0  2968370\n",
            "2024-04-04  1690.0  1700.0  1671.6  1676.0  3238089\n",
            "2024-04-05  1676.0  1688.7  1645.0  1645.0  2376042\n",
            "2024-04-06     0.0     0.0     0.0  1645.0        0\n",
            "\n",
            "[2491 rows x 5 columns]\n"
          ]
        }
      ]
    },
    {
      "cell_type": "markdown",
      "source": [
        "#Cálculo de la media móvil simple para una ventana de 200 días"
      ],
      "metadata": {
        "id": "w-ozuiGoFd2Q"
      }
    },
    {
      "cell_type": "code",
      "source": [
        "df_cencosud['cencosud_sma_200'] = ta.trend.sma_indicator(df_cencosud['Close'], window = 200)\n",
        "df_cencosud[['Close','cencosud_sma_200']].iloc[199]"
      ],
      "metadata": {
        "colab": {
          "base_uri": "https://localhost:8080/"
        },
        "id": "9NKxSrANFdfh",
        "outputId": "173aa51c-fb8e-42b3-d7e7-8ddc323883cc"
      },
      "execution_count": 45,
      "outputs": [
        {
          "output_type": "execute_result",
          "data": {
            "text/plain": [
              "Close               1333.200\n",
              "cencosud_sma_200    1721.286\n",
              "Name: 2015-01-27, dtype: float64"
            ]
          },
          "metadata": {},
          "execution_count": 45
        }
      ]
    },
    {
      "cell_type": "markdown",
      "source": [
        "#Columna booleana que indica cuándo se superó la media"
      ],
      "metadata": {
        "id": "x0tLzZKOFtOi"
      }
    },
    {
      "cell_type": "code",
      "source": [
        "df_cencosud['msa200_cencosud'] = np.nan\n",
        "i = 199\n",
        "while i <= (df_cencosud.shape[0]-1):\n",
        "  if df_cencosud['Close'].iloc[i] > df_cencosud['cencosud_sma_200'].iloc[i]:\n",
        "    df_cencosud['msa200_cencosud'].iloc[i] = 1\n",
        "  else:\n",
        "    df_cencosud['msa200_cencosud'].iloc[i] = 0\n",
        "  i += 1"
      ],
      "metadata": {
        "id": "EwisqJpUFus4"
      },
      "execution_count": 46,
      "outputs": []
    },
    {
      "cell_type": "markdown",
      "source": [
        "#Data Banco Chile"
      ],
      "metadata": {
        "id": "NyrvEnEZF8nN"
      }
    },
    {
      "cell_type": "code",
      "source": [
        "df_bchile = pd.read_csv('CHILE.csv', index_col = 'Date')\n",
        "print(df_bchile)"
      ],
      "metadata": {
        "colab": {
          "base_uri": "https://localhost:8080/"
        },
        "id": "N7oHmQAqF-1S",
        "outputId": "9a345bc5-eaee-4a3f-9a6f-78124ffaa524"
      },
      "execution_count": 47,
      "outputs": [
        {
          "output_type": "stream",
          "name": "stdout",
          "text": [
            "                  Open      High       Low     Close     Volume\n",
            "Date                                                           \n",
            "2014-04-21   62.250130   62.0061   61.7796   61.9103   21175700\n",
            "2014-04-22   61.910385   62.6335   61.9103   62.4942   44124676\n",
            "2014-04-23   62.494140   62.6073   61.8667   62.0846   31819556\n",
            "2014-04-24   62.084553   62.2152   61.7796   61.8580   32810178\n",
            "2014-04-25   61.858044   62.0147   61.1696   61.7012   27569114\n",
            "...                ...       ...       ...       ...        ...\n",
            "2024-04-15  107.500000  109.0000  105.9300  106.0000   51145824\n",
            "2024-04-16  106.010000  108.0000  104.8800  106.4900  284295488\n",
            "2024-04-17  106.490000  111.0000  104.5700  107.2000   57746776\n",
            "2024-04-18  107.000000  109.0000  106.0100  106.3100   52783096\n",
            "2024-04-19  106.290000  107.2000  104.5400  104.6500   25993880\n",
            "\n",
            "[2491 rows x 5 columns]\n"
          ]
        }
      ]
    },
    {
      "cell_type": "markdown",
      "source": [
        "#Cálculo de la media móvil simple para una ventana de 200 días"
      ],
      "metadata": {
        "id": "tgyevko2GK4m"
      }
    },
    {
      "cell_type": "code",
      "source": [
        "df_bchile['bchile_sma_200'] = ta.trend.sma_indicator(df_bchile['Close'], window = 200)\n",
        "df_bchile[['Close','bchile_sma_200']].iloc[199]"
      ],
      "metadata": {
        "colab": {
          "base_uri": "https://localhost:8080/"
        },
        "id": "K1jpgVGsGKgQ",
        "outputId": "89476f79-7285-492c-cd0f-8df9766ace9a"
      },
      "execution_count": 48,
      "outputs": [
        {
          "output_type": "execute_result",
          "data": {
            "text/plain": [
              "Close             63.962600\n",
              "bchile_sma_200    64.272097\n",
              "Name: 2015-02-09, dtype: float64"
            ]
          },
          "metadata": {},
          "execution_count": 48
        }
      ]
    },
    {
      "cell_type": "markdown",
      "source": [
        "#Columna booleana que indica cuándo se superó la media"
      ],
      "metadata": {
        "id": "p60E96HoGUwG"
      }
    },
    {
      "cell_type": "code",
      "source": [
        "df_bchile['msa200_bchile'] = np.nan\n",
        "i = 199\n",
        "while i <= (df_bchile.shape[0]-1):\n",
        "  if df_bchile['Close'].iloc[i] > df_bchile['bchile_sma_200'].iloc[i]:\n",
        "    df_bchile['msa200_bchile'].iloc[i] = 1\n",
        "  else:\n",
        "    df_bchile['msa200_bchile'].iloc[i] = 0\n",
        "  i += 1"
      ],
      "metadata": {
        "id": "GIh3irVjGV_W"
      },
      "execution_count": 49,
      "outputs": []
    },
    {
      "cell_type": "markdown",
      "source": [
        "#Data CMPC"
      ],
      "metadata": {
        "id": "5pw26SKEGk3q"
      }
    },
    {
      "cell_type": "code",
      "source": [
        "df_cmpc = pd.read_csv('CMPC.csv', index_col = 'Date')\n",
        "print(df_cmpc)"
      ],
      "metadata": {
        "colab": {
          "base_uri": "https://localhost:8080/"
        },
        "id": "ASIo4NI5Gl1M",
        "outputId": "f582345c-9058-4ab7-c0ab-62f1742fbaab"
      },
      "execution_count": 51,
      "outputs": [
        {
          "output_type": "stream",
          "name": "stdout",
          "text": [
            "                 Open       High        Low      Close   Volume\n",
            "Date                                                           \n",
            "2014-04-21  1284.8430  1288.8270  1269.9030  1283.7474   588096\n",
            "2014-04-22  1283.7474  1294.8030  1269.9030  1288.2294  2760128\n",
            "2014-04-23  1288.2294  1324.6831  1275.0822  1293.0103   393657\n",
            "2014-04-24  1293.0103  1304.7631  1274.8830  1290.5201   941376\n",
            "2014-04-25  1290.5203  1279.8630  1260.9390  1263.4290  1000193\n",
            "...               ...        ...        ...        ...      ...\n",
            "2024-04-15  1950.0000  1950.0000  1860.1000  1900.0000  1224474\n",
            "2024-04-16  1900.0000  1919.0000  1865.0000  1882.0000  2498710\n",
            "2024-04-17  1882.0000  1904.6000  1844.4000  1900.0000  2466111\n",
            "2024-04-18  1900.0000  1920.0000  1862.0000  1865.1000  3165216\n",
            "2024-04-19  1865.1000  1882.9000  1825.0000  1875.0000  1595876\n",
            "\n",
            "[2491 rows x 5 columns]\n"
          ]
        }
      ]
    },
    {
      "cell_type": "markdown",
      "source": [
        "#Cálculo de la media móvil simple para una ventana de 200 días"
      ],
      "metadata": {
        "id": "5YP4x0DhG5Ty"
      }
    },
    {
      "cell_type": "code",
      "source": [
        "df_cmpc['cmpc_sma_200'] = ta.trend.sma_indicator(df_cmpc['Close'], window = 200)\n",
        "df_cmpc[['Close','cmpc_sma_200']].iloc[199]"
      ],
      "metadata": {
        "colab": {
          "base_uri": "https://localhost:8080/"
        },
        "id": "5rCVSugwG66Y",
        "outputId": "17d37ee8-a448-49f3-9500-a2cc8f12b748"
      },
      "execution_count": 52,
      "outputs": [
        {
          "output_type": "execute_result",
          "data": {
            "text/plain": [
              "Close           1600.300000\n",
              "cmpc_sma_200    1386.786833\n",
              "Name: 2015-02-09, dtype: float64"
            ]
          },
          "metadata": {},
          "execution_count": 52
        }
      ]
    },
    {
      "cell_type": "markdown",
      "source": [
        "#Columna booleana que indica cuándo se superó la media"
      ],
      "metadata": {
        "id": "UcfkVDvsHEL4"
      }
    },
    {
      "cell_type": "code",
      "source": [
        "df_cmpc['msa200_cmpc'] = np.nan\n",
        "i = 199\n",
        "while i <= (df_cmpc.shape[0]-1):\n",
        "  if df_cmpc['Close'].iloc[i] > df_cmpc['cmpc_sma_200'].iloc[i]:\n",
        "    df_cmpc['msa200_cmpc'].iloc[i] = 1\n",
        "  else:\n",
        "    df_cmpc['msa200_cmpc'].iloc[i] = 0\n",
        "  i += 1"
      ],
      "metadata": {
        "id": "G4OYNT0LHF4b"
      },
      "execution_count": 53,
      "outputs": []
    },
    {
      "cell_type": "markdown",
      "source": [
        "#Data Colbun"
      ],
      "metadata": {
        "id": "unBWrm3UHYMx"
      }
    },
    {
      "cell_type": "code",
      "source": [
        "df_colbun = pd.read_csv('COLBUN.csv', index_col = 'Date')\n",
        "print(df_colbun)"
      ],
      "metadata": {
        "colab": {
          "base_uri": "https://localhost:8080/"
        },
        "id": "DwaQYM4yHaBE",
        "outputId": "2de91f29-8d6d-497a-c7ce-9f8778b523c7"
      },
      "execution_count": 55,
      "outputs": [
        {
          "output_type": "stream",
          "name": "stdout",
          "text": [
            "              Open    High     Low   Close    Volume\n",
            "Date                                                \n",
            "2014-04-21  141.57  142.99  140.00  141.40   9544958\n",
            "2014-04-22  141.40  141.40  138.01  139.53   4857281\n",
            "2014-04-23  139.53  140.00  139.00  139.00   7313176\n",
            "2014-04-24  139.00  139.50  137.00  137.16   4472286\n",
            "2014-04-25  137.16  138.50  135.01  137.12   4845911\n",
            "...            ...     ...     ...     ...       ...\n",
            "2024-04-15  126.50  126.50  122.90  123.80  12516102\n",
            "2024-04-16  123.80  125.08  123.00  123.01   5348738\n",
            "2024-04-17  123.12  124.48  121.00  122.04  21246078\n",
            "2024-04-18  122.04  123.38  121.50  121.50   6733204\n",
            "2024-04-19  121.50  123.99  119.00  120.90  18549240\n",
            "\n",
            "[2491 rows x 5 columns]\n"
          ]
        }
      ]
    },
    {
      "cell_type": "markdown",
      "source": [
        "#Cálculo de la media móvil simple para una ventana de 200 días"
      ],
      "metadata": {
        "id": "wmV-jXp-Hfi5"
      }
    },
    {
      "cell_type": "code",
      "source": [
        "df_colbun['colbun_sma_200'] = ta.trend.sma_indicator(df_colbun['Close'], window = 200)\n",
        "df_colbun[['Close','colbun_sma_200']].iloc[199]"
      ],
      "metadata": {
        "colab": {
          "base_uri": "https://localhost:8080/"
        },
        "id": "96W9GSsCHfMS",
        "outputId": "df744b72-1be9-40f6-dfa9-37aa33bb3f63"
      },
      "execution_count": 56,
      "outputs": [
        {
          "output_type": "execute_result",
          "data": {
            "text/plain": [
              "Close             180.95000\n",
              "colbun_sma_200    152.77575\n",
              "Name: 2015-02-09, dtype: float64"
            ]
          },
          "metadata": {},
          "execution_count": 56
        }
      ]
    },
    {
      "cell_type": "markdown",
      "source": [
        "#Columna booleana que indica cuándo se superó la media"
      ],
      "metadata": {
        "id": "mkNtHFW0HuSr"
      }
    },
    {
      "cell_type": "code",
      "source": [
        "df_colbun['msa200_colbun'] = np.nan\n",
        "i = 199\n",
        "while i <= (df_colbun.shape[0]-1):\n",
        "  if df_colbun['Close'].iloc[i] > df_colbun['colbun_sma_200'].iloc[i]:\n",
        "    df_colbun['msa200_colbun'].iloc[i] = 1\n",
        "  else:\n",
        "    df_colbun['msa200_colbun'].iloc[i] = 0\n",
        "  i += 1"
      ],
      "metadata": {
        "id": "LTT4STTWHvwU"
      },
      "execution_count": 57,
      "outputs": []
    },
    {
      "cell_type": "markdown",
      "source": [
        "#Data CONCHATORO"
      ],
      "metadata": {
        "id": "MI-1dSESH9iY"
      }
    },
    {
      "cell_type": "code",
      "source": [
        "df_concha_y_toro = pd.read_csv('CONCHATORO.csv', index_col = 'Date')\n",
        "print(df_concha_y_toro)"
      ],
      "metadata": {
        "colab": {
          "base_uri": "https://localhost:8080/"
        },
        "id": "QI_U9WRXISWp",
        "outputId": "bfa329da-cd78-481b-d05c-dd819d33a88b"
      },
      "execution_count": 58,
      "outputs": [
        {
          "output_type": "stream",
          "name": "stdout",
          "text": [
            "              Open    High     Low   Close   Volume\n",
            "Date                                               \n",
            "2014-04-21  1150.5  1160.0  1150.0  1152.3   158340\n",
            "2014-04-22  1152.3  1164.0  1150.0  1158.9   243458\n",
            "2014-04-23  1158.9  1174.8  1150.0  1171.3   960749\n",
            "2014-04-24  1171.3  1170.0  1160.0  1165.6   167241\n",
            "2014-04-25  1165.6  1170.0  1150.0  1150.1   568823\n",
            "...            ...     ...     ...     ...      ...\n",
            "2024-04-15  1150.0  1199.9  1130.4  1142.1   976853\n",
            "2024-04-16  1142.1  1190.0  1130.0  1140.0  2441330\n",
            "2024-04-17  1140.0  1160.0  1145.1  1145.1  1438026\n",
            "2024-04-18  1145.1  1150.0  1145.2  1146.0   427568\n",
            "2024-04-19  1160.0  1190.0  1150.0  1180.0  1049888\n",
            "\n",
            "[2491 rows x 5 columns]\n"
          ]
        }
      ]
    },
    {
      "cell_type": "markdown",
      "source": [
        "#Cálculo de la media móvil simple para una ventana de 200 días"
      ],
      "metadata": {
        "id": "6xIST6WdIffT"
      }
    },
    {
      "cell_type": "code",
      "source": [
        "df_concha_y_toro['concha_y_toro_sma_200'] = ta.trend.sma_indicator(df_concha_y_toro['Close'], window = 200)\n",
        "df_concha_y_toro[['Close','concha_y_toro_sma_200']].iloc[199]"
      ],
      "metadata": {
        "colab": {
          "base_uri": "https://localhost:8080/"
        },
        "id": "YZQRpQkKIhFL",
        "outputId": "b6caf44e-6636-4718-f57b-e65e67cd0158"
      },
      "execution_count": 59,
      "outputs": [
        {
          "output_type": "execute_result",
          "data": {
            "text/plain": [
              "Close                    1205.2000\n",
              "concha_y_toro_sma_200    1146.1995\n",
              "Name: 2015-02-09, dtype: float64"
            ]
          },
          "metadata": {},
          "execution_count": 59
        }
      ]
    },
    {
      "cell_type": "markdown",
      "source": [
        "#Columna booleana que indica cuándo se superó la media"
      ],
      "metadata": {
        "id": "aIX3NBFMItBq"
      }
    },
    {
      "cell_type": "code",
      "source": [
        "df_concha_y_toro['msa200_concha_y_toro'] = np.nan\n",
        "i = 199\n",
        "while i <= (df_concha_y_toro.shape[0]-1):\n",
        "  if df_concha_y_toro['Close'].iloc[i] > df_concha_y_toro['concha_y_toro_sma_200'].iloc[i]:\n",
        "    df_concha_y_toro['msa200_concha_y_toro'].iloc[i] = 1\n",
        "  else:\n",
        "    df_concha_y_toro['msa200_concha_y_toro'].iloc[i] = 0\n",
        "  i += 1"
      ],
      "metadata": {
        "id": "l_sJ3I3qIu3A"
      },
      "execution_count": 60,
      "outputs": []
    },
    {
      "cell_type": "markdown",
      "source": [
        "#Data Copec"
      ],
      "metadata": {
        "id": "V_Clz-rtJCDo"
      }
    },
    {
      "cell_type": "code",
      "source": [
        "df_copec = pd.read_csv('COPEC.csv', index_col = 'Date')\n",
        "print(df_copec)"
      ],
      "metadata": {
        "colab": {
          "base_uri": "https://localhost:8080/"
        },
        "id": "G4cycRIGJDe9",
        "outputId": "0d13f10d-fd0f-49fa-ea95-45e188d860ec"
      },
      "execution_count": 61,
      "outputs": [
        {
          "output_type": "stream",
          "name": "stdout",
          "text": [
            "              Open    High     Low   Close  Volume\n",
            "Date                                              \n",
            "2014-04-21  7330.4  7412.0  7290.0  7383.7  261864\n",
            "2014-04-22  7350.0  7400.0  7335.0  7365.9  213651\n",
            "2014-04-23  7365.9  7380.0  7300.0  7342.2  281599\n",
            "2014-04-24  7345.0  7400.0  7320.0  7388.5  575102\n",
            "2014-04-25  7388.5  7388.5  7260.0  7271.8  147305\n",
            "...            ...     ...     ...     ...     ...\n",
            "2024-04-15  7000.0  7062.4  6885.0  7004.0  340507\n",
            "2024-04-16  7004.0  7004.0  6871.0  6916.7  510863\n",
            "2024-04-17  6916.7  7000.0  6845.0  7000.0  406074\n",
            "2024-04-18  7000.0  7090.0  6948.5  7010.0  382671\n",
            "2024-04-19  7010.0  7090.2  6900.8  6984.9  321911\n",
            "\n",
            "[2491 rows x 5 columns]\n"
          ]
        }
      ]
    },
    {
      "cell_type": "markdown",
      "source": [
        "#Cálculo de la media móvil simple para una ventana de 200 días"
      ],
      "metadata": {
        "id": "j1B7aBKFJjzK"
      }
    },
    {
      "cell_type": "code",
      "source": [
        "df_copec['copec_sma_200'] = ta.trend.sma_indicator(df_copec['Close'], window = 200)\n",
        "df_copec[['Close','copec_sma_200']].iloc[199]"
      ],
      "metadata": {
        "colab": {
          "base_uri": "https://localhost:8080/"
        },
        "id": "LkIjm34ZJjVk",
        "outputId": "193b4984-abc7-4b4b-e0de-ef7460d5ae1c"
      },
      "execution_count": 63,
      "outputs": [
        {
          "output_type": "execute_result",
          "data": {
            "text/plain": [
              "Close            7104.000\n",
              "copec_sma_200    7182.327\n",
              "Name: 2015-02-09, dtype: float64"
            ]
          },
          "metadata": {},
          "execution_count": 63
        }
      ]
    },
    {
      "cell_type": "markdown",
      "source": [
        "#Columna booleana que indica cuándo se superó la media"
      ],
      "metadata": {
        "id": "asOpyfMTJtYT"
      }
    },
    {
      "cell_type": "code",
      "source": [
        "df_copec['msa200_copec'] = np.nan\n",
        "i = 199\n",
        "while i <= (df_copec.shape[0]-1):\n",
        "  if df_copec['Close'].iloc[i] > df_copec['copec_sma_200'].iloc[i]:\n",
        "    df_copec['msa200_copec'].iloc[i] = 1\n",
        "  else:\n",
        "    df_copec['msa200_copec'].iloc[i] = 0\n",
        "  i += 1"
      ],
      "metadata": {
        "id": "6_sVx6eCJs_K"
      },
      "execution_count": 64,
      "outputs": []
    },
    {
      "cell_type": "markdown",
      "source": [
        "#Data ECL"
      ],
      "metadata": {
        "id": "HnA6ArTiKM70"
      }
    },
    {
      "cell_type": "code",
      "source": [
        "df_ecl = pd.read_csv('ECL.csv', index_col = 'Date')\n",
        "print(df_ecl)"
      ],
      "metadata": {
        "colab": {
          "base_uri": "https://localhost:8080/"
        },
        "id": "b41YaxQWKMkf",
        "outputId": "870f246f-3fc8-4691-a1ac-ffbcd388f70a"
      },
      "execution_count": 65,
      "outputs": [
        {
          "output_type": "stream",
          "name": "stdout",
          "text": [
            "              Open    High     Low   Close   Volume\n",
            "Date                                               \n",
            "2014-04-21  721.53  720.00  714.40  719.63   261638\n",
            "2014-04-22  719.63  719.50  712.00  718.11  1691996\n",
            "2014-04-23  718.11  718.20  711.00  713.00   433505\n",
            "2014-04-24  713.00  714.00  705.00  710.00   282547\n",
            "2014-04-25  710.00  706.00  700.00  702.82   565553\n",
            "...            ...     ...     ...     ...      ...\n",
            "2024-04-15  815.00  823.29  814.00  814.50   713729\n",
            "2024-04-16  814.50  825.01  795.01  810.00  1019711\n",
            "2024-04-17  810.00  814.45  784.99  799.90   528710\n",
            "2024-04-18  799.90  804.00  795.79  800.00   911643\n",
            "2024-04-19  799.99  799.99  776.00  794.83   618581\n",
            "\n",
            "[2490 rows x 5 columns]\n"
          ]
        }
      ]
    },
    {
      "cell_type": "markdown",
      "source": [
        "#Cálculo de la media móvil simple para una ventana de 200 días"
      ],
      "metadata": {
        "id": "qmO-n0--KTMg"
      }
    },
    {
      "cell_type": "code",
      "source": [
        "df_ecl['ecl_sma_200'] = ta.trend.sma_indicator(df_ecl['Close'], window = 200)\n",
        "df_ecl[['Close','ecl_sma_200']].iloc[199]"
      ],
      "metadata": {
        "colab": {
          "base_uri": "https://localhost:8080/"
        },
        "id": "mF8I2xnWKSqU",
        "outputId": "42293ee6-74d2-4865-fa92-aa93a04c214f"
      },
      "execution_count": 66,
      "outputs": [
        {
          "output_type": "execute_result",
          "data": {
            "text/plain": [
              "Close          986.7500\n",
              "ecl_sma_200    826.1303\n",
              "Name: 2015-02-09, dtype: float64"
            ]
          },
          "metadata": {},
          "execution_count": 66
        }
      ]
    },
    {
      "cell_type": "markdown",
      "source": [
        "#Columna booleana que indica cuándo se superó la media"
      ],
      "metadata": {
        "id": "KPIuTDpjKdbw"
      }
    },
    {
      "cell_type": "code",
      "source": [
        "df_ecl['msa200_ecl'] = np.nan\n",
        "i = 199\n",
        "while i <= (df_ecl.shape[0]-1):\n",
        "  if df_ecl['Close'].iloc[i] > df_ecl['ecl_sma_200'].iloc[i]:\n",
        "    df_ecl['msa200_ecl'].iloc[i] = 1\n",
        "  else:\n",
        "    df_ecl['msa200_ecl'].iloc[i] = 0\n",
        "  i += 1"
      ],
      "metadata": {
        "id": "MDq-cT_8KfET"
      },
      "execution_count": 67,
      "outputs": []
    },
    {
      "cell_type": "markdown",
      "source": [
        "#Data ENELAM"
      ],
      "metadata": {
        "id": "4aepb54WKsaK"
      }
    },
    {
      "cell_type": "code",
      "source": [
        "df_enelam = pd.read_csv('ENELAM.csv', index_col = 'Date')\n",
        "print(df_enelam)"
      ],
      "metadata": {
        "colab": {
          "base_uri": "https://localhost:8080/"
        },
        "id": "-LFp76HgKuRF",
        "outputId": "f8488cfc-7b6f-4cac-e6f8-0d08dc72b7f3"
      },
      "execution_count": 68,
      "outputs": [
        {
          "output_type": "stream",
          "name": "stdout",
          "text": [
            "                  Open      High       Low     Close    Volume\n",
            "Date                                                          \n",
            "2014-04-21  110.264725  110.3880  109.0328  109.3284  17849186\n",
            "2014-04-22  108.453750  109.7473  108.4168  109.4948  26432332\n",
            "2014-04-23  109.494780  110.1416  109.0328  109.2915  22340308\n",
            "2014-04-24  109.291480  109.6488  109.0143  109.3038  13335958\n",
            "2014-04-25  109.303856  109.6488  107.1909  107.4004  25150136\n",
            "...                ...       ...       ...       ...       ...\n",
            "2024-04-15   92.000000   92.0000   90.1500   90.1500  22802730\n",
            "2024-04-16   90.180000   90.9900   90.0400   90.1500  63388216\n",
            "2024-04-17   90.150000   91.8000   88.0000   90.7900  60723744\n",
            "2024-04-18   90.790000   91.4900   90.6000   91.2000  33539552\n",
            "2024-04-19   91.200000   91.8100   89.9800   89.9800  29856412\n",
            "\n",
            "[2491 rows x 5 columns]\n"
          ]
        }
      ]
    },
    {
      "cell_type": "markdown",
      "source": [
        "#Cálculo de la media móvil simple para una ventana de 200 días"
      ],
      "metadata": {
        "id": "kAr0q-7FK0cg"
      }
    },
    {
      "cell_type": "code",
      "source": [
        "df_enelam['enelam_sma_200'] = ta.trend.sma_indicator(df_enelam['Close'], window = 200)\n",
        "df_enelam[['Close','enelam_sma_200']].iloc[199]"
      ],
      "metadata": {
        "colab": {
          "base_uri": "https://localhost:8080/"
        },
        "id": "xWRkc7b1KzSy",
        "outputId": "8653c069-e0cb-4bb0-81e9-8e7a0ff7b90b"
      },
      "execution_count": 69,
      "outputs": [
        {
          "output_type": "execute_result",
          "data": {
            "text/plain": [
              "Close             121.20500\n",
              "enelam_sma_200    117.21158\n",
              "Name: 2015-02-09, dtype: float64"
            ]
          },
          "metadata": {},
          "execution_count": 69
        }
      ]
    },
    {
      "cell_type": "markdown",
      "source": [
        "#Columna booleana que indica cuándo se superó la media"
      ],
      "metadata": {
        "id": "gBKMUdO_K-Yj"
      }
    },
    {
      "cell_type": "code",
      "source": [
        "df_enelam['msa200_enelam'] = np.nan\n",
        "i = 199\n",
        "while i <= (df_enelam.shape[0]-1):\n",
        "  if df_enelam['Close'].iloc[i] > df_enelam['enelam_sma_200'].iloc[i]:\n",
        "    df_enelam['msa200_enelam'].iloc[i] = 1\n",
        "  else:\n",
        "    df_enelam['msa200_enelam'].iloc[i] = 0\n",
        "  i += 1"
      ],
      "metadata": {
        "id": "7EXmsHvxK_1O"
      },
      "execution_count": 70,
      "outputs": []
    },
    {
      "cell_type": "markdown",
      "source": [
        "#Data Enel Chile"
      ],
      "metadata": {
        "id": "E9cBOUTqLQAw"
      }
    },
    {
      "cell_type": "code",
      "source": [
        "df_enel_chile = pd.read_csv('ENELCHILE.csv', index_col = 'Date')\n",
        "print(df_enel_chile)"
      ],
      "metadata": {
        "colab": {
          "base_uri": "https://localhost:8080/"
        },
        "id": "4SYG8Ye_LTeu",
        "outputId": "9cfe052f-dd89-4e31-c64c-a1aa3f8f35da"
      },
      "execution_count": 71,
      "outputs": [
        {
          "output_type": "stream",
          "name": "stdout",
          "text": [
            "             Open   High    Low  Close     Volume\n",
            "Date                                             \n",
            "2016-04-21  71.02  90.00  80.00  88.11    7839077\n",
            "2016-04-22  88.11  89.90  87.37  88.99    9707145\n",
            "2016-04-25  88.99  88.35  83.50  86.04   13779476\n",
            "2016-04-26  86.04  87.00  82.51  84.57   33214992\n",
            "2016-04-27  84.57  84.20  81.01  82.74   19140544\n",
            "...           ...    ...    ...    ...        ...\n",
            "2024-04-15  58.50  59.02  57.32  57.74   34941464\n",
            "2024-04-16  57.74  58.09  56.51  57.98   41671448\n",
            "2024-04-17  57.98  57.79  56.28  56.50  101795528\n",
            "2024-04-18  56.50  57.00  55.80  56.88   54423816\n",
            "2024-04-19  56.11  57.00  55.12  55.65  126172944\n",
            "\n",
            "[1991 rows x 5 columns]\n"
          ]
        }
      ]
    },
    {
      "cell_type": "markdown",
      "source": [
        "#Cálculo de la media móvil simple para una ventana de 200 días"
      ],
      "metadata": {
        "id": "scBl2HKwLp3x"
      }
    },
    {
      "cell_type": "code",
      "source": [
        "df_enel_chile['enel_chile_sma_200'] = ta.trend.sma_indicator(df_enel_chile['Close'], window = 200)\n",
        "df_enel_chile[['Close','enel_chile_sma_200']].iloc[199]"
      ],
      "metadata": {
        "colab": {
          "base_uri": "https://localhost:8080/"
        },
        "id": "sGREHwrMLNFh",
        "outputId": "a24decc1-8153-46c3-e967-6cb0b1923fd9"
      },
      "execution_count": 72,
      "outputs": [
        {
          "output_type": "execute_result",
          "data": {
            "text/plain": [
              "Close                 62.0100\n",
              "enel_chile_sma_200    71.0856\n",
              "Name: 2017-02-06, dtype: float64"
            ]
          },
          "metadata": {},
          "execution_count": 72
        }
      ]
    },
    {
      "cell_type": "markdown",
      "source": [
        "#Columna booleana que indica cuándo se superó la media"
      ],
      "metadata": {
        "id": "Qrd3swkjL0aa"
      }
    },
    {
      "cell_type": "code",
      "source": [
        "df_enel_chile['msa200_enel_chile'] = np.nan\n",
        "i = 199\n",
        "while i <= (df_enel_chile.shape[0]-1):\n",
        "  if df_enel_chile['Close'].iloc[i] > df_enel_chile['enel_chile_sma_200'].iloc[i]:\n",
        "    df_enel_chile['msa200_enel_chile'].iloc[i] = 1\n",
        "  else:\n",
        "    df_enel_chile['msa200_enel_chile'].iloc[i] = 0\n",
        "  i += 1"
      ],
      "metadata": {
        "id": "V6IjKmEoL2HQ"
      },
      "execution_count": 73,
      "outputs": []
    },
    {
      "cell_type": "markdown",
      "source": [
        "#Data Entel"
      ],
      "metadata": {
        "id": "gKA7-zpmMGD1"
      }
    },
    {
      "cell_type": "code",
      "source": [
        "df_entel = pd.read_csv('ENTEL.csv', index_col = 'Date')\n",
        "print(df_entel)"
      ],
      "metadata": {
        "colab": {
          "base_uri": "https://localhost:8080/"
        },
        "id": "JBlOnn-VMHxk",
        "outputId": "3563abb9-6c26-449e-921d-a1c68263eedf"
      },
      "execution_count": 74,
      "outputs": [
        {
          "output_type": "stream",
          "name": "stdout",
          "text": [
            "                 Open       High        Low      Close  Volume\n",
            "Date                                                          \n",
            "2014-04-21  6777.9840  6770.7540  6702.3630  6719.5580   44336\n",
            "2014-04-22  6719.5580  6741.5410  6653.5117  6674.3223  240182\n",
            "2014-04-23  6674.3223  6731.6733  6654.4890  6693.8623  105851\n",
            "2014-04-24  6707.2476  6887.9966  6624.5920  6766.3574  223551\n",
            "2014-04-25  6766.3574  6741.4434  6644.7183  6721.5120  204809\n",
            "...               ...        ...        ...        ...     ...\n",
            "2024-04-15  3600.0000  3625.1000  3553.0000  3595.0000  245134\n",
            "2024-04-16  3595.0000  3636.0000  3450.0000  3500.0000  162179\n",
            "2024-04-17  3500.0000  3545.0000  3355.0000  3449.0000  236966\n",
            "2024-04-18  3449.0000  3549.9000  3451.0000  3455.4000  100422\n",
            "2024-04-19  3455.4000  3524.0000  3455.0000  3503.0000  329583\n",
            "\n",
            "[2491 rows x 5 columns]\n"
          ]
        }
      ]
    },
    {
      "cell_type": "markdown",
      "source": [
        "#Cálculo de la media móvil simple para una ventana de 200 días"
      ],
      "metadata": {
        "id": "vT8cOYBvMO2z"
      }
    },
    {
      "cell_type": "code",
      "source": [
        "df_entel['entel_sma_200'] = ta.trend.sma_indicator(df_entel['Close'], window = 200)\n",
        "df_entel[['Close','entel_sma_200']].iloc[199]"
      ],
      "metadata": {
        "colab": {
          "base_uri": "https://localhost:8080/"
        },
        "id": "4PG47aWVMUgv",
        "outputId": "72abdfec-ad9a-457e-c7f1-7e139a98b2b3"
      },
      "execution_count": 75,
      "outputs": [
        {
          "output_type": "execute_result",
          "data": {
            "text/plain": [
              "Close            6110.385700\n",
              "entel_sma_200    6506.160722\n",
              "Name: 2015-02-09, dtype: float64"
            ]
          },
          "metadata": {},
          "execution_count": 75
        }
      ]
    },
    {
      "cell_type": "markdown",
      "source": [
        "#Columna booleana que indica cuándo se superó la media"
      ],
      "metadata": {
        "id": "8WweaNPfMccB"
      }
    },
    {
      "cell_type": "code",
      "source": [
        "df_entel['msa200_entel'] = np.nan\n",
        "i = 199\n",
        "while i <= (df_entel.shape[0]-1):\n",
        "  if df_entel['Close'].iloc[i] > df_entel['entel_sma_200'].iloc[i]:\n",
        "    df_entel['msa200_entel'].iloc[i] = 1\n",
        "  else:\n",
        "    df_entel['msa200_entel'].iloc[i] = 0\n",
        "  i += 1"
      ],
      "metadata": {
        "id": "x4u6cYdfMdxz"
      },
      "execution_count": 76,
      "outputs": []
    },
    {
      "cell_type": "markdown",
      "source": [
        "#Data Falabella"
      ],
      "metadata": {
        "id": "Pa4mn-xJMs40"
      }
    },
    {
      "cell_type": "code",
      "source": [
        "df_falabella = pd.read_csv('FALABELLA.csv', index_col = 'Date')\n",
        "print(df_falabella)"
      ],
      "metadata": {
        "colab": {
          "base_uri": "https://localhost:8080/"
        },
        "id": "21UeUmdTMu1i",
        "outputId": "d72a5934-26ee-40ce-c535-122608ccfe57"
      },
      "execution_count": 77,
      "outputs": [
        {
          "output_type": "stream",
          "name": "stdout",
          "text": [
            "              Open    High     Low   Close   Volume\n",
            "Date                                               \n",
            "2014-04-21  4925.2  4940.0  4820.0  4853.3   765477\n",
            "2014-04-22  4855.0  4880.0  4802.0  4846.4  1381659\n",
            "2014-04-23  4846.4  4880.0  4820.0  4857.1   304591\n",
            "2014-04-24  4870.0  4890.0  4820.0  4872.2   915448\n",
            "2014-04-25  4872.2  4880.0  4780.0  4805.9   589500\n",
            "...            ...     ...     ...     ...      ...\n",
            "2024-04-15  2467.0  2515.0  2407.0  2425.0  2231141\n",
            "2024-04-16  2425.1  2450.0  2380.0  2419.0  2965024\n",
            "2024-04-17  2419.0  2470.0  2391.4  2460.0  1607434\n",
            "2024-04-18  2460.0  2540.2  2420.1  2534.0  1771556\n",
            "2024-04-19  2534.0  2550.0  2460.5  2481.0  1231926\n",
            "\n",
            "[2491 rows x 5 columns]\n"
          ]
        }
      ]
    },
    {
      "cell_type": "markdown",
      "source": [
        "#Cálculo de la media móvil simple para una ventana de 200 días"
      ],
      "metadata": {
        "id": "-b42CSWlM0HM"
      }
    },
    {
      "cell_type": "code",
      "source": [
        "df_falabella['falabella_sma_200'] = ta.trend.sma_indicator(df_falabella['Close'], window = 200)\n",
        "df_falabella[['Close','falabella_sma_200']].iloc[199]"
      ],
      "metadata": {
        "colab": {
          "base_uri": "https://localhost:8080/"
        },
        "id": "tQsAgnDcMzwx",
        "outputId": "9b088277-c629-4676-b3f8-769a69cc0eac"
      },
      "execution_count": 78,
      "outputs": [
        {
          "output_type": "execute_result",
          "data": {
            "text/plain": [
              "Close                4340.4000\n",
              "falabella_sma_200    4496.0655\n",
              "Name: 2015-02-09, dtype: float64"
            ]
          },
          "metadata": {},
          "execution_count": 78
        }
      ]
    },
    {
      "cell_type": "markdown",
      "source": [
        "#Columna booleana que indica cuándo se superó la media"
      ],
      "metadata": {
        "id": "b1OMKW1PNHRA"
      }
    },
    {
      "cell_type": "code",
      "source": [
        "df_falabella['msa200_falabella'] = np.nan\n",
        "i = 199\n",
        "while i <= (df_falabella.shape[0]-1):\n",
        "  if df_falabella['Close'].iloc[i] > df_falabella['falabella_sma_200'].iloc[i]:\n",
        "    df_falabella['msa200_falabella'].iloc[i] = 1\n",
        "  else:\n",
        "    df_falabella['msa200_falabella'].iloc[i] = 0\n",
        "  i += 1"
      ],
      "metadata": {
        "id": "A-M8VnLUNItK"
      },
      "execution_count": 79,
      "outputs": []
    },
    {
      "cell_type": "markdown",
      "source": [
        "#Data IAM"
      ],
      "metadata": {
        "id": "L-T3Qvj_NWiY"
      }
    },
    {
      "cell_type": "code",
      "source": [
        "df_iam = pd.read_csv('IAM.csv', index_col = 'Date')\n",
        "print(df_iam)"
      ],
      "metadata": {
        "colab": {
          "base_uri": "https://localhost:8080/"
        },
        "id": "HUljz_TQNeXN",
        "outputId": "a600898e-5187-4ca8-f8f6-4667c2238e66"
      },
      "execution_count": 80,
      "outputs": [
        {
          "output_type": "stream",
          "name": "stdout",
          "text": [
            "              Open    High     Low   Close   Volume\n",
            "Date                                               \n",
            "2014-04-21  907.38  919.00  907.40  919.00   614737\n",
            "2014-04-22  919.00  924.99  907.00  908.00  1086298\n",
            "2014-04-23  908.00  925.00  910.00  917.20   737402\n",
            "2014-04-24  917.20  920.00  915.00  917.89   266837\n",
            "2014-04-25  917.89  919.99  915.00  916.15   609773\n",
            "...            ...     ...     ...     ...      ...\n",
            "2024-04-15  755.00  750.00  735.00  747.99   398664\n",
            "2024-04-16  758.00  758.00  711.00  732.00  1312432\n",
            "2024-04-17  732.00  738.37  716.00  733.00   484151\n",
            "2024-04-18  733.00  735.00  721.32  730.00   232171\n",
            "2024-04-19  730.00  721.23  718.01  719.23   412680\n",
            "\n",
            "[2490 rows x 5 columns]\n"
          ]
        }
      ]
    },
    {
      "cell_type": "markdown",
      "source": [
        "#Cálculo de la media móvil simple para una ventana de 200 días"
      ],
      "metadata": {
        "id": "0T4HO0luNqc6"
      }
    },
    {
      "cell_type": "code",
      "source": [
        "df_iam['iam_sma_200'] = ta.trend.sma_indicator(df_iam['Close'], window = 200)\n",
        "df_iam[['Close','iam_sma_200']].iloc[199]"
      ],
      "metadata": {
        "colab": {
          "base_uri": "https://localhost:8080/"
        },
        "id": "3hfYvnEVNr1J",
        "outputId": "bcff9b30-b8f6-4c62-e848-531c484c3348"
      },
      "execution_count": 81,
      "outputs": [
        {
          "output_type": "execute_result",
          "data": {
            "text/plain": [
              "Close          976.18000\n",
              "iam_sma_200    924.25825\n",
              "Name: 2015-02-09, dtype: float64"
            ]
          },
          "metadata": {},
          "execution_count": 81
        }
      ]
    },
    {
      "cell_type": "markdown",
      "source": [
        "#Columna booleana que indica cuándo se superó la media"
      ],
      "metadata": {
        "id": "zknjZ5SJNy8x"
      }
    },
    {
      "cell_type": "code",
      "source": [
        "df_iam['msa200_iam'] = np.nan\n",
        "i = 199\n",
        "while i <= (df_iam.shape[0]-1):\n",
        "  if df_iam['Close'].iloc[i] > df_iam['iam_sma_200'].iloc[i]:\n",
        "    df_iam['msa200_iam'].iloc[i] = 1\n",
        "  else:\n",
        "    df_iam['msa200_iam'].iloc[i] = 0\n",
        "  i += 1"
      ],
      "metadata": {
        "id": "YOfm4JN2N17T"
      },
      "execution_count": 82,
      "outputs": []
    },
    {
      "cell_type": "markdown",
      "source": [
        "#Data ITAUCL"
      ],
      "metadata": {
        "id": "Uzk39w1QODl5"
      }
    },
    {
      "cell_type": "code",
      "source": [
        "df_itau = pd.read_csv('ITAUCL.csv', index_col = 'Date')\n",
        "print(df_itau)"
      ],
      "metadata": {
        "colab": {
          "base_uri": "https://localhost:8080/"
        },
        "id": "Q9TC7oSiOFLN",
        "outputId": "484f2aa8-2cc5-4f3e-fc51-a39100963de7"
      },
      "execution_count": 83,
      "outputs": [
        {
          "output_type": "stream",
          "name": "stdout",
          "text": [
            "                 Open       High        Low      Close  Volume\n",
            "Date                                                          \n",
            "2014-04-21  27646.310  27913.062  27642.342  27850.451   24160\n",
            "2014-04-22  27850.785  27996.396  27700.451  27821.621    9661\n",
            "2014-04-23  27821.690  27913.062  27325.676  27450.900    8562\n",
            "2014-04-24  27450.870  27454.955  27121.621  27184.234   20737\n",
            "2014-04-25  27184.242  27288.290  27079.730  27250.900    7796\n",
            "...               ...        ...        ...        ...     ...\n",
            "2024-04-15  10500.000  10500.000  10235.000  10240.000  153290\n",
            "2024-04-16  10240.000  10346.000  10112.000  10130.000  171022\n",
            "2024-04-17  10150.000  10350.000  10150.000  10200.000  221078\n",
            "2024-04-18  10300.000  10400.000  10190.000  10249.000  265798\n",
            "2024-04-19  10300.000  10300.000  10150.000  10170.000  209604\n",
            "\n",
            "[2491 rows x 5 columns]\n"
          ]
        }
      ]
    },
    {
      "cell_type": "markdown",
      "source": [
        "#Cálculo de la media móvil simple para una ventana de 200 días"
      ],
      "metadata": {
        "id": "DQ7nKj_5OP2-"
      }
    },
    {
      "cell_type": "code",
      "source": [
        "df_itau['itau_sma_200'] = ta.trend.sma_indicator(df_itau['Close'], window = 200)\n",
        "df_itau[['Close','itau_sma_200']].iloc[199]"
      ],
      "metadata": {
        "colab": {
          "base_uri": "https://localhost:8080/"
        },
        "id": "p6DEweaXOPRT",
        "outputId": "b0ce408e-ea34-49f8-8f44-747aa55a3287"
      },
      "execution_count": 84,
      "outputs": [
        {
          "output_type": "execute_result",
          "data": {
            "text/plain": [
              "Close           30579.28000\n",
              "itau_sma_200    29660.89641\n",
              "Name: 2015-02-09, dtype: float64"
            ]
          },
          "metadata": {},
          "execution_count": 84
        }
      ]
    },
    {
      "cell_type": "markdown",
      "source": [
        "#Columna booleana que indica cuándo se superó la media"
      ],
      "metadata": {
        "id": "Fys0iGMjOYxX"
      }
    },
    {
      "cell_type": "code",
      "source": [
        "df_itau['msa200_itau'] = np.nan\n",
        "i = 199\n",
        "while i <= (df_itau.shape[0]-1):\n",
        "  if df_itau['Close'].iloc[i] > df_itau['itau_sma_200'].iloc[i]:\n",
        "    df_itau['msa200_itau'].iloc[i] = 1\n",
        "  else:\n",
        "    df_itau['msa200_itau'].iloc[i] = 0\n",
        "  i += 1"
      ],
      "metadata": {
        "id": "mrcb9kymObbd"
      },
      "execution_count": 85,
      "outputs": []
    },
    {
      "cell_type": "markdown",
      "source": [
        "#Data LTM"
      ],
      "metadata": {
        "id": "HeSlSAtPOoqL"
      }
    },
    {
      "cell_type": "code",
      "source": [
        "df_ltm = pd.read_csv('LTM.csv', index_col = 'Date')\n",
        "print(df_ltm)"
      ],
      "metadata": {
        "colab": {
          "base_uri": "https://localhost:8080/"
        },
        "id": "jh-9PJlsOpzc",
        "outputId": "3da116a9-2528-4a22-94ce-c150383ddf76"
      },
      "execution_count": 86,
      "outputs": [
        {
          "output_type": "stream",
          "name": "stdout",
          "text": [
            "                 Open      High       Low     Close      Volume\n",
            "Date                                                           \n",
            "2014-04-21  468.62866  473.3427  468.6287  472.1836     5350420\n",
            "2014-04-22  472.18360  473.6200  468.6342  471.8342     5460970\n",
            "2014-04-23  471.83417  472.5274  460.3098  471.9728     4483996\n",
            "2014-04-24  471.97287  474.1746  468.9670  472.8103     5649812\n",
            "2014-04-25  472.81024  472.8103  463.1937  464.2640     5112100\n",
            "...               ...       ...       ...       ...         ...\n",
            "2024-04-15   12.52000   12.7500   12.0100   12.0400  1173742210\n",
            "2024-04-16   12.00000   12.2000   11.6100   12.2000  1439499260\n",
            "2024-04-17   12.30000   12.8000   12.2500   12.3200   897878780\n",
            "2024-04-18   12.35000   12.7000   12.3200   12.5100  2058487680\n",
            "2024-04-19   12.30000   12.6000   12.3000   12.4000  2026921470\n",
            "\n",
            "[2491 rows x 5 columns]\n"
          ]
        }
      ]
    },
    {
      "cell_type": "markdown",
      "source": [
        "#Cálculo de la media móvil simple para una ventana de 200 días"
      ],
      "metadata": {
        "id": "FCYB9DamOvN1"
      }
    },
    {
      "cell_type": "code",
      "source": [
        "df_ltm['ltm_sma_200'] = ta.trend.sma_indicator(df_ltm['Close'], window = 200)\n",
        "df_ltm[['Close','ltm_sma_200']].iloc[199]"
      ],
      "metadata": {
        "colab": {
          "base_uri": "https://localhost:8080/"
        },
        "id": "W4262qYcOul6",
        "outputId": "09356c25-3922-4284-8045-5d2f0e643be6"
      },
      "execution_count": 87,
      "outputs": [
        {
          "output_type": "execute_result",
          "data": {
            "text/plain": [
              "Close          370.227700\n",
              "ltm_sma_200    403.993738\n",
              "Name: 2015-02-09, dtype: float64"
            ]
          },
          "metadata": {},
          "execution_count": 87
        }
      ]
    },
    {
      "cell_type": "markdown",
      "source": [
        "#Columna booleana que indica cuándo se superó la media"
      ],
      "metadata": {
        "id": "m5G8cXJDO33U"
      }
    },
    {
      "cell_type": "code",
      "source": [
        "df_ltm['msa200_ltm'] = np.nan\n",
        "i = 199\n",
        "while i <= (df_ltm.shape[0]-1):\n",
        "  if df_ltm['Close'].iloc[i] > df_ltm['ltm_sma_200'].iloc[i]:\n",
        "    df_ltm['msa200_ltm'].iloc[i] = 1\n",
        "  else:\n",
        "    df_ltm['msa200_ltm'].iloc[i] = 0\n",
        "  i += 1"
      ],
      "metadata": {
        "id": "27Lu2EeoO5Mz"
      },
      "execution_count": 88,
      "outputs": []
    },
    {
      "cell_type": "markdown",
      "source": [
        "#Data Mallplaza"
      ],
      "metadata": {
        "id": "uIiu229BPHVM"
      }
    },
    {
      "cell_type": "code",
      "source": [
        "df_mallplaza = pd.read_csv('MALLPLAZA.csv', index_col = 'Date')\n",
        "print(df_mallplaza)"
      ],
      "metadata": {
        "colab": {
          "base_uri": "https://localhost:8080/"
        },
        "id": "RVi4IOqzPKHI",
        "outputId": "2490dcba-18ad-4e45-b8e4-519092ba4240"
      },
      "execution_count": 89,
      "outputs": [
        {
          "output_type": "stream",
          "name": "stdout",
          "text": [
            "              Open    High     Low   Close     Volume\n",
            "Date                                                 \n",
            "2018-07-27  1435.0  1435.0  1400.1  1402.7  281806176\n",
            "2018-07-30  1410.0  1415.0  1400.0  1410.1   12949530\n",
            "2018-07-31  1414.7  1432.0  1411.8  1420.1    8801941\n",
            "2018-08-01  1420.1  1445.3  1423.1  1425.0    8624787\n",
            "2018-08-02  1425.0  1431.0  1416.2  1430.0    3627880\n",
            "...            ...     ...     ...     ...        ...\n",
            "2024-04-15  1380.0  1396.0  1370.0  1372.1     183273\n",
            "2024-04-16  1372.1  1373.0  1360.0  1370.0      94029\n",
            "2024-04-17  1370.0  1405.9  1370.0  1383.6      19023\n",
            "2024-04-18  1383.6  1380.0  1370.0  1380.0     584447\n",
            "2024-04-19  1380.0  1390.0  1335.0  1373.7    1901876\n",
            "\n",
            "[1427 rows x 5 columns]\n"
          ]
        }
      ]
    },
    {
      "cell_type": "markdown",
      "source": [
        "#Cálculo de la media móvil simple para una ventana de 200 días"
      ],
      "metadata": {
        "id": "tm1KobfYPcVh"
      }
    },
    {
      "cell_type": "code",
      "source": [
        "df_mallplaza['mallplaza_sma_200'] = ta.trend.sma_indicator(df_mallplaza['Close'], window = 200)\n",
        "df_mallplaza[['Close','mallplaza_sma_200']].iloc[199]"
      ],
      "metadata": {
        "colab": {
          "base_uri": "https://localhost:8080/"
        },
        "id": "ATxz2RpCPbzn",
        "outputId": "53324695-903e-42e6-e048-6fcb9e7b02af"
      },
      "execution_count": 90,
      "outputs": [
        {
          "output_type": "execute_result",
          "data": {
            "text/plain": [
              "Close                1580.0000\n",
              "mallplaza_sma_200    1507.0205\n",
              "Name: 2019-05-20, dtype: float64"
            ]
          },
          "metadata": {},
          "execution_count": 90
        }
      ]
    },
    {
      "cell_type": "markdown",
      "source": [
        "#Columna booleana que indica cuándo se superó la media"
      ],
      "metadata": {
        "id": "43GeO14UPmRC"
      }
    },
    {
      "cell_type": "code",
      "source": [
        "df_mallplaza['msa200_mallplaza'] = np.nan\n",
        "i = 199\n",
        "while i <= (df_mallplaza.shape[0]-1):\n",
        "  if df_mallplaza['Close'].iloc[i] > df_mallplaza['mallplaza_sma_200'].iloc[i]:\n",
        "    df_mallplaza['msa200_mallplaza'].iloc[i] = 1\n",
        "  else:\n",
        "    df_mallplaza['msa200_mallplaza'].iloc[i] = 0\n",
        "  i += 1"
      ],
      "metadata": {
        "id": "LxL2e5OGPnx9"
      },
      "execution_count": 91,
      "outputs": []
    },
    {
      "cell_type": "markdown",
      "source": [
        "#Data Oro Blanco"
      ],
      "metadata": {
        "id": "th6dS5uxP9o1"
      }
    },
    {
      "cell_type": "code",
      "source": [
        "df_oro_blanco = pd.read_csv('ORO_BLANCO.csv', index_col = 'Date')\n",
        "print(df_oro_blanco)"
      ],
      "metadata": {
        "colab": {
          "base_uri": "https://localhost:8080/"
        },
        "id": "aEiW5qYYP_nu",
        "outputId": "c630a9cc-57e1-441a-f492-546727280b7e"
      },
      "execution_count": 92,
      "outputs": [
        {
          "output_type": "stream",
          "name": "stdout",
          "text": [
            "                Open    High     Low   Close    Volume\n",
            "Date                                                  \n",
            "2014-04-21  2.035000  2.0350  2.0350  2.0350     19458\n",
            "2014-04-23  2.034963  2.0220  1.9558  1.9558   3893908\n",
            "2014-04-24  1.955768  2.0489  2.0489  2.0489  30022836\n",
            "2014-04-25  2.048927  2.0583  2.0303  2.0303  20400564\n",
            "2014-04-28  2.030364  2.0489  1.9651  1.9661  13199226\n",
            "...              ...     ...     ...     ...       ...\n",
            "2024-04-15  6.933000  6.9400  6.8710  6.8690   2553098\n",
            "2024-04-16  6.869000  6.8700  6.7200  6.7630   3537118\n",
            "2024-04-17  6.763000  6.9000  6.7490  6.8440   7925320\n",
            "2024-04-18  6.844000  6.9000  6.8500  6.9000   2233322\n",
            "2024-04-19  6.900000  6.8800  6.7500  6.8740   3046958\n",
            "\n",
            "[2321 rows x 5 columns]\n"
          ]
        }
      ]
    },
    {
      "cell_type": "markdown",
      "source": [
        "#Cálculo de la media móvil simple para una ventana de 200 días"
      ],
      "metadata": {
        "id": "vSeMS6hSQJ6c"
      }
    },
    {
      "cell_type": "code",
      "source": [
        "df_oro_blanco['oro_blanco_sma_200'] = ta.trend.sma_indicator(df_oro_blanco['Close'], window = 200)\n",
        "df_oro_blanco[['Close','oro_blanco_sma_200']].iloc[199]"
      ],
      "metadata": {
        "colab": {
          "base_uri": "https://localhost:8080/"
        },
        "id": "icQQdQEHQJiB",
        "outputId": "a0c83e81-41f6-4633-baa5-f19d991fdf03"
      },
      "execution_count": 93,
      "outputs": [
        {
          "output_type": "execute_result",
          "data": {
            "text/plain": [
              "Close                 1.404400\n",
              "oro_blanco_sma_200    1.791078\n",
              "Name: 2015-06-25, dtype: float64"
            ]
          },
          "metadata": {},
          "execution_count": 93
        }
      ]
    },
    {
      "cell_type": "markdown",
      "source": [
        "#Columna booleana que indica cuándo se superó la media"
      ],
      "metadata": {
        "id": "jCJiqc3hQVKm"
      }
    },
    {
      "cell_type": "code",
      "source": [
        "df_oro_blanco['msa200_oro_blanco'] = np.nan\n",
        "i = 199\n",
        "while i <= (df_oro_blanco.shape[0]-1):\n",
        "  if df_oro_blanco['Close'].iloc[i] > df_oro_blanco['oro_blanco_sma_200'].iloc[i]:\n",
        "    df_oro_blanco['msa200_oro_blanco'].iloc[i] = 1\n",
        "  else:\n",
        "    df_oro_blanco['msa200_oro_blanco'].iloc[i] = 0\n",
        "  i += 1"
      ],
      "metadata": {
        "id": "r4sNEivwQUqA"
      },
      "execution_count": 94,
      "outputs": []
    },
    {
      "cell_type": "markdown",
      "source": [
        "#Data PARAUCO"
      ],
      "metadata": {
        "id": "GKmIE-V2QssU"
      }
    },
    {
      "cell_type": "code",
      "source": [
        "df_parauco = pd.read_csv('PARAUCO.csv', index_col = 'Date')\n",
        "print(df_parauco)"
      ],
      "metadata": {
        "colab": {
          "base_uri": "https://localhost:8080/"
        },
        "id": "QqObFXY5QtyH",
        "outputId": "a0bd275b-661a-4a7e-8713-29bd17e43892"
      },
      "execution_count": 95,
      "outputs": [
        {
          "output_type": "stream",
          "name": "stdout",
          "text": [
            "                  Open       High        Low      Close   Volume\n",
            "Date                                                            \n",
            "2014-04-21  1051.24100  1051.3402  1021.4889  1041.3236   900773\n",
            "2014-04-22  1041.32360  1041.3236  1011.6707  1026.4476   617749\n",
            "2014-04-23  1026.44760  1026.4476  1006.7120  1011.6707   765964\n",
            "2014-04-24  1011.67065  1021.7864  1001.6542  1005.1252  1536068\n",
            "2014-04-25  1005.12520  1011.5715   981.8194   984.1103  2556530\n",
            "...                ...        ...        ...        ...      ...\n",
            "2024-04-15  1449.50000  1451.1000  1420.0000  1438.0000   923277\n",
            "2024-04-16  1438.00000  1438.0000  1414.2000  1430.0000  1053254\n",
            "2024-04-17  1430.00000  1429.9000  1403.0000  1425.0000   936704\n",
            "2024-04-18  1425.00000  1425.0000  1400.0000  1400.0000  1541296\n",
            "2024-04-19  1390.00000  1400.0000  1378.0000  1399.9000  1750381\n",
            "\n",
            "[2489 rows x 5 columns]\n"
          ]
        }
      ]
    },
    {
      "cell_type": "markdown",
      "source": [
        "#Cálculo de la media móvil simple para una ventana de 200 días"
      ],
      "metadata": {
        "id": "UCs-qofLQznW"
      }
    },
    {
      "cell_type": "code",
      "source": [
        "df_parauco['parauco_sma_200'] = ta.trend.sma_indicator(df_parauco['Close'], window = 200)\n",
        "df_parauco[['Close','parauco_sma_200']].iloc[199]"
      ],
      "metadata": {
        "colab": {
          "base_uri": "https://localhost:8080/"
        },
        "id": "Ap3eQpk6QzET",
        "outputId": "4efaf36d-932e-4d26-dd0c-521fd5eb1c1c"
      },
      "execution_count": 96,
      "outputs": [
        {
          "output_type": "execute_result",
          "data": {
            "text/plain": [
              "Close              1122.844400\n",
              "parauco_sma_200    1081.886218\n",
              "Name: 2015-02-10, dtype: float64"
            ]
          },
          "metadata": {},
          "execution_count": 96
        }
      ]
    },
    {
      "cell_type": "markdown",
      "source": [
        "#Columna booleana que indica cuándo se superó la media"
      ],
      "metadata": {
        "id": "1NKke0xbQ8pB"
      }
    },
    {
      "cell_type": "code",
      "source": [
        "df_parauco['msa200_parauco'] = np.nan\n",
        "i = 199\n",
        "while i <= (df_parauco.shape[0]-1):\n",
        "  if df_parauco['Close'].iloc[i] > df_parauco['parauco_sma_200'].iloc[i]:\n",
        "    df_parauco['msa200_parauco'].iloc[i] = 1\n",
        "  else:\n",
        "    df_parauco['msa200_parauco'].iloc[i] = 0\n",
        "  i += 1"
      ],
      "metadata": {
        "id": "bfYXzVpkQ9_f"
      },
      "execution_count": 97,
      "outputs": []
    },
    {
      "cell_type": "markdown",
      "source": [
        "#Data QUINENCO"
      ],
      "metadata": {
        "id": "c1aBBmwxRPjr"
      }
    },
    {
      "cell_type": "code",
      "source": [
        "df_quinenco = pd.read_csv('QUINENCO.csv', index_col = 'Date')\n",
        "print(df_quinenco)"
      ],
      "metadata": {
        "colab": {
          "base_uri": "https://localhost:8080/"
        },
        "id": "CONNhqZyRQ6V",
        "outputId": "d713806e-7cd1-4fb1-c191-a1908bf2fa4f"
      },
      "execution_count": 98,
      "outputs": [
        {
          "output_type": "stream",
          "name": "stdout",
          "text": [
            "              Open    High     Low   Close  Volume\n",
            "Date                                              \n",
            "2014-04-21  1230.0  1230.0  1230.0  1230.0   15104\n",
            "2014-04-22  1230.0  1240.0  1229.6  1240.0   29881\n",
            "2014-04-23  1240.0  1240.0  1240.0  1240.0   19576\n",
            "2014-04-24  1240.0  1240.0  1240.0  1240.0    4719\n",
            "2014-04-25  1240.0  1260.0  1240.0  1240.0   53427\n",
            "...            ...     ...     ...     ...     ...\n",
            "2024-04-15  3309.5  3358.6  3230.4  3260.0  223758\n",
            "2024-04-16  3260.0  3249.5  3181.0  3181.6  202022\n",
            "2024-04-17  3181.6  3200.0  3048.0  3200.0  201591\n",
            "2024-04-18  3200.0  3400.0  3205.0  3400.0  155006\n",
            "2024-04-19  3400.0  3349.9  3250.1  3300.0  279144\n",
            "\n",
            "[2414 rows x 5 columns]\n"
          ]
        }
      ]
    },
    {
      "cell_type": "markdown",
      "source": [
        "#Cálculo de la media móvil simple para una ventana de 200 días"
      ],
      "metadata": {
        "id": "aDnUaiccRW7h"
      }
    },
    {
      "cell_type": "code",
      "source": [
        "df_quinenco['quinenco_sma_200'] = ta.trend.sma_indicator(df_quinenco['Close'], window = 200)\n",
        "df_quinenco[['Close','quinenco_sma_200']].iloc[199]"
      ],
      "metadata": {
        "colab": {
          "base_uri": "https://localhost:8080/"
        },
        "id": "ydLquPbNRWcC",
        "outputId": "02fd7826-04ee-46dc-8051-9c7fb5634d04"
      },
      "execution_count": 99,
      "outputs": [
        {
          "output_type": "execute_result",
          "data": {
            "text/plain": [
              "Close               1335.000\n",
              "quinenco_sma_200    1247.639\n",
              "Name: 2015-03-02, dtype: float64"
            ]
          },
          "metadata": {},
          "execution_count": 99
        }
      ]
    },
    {
      "cell_type": "markdown",
      "source": [
        "#Columna booleana que indica cuándo se superó la media"
      ],
      "metadata": {
        "id": "OvfFHsjGRgbr"
      }
    },
    {
      "cell_type": "code",
      "source": [
        "df_quinenco['msa200_quinenco'] = np.nan\n",
        "i = 199\n",
        "while i <= (df_quinenco.shape[0]-1):\n",
        "  if df_quinenco['Close'].iloc[i] > df_quinenco['quinenco_sma_200'].iloc[i]:\n",
        "    df_quinenco['msa200_quinenco'].iloc[i] = 1\n",
        "  else:\n",
        "    df_quinenco['msa200_quinenco'].iloc[i] = 0\n",
        "  i += 1"
      ],
      "metadata": {
        "id": "KUBST6R-Q8RQ"
      },
      "execution_count": 100,
      "outputs": []
    },
    {
      "cell_type": "markdown",
      "source": [
        "#Data Ripley"
      ],
      "metadata": {
        "id": "MpOsU5C-RxBH"
      }
    },
    {
      "cell_type": "code",
      "source": [
        "df_ripley = pd.read_csv('RIPLEY.csv', index_col = 'Date')\n",
        "print(df_ripley)"
      ],
      "metadata": {
        "colab": {
          "base_uri": "https://localhost:8080/"
        },
        "id": "i81ZcijwR60L",
        "outputId": "a772c43c-3399-4207-9e17-2321da3e8c9b"
      },
      "execution_count": 101,
      "outputs": [
        {
          "output_type": "stream",
          "name": "stdout",
          "text": [
            "              Open    High     Low   Close   Volume\n",
            "Date                                               \n",
            "2014-04-21  378.00  382.00  373.10  374.00  1310373\n",
            "2014-04-22  374.00  375.00  370.01  370.01  1087411\n",
            "2014-04-23  370.01  375.30  370.00  374.00  1850499\n",
            "2014-04-24  374.00  378.00  370.00  371.52  1124019\n",
            "2014-04-25  371.52  375.00  368.00  370.50  1518266\n",
            "...            ...     ...     ...     ...      ...\n",
            "2024-04-15  210.00  212.00  208.00  210.90  4001225\n",
            "2024-04-16  210.90  208.93  201.00  206.50  3221142\n",
            "2024-04-17  206.50  207.00  202.04  206.16   783217\n",
            "2024-04-18  206.16  209.86  204.96  209.86   658280\n",
            "2024-04-19  209.86  210.18  202.29  208.37   396133\n",
            "\n",
            "[2491 rows x 5 columns]\n"
          ]
        }
      ]
    },
    {
      "cell_type": "markdown",
      "source": [
        "#Cálculo de la media móvil simple para una ventana de 200 días"
      ],
      "metadata": {
        "id": "JoS3vZJNSp07"
      }
    },
    {
      "cell_type": "code",
      "source": [
        "df_ripley['ripley_sma_200'] = ta.trend.sma_indicator(df_ripley['Close'], window = 200)\n",
        "df_ripley[['Close','ripley_sma_200']].iloc[199]"
      ],
      "metadata": {
        "colab": {
          "base_uri": "https://localhost:8080/"
        },
        "id": "oQUjFoeeSpO5",
        "outputId": "9e5f1de8-2688-467b-be38-98ac40d551e6"
      },
      "execution_count": 102,
      "outputs": [
        {
          "output_type": "execute_result",
          "data": {
            "text/plain": [
              "Close             297.00000\n",
              "ripley_sma_200    327.99675\n",
              "Name: 2015-02-09, dtype: float64"
            ]
          },
          "metadata": {},
          "execution_count": 102
        }
      ]
    },
    {
      "cell_type": "markdown",
      "source": [
        "#Columna booleana que indica cuándo se superó la media"
      ],
      "metadata": {
        "id": "t8DylXJyS0UN"
      }
    },
    {
      "cell_type": "code",
      "source": [
        "df_ripley['msa200_ripley'] = np.nan\n",
        "i = 199\n",
        "while i <= (df_ripley.shape[0]-1):\n",
        "  if df_ripley['Close'].iloc[i] > df_ripley['ripley_sma_200'].iloc[i]:\n",
        "    df_ripley['msa200_ripley'].iloc[i] = 1\n",
        "  else:\n",
        "    df_ripley['msa200_ripley'].iloc[i] = 0\n",
        "  i += 1"
      ],
      "metadata": {
        "id": "EoNIzTjGSz0P"
      },
      "execution_count": 103,
      "outputs": []
    },
    {
      "cell_type": "markdown",
      "source": [
        "#Data SALFACORP"
      ],
      "metadata": {
        "id": "cTTOxsSbTF6P"
      }
    },
    {
      "cell_type": "code",
      "source": [
        "df_salfacorp = pd.read_csv('SALFACORP.csv', index_col = 'Date')\n",
        "print(df_salfacorp)"
      ],
      "metadata": {
        "colab": {
          "base_uri": "https://localhost:8080/"
        },
        "id": "zyVUIK5yTIC2",
        "outputId": "ce6317db-964a-4c69-8c14-81ebade37e7a"
      },
      "execution_count": 104,
      "outputs": [
        {
          "output_type": "stream",
          "name": "stdout",
          "text": [
            "                 Open      High       Low     Close   Volume\n",
            "Date                                                        \n",
            "2014-04-21  494.15080  496.1393  494.1508  494.1508    52215\n",
            "2014-04-22  494.15080  492.2617  492.1523  492.1523   400572\n",
            "2014-04-23  492.15230  488.1852  477.2482  480.5691   463264\n",
            "2014-04-24  480.56906  492.1622  477.2482  492.0628   442309\n",
            "2014-04-25  492.06284  497.1336  486.1966  488.1852   159318\n",
            "...               ...       ...       ...       ...      ...\n",
            "2024-04-16  545.97000  551.0000  531.0000  542.3700  1483477\n",
            "2024-04-17  542.37000  555.0000  531.3000  535.0000   893026\n",
            "2024-04-18  535.00000  545.0000  535.0000  539.4500   611575\n",
            "2024-04-19  539.45000  544.0000  533.0100  535.2100   168198\n",
            "2024-04-21    0.00000    0.0000    0.0000  535.2100        0\n",
            "\n",
            "[2487 rows x 5 columns]\n"
          ]
        }
      ]
    },
    {
      "cell_type": "markdown",
      "source": [
        "#Cálculo de la media móvil simple para una ventana de 200 días"
      ],
      "metadata": {
        "id": "I8Tp2CdWTQqm"
      }
    },
    {
      "cell_type": "code",
      "source": [
        "df_salfacorp['salfacorp_sma_200'] = ta.trend.sma_indicator(df_salfacorp['Close'], window = 200)\n",
        "df_salfacorp[['Close','salfacorp_sma_200']].iloc[199]"
      ],
      "metadata": {
        "colab": {
          "base_uri": "https://localhost:8080/"
        },
        "id": "YpConaZcTPvf",
        "outputId": "36f9486d-58e1-4ef8-94bd-9c3006f65cc0"
      },
      "execution_count": 105,
      "outputs": [
        {
          "output_type": "execute_result",
          "data": {
            "text/plain": [
              "Close                420.575000\n",
              "salfacorp_sma_200    452.584278\n",
              "Name: 2015-02-09, dtype: float64"
            ]
          },
          "metadata": {},
          "execution_count": 105
        }
      ]
    },
    {
      "cell_type": "markdown",
      "source": [
        "#Columna booleana que indica cuándo se superó la media"
      ],
      "metadata": {
        "id": "na8J0g5CTavJ"
      }
    },
    {
      "cell_type": "code",
      "source": [
        "df_salfacorp['msa200_salfacorp'] = np.nan\n",
        "i = 199\n",
        "while i <= (df_salfacorp.shape[0]-1):\n",
        "  if df_salfacorp['Close'].iloc[i] > df_salfacorp['salfacorp_sma_200'].iloc[i]:\n",
        "    df_salfacorp['msa200_salfacorp'].iloc[i] = 1\n",
        "  else:\n",
        "    df_salfacorp['msa200_salfacorp'].iloc[i] = 0\n",
        "  i += 1"
      ],
      "metadata": {
        "id": "Tx1_nl6RTaVJ"
      },
      "execution_count": 106,
      "outputs": []
    },
    {
      "cell_type": "markdown",
      "source": [
        "#Data SMU"
      ],
      "metadata": {
        "id": "fj51d2PXTxR1"
      }
    },
    {
      "cell_type": "code",
      "source": [
        "df_smu = pd.read_csv('SMU.csv', index_col = 'Date')\n",
        "print(df_smu)"
      ],
      "metadata": {
        "colab": {
          "base_uri": "https://localhost:8080/"
        },
        "id": "mxeiR32QTyRw",
        "outputId": "f3fe3109-30b3-4f20-af9b-b0d3e48791f0"
      },
      "execution_count": 107,
      "outputs": [
        {
          "output_type": "stream",
          "name": "stdout",
          "text": [
            "              Open    High     Low   Close      Volume\n",
            "Date                                                  \n",
            "2017-01-24  113.00  117.00  113.00  114.56  1343712130\n",
            "2017-01-25  114.56  114.56  113.00  113.50    28279136\n",
            "2017-01-26  113.50  113.51  111.00  113.46    22152198\n",
            "2017-01-27  113.46  113.46  112.50  112.50     3344462\n",
            "2017-01-30  112.50  113.00  112.50  112.70     1305322\n",
            "...            ...     ...     ...     ...         ...\n",
            "2024-04-16  167.00  167.01  164.00  165.20    13018711\n",
            "2024-04-17  165.20  168.40  164.97  165.69     6656129\n",
            "2024-04-18  165.69  165.89  164.60  164.96     7183138\n",
            "2024-04-19  164.96  165.51  164.00  165.40     9128291\n",
            "2024-04-21    0.00    0.00    0.00  165.40           0\n",
            "\n",
            "[1796 rows x 5 columns]\n"
          ]
        }
      ]
    },
    {
      "cell_type": "markdown",
      "source": [
        "#Cálculo de la media móvil simple para una ventana de 200 días"
      ],
      "metadata": {
        "id": "BIJxrfT-T3u9"
      }
    },
    {
      "cell_type": "code",
      "source": [
        "df_smu['smu_sma_200'] = ta.trend.sma_indicator(df_smu['Close'], window = 200)\n",
        "df_smu[['Close','smu_sma_200']].iloc[199]"
      ],
      "metadata": {
        "colab": {
          "base_uri": "https://localhost:8080/"
        },
        "id": "Ewc1QgZwTwwV",
        "outputId": "73dcd3c3-f863-4211-d332-b4382e7b61ce"
      },
      "execution_count": 108,
      "outputs": [
        {
          "output_type": "execute_result",
          "data": {
            "text/plain": [
              "Close          170.0100\n",
              "smu_sma_200    154.3327\n",
              "Name: 2017-11-15, dtype: float64"
            ]
          },
          "metadata": {},
          "execution_count": 108
        }
      ]
    },
    {
      "cell_type": "markdown",
      "source": [
        "#Columna booleana que indica cuándo se superó la media"
      ],
      "metadata": {
        "id": "YaSuHPCzUGK_"
      }
    },
    {
      "cell_type": "code",
      "source": [
        "df_smu['msa200_smu'] = np.nan\n",
        "i = 199\n",
        "while i <= (df_smu.shape[0]-1):\n",
        "  if df_smu['Close'].iloc[i] > df_smu['smu_sma_200'].iloc[i]:\n",
        "    df_smu['msa200_smu'].iloc[i] = 1\n",
        "  else:\n",
        "    df_smu['msa200_smu'].iloc[i] = 0\n",
        "  i += 1"
      ],
      "metadata": {
        "id": "rKqa_T1OUFZA"
      },
      "execution_count": 109,
      "outputs": []
    },
    {
      "cell_type": "markdown",
      "source": [
        "#Data SQM B"
      ],
      "metadata": {
        "id": "oX8W0EPGUT5T"
      }
    },
    {
      "cell_type": "code",
      "source": [
        "df_sqm_b = pd.read_csv('SQM_B.csv', index_col = 'Date')\n",
        "print(df_sqm_b)"
      ],
      "metadata": {
        "colab": {
          "base_uri": "https://localhost:8080/"
        },
        "id": "_lL1J-NZUTWG",
        "outputId": "f58c2dbd-a184-4f3e-b240-952e0976dc16"
      },
      "execution_count": 110,
      "outputs": [
        {
          "output_type": "stream",
          "name": "stdout",
          "text": [
            "               Open     High      Low    Close  Volume\n",
            "Date                                                  \n",
            "2014-04-21  17748.0  18199.0  17700.0  18146.0  103376\n",
            "2014-04-22  18000.0  18300.0  17905.0  18053.0   93449\n",
            "2014-04-23  18053.0  18050.0  17808.0  17850.0   64788\n",
            "2014-04-24  17850.0  17800.0  17446.0  17752.0   84498\n",
            "2014-04-25  17752.0  17750.0  17521.0  17600.0  105301\n",
            "...             ...      ...      ...      ...     ...\n",
            "2024-04-15  47201.0  48963.0  45300.0  45900.0  252873\n",
            "2024-04-16  45800.0  45801.0  44992.0  45000.0  309113\n",
            "2024-04-17  45400.0  46000.0  44750.0  45140.0  266016\n",
            "2024-04-18  45299.0  45299.0  44100.0  44290.0  403293\n",
            "2024-04-19  43900.0  43960.0  42925.0  42925.0  418171\n",
            "\n",
            "[2491 rows x 5 columns]\n"
          ]
        }
      ]
    },
    {
      "cell_type": "markdown",
      "source": [
        "#Cálculo de la media móvil simple para una ventana de 200 días"
      ],
      "metadata": {
        "id": "mU8ORbGiUiAq"
      }
    },
    {
      "cell_type": "code",
      "source": [
        "df_sqm_b['sqm_b_sma_200'] = ta.trend.sma_indicator(df_sqm_b['Close'], window = 200)\n",
        "df_sqm_b[['Close','sqm_b_sma_200']].iloc[199]"
      ],
      "metadata": {
        "colab": {
          "base_uri": "https://localhost:8080/"
        },
        "id": "LHxaOEzyUhlf",
        "outputId": "ef7dae81-6432-44f5-ca76-ebc82906ee5a"
      },
      "execution_count": 111,
      "outputs": [
        {
          "output_type": "execute_result",
          "data": {
            "text/plain": [
              "Close            15373.00\n",
              "sqm_b_sma_200    15632.58\n",
              "Name: 2015-02-09, dtype: float64"
            ]
          },
          "metadata": {},
          "execution_count": 111
        }
      ]
    },
    {
      "cell_type": "markdown",
      "source": [
        "#Columna booleana que indica cuándo se superó la media"
      ],
      "metadata": {
        "id": "f-KgCE_pUrsB"
      }
    },
    {
      "cell_type": "code",
      "source": [
        "df_sqm_b['msa200_sqm_b'] = np.nan\n",
        "i = 199\n",
        "while i <= (df_sqm_b.shape[0]-1):\n",
        "  if df_sqm_b['Close'].iloc[i] > df_sqm_b['sqm_b_sma_200'].iloc[i]:\n",
        "    df_sqm_b['msa200_sqm_b'].iloc[i] = 1\n",
        "  else:\n",
        "    df_sqm_b['msa200_sqm_b'].iloc[i] = 0\n",
        "  i += 1"
      ],
      "metadata": {
        "id": "uW6I3qXlUtSP"
      },
      "execution_count": 112,
      "outputs": []
    },
    {
      "cell_type": "markdown",
      "source": [
        "#Data Vapores"
      ],
      "metadata": {
        "id": "P7glPeueU6wj"
      }
    },
    {
      "cell_type": "code",
      "source": [
        "df_vapores = pd.read_csv('VAPORES.csv', index_col = 'Date')\n",
        "print(df_vapores)"
      ],
      "metadata": {
        "colab": {
          "base_uri": "https://localhost:8080/"
        },
        "id": "67oeWXGXU7x-",
        "outputId": "b1f2ee2f-49c8-49e1-bcdd-a8c68ca44301"
      },
      "execution_count": 113,
      "outputs": [
        {
          "output_type": "stream",
          "name": "stdout",
          "text": [
            "                 Open     High      Low    Close    Volume\n",
            "Date                                                      \n",
            "2014-04-21  26.959457  27.2294  26.6028  26.7956   3016289\n",
            "2014-04-22  26.795578  26.9884  26.6607  26.7763   5756420\n",
            "2014-04-23  26.776333  26.7474  26.1305  26.4197   2237221\n",
            "2014-04-24  26.419687  26.6028  26.3137  26.3233   2373407\n",
            "2014-04-25  26.323322  26.2173  26.0245  26.0438   6027865\n",
            "...               ...      ...      ...      ...       ...\n",
            "2024-04-15  72.000000  72.6200  71.0800  71.5000  34929980\n",
            "2024-04-16  71.500000  71.5000  69.5000  71.0000  54499728\n",
            "2024-04-17  71.200000  72.5000  69.5600  71.7000  45070368\n",
            "2024-04-18  72.000000  72.0000  70.0000  70.0000  30093378\n",
            "2024-04-19  70.010000  71.0000  69.5000  69.9000  34284120\n",
            "\n",
            "[2491 rows x 5 columns]\n"
          ]
        }
      ]
    },
    {
      "cell_type": "markdown",
      "source": [
        "#Cálculo de la media móvil simple para una ventana de 200 días"
      ],
      "metadata": {
        "id": "7fzL8xcvVAf9"
      }
    },
    {
      "cell_type": "code",
      "source": [
        "df_vapores['vapores_sma_200'] = ta.trend.sma_indicator(df_vapores['Close'], window = 200)\n",
        "df_vapores[['Close','vapores_sma_200']].iloc[199]"
      ],
      "metadata": {
        "colab": {
          "base_uri": "https://localhost:8080/"
        },
        "id": "RHcD7pOGU_xi",
        "outputId": "607b5adc-5d5d-4382-af0d-b7f97bffa471"
      },
      "execution_count": 114,
      "outputs": [
        {
          "output_type": "execute_result",
          "data": {
            "text/plain": [
              "Close              24.000000\n",
              "vapores_sma_200    23.150137\n",
              "Name: 2015-02-09, dtype: float64"
            ]
          },
          "metadata": {},
          "execution_count": 114
        }
      ]
    },
    {
      "cell_type": "markdown",
      "source": [
        "#Columna booleana que indica cuándo se superó la media"
      ],
      "metadata": {
        "id": "UOvQ8EImVJ6X"
      }
    },
    {
      "cell_type": "code",
      "source": [
        "df_vapores['msa200_vapores'] = np.nan\n",
        "i = 199\n",
        "while i <= (df_vapores.shape[0]-1):\n",
        "  if df_vapores['Close'].iloc[i] > df_vapores['vapores_sma_200'].iloc[i]:\n",
        "    df_vapores['msa200_vapores'].iloc[i] = 1\n",
        "  else:\n",
        "    df_vapores['msa200_vapores'].iloc[i] = 0\n",
        "  i += 1"
      ],
      "metadata": {
        "id": "2TFb-1XUVJkz"
      },
      "execution_count": 115,
      "outputs": []
    }
  ]
}